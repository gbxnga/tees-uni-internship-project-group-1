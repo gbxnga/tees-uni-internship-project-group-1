{
 "cells": [
  {
   "cell_type": "markdown",
   "id": "9556156e",
   "metadata": {},
   "source": [
    "### IMPORT LIBRARIES"
   ]
  },
  {
   "cell_type": "code",
   "execution_count": 1,
   "id": "80e63cc4",
   "metadata": {},
   "outputs": [],
   "source": [
    "import numpy as np\n",
    "import pandas as pd\n",
    "import matplotlib.pyplot as plt\n",
    "import seaborn as sns\n",
    "\n",
    "# scikit-learn\n",
    "from sklearn.manifold import TSNE\n",
    "from sklearn.model_selection import train_test_split\n",
    "from sklearn.ensemble import IsolationForest\n",
    "\n",
    "\n",
    "# evaluation metrics\n",
    "from sklearn.metrics import classification_report, accuracy_score\n",
    "from sklearn.metrics import average_precision_score\n",
    "from sklearn.metrics import roc_auc_score\n",
    "\n",
    "\n",
    "\n",
    "# scaling\n",
    "from sklearn.preprocessing import StandardScaler\n",
    "from sklearn.preprocessing import LabelEncoder\n",
    "\n",
    "# autoencoder\n",
    "import tensorflow as tf\n",
    "from tensorflow import keras\n",
    "\n",
    "# deep learning\n",
    "from keras.models import Model, Sequential\n",
    "from keras import regularizers\n",
    "from keras.layers import (\n",
    "    Input,\n",
    "    Conv1D,\n",
    "    MaxPooling1D,\n",
    "    Dense,\n",
    "    Flatten,\n",
    "    Dropout,\n",
    "    BatchNormalization,\n",
    ")\n",
    "from keras.optimizers import Adam\n",
    "import tensorflow \n",
    "from tensorflow.keras.layers import Dense\n",
    "from tensorflow.keras.models import Model\n",
    "from tensorflow.keras import models,layers,activations,losses,optimizers,metrics\n",
    "from tensorflow.keras.callbacks import EarlyStopping"
   ]
  },
  {
   "cell_type": "markdown",
   "id": "ef05e488",
   "metadata": {},
   "source": [
    "### LOADING DATASET"
   ]
  },
  {
   "cell_type": "code",
   "execution_count": 2,
   "id": "8504799a",
   "metadata": {},
   "outputs": [],
   "source": [
    "credit_card = pd.read_excel(\"card transactions.xlsx\")"
   ]
  },
  {
   "cell_type": "markdown",
   "id": "b3cc5ca2",
   "metadata": {},
   "source": [
    "### DATA PREPROCESSING "
   ]
  },
  {
   "cell_type": "code",
   "execution_count": 3,
   "id": "f7ba61c3",
   "metadata": {},
   "outputs": [
    {
     "data": {
      "text/plain": [
       "(96753, 10)"
      ]
     },
     "execution_count": 3,
     "metadata": {},
     "output_type": "execute_result"
    }
   ],
   "source": [
    "credit_card.shape"
   ]
  },
  {
   "cell_type": "code",
   "execution_count": 4,
   "id": "c37f3e61",
   "metadata": {
    "scrolled": true
   },
   "outputs": [
    {
     "name": "stdout",
     "output_type": "stream",
     "text": [
      "<class 'pandas.core.frame.DataFrame'>\n",
      "RangeIndex: 96753 entries, 0 to 96752\n",
      "Data columns (total 10 columns):\n",
      " #   Column             Non-Null Count  Dtype         \n",
      "---  ------             --------------  -----         \n",
      " 0   Recnum             96753 non-null  int64         \n",
      " 1   Cardnum            96753 non-null  int64         \n",
      " 2   Date               96753 non-null  datetime64[ns]\n",
      " 3   Merchnum           93378 non-null  object        \n",
      " 4   Merch description  96753 non-null  object        \n",
      " 5   Merch state        95558 non-null  object        \n",
      " 6   Merch zip          92097 non-null  float64       \n",
      " 7   Transtype          96753 non-null  object        \n",
      " 8   Amount             96753 non-null  float64       \n",
      " 9   Fraud              96753 non-null  int64         \n",
      "dtypes: datetime64[ns](1), float64(2), int64(3), object(4)\n",
      "memory usage: 7.4+ MB\n"
     ]
    }
   ],
   "source": [
    "credit_card.info()"
   ]
  },
  {
   "cell_type": "markdown",
   "id": "9b408817",
   "metadata": {},
   "source": [
    "### EXTRACT DAY AND MONTH FOR FURTHER ANALYSIS"
   ]
  },
  {
   "cell_type": "code",
   "execution_count": 5,
   "id": "1eeb6e74",
   "metadata": {},
   "outputs": [],
   "source": [
    "day =pd.to_datetime(credit_card['Date']).dt.dayofweek\n",
    "month =pd.to_datetime(credit_card['Date']).dt.month\n",
    "credit_card.insert(1, 'day', day)\n",
    "credit_card.insert(2, 'month', month)"
   ]
  },
  {
   "cell_type": "markdown",
   "id": "022c42dd",
   "metadata": {},
   "source": [
    "### DELETING IRRELEVANT COLUMNS"
   ]
  },
  {
   "cell_type": "code",
   "execution_count": 6,
   "id": "08d006a3",
   "metadata": {},
   "outputs": [],
   "source": [
    "credit_card = credit_card.drop('Date', axis = 1)\n",
    "credit_card = credit_card.drop('Recnum', axis = 1)\n",
    "credit_card = credit_card.drop('Transtype', axis = 1)\n",
    "credit_card = credit_card.drop('Merch zip', axis = 1)"
   ]
  },
  {
   "cell_type": "markdown",
   "id": "50c70308",
   "metadata": {},
   "source": [
    "### CHECKING FOR NULL VALUES"
   ]
  },
  {
   "cell_type": "code",
   "execution_count": 7,
   "id": "4eb0f834",
   "metadata": {
    "scrolled": true
   },
   "outputs": [
    {
     "data": {
      "text/plain": [
       "day                     0\n",
       "month                   0\n",
       "Cardnum                 0\n",
       "Merchnum             3375\n",
       "Merch description       0\n",
       "Merch state          1195\n",
       "Amount                  0\n",
       "Fraud                   0\n",
       "dtype: int64"
      ]
     },
     "execution_count": 7,
     "metadata": {},
     "output_type": "execute_result"
    }
   ],
   "source": [
    "credit_card.isnull().sum()"
   ]
  },
  {
   "cell_type": "markdown",
   "id": "a140c6c6",
   "metadata": {},
   "source": [
    "### DROP THE NULL VALUES"
   ]
  },
  {
   "cell_type": "code",
   "execution_count": 8,
   "id": "06aba505",
   "metadata": {},
   "outputs": [],
   "source": [
    "credit_card['Merchnum'] = credit_card['Merchnum'].dropna()\n",
    "credit_card['Merch state'] = credit_card['Merch state'].dropna()"
   ]
  },
  {
   "cell_type": "code",
   "execution_count": 9,
   "id": "120406a9",
   "metadata": {},
   "outputs": [
    {
     "data": {
      "text/plain": [
       "day                     0\n",
       "month                   0\n",
       "Cardnum                 0\n",
       "Merchnum             3375\n",
       "Merch description       0\n",
       "Merch state          1195\n",
       "Amount                  0\n",
       "Fraud                   0\n",
       "dtype: int64"
      ]
     },
     "execution_count": 9,
     "metadata": {},
     "output_type": "execute_result"
    }
   ],
   "source": [
    "credit_card.isnull().sum()"
   ]
  },
  {
   "cell_type": "code",
   "execution_count": 10,
   "id": "6ad21154",
   "metadata": {},
   "outputs": [
    {
     "data": {
      "text/html": [
       "<div>\n",
       "<style scoped>\n",
       "    .dataframe tbody tr th:only-of-type {\n",
       "        vertical-align: middle;\n",
       "    }\n",
       "\n",
       "    .dataframe tbody tr th {\n",
       "        vertical-align: top;\n",
       "    }\n",
       "\n",
       "    .dataframe thead th {\n",
       "        text-align: right;\n",
       "    }\n",
       "</style>\n",
       "<table border=\"1\" class=\"dataframe\">\n",
       "  <thead>\n",
       "    <tr style=\"text-align: right;\">\n",
       "      <th></th>\n",
       "      <th>day</th>\n",
       "      <th>month</th>\n",
       "      <th>Amount</th>\n",
       "    </tr>\n",
       "  </thead>\n",
       "  <tbody>\n",
       "    <tr>\n",
       "      <th>count</th>\n",
       "      <td>96753.000000</td>\n",
       "      <td>96753.000000</td>\n",
       "      <td>9.675300e+04</td>\n",
       "    </tr>\n",
       "    <tr>\n",
       "      <th>mean</th>\n",
       "      <td>2.563218</td>\n",
       "      <td>6.327215</td>\n",
       "      <td>4.278857e+02</td>\n",
       "    </tr>\n",
       "    <tr>\n",
       "      <th>std</th>\n",
       "      <td>2.101681</td>\n",
       "      <td>3.241349</td>\n",
       "      <td>1.000614e+04</td>\n",
       "    </tr>\n",
       "    <tr>\n",
       "      <th>min</th>\n",
       "      <td>0.000000</td>\n",
       "      <td>1.000000</td>\n",
       "      <td>1.000000e-02</td>\n",
       "    </tr>\n",
       "    <tr>\n",
       "      <th>25%</th>\n",
       "      <td>1.000000</td>\n",
       "      <td>4.000000</td>\n",
       "      <td>3.348000e+01</td>\n",
       "    </tr>\n",
       "    <tr>\n",
       "      <th>50%</th>\n",
       "      <td>2.000000</td>\n",
       "      <td>6.000000</td>\n",
       "      <td>1.379800e+02</td>\n",
       "    </tr>\n",
       "    <tr>\n",
       "      <th>75%</th>\n",
       "      <td>5.000000</td>\n",
       "      <td>9.000000</td>\n",
       "      <td>4.282000e+02</td>\n",
       "    </tr>\n",
       "    <tr>\n",
       "      <th>max</th>\n",
       "      <td>6.000000</td>\n",
       "      <td>12.000000</td>\n",
       "      <td>3.102046e+06</td>\n",
       "    </tr>\n",
       "  </tbody>\n",
       "</table>\n",
       "</div>"
      ],
      "text/plain": [
       "                day         month        Amount\n",
       "count  96753.000000  96753.000000  9.675300e+04\n",
       "mean       2.563218      6.327215  4.278857e+02\n",
       "std        2.101681      3.241349  1.000614e+04\n",
       "min        0.000000      1.000000  1.000000e-02\n",
       "25%        1.000000      4.000000  3.348000e+01\n",
       "50%        2.000000      6.000000  1.379800e+02\n",
       "75%        5.000000      9.000000  4.282000e+02\n",
       "max        6.000000     12.000000  3.102046e+06"
      ]
     },
     "execution_count": 10,
     "metadata": {},
     "output_type": "execute_result"
    }
   ],
   "source": [
    "credit_card[['day', 'month','Amount']].describe()"
   ]
  },
  {
   "cell_type": "markdown",
   "id": "62d63d68",
   "metadata": {},
   "source": [
    "### UNIQUE VALUES"
   ]
  },
  {
   "cell_type": "code",
   "execution_count": 11,
   "id": "c7c400a8",
   "metadata": {},
   "outputs": [
    {
     "data": {
      "text/plain": [
       "{'day': 7,\n",
       " 'month': 12,\n",
       " 'Cardnum': 1645,\n",
       " 'Merchnum': 13092,\n",
       " 'Merch description': 13126,\n",
       " 'Merch state': 228,\n",
       " 'Amount': 34909,\n",
       " 'Fraud': 2}"
      ]
     },
     "execution_count": 11,
     "metadata": {},
     "output_type": "execute_result"
    }
   ],
   "source": [
    "dict_unique = {}\n",
    "for i in credit_card.columns.to_list():\n",
    "    dict_unique[i]=len(credit_card[i].unique())\n",
    "dict_unique"
   ]
  },
  {
   "cell_type": "markdown",
   "id": "df484be8",
   "metadata": {},
   "source": [
    "### CHECKING FOR DUPLICATES"
   ]
  },
  {
   "cell_type": "code",
   "execution_count": 12,
   "id": "1b192349",
   "metadata": {},
   "outputs": [
    {
     "data": {
      "text/plain": [
       "6898"
      ]
     },
     "execution_count": 12,
     "metadata": {},
     "output_type": "execute_result"
    }
   ],
   "source": [
    "credit_card.duplicated().sum()"
   ]
  },
  {
   "cell_type": "markdown",
   "id": "b8491b40",
   "metadata": {},
   "source": [
    "### STATISTICS SUMMARY"
   ]
  },
  {
   "cell_type": "code",
   "execution_count": 13,
   "id": "08ca4503",
   "metadata": {},
   "outputs": [
    {
     "data": {
      "text/html": [
       "<div>\n",
       "<style scoped>\n",
       "    .dataframe tbody tr th:only-of-type {\n",
       "        vertical-align: middle;\n",
       "    }\n",
       "\n",
       "    .dataframe tbody tr th {\n",
       "        vertical-align: top;\n",
       "    }\n",
       "\n",
       "    .dataframe thead th {\n",
       "        text-align: right;\n",
       "    }\n",
       "</style>\n",
       "<table border=\"1\" class=\"dataframe\">\n",
       "  <thead>\n",
       "    <tr style=\"text-align: right;\">\n",
       "      <th></th>\n",
       "      <th>day</th>\n",
       "      <th>month</th>\n",
       "      <th>Cardnum</th>\n",
       "      <th>Amount</th>\n",
       "      <th>Fraud</th>\n",
       "    </tr>\n",
       "  </thead>\n",
       "  <tbody>\n",
       "    <tr>\n",
       "      <th>count</th>\n",
       "      <td>96753.000000</td>\n",
       "      <td>96753.000000</td>\n",
       "      <td>9.675300e+04</td>\n",
       "      <td>9.675300e+04</td>\n",
       "      <td>96753.000000</td>\n",
       "    </tr>\n",
       "    <tr>\n",
       "      <th>mean</th>\n",
       "      <td>2.563218</td>\n",
       "      <td>6.327215</td>\n",
       "      <td>5.142202e+09</td>\n",
       "      <td>4.278857e+02</td>\n",
       "      <td>0.010945</td>\n",
       "    </tr>\n",
       "    <tr>\n",
       "      <th>std</th>\n",
       "      <td>2.101681</td>\n",
       "      <td>3.241349</td>\n",
       "      <td>5.567084e+04</td>\n",
       "      <td>1.000614e+04</td>\n",
       "      <td>0.104047</td>\n",
       "    </tr>\n",
       "    <tr>\n",
       "      <th>min</th>\n",
       "      <td>0.000000</td>\n",
       "      <td>1.000000</td>\n",
       "      <td>5.142110e+09</td>\n",
       "      <td>1.000000e-02</td>\n",
       "      <td>0.000000</td>\n",
       "    </tr>\n",
       "    <tr>\n",
       "      <th>25%</th>\n",
       "      <td>1.000000</td>\n",
       "      <td>4.000000</td>\n",
       "      <td>5.142152e+09</td>\n",
       "      <td>3.348000e+01</td>\n",
       "      <td>0.000000</td>\n",
       "    </tr>\n",
       "    <tr>\n",
       "      <th>50%</th>\n",
       "      <td>2.000000</td>\n",
       "      <td>6.000000</td>\n",
       "      <td>5.142196e+09</td>\n",
       "      <td>1.379800e+02</td>\n",
       "      <td>0.000000</td>\n",
       "    </tr>\n",
       "    <tr>\n",
       "      <th>75%</th>\n",
       "      <td>5.000000</td>\n",
       "      <td>9.000000</td>\n",
       "      <td>5.142246e+09</td>\n",
       "      <td>4.282000e+02</td>\n",
       "      <td>0.000000</td>\n",
       "    </tr>\n",
       "    <tr>\n",
       "      <th>max</th>\n",
       "      <td>6.000000</td>\n",
       "      <td>12.000000</td>\n",
       "      <td>5.142847e+09</td>\n",
       "      <td>3.102046e+06</td>\n",
       "      <td>1.000000</td>\n",
       "    </tr>\n",
       "  </tbody>\n",
       "</table>\n",
       "</div>"
      ],
      "text/plain": [
       "                day         month       Cardnum        Amount         Fraud\n",
       "count  96753.000000  96753.000000  9.675300e+04  9.675300e+04  96753.000000\n",
       "mean       2.563218      6.327215  5.142202e+09  4.278857e+02      0.010945\n",
       "std        2.101681      3.241349  5.567084e+04  1.000614e+04      0.104047\n",
       "min        0.000000      1.000000  5.142110e+09  1.000000e-02      0.000000\n",
       "25%        1.000000      4.000000  5.142152e+09  3.348000e+01      0.000000\n",
       "50%        2.000000      6.000000  5.142196e+09  1.379800e+02      0.000000\n",
       "75%        5.000000      9.000000  5.142246e+09  4.282000e+02      0.000000\n",
       "max        6.000000     12.000000  5.142847e+09  3.102046e+06      1.000000"
      ]
     },
     "execution_count": 13,
     "metadata": {},
     "output_type": "execute_result"
    }
   ],
   "source": [
    "credit_card.describe()"
   ]
  },
  {
   "cell_type": "markdown",
   "id": "4b70a24b",
   "metadata": {},
   "source": [
    "### EXPLORING THE DATASET"
   ]
  },
  {
   "cell_type": "code",
   "execution_count": 14,
   "id": "5163db68",
   "metadata": {},
   "outputs": [
    {
     "data": {
      "image/png": "[encoded data removed]",
      "text/plain": [
       "<Figure size 864x432 with 1 Axes>"
      ]
     },
     "metadata": {
      "needs_background": "light"
     },
     "output_type": "display_data"
    },
    {
     "data": {
      "image/png": "[encoded data removed]",
      "text/plain": [
       "<Figure size 864x432 with 1 Axes>"
      ]
     },
     "metadata": {
      "needs_background": "light"
     },
     "output_type": "display_data"
    },
    {
     "data": {
      "image/png": "[encoded data removed]",
      "text/plain": [
       "<Figure size 864x432 with 1 Axes>"
      ]
     },
     "metadata": {
      "needs_background": "light"
     },
     "output_type": "display_data"
    },
    {
     "data": {
      "image/png": "[encoded data removed]",
      "text/plain": [
       "<Figure size 864x432 with 1 Axes>"
      ]
     },
     "metadata": {
      "needs_background": "light"
     },
     "output_type": "display_data"
    },
    {
     "data": {
      "image/png": "[encoded data removed]",
      "text/plain": [
       "<Figure size 864x432 with 1 Axes>"
      ]
     },
     "metadata": {
      "needs_background": "light"
     },
     "output_type": "display_data"
    },
    {
     "data": {
      "image/png": "[encoded data removed]",
      "text/plain": [
       "<Figure size 864x432 with 1 Axes>"
      ]
     },
     "metadata": {
      "needs_background": "light"
     },
     "output_type": "display_data"
    },
    {
     "data": {
      "image/png": "[encoded data removed]",
      "text/plain": [
       "<Figure size 864x432 with 1 Axes>"
      ]
     },
     "metadata": {
      "needs_background": "light"
     },
     "output_type": "display_data"
    },
    {
     "data": {
      "image/png": "[encoded data removed]",
      "text/plain": [
       "<Figure size 864x432 with 1 Axes>"
      ]
     },
     "metadata": {
      "needs_background": "light"
     },
     "output_type": "display_data"
    }
   ],
   "source": [
    "categoricalVar = credit_card.columns.tolist()\n",
    "for col in categoricalVar:\n",
    "    df = pd.DataFrame(credit_card[col].value_counts().sort_values(ascending=False).head(20))\n",
    "    df.plot(kind='bar',figsize=(12,6))\n",
    "    plt.xlabel(col,fontsize=15)\n",
    "    plt.ylabel('Frequency',fontsize=15)\n",
    "    plt.xticks(fontsize=12)"
   ]
  },
  {
   "cell_type": "markdown",
   "id": "95edad76",
   "metadata": {},
   "source": [
    "### CORRELATION ANALYSIS"
   ]
  },
  {
   "cell_type": "code",
   "execution_count": 15,
   "id": "e4736351",
   "metadata": {},
   "outputs": [
    {
     "data": {
      "image/png": "[encoded data removed]",
      "text/plain": [
       "<Figure size 432x288 with 2 Axes>"
      ]
     },
     "metadata": {
      "needs_background": "light"
     },
     "output_type": "display_data"
    }
   ],
   "source": [
    "plt.title('Pearson Correlation Matrix')\n",
    "sns.heatmap(credit_card.corr(),linewidths=0.25,vmax=0.7,square=True,cmap=\"winter\",\n",
    "            linecolor='w',annot=True);"
   ]
  },
  {
   "cell_type": "markdown",
   "id": "cac4223a",
   "metadata": {},
   "source": [
    "The correlation plot shows no presence of multi collinearity amongst the features. All of these features does not show high correlation with the target class"
   ]
  },
  {
   "cell_type": "markdown",
   "id": "06d09423",
   "metadata": {},
   "source": [
    "### DISTRIBUTION OF TARGET CLASS"
   ]
  },
  {
   "cell_type": "code",
   "execution_count": 16,
   "id": "2507425b",
   "metadata": {},
   "outputs": [
    {
     "data": {
      "image/png": "[encoded data removed]",
      "text/plain": [
       "<Figure size 720x432 with 1 Axes>"
      ]
     },
     "metadata": {},
     "output_type": "display_data"
    }
   ],
   "source": [
    "plt.figure(figsize=(10,6))\n",
    "labels = ['Not Fraud' , 'Frauds']\n",
    "explode = [.01,.01]\n",
    "color = ['skyblue' , 'Red']\n",
    "sizes = credit_card.Fraud.value_counts().values\n",
    "\n",
    "plt.pie(sizes,explode,labels,autopct=\"%1.1f%%\", colors = color)\n",
    "plt.show()"
   ]
  },
  {
   "cell_type": "markdown",
   "id": "65c7a279",
   "metadata": {},
   "source": [
    "The pie chart shows highly imbalanced dataset. "
   ]
  },
  {
   "cell_type": "code",
   "execution_count": 17,
   "id": "e4b15b23",
   "metadata": {
    "scrolled": true
   },
   "outputs": [
    {
     "data": {
      "text/plain": [
       "<matplotlib.legend.Legend at 0x164e60040>"
      ]
     },
     "execution_count": 17,
     "metadata": {},
     "output_type": "execute_result"
    },
    {
     "data": {
      "image/png": "[encoded data removed]",
      "text/plain": [
       "<Figure size 432x288 with 1 Axes>"
      ]
     },
     "metadata": {
      "needs_background": "light"
     },
     "output_type": "display_data"
    }
   ],
   "source": [
    "ax=sns.histplot(x='Amount',data=credit_card[credit_card.Amount<=1000],\n",
    "                hue='Fraud',stat='percent',multiple='dodge',common_norm=False,bins=25)\n",
    "ax.set_ylabel('Percentage in Each Type')\n",
    "ax.set_xlabel('Transaction Amount ')\n",
    "plt.legend(title='Type', labels=['Fraud', 'Not Fraud'])"
   ]
  },
  {
   "cell_type": "markdown",
   "id": "ae892f1a",
   "metadata": {},
   "source": [
    "### STATE VS FRAUD : let's also explore which geographies are more prone to fraud. "
   ]
  },
  {
   "cell_type": "code",
   "execution_count": 18,
   "id": "92790004",
   "metadata": {},
   "outputs": [
    {
     "data": {
      "text/plain": [
       "Text(0.5, 1.0, 'The Percentage of Fraudulent over Non-Fraudulent Transcations in Each State')"
      ]
     },
     "execution_count": 18,
     "metadata": {},
     "output_type": "execute_result"
    },
    {
     "data": {
      "image/png": "[encoded data removed]",
      "text/plain": [
       "<Figure size 432x288 with 1 Axes>"
      ]
     },
     "metadata": {
      "needs_background": "light"
     },
     "output_type": "display_data"
    }
   ],
   "source": [
    "a=credit_card['Merch state'][credit_card.Fraud==0].value_counts(normalize=True)\n",
    "a=a.to_frame()\n",
    "a=a.reset_index()\n",
    "a.columns = ['Merch state', 'Per']\n",
    "\n",
    "b=credit_card['Merch state'][credit_card.Fraud==1].value_counts(normalize=True)\n",
    "b=b.to_frame()\n",
    "b=b.reset_index()\n",
    "b.columns = ['Merch state', 'Per']\n",
    "\n",
    "merged=a.merge(b,on='Merch state')\n",
    "merged['diff']=merged['Per_y']-merged['Per_x']\n",
    "merged['diff']=merged['diff']*100\n",
    "merged=merged.sort_values('diff',ascending=False)\n",
    "\n",
    "ax1=sns.barplot(data=merged, x='diff',y='Merch state')\n",
    "ax1.set_xlabel('Percentage Difference')\n",
    "ax1.set_ylabel('Merch state')\n",
    "plt.title('The Percentage of Fraudulent over Non-Fraudulent Transcations in Each State')"
   ]
  },
  {
   "cell_type": "markdown",
   "id": "d81f51b0",
   "metadata": {},
   "source": [
    "### Monthly trends"
   ]
  },
  {
   "cell_type": "code",
   "execution_count": 19,
   "id": "f94a701f",
   "metadata": {},
   "outputs": [
    {
     "data": {
      "text/plain": [
       "<matplotlib.legend.Legend at 0x164d49a00>"
      ]
     },
     "execution_count": 19,
     "metadata": {},
     "output_type": "execute_result"
    },
    {
     "data": {
      "image/png": "[encoded data removed]",
      "text/plain": [
       "<Figure size 432x288 with 1 Axes>"
      ]
     },
     "metadata": {
      "needs_background": "light"
     },
     "output_type": "display_data"
    }
   ],
   "source": [
    "#month vs fraud\n",
    "ax=sns.histplot(data=credit_card, x=\"month\", hue=\"Fraud\", common_norm=False,stat='percent',multiple='dodge')\n",
    "ax.set_ylabel('Percentage')\n",
    "ax.set_xlabel('Month')\n",
    "plt.xticks(np.arange(1,13,1))\n",
    "ax.set_xticklabels([\"Jan\",\"Feb\",\"Mar\",\"Apr\",\"May\",\"Jun\",\"Jul\",'Aug','Sep','Oct','Nov','Dec'])\n",
    "plt.legend(title='Type', labels=['Fraud', 'Not Fraud'])"
   ]
  },
  {
   "cell_type": "markdown",
   "id": "96f524fd",
   "metadata": {},
   "source": [
    "### Daily trend"
   ]
  },
  {
   "cell_type": "code",
   "execution_count": 20,
   "id": "a9b4e730",
   "metadata": {},
   "outputs": [
    {
     "name": "stderr",
     "output_type": "stream",
     "text": [
      "/var/folders/n9/ckrqvsfj3t15h8cbxpgxnn300000gn/T/ipykernel_63518/3150562307.py:2: UserWarning: FixedFormatter should only be used together with FixedLocator\n",
      "  ax.set_xticklabels(['',\"Mon\",\"Tue\",\"Wed\",\"Thu\",\"Fri\",\"Sat\",\"Sun\"])\n"
     ]
    },
    {
     "data": {
      "text/plain": [
       "<matplotlib.legend.Legend at 0x16448c820>"
      ]
     },
     "execution_count": 20,
     "metadata": {},
     "output_type": "execute_result"
    },
    {
     "data": {
      "image/png": "[encoded data removed]",
      "text/plain": [
       "<Figure size 432x288 with 1 Axes>"
      ]
     },
     "metadata": {
      "needs_background": "light"
     },
     "output_type": "display_data"
    }
   ],
   "source": [
    "ax=sns.histplot(data = credit_card, x=\"day\", hue=\"Fraud\", common_norm=False,stat='percent',multiple='dodge')\n",
    "ax.set_xticklabels(['',\"Mon\",\"Tue\",\"Wed\",\"Thu\",\"Fri\",\"Sat\",\"Sun\"])\n",
    "ax.set_ylabel('Percentage')\n",
    "ax.set_xlabel('Day')\n",
    "plt.legend(title='Type', labels=['Fraud', 'Not Fraud'])"
   ]
  },
  {
   "cell_type": "markdown",
   "id": "9b71f4ff",
   "metadata": {},
   "source": [
    "### ENCODING INDEPENDENT VARIABLE"
   ]
  },
  {
   "cell_type": "code",
   "execution_count": 21,
   "id": "decc6174",
   "metadata": {},
   "outputs": [
    {
     "data": {
      "text/html": [
       "<div>\n",
       "<style scoped>\n",
       "    .dataframe tbody tr th:only-of-type {\n",
       "        vertical-align: middle;\n",
       "    }\n",
       "\n",
       "    .dataframe tbody tr th {\n",
       "        vertical-align: top;\n",
       "    }\n",
       "\n",
       "    .dataframe thead th {\n",
       "        text-align: right;\n",
       "    }\n",
       "</style>\n",
       "<table border=\"1\" class=\"dataframe\">\n",
       "  <thead>\n",
       "    <tr style=\"text-align: right;\">\n",
       "      <th></th>\n",
       "      <th>day</th>\n",
       "      <th>month</th>\n",
       "      <th>Cardnum</th>\n",
       "      <th>Merchnum</th>\n",
       "      <th>Merch description</th>\n",
       "      <th>Merch state</th>\n",
       "      <th>Amount</th>\n",
       "      <th>Fraud</th>\n",
       "    </tr>\n",
       "  </thead>\n",
       "  <tbody>\n",
       "    <tr>\n",
       "      <th>0</th>\n",
       "      <td>4</td>\n",
       "      <td>1</td>\n",
       "      <td>5142190439</td>\n",
       "      <td>4975</td>\n",
       "      <td>4594</td>\n",
       "      <td>217</td>\n",
       "      <td>3.62</td>\n",
       "      <td>0</td>\n",
       "    </tr>\n",
       "    <tr>\n",
       "      <th>1</th>\n",
       "      <td>4</td>\n",
       "      <td>1</td>\n",
       "      <td>5142183973</td>\n",
       "      <td>6735</td>\n",
       "      <td>10393</td>\n",
       "      <td>189</td>\n",
       "      <td>31.42</td>\n",
       "      <td>0</td>\n",
       "    </tr>\n",
       "    <tr>\n",
       "      <th>2</th>\n",
       "      <td>4</td>\n",
       "      <td>1</td>\n",
       "      <td>5142131721</td>\n",
       "      <td>3340</td>\n",
       "      <td>8454</td>\n",
       "      <td>191</td>\n",
       "      <td>178.49</td>\n",
       "      <td>0</td>\n",
       "    </tr>\n",
       "    <tr>\n",
       "      <th>3</th>\n",
       "      <td>4</td>\n",
       "      <td>1</td>\n",
       "      <td>5142148452</td>\n",
       "      <td>4975</td>\n",
       "      <td>4598</td>\n",
       "      <td>217</td>\n",
       "      <td>3.62</td>\n",
       "      <td>0</td>\n",
       "    </tr>\n",
       "    <tr>\n",
       "      <th>4</th>\n",
       "      <td>4</td>\n",
       "      <td>1</td>\n",
       "      <td>5142190439</td>\n",
       "      <td>4975</td>\n",
       "      <td>4594</td>\n",
       "      <td>217</td>\n",
       "      <td>3.62</td>\n",
       "      <td>0</td>\n",
       "    </tr>\n",
       "    <tr>\n",
       "      <th>...</th>\n",
       "      <td>...</td>\n",
       "      <td>...</td>\n",
       "      <td>...</td>\n",
       "      <td>...</td>\n",
       "      <td>...</td>\n",
       "      <td>...</td>\n",
       "      <td>...</td>\n",
       "      <td>...</td>\n",
       "    </tr>\n",
       "    <tr>\n",
       "      <th>96748</th>\n",
       "      <td>4</td>\n",
       "      <td>12</td>\n",
       "      <td>5142276053</td>\n",
       "      <td>2241</td>\n",
       "      <td>1534</td>\n",
       "      <td>187</td>\n",
       "      <td>84.79</td>\n",
       "      <td>0</td>\n",
       "    </tr>\n",
       "    <tr>\n",
       "      <th>96749</th>\n",
       "      <td>4</td>\n",
       "      <td>12</td>\n",
       "      <td>5142225701</td>\n",
       "      <td>9925</td>\n",
       "      <td>7247</td>\n",
       "      <td>207</td>\n",
       "      <td>118.75</td>\n",
       "      <td>0</td>\n",
       "    </tr>\n",
       "    <tr>\n",
       "      <th>96750</th>\n",
       "      <td>4</td>\n",
       "      <td>12</td>\n",
       "      <td>5142226486</td>\n",
       "      <td>3226</td>\n",
       "      <td>11299</td>\n",
       "      <td>207</td>\n",
       "      <td>363.56</td>\n",
       "      <td>0</td>\n",
       "    </tr>\n",
       "    <tr>\n",
       "      <th>96751</th>\n",
       "      <td>4</td>\n",
       "      <td>12</td>\n",
       "      <td>5142244619</td>\n",
       "      <td>10571</td>\n",
       "      <td>2093</td>\n",
       "      <td>174</td>\n",
       "      <td>2202.03</td>\n",
       "      <td>0</td>\n",
       "    </tr>\n",
       "    <tr>\n",
       "      <th>96752</th>\n",
       "      <td>4</td>\n",
       "      <td>12</td>\n",
       "      <td>5142243247</td>\n",
       "      <td>11477</td>\n",
       "      <td>10959</td>\n",
       "      <td>202</td>\n",
       "      <td>554.64</td>\n",
       "      <td>0</td>\n",
       "    </tr>\n",
       "  </tbody>\n",
       "</table>\n",
       "<p>96753 rows × 8 columns</p>\n",
       "</div>"
      ],
      "text/plain": [
       "       day  month     Cardnum  Merchnum  Merch description  Merch state  \\\n",
       "0        4      1  5142190439      4975               4594          217   \n",
       "1        4      1  5142183973      6735              10393          189   \n",
       "2        4      1  5142131721      3340               8454          191   \n",
       "3        4      1  5142148452      4975               4598          217   \n",
       "4        4      1  5142190439      4975               4594          217   \n",
       "...    ...    ...         ...       ...                ...          ...   \n",
       "96748    4     12  5142276053      2241               1534          187   \n",
       "96749    4     12  5142225701      9925               7247          207   \n",
       "96750    4     12  5142226486      3226              11299          207   \n",
       "96751    4     12  5142244619     10571               2093          174   \n",
       "96752    4     12  5142243247     11477              10959          202   \n",
       "\n",
       "        Amount  Fraud  \n",
       "0         3.62      0  \n",
       "1        31.42      0  \n",
       "2       178.49      0  \n",
       "3         3.62      0  \n",
       "4         3.62      0  \n",
       "...        ...    ...  \n",
       "96748    84.79      0  \n",
       "96749   118.75      0  \n",
       "96750   363.56      0  \n",
       "96751  2202.03      0  \n",
       "96752   554.64      0  \n",
       "\n",
       "[96753 rows x 8 columns]"
      ]
     },
     "execution_count": 21,
     "metadata": {},
     "output_type": "execute_result"
    }
   ],
   "source": [
    "le = LabelEncoder()\n",
    "credit_card[\"Merchnum\"] = le.fit_transform(credit_card['Merchnum'])\n",
    "credit_card[\"Merch description\"] = le.fit_transform(credit_card['Merch description'])\n",
    "credit_card[\"Merch state\"] = le.fit_transform(credit_card['Merch state'])\n",
    "credit_card"
   ]
  },
  {
   "cell_type": "code",
   "execution_count": 22,
   "id": "6d5ef868",
   "metadata": {},
   "outputs": [
    {
     "name": "stdout",
     "output_type": "stream",
     "text": [
      "<class 'pandas.core.frame.DataFrame'>\n",
      "RangeIndex: 96753 entries, 0 to 96752\n",
      "Data columns (total 8 columns):\n",
      " #   Column             Non-Null Count  Dtype  \n",
      "---  ------             --------------  -----  \n",
      " 0   day                96753 non-null  int64  \n",
      " 1   month              96753 non-null  int64  \n",
      " 2   Cardnum            96753 non-null  int64  \n",
      " 3   Merchnum           96753 non-null  int64  \n",
      " 4   Merch description  96753 non-null  int64  \n",
      " 5   Merch state        96753 non-null  int64  \n",
      " 6   Amount             96753 non-null  float64\n",
      " 7   Fraud              96753 non-null  int64  \n",
      "dtypes: float64(1), int64(7)\n",
      "memory usage: 5.9 MB\n"
     ]
    }
   ],
   "source": [
    "credit_card.info()"
   ]
  },
  {
   "cell_type": "markdown",
   "id": "b71a1e49",
   "metadata": {},
   "source": [
    "### FEATURE SCALING "
   ]
  },
  {
   "cell_type": "code",
   "execution_count": 23,
   "id": "f554a7bd",
   "metadata": {},
   "outputs": [
    {
     "data": {
      "text/html": [
       "<div>\n",
       "<style scoped>\n",
       "    .dataframe tbody tr th:only-of-type {\n",
       "        vertical-align: middle;\n",
       "    }\n",
       "\n",
       "    .dataframe tbody tr th {\n",
       "        vertical-align: top;\n",
       "    }\n",
       "\n",
       "    .dataframe thead th {\n",
       "        text-align: right;\n",
       "    }\n",
       "</style>\n",
       "<table border=\"1\" class=\"dataframe\">\n",
       "  <thead>\n",
       "    <tr style=\"text-align: right;\">\n",
       "      <th></th>\n",
       "      <th>day</th>\n",
       "      <th>month</th>\n",
       "      <th>Cardnum</th>\n",
       "      <th>Merchnum</th>\n",
       "      <th>Merch description</th>\n",
       "      <th>Merch state</th>\n",
       "      <th>Amount</th>\n",
       "      <th>Fraud</th>\n",
       "      <th>amount_log</th>\n",
       "      <th>Cardnum_log</th>\n",
       "      <th>Merchnum_log</th>\n",
       "      <th>Merch description_log</th>\n",
       "      <th>Merch state_log</th>\n",
       "    </tr>\n",
       "  </thead>\n",
       "  <tbody>\n",
       "    <tr>\n",
       "      <th>0</th>\n",
       "      <td>4</td>\n",
       "      <td>1</td>\n",
       "      <td>5142190439</td>\n",
       "      <td>4975</td>\n",
       "      <td>4594</td>\n",
       "      <td>217</td>\n",
       "      <td>3.62</td>\n",
       "      <td>0</td>\n",
       "      <td>1.286502</td>\n",
       "      <td>22.360745</td>\n",
       "      <td>8.512181</td>\n",
       "      <td>8.432506</td>\n",
       "      <td>5.379898</td>\n",
       "    </tr>\n",
       "    <tr>\n",
       "      <th>1</th>\n",
       "      <td>4</td>\n",
       "      <td>1</td>\n",
       "      <td>5142183973</td>\n",
       "      <td>6735</td>\n",
       "      <td>10393</td>\n",
       "      <td>189</td>\n",
       "      <td>31.42</td>\n",
       "      <td>0</td>\n",
       "      <td>3.447448</td>\n",
       "      <td>22.360744</td>\n",
       "      <td>8.815073</td>\n",
       "      <td>9.248888</td>\n",
       "      <td>5.241748</td>\n",
       "    </tr>\n",
       "    <tr>\n",
       "      <th>2</th>\n",
       "      <td>4</td>\n",
       "      <td>1</td>\n",
       "      <td>5142131721</td>\n",
       "      <td>3340</td>\n",
       "      <td>8454</td>\n",
       "      <td>191</td>\n",
       "      <td>178.49</td>\n",
       "      <td>0</td>\n",
       "      <td>5.184533</td>\n",
       "      <td>22.360734</td>\n",
       "      <td>8.113726</td>\n",
       "      <td>9.042395</td>\n",
       "      <td>5.252274</td>\n",
       "    </tr>\n",
       "    <tr>\n",
       "      <th>3</th>\n",
       "      <td>4</td>\n",
       "      <td>1</td>\n",
       "      <td>5142148452</td>\n",
       "      <td>4975</td>\n",
       "      <td>4598</td>\n",
       "      <td>217</td>\n",
       "      <td>3.62</td>\n",
       "      <td>0</td>\n",
       "      <td>1.286502</td>\n",
       "      <td>22.360737</td>\n",
       "      <td>8.512181</td>\n",
       "      <td>8.433377</td>\n",
       "      <td>5.379898</td>\n",
       "    </tr>\n",
       "    <tr>\n",
       "      <th>4</th>\n",
       "      <td>4</td>\n",
       "      <td>1</td>\n",
       "      <td>5142190439</td>\n",
       "      <td>4975</td>\n",
       "      <td>4594</td>\n",
       "      <td>217</td>\n",
       "      <td>3.62</td>\n",
       "      <td>0</td>\n",
       "      <td>1.286502</td>\n",
       "      <td>22.360745</td>\n",
       "      <td>8.512181</td>\n",
       "      <td>8.432506</td>\n",
       "      <td>5.379898</td>\n",
       "    </tr>\n",
       "    <tr>\n",
       "      <th>...</th>\n",
       "      <td>...</td>\n",
       "      <td>...</td>\n",
       "      <td>...</td>\n",
       "      <td>...</td>\n",
       "      <td>...</td>\n",
       "      <td>...</td>\n",
       "      <td>...</td>\n",
       "      <td>...</td>\n",
       "      <td>...</td>\n",
       "      <td>...</td>\n",
       "      <td>...</td>\n",
       "      <td>...</td>\n",
       "      <td>...</td>\n",
       "    </tr>\n",
       "    <tr>\n",
       "      <th>96748</th>\n",
       "      <td>4</td>\n",
       "      <td>12</td>\n",
       "      <td>5142276053</td>\n",
       "      <td>2241</td>\n",
       "      <td>1534</td>\n",
       "      <td>187</td>\n",
       "      <td>84.79</td>\n",
       "      <td>0</td>\n",
       "      <td>4.440179</td>\n",
       "      <td>22.360762</td>\n",
       "      <td>7.714678</td>\n",
       "      <td>7.335634</td>\n",
       "      <td>5.231109</td>\n",
       "    </tr>\n",
       "    <tr>\n",
       "      <th>96749</th>\n",
       "      <td>4</td>\n",
       "      <td>12</td>\n",
       "      <td>5142225701</td>\n",
       "      <td>9925</td>\n",
       "      <td>7247</td>\n",
       "      <td>207</td>\n",
       "      <td>118.75</td>\n",
       "      <td>0</td>\n",
       "      <td>4.777021</td>\n",
       "      <td>22.360752</td>\n",
       "      <td>9.202812</td>\n",
       "      <td>8.888343</td>\n",
       "      <td>5.332719</td>\n",
       "    </tr>\n",
       "    <tr>\n",
       "      <th>96750</th>\n",
       "      <td>4</td>\n",
       "      <td>12</td>\n",
       "      <td>5142226486</td>\n",
       "      <td>3226</td>\n",
       "      <td>11299</td>\n",
       "      <td>207</td>\n",
       "      <td>363.56</td>\n",
       "      <td>0</td>\n",
       "      <td>5.895945</td>\n",
       "      <td>22.360752</td>\n",
       "      <td>8.078998</td>\n",
       "      <td>9.332470</td>\n",
       "      <td>5.332719</td>\n",
       "    </tr>\n",
       "    <tr>\n",
       "      <th>96751</th>\n",
       "      <td>4</td>\n",
       "      <td>12</td>\n",
       "      <td>5142244619</td>\n",
       "      <td>10571</td>\n",
       "      <td>2093</td>\n",
       "      <td>174</td>\n",
       "      <td>2202.03</td>\n",
       "      <td>0</td>\n",
       "      <td>7.697135</td>\n",
       "      <td>22.360756</td>\n",
       "      <td>9.265870</td>\n",
       "      <td>7.646354</td>\n",
       "      <td>5.159056</td>\n",
       "    </tr>\n",
       "    <tr>\n",
       "      <th>96752</th>\n",
       "      <td>4</td>\n",
       "      <td>12</td>\n",
       "      <td>5142243247</td>\n",
       "      <td>11477</td>\n",
       "      <td>10959</td>\n",
       "      <td>202</td>\n",
       "      <td>554.64</td>\n",
       "      <td>0</td>\n",
       "      <td>6.318319</td>\n",
       "      <td>22.360755</td>\n",
       "      <td>9.348100</td>\n",
       "      <td>9.301916</td>\n",
       "      <td>5.308268</td>\n",
       "    </tr>\n",
       "  </tbody>\n",
       "</table>\n",
       "<p>96753 rows × 13 columns</p>\n",
       "</div>"
      ],
      "text/plain": [
       "       day  month     Cardnum  Merchnum  Merch description  Merch state  \\\n",
       "0        4      1  5142190439      4975               4594          217   \n",
       "1        4      1  5142183973      6735              10393          189   \n",
       "2        4      1  5142131721      3340               8454          191   \n",
       "3        4      1  5142148452      4975               4598          217   \n",
       "4        4      1  5142190439      4975               4594          217   \n",
       "...    ...    ...         ...       ...                ...          ...   \n",
       "96748    4     12  5142276053      2241               1534          187   \n",
       "96749    4     12  5142225701      9925               7247          207   \n",
       "96750    4     12  5142226486      3226              11299          207   \n",
       "96751    4     12  5142244619     10571               2093          174   \n",
       "96752    4     12  5142243247     11477              10959          202   \n",
       "\n",
       "        Amount  Fraud  amount_log  Cardnum_log  Merchnum_log  \\\n",
       "0         3.62      0    1.286502    22.360745      8.512181   \n",
       "1        31.42      0    3.447448    22.360744      8.815073   \n",
       "2       178.49      0    5.184533    22.360734      8.113726   \n",
       "3         3.62      0    1.286502    22.360737      8.512181   \n",
       "4         3.62      0    1.286502    22.360745      8.512181   \n",
       "...        ...    ...         ...          ...           ...   \n",
       "96748    84.79      0    4.440179    22.360762      7.714678   \n",
       "96749   118.75      0    4.777021    22.360752      9.202812   \n",
       "96750   363.56      0    5.895945    22.360752      8.078998   \n",
       "96751  2202.03      0    7.697135    22.360756      9.265870   \n",
       "96752   554.64      0    6.318319    22.360755      9.348100   \n",
       "\n",
       "       Merch description_log  Merch state_log  \n",
       "0                   8.432506         5.379898  \n",
       "1                   9.248888         5.241748  \n",
       "2                   9.042395         5.252274  \n",
       "3                   8.433377         5.379898  \n",
       "4                   8.432506         5.379898  \n",
       "...                      ...              ...  \n",
       "96748               7.335634         5.231109  \n",
       "96749               8.888343         5.332719  \n",
       "96750               9.332470         5.332719  \n",
       "96751               7.646354         5.159056  \n",
       "96752               9.301916         5.308268  \n",
       "\n",
       "[96753 rows x 13 columns]"
      ]
     },
     "execution_count": 23,
     "metadata": {},
     "output_type": "execute_result"
    }
   ],
   "source": [
    "# Scale amount by log\n",
    "# Adding a small amount of 0.0001 to amount as log of zero is infinite.\n",
    "credit_card['amount_log'] = np.log(credit_card.Amount + 0.0001)\n",
    "credit_card['Cardnum_log'] = np.log(credit_card.Cardnum + 0.0001)\n",
    "credit_card['Merchnum_log'] = np.log(credit_card.Merchnum + 0.0001)\n",
    "credit_card['Merch description_log'] = np.log(credit_card['Merch description'] + 0.0001)\n",
    "credit_card['Merch state_log'] = np.log(credit_card['Merch state'] + 0.0001)\n",
    "credit_card"
   ]
  },
  {
   "cell_type": "code",
   "execution_count": 24,
   "id": "8c94e547",
   "metadata": {},
   "outputs": [
    {
     "data": {
      "text/html": [
       "<div>\n",
       "<style scoped>\n",
       "    .dataframe tbody tr th:only-of-type {\n",
       "        vertical-align: middle;\n",
       "    }\n",
       "\n",
       "    .dataframe tbody tr th {\n",
       "        vertical-align: top;\n",
       "    }\n",
       "\n",
       "    .dataframe thead th {\n",
       "        text-align: right;\n",
       "    }\n",
       "</style>\n",
       "<table border=\"1\" class=\"dataframe\">\n",
       "  <thead>\n",
       "    <tr style=\"text-align: right;\">\n",
       "      <th></th>\n",
       "      <th>day</th>\n",
       "      <th>month</th>\n",
       "      <th>Cardnum</th>\n",
       "      <th>Merchnum</th>\n",
       "      <th>Merch description</th>\n",
       "      <th>Merch state</th>\n",
       "      <th>Amount</th>\n",
       "      <th>Fraud</th>\n",
       "      <th>amount_log</th>\n",
       "      <th>Cardnum_log</th>\n",
       "      <th>Merchnum_log</th>\n",
       "      <th>Merch description_log</th>\n",
       "      <th>Merch state_log</th>\n",
       "      <th>amount_scaled</th>\n",
       "      <th>Cardnum_scaled</th>\n",
       "      <th>Merchnum_scaled</th>\n",
       "      <th>Merch description_scaled</th>\n",
       "      <th>Merch state_scaled</th>\n",
       "    </tr>\n",
       "  </thead>\n",
       "  <tbody>\n",
       "    <tr>\n",
       "      <th>0</th>\n",
       "      <td>4</td>\n",
       "      <td>1</td>\n",
       "      <td>5142190439</td>\n",
       "      <td>4975</td>\n",
       "      <td>4594</td>\n",
       "      <td>217</td>\n",
       "      <td>3.62</td>\n",
       "      <td>0</td>\n",
       "      <td>1.286502</td>\n",
       "      <td>22.360745</td>\n",
       "      <td>8.512181</td>\n",
       "      <td>8.432506</td>\n",
       "      <td>5.379898</td>\n",
       "      <td>-0.042401</td>\n",
       "      <td>-0.203839</td>\n",
       "      <td>-0.611361</td>\n",
       "      <td>-0.498148</td>\n",
       "      <td>0.974765</td>\n",
       "    </tr>\n",
       "    <tr>\n",
       "      <th>1</th>\n",
       "      <td>4</td>\n",
       "      <td>1</td>\n",
       "      <td>5142183973</td>\n",
       "      <td>6735</td>\n",
       "      <td>10393</td>\n",
       "      <td>189</td>\n",
       "      <td>31.42</td>\n",
       "      <td>0</td>\n",
       "      <td>3.447448</td>\n",
       "      <td>22.360744</td>\n",
       "      <td>8.815073</td>\n",
       "      <td>9.248888</td>\n",
       "      <td>5.241748</td>\n",
       "      <td>-0.039622</td>\n",
       "      <td>-0.319986</td>\n",
       "      <td>-0.176560</td>\n",
       "      <td>1.157666</td>\n",
       "      <td>-0.590932</td>\n",
       "    </tr>\n",
       "    <tr>\n",
       "      <th>2</th>\n",
       "      <td>4</td>\n",
       "      <td>1</td>\n",
       "      <td>5142131721</td>\n",
       "      <td>3340</td>\n",
       "      <td>8454</td>\n",
       "      <td>191</td>\n",
       "      <td>178.49</td>\n",
       "      <td>0</td>\n",
       "      <td>5.184533</td>\n",
       "      <td>22.360734</td>\n",
       "      <td>8.113726</td>\n",
       "      <td>9.042395</td>\n",
       "      <td>5.252274</td>\n",
       "      <td>-0.024924</td>\n",
       "      <td>-1.258580</td>\n",
       "      <td>-1.015281</td>\n",
       "      <td>0.604015</td>\n",
       "      <td>-0.479096</td>\n",
       "    </tr>\n",
       "    <tr>\n",
       "      <th>3</th>\n",
       "      <td>4</td>\n",
       "      <td>1</td>\n",
       "      <td>5142148452</td>\n",
       "      <td>4975</td>\n",
       "      <td>4598</td>\n",
       "      <td>217</td>\n",
       "      <td>3.62</td>\n",
       "      <td>0</td>\n",
       "      <td>1.286502</td>\n",
       "      <td>22.360737</td>\n",
       "      <td>8.512181</td>\n",
       "      <td>8.433377</td>\n",
       "      <td>5.379898</td>\n",
       "      <td>-0.042401</td>\n",
       "      <td>-0.958044</td>\n",
       "      <td>-0.611361</td>\n",
       "      <td>-0.497006</td>\n",
       "      <td>0.974765</td>\n",
       "    </tr>\n",
       "    <tr>\n",
       "      <th>4</th>\n",
       "      <td>4</td>\n",
       "      <td>1</td>\n",
       "      <td>5142190439</td>\n",
       "      <td>4975</td>\n",
       "      <td>4594</td>\n",
       "      <td>217</td>\n",
       "      <td>3.62</td>\n",
       "      <td>0</td>\n",
       "      <td>1.286502</td>\n",
       "      <td>22.360745</td>\n",
       "      <td>8.512181</td>\n",
       "      <td>8.432506</td>\n",
       "      <td>5.379898</td>\n",
       "      <td>-0.042401</td>\n",
       "      <td>-0.203839</td>\n",
       "      <td>-0.611361</td>\n",
       "      <td>-0.498148</td>\n",
       "      <td>0.974765</td>\n",
       "    </tr>\n",
       "    <tr>\n",
       "      <th>...</th>\n",
       "      <td>...</td>\n",
       "      <td>...</td>\n",
       "      <td>...</td>\n",
       "      <td>...</td>\n",
       "      <td>...</td>\n",
       "      <td>...</td>\n",
       "      <td>...</td>\n",
       "      <td>...</td>\n",
       "      <td>...</td>\n",
       "      <td>...</td>\n",
       "      <td>...</td>\n",
       "      <td>...</td>\n",
       "      <td>...</td>\n",
       "      <td>...</td>\n",
       "      <td>...</td>\n",
       "      <td>...</td>\n",
       "      <td>...</td>\n",
       "      <td>...</td>\n",
       "    </tr>\n",
       "    <tr>\n",
       "      <th>96748</th>\n",
       "      <td>4</td>\n",
       "      <td>12</td>\n",
       "      <td>5142276053</td>\n",
       "      <td>2241</td>\n",
       "      <td>1534</td>\n",
       "      <td>187</td>\n",
       "      <td>84.79</td>\n",
       "      <td>0</td>\n",
       "      <td>4.440179</td>\n",
       "      <td>22.360762</td>\n",
       "      <td>7.714678</td>\n",
       "      <td>7.335634</td>\n",
       "      <td>5.231109</td>\n",
       "      <td>-0.034289</td>\n",
       "      <td>1.334030</td>\n",
       "      <td>-1.286785</td>\n",
       "      <td>-1.371884</td>\n",
       "      <td>-0.702767</td>\n",
       "    </tr>\n",
       "    <tr>\n",
       "      <th>96749</th>\n",
       "      <td>4</td>\n",
       "      <td>12</td>\n",
       "      <td>5142225701</td>\n",
       "      <td>9925</td>\n",
       "      <td>7247</td>\n",
       "      <td>207</td>\n",
       "      <td>118.75</td>\n",
       "      <td>0</td>\n",
       "      <td>4.777021</td>\n",
       "      <td>22.360752</td>\n",
       "      <td>9.202812</td>\n",
       "      <td>8.888343</td>\n",
       "      <td>5.332719</td>\n",
       "      <td>-0.030895</td>\n",
       "      <td>0.429566</td>\n",
       "      <td>0.611517</td>\n",
       "      <td>0.259375</td>\n",
       "      <td>0.415587</td>\n",
       "    </tr>\n",
       "    <tr>\n",
       "      <th>96750</th>\n",
       "      <td>4</td>\n",
       "      <td>12</td>\n",
       "      <td>5142226486</td>\n",
       "      <td>3226</td>\n",
       "      <td>11299</td>\n",
       "      <td>207</td>\n",
       "      <td>363.56</td>\n",
       "      <td>0</td>\n",
       "      <td>5.895945</td>\n",
       "      <td>22.360752</td>\n",
       "      <td>8.078998</td>\n",
       "      <td>9.332470</td>\n",
       "      <td>5.332719</td>\n",
       "      <td>-0.006429</td>\n",
       "      <td>0.443667</td>\n",
       "      <td>-1.043445</td>\n",
       "      <td>1.416361</td>\n",
       "      <td>0.415587</td>\n",
       "    </tr>\n",
       "    <tr>\n",
       "      <th>96751</th>\n",
       "      <td>4</td>\n",
       "      <td>12</td>\n",
       "      <td>5142244619</td>\n",
       "      <td>10571</td>\n",
       "      <td>2093</td>\n",
       "      <td>174</td>\n",
       "      <td>2202.03</td>\n",
       "      <td>0</td>\n",
       "      <td>7.697135</td>\n",
       "      <td>22.360756</td>\n",
       "      <td>9.265870</td>\n",
       "      <td>7.646354</td>\n",
       "      <td>5.159056</td>\n",
       "      <td>0.177306</td>\n",
       "      <td>0.769387</td>\n",
       "      <td>0.771108</td>\n",
       "      <td>-1.212270</td>\n",
       "      <td>-1.429698</td>\n",
       "    </tr>\n",
       "    <tr>\n",
       "      <th>96752</th>\n",
       "      <td>4</td>\n",
       "      <td>12</td>\n",
       "      <td>5142243247</td>\n",
       "      <td>11477</td>\n",
       "      <td>10959</td>\n",
       "      <td>202</td>\n",
       "      <td>554.64</td>\n",
       "      <td>0</td>\n",
       "      <td>6.318319</td>\n",
       "      <td>22.360755</td>\n",
       "      <td>9.348100</td>\n",
       "      <td>9.301916</td>\n",
       "      <td>5.308268</td>\n",
       "      <td>0.012668</td>\n",
       "      <td>0.744742</td>\n",
       "      <td>0.994932</td>\n",
       "      <td>1.319279</td>\n",
       "      <td>0.135999</td>\n",
       "    </tr>\n",
       "  </tbody>\n",
       "</table>\n",
       "<p>96753 rows × 18 columns</p>\n",
       "</div>"
      ],
      "text/plain": [
       "       day  month     Cardnum  Merchnum  Merch description  Merch state  \\\n",
       "0        4      1  5142190439      4975               4594          217   \n",
       "1        4      1  5142183973      6735              10393          189   \n",
       "2        4      1  5142131721      3340               8454          191   \n",
       "3        4      1  5142148452      4975               4598          217   \n",
       "4        4      1  5142190439      4975               4594          217   \n",
       "...    ...    ...         ...       ...                ...          ...   \n",
       "96748    4     12  5142276053      2241               1534          187   \n",
       "96749    4     12  5142225701      9925               7247          207   \n",
       "96750    4     12  5142226486      3226              11299          207   \n",
       "96751    4     12  5142244619     10571               2093          174   \n",
       "96752    4     12  5142243247     11477              10959          202   \n",
       "\n",
       "        Amount  Fraud  amount_log  Cardnum_log  Merchnum_log  \\\n",
       "0         3.62      0    1.286502    22.360745      8.512181   \n",
       "1        31.42      0    3.447448    22.360744      8.815073   \n",
       "2       178.49      0    5.184533    22.360734      8.113726   \n",
       "3         3.62      0    1.286502    22.360737      8.512181   \n",
       "4         3.62      0    1.286502    22.360745      8.512181   \n",
       "...        ...    ...         ...          ...           ...   \n",
       "96748    84.79      0    4.440179    22.360762      7.714678   \n",
       "96749   118.75      0    4.777021    22.360752      9.202812   \n",
       "96750   363.56      0    5.895945    22.360752      8.078998   \n",
       "96751  2202.03      0    7.697135    22.360756      9.265870   \n",
       "96752   554.64      0    6.318319    22.360755      9.348100   \n",
       "\n",
       "       Merch description_log  Merch state_log  amount_scaled  Cardnum_scaled  \\\n",
       "0                   8.432506         5.379898      -0.042401       -0.203839   \n",
       "1                   9.248888         5.241748      -0.039622       -0.319986   \n",
       "2                   9.042395         5.252274      -0.024924       -1.258580   \n",
       "3                   8.433377         5.379898      -0.042401       -0.958044   \n",
       "4                   8.432506         5.379898      -0.042401       -0.203839   \n",
       "...                      ...              ...            ...             ...   \n",
       "96748               7.335634         5.231109      -0.034289        1.334030   \n",
       "96749               8.888343         5.332719      -0.030895        0.429566   \n",
       "96750               9.332470         5.332719      -0.006429        0.443667   \n",
       "96751               7.646354         5.159056       0.177306        0.769387   \n",
       "96752               9.301916         5.308268       0.012668        0.744742   \n",
       "\n",
       "       Merchnum_scaled  Merch description_scaled  Merch state_scaled  \n",
       "0            -0.611361                 -0.498148            0.974765  \n",
       "1            -0.176560                  1.157666           -0.590932  \n",
       "2            -1.015281                  0.604015           -0.479096  \n",
       "3            -0.611361                 -0.497006            0.974765  \n",
       "4            -0.611361                 -0.498148            0.974765  \n",
       "...                ...                       ...                 ...  \n",
       "96748        -1.286785                 -1.371884           -0.702767  \n",
       "96749         0.611517                  0.259375            0.415587  \n",
       "96750        -1.043445                  1.416361            0.415587  \n",
       "96751         0.771108                 -1.212270           -1.429698  \n",
       "96752         0.994932                  1.319279            0.135999  \n",
       "\n",
       "[96753 rows x 18 columns]"
      ]
     },
     "execution_count": 24,
     "metadata": {},
     "output_type": "execute_result"
    }
   ],
   "source": [
    "ss = StandardScaler() # object of the class StandardScaler ()\n",
    "credit_card['amount_scaled'] = ss.fit_transform(credit_card['Amount'].values.reshape(-1,1))\n",
    "credit_card['Cardnum_scaled'] = ss.fit_transform(credit_card['Cardnum'].values.reshape(-1,1))\n",
    "credit_card['Merchnum_scaled'] = ss.fit_transform(credit_card['Merchnum'].values.reshape(-1,1))\n",
    "credit_card['Merch description_scaled'] = ss.fit_transform(credit_card['Merch description'].values.reshape(-1,1))\n",
    "credit_card['Merch state_scaled'] = ss.fit_transform(credit_card['Merch state'].values.reshape(-1,1))\n",
    "\n",
    "credit_card"
   ]
  },
  {
   "cell_type": "code",
   "execution_count": 25,
   "id": "215291c6",
   "metadata": {},
   "outputs": [],
   "source": [
    "from sklearn.preprocessing import MinMaxScaler\n",
    "\n",
    "mm = MinMaxScaler() # object of the class StandardScaler ()\n",
    "credit_card['amount_minmax'] = mm.fit_transform(credit_card['Amount'].values.reshape(-1,1))\n",
    "credit_card['Cardnum_minmax'] = mm.fit_transform(credit_card['Cardnum'].values.reshape(-1,1))\n",
    "credit_card['Merchnum_minmax'] = mm.fit_transform(credit_card['Merchnum'].values.reshape(-1,1))\n",
    "credit_card['Merch description_minmax'] = mm.fit_transform(credit_card['Merch description'].values.reshape(-1,1))\n",
    "credit_card['Merch state_minmax'] = mm.fit_transform(credit_card['Merch state'].values.reshape(-1,1))"
   ]
  },
  {
   "cell_type": "code",
   "execution_count": 26,
   "id": "2d42d65e",
   "metadata": {},
   "outputs": [
    {
     "data": {
      "image/png": "[encoded data removed]",
      "text/plain": [
       "<Figure size 1152x288 with 4 Axes>"
      ]
     },
     "metadata": {
      "needs_background": "light"
     },
     "output_type": "display_data"
    }
   ],
   "source": [
    "#Feature engineering to a better visualization of the values\n",
    "\n",
    "# Let's explore the Amount by Class and see the distribuition of Amount transactions\n",
    "fig , axs = plt.subplots(nrows = 1 , ncols = 4 , figsize = (16,4))\n",
    "\n",
    "sns.boxplot(x =\"Fraud\",y=\"Amount\",data=credit_card, ax = axs[0])\n",
    "axs[0].set_title(\"Fraud vs Amount\")\n",
    "\n",
    "sns.boxplot(x =\"Fraud\",y=\"amount_log\",data=credit_card, ax = axs[1])\n",
    "axs[1].set_title(\"Fraud vs Log Amount\")\n",
    "\n",
    "sns.boxplot(x =\"Fraud\",y=\"amount_scaled\",data=credit_card, ax = axs[2])\n",
    "axs[2].set_title(\"Fraud vs Scaled Amount\")\n",
    "\n",
    "sns.boxplot(x =\"Fraud\",y=\"amount_minmax\",data=credit_card, ax = axs[3])\n",
    "axs[3].set_title(\"Fraud vs Min Max Amount\")\n",
    "\n",
    "# fig.suptitle('Amount by Class', fontsize=20)\n",
    "plt.show()\n"
   ]
  },
  {
   "cell_type": "code",
   "execution_count": 27,
   "id": "0f937bcd",
   "metadata": {},
   "outputs": [
    {
     "data": {
      "image/png": "[encoded data removed]",
      "text/plain": [
       "<Figure size 1152x288 with 4 Axes>"
      ]
     },
     "metadata": {
      "needs_background": "light"
     },
     "output_type": "display_data"
    }
   ],
   "source": [
    "fig , axs = plt.subplots(nrows = 1 , ncols = 4 , figsize = (16,4))\n",
    "\n",
    "sns.boxplot(x =\"Fraud\",y=\"Cardnum\",data=credit_card, ax = axs[0])\n",
    "axs[0].set_title(\"Fraud vs Cardnum\")\n",
    "\n",
    "sns.boxplot(x =\"Fraud\",y=\"Cardnum_log\",data=credit_card, ax = axs[1])\n",
    "axs[1].set_title(\"Fraud vs Cardnum_log\")\n",
    "\n",
    "sns.boxplot(x =\"Fraud\",y=\"Cardnum_scaled\",data=credit_card, ax = axs[2])\n",
    "axs[2].set_title(\"Fraud vs Cardnum_scaled\")\n",
    "\n",
    "sns.boxplot(x =\"Fraud\",y=\"Cardnum_minmax\",data=credit_card, ax = axs[3])\n",
    "axs[3].set_title(\"Fraud vs Cardnum_minmax\")\n",
    "\n",
    "# fig.suptitle('Amount by Class', fontsize=20)\n",
    "plt.show()\n"
   ]
  },
  {
   "cell_type": "code",
   "execution_count": 28,
   "id": "02ffb885",
   "metadata": {},
   "outputs": [
    {
     "data": {
      "image/png": "[encoded data removed]",
      "text/plain": [
       "<Figure size 1152x288 with 4 Axes>"
      ]
     },
     "metadata": {
      "needs_background": "light"
     },
     "output_type": "display_data"
    }
   ],
   "source": [
    "fig , axs = plt.subplots(nrows = 1 , ncols = 4 , figsize = (16,4))\n",
    "\n",
    "sns.boxplot(x =\"Fraud\",y=\"Merchnum\",data=credit_card, ax = axs[0])\n",
    "axs[0].set_title(\"Fraud vs Amount\")\n",
    "\n",
    "sns.boxplot(x =\"Fraud\",y=\"Merchnum_log\",data=credit_card, ax = axs[1])\n",
    "axs[1].set_title(\"Class vs Log Amount\")\n",
    "\n",
    "sns.boxplot(x =\"Fraud\",y=\"Merchnum_scaled\",data=credit_card, ax = axs[2])\n",
    "axs[2].set_title(\"Class vs Scaled Amount\")\n",
    "\n",
    "sns.boxplot(x =\"Fraud\",y=\"Merchnum_minmax\",data=credit_card, ax = axs[3])\n",
    "axs[3].set_title(\"Class vs Min Max Amount\")\n",
    "\n",
    "# fig.suptitle('Amount by Class', fontsize=20)\n",
    "plt.show()"
   ]
  },
  {
   "cell_type": "markdown",
   "id": "6b75f555",
   "metadata": {},
   "source": [
    "We can see a slight difference in the log amount of our two Classes"
   ]
  },
  {
   "cell_type": "code",
   "execution_count": 29,
   "id": "6d74caa1",
   "metadata": {},
   "outputs": [
    {
     "data": {
      "text/html": [
       "<div>\n",
       "<style scoped>\n",
       "    .dataframe tbody tr th:only-of-type {\n",
       "        vertical-align: middle;\n",
       "    }\n",
       "\n",
       "    .dataframe tbody tr th {\n",
       "        vertical-align: top;\n",
       "    }\n",
       "\n",
       "    .dataframe thead th {\n",
       "        text-align: right;\n",
       "    }\n",
       "</style>\n",
       "<table border=\"1\" class=\"dataframe\">\n",
       "  <thead>\n",
       "    <tr style=\"text-align: right;\">\n",
       "      <th></th>\n",
       "      <th>day</th>\n",
       "      <th>month</th>\n",
       "      <th>Cardnum_minmax</th>\n",
       "      <th>Merchnum_log</th>\n",
       "      <th>Merch description_log</th>\n",
       "      <th>Merch state_log</th>\n",
       "      <th>amount_log</th>\n",
       "      <th>Fraud</th>\n",
       "    </tr>\n",
       "  </thead>\n",
       "  <tbody>\n",
       "    <tr>\n",
       "      <th>0</th>\n",
       "      <td>4</td>\n",
       "      <td>1</td>\n",
       "      <td>0.109083</td>\n",
       "      <td>8.512181</td>\n",
       "      <td>8.432506</td>\n",
       "      <td>5.379898</td>\n",
       "      <td>1.286502</td>\n",
       "      <td>0</td>\n",
       "    </tr>\n",
       "    <tr>\n",
       "      <th>1</th>\n",
       "      <td>4</td>\n",
       "      <td>1</td>\n",
       "      <td>0.100314</td>\n",
       "      <td>8.815073</td>\n",
       "      <td>9.248888</td>\n",
       "      <td>5.241748</td>\n",
       "      <td>3.447448</td>\n",
       "      <td>0</td>\n",
       "    </tr>\n",
       "    <tr>\n",
       "      <th>2</th>\n",
       "      <td>4</td>\n",
       "      <td>1</td>\n",
       "      <td>0.029454</td>\n",
       "      <td>8.113726</td>\n",
       "      <td>9.042395</td>\n",
       "      <td>5.252274</td>\n",
       "      <td>5.184533</td>\n",
       "      <td>0</td>\n",
       "    </tr>\n",
       "    <tr>\n",
       "      <th>3</th>\n",
       "      <td>4</td>\n",
       "      <td>1</td>\n",
       "      <td>0.052143</td>\n",
       "      <td>8.512181</td>\n",
       "      <td>8.433377</td>\n",
       "      <td>5.379898</td>\n",
       "      <td>1.286502</td>\n",
       "      <td>0</td>\n",
       "    </tr>\n",
       "    <tr>\n",
       "      <th>4</th>\n",
       "      <td>4</td>\n",
       "      <td>1</td>\n",
       "      <td>0.109083</td>\n",
       "      <td>8.512181</td>\n",
       "      <td>8.432506</td>\n",
       "      <td>5.379898</td>\n",
       "      <td>1.286502</td>\n",
       "      <td>0</td>\n",
       "    </tr>\n",
       "    <tr>\n",
       "      <th>...</th>\n",
       "      <td>...</td>\n",
       "      <td>...</td>\n",
       "      <td>...</td>\n",
       "      <td>...</td>\n",
       "      <td>...</td>\n",
       "      <td>...</td>\n",
       "      <td>...</td>\n",
       "      <td>...</td>\n",
       "    </tr>\n",
       "    <tr>\n",
       "      <th>96748</th>\n",
       "      <td>4</td>\n",
       "      <td>12</td>\n",
       "      <td>0.225186</td>\n",
       "      <td>7.714678</td>\n",
       "      <td>7.335634</td>\n",
       "      <td>5.231109</td>\n",
       "      <td>4.440179</td>\n",
       "      <td>0</td>\n",
       "    </tr>\n",
       "    <tr>\n",
       "      <th>96749</th>\n",
       "      <td>4</td>\n",
       "      <td>12</td>\n",
       "      <td>0.156902</td>\n",
       "      <td>9.202812</td>\n",
       "      <td>8.888343</td>\n",
       "      <td>5.332719</td>\n",
       "      <td>4.777021</td>\n",
       "      <td>0</td>\n",
       "    </tr>\n",
       "    <tr>\n",
       "      <th>96750</th>\n",
       "      <td>4</td>\n",
       "      <td>12</td>\n",
       "      <td>0.157967</td>\n",
       "      <td>8.078998</td>\n",
       "      <td>9.332470</td>\n",
       "      <td>5.332719</td>\n",
       "      <td>5.895945</td>\n",
       "      <td>0</td>\n",
       "    </tr>\n",
       "    <tr>\n",
       "      <th>96751</th>\n",
       "      <td>4</td>\n",
       "      <td>12</td>\n",
       "      <td>0.182557</td>\n",
       "      <td>9.265870</td>\n",
       "      <td>7.646354</td>\n",
       "      <td>5.159056</td>\n",
       "      <td>7.697135</td>\n",
       "      <td>0</td>\n",
       "    </tr>\n",
       "    <tr>\n",
       "      <th>96752</th>\n",
       "      <td>4</td>\n",
       "      <td>12</td>\n",
       "      <td>0.180697</td>\n",
       "      <td>9.348100</td>\n",
       "      <td>9.301916</td>\n",
       "      <td>5.308268</td>\n",
       "      <td>6.318319</td>\n",
       "      <td>0</td>\n",
       "    </tr>\n",
       "  </tbody>\n",
       "</table>\n",
       "<p>96753 rows × 8 columns</p>\n",
       "</div>"
      ],
      "text/plain": [
       "       day  month  Cardnum_minmax  Merchnum_log  Merch description_log  \\\n",
       "0        4      1        0.109083      8.512181               8.432506   \n",
       "1        4      1        0.100314      8.815073               9.248888   \n",
       "2        4      1        0.029454      8.113726               9.042395   \n",
       "3        4      1        0.052143      8.512181               8.433377   \n",
       "4        4      1        0.109083      8.512181               8.432506   \n",
       "...    ...    ...             ...           ...                    ...   \n",
       "96748    4     12        0.225186      7.714678               7.335634   \n",
       "96749    4     12        0.156902      9.202812               8.888343   \n",
       "96750    4     12        0.157967      8.078998               9.332470   \n",
       "96751    4     12        0.182557      9.265870               7.646354   \n",
       "96752    4     12        0.180697      9.348100               9.301916   \n",
       "\n",
       "       Merch state_log  amount_log  Fraud  \n",
       "0             5.379898    1.286502      0  \n",
       "1             5.241748    3.447448      0  \n",
       "2             5.252274    5.184533      0  \n",
       "3             5.379898    1.286502      0  \n",
       "4             5.379898    1.286502      0  \n",
       "...                ...         ...    ...  \n",
       "96748         5.231109    4.440179      0  \n",
       "96749         5.332719    4.777021      0  \n",
       "96750         5.332719    5.895945      0  \n",
       "96751         5.159056    7.697135      0  \n",
       "96752         5.308268    6.318319      0  \n",
       "\n",
       "[96753 rows x 8 columns]"
      ]
     },
     "execution_count": 29,
     "metadata": {},
     "output_type": "execute_result"
    }
   ],
   "source": [
    "df = credit_card[['day', 'month', 'Cardnum_minmax','Merchnum_log','Merch description_log', 'Merch state_log', 'amount_log','Fraud']]\n",
    "df"
   ]
  },
  {
   "cell_type": "code",
   "execution_count": 30,
   "id": "4391e5e7",
   "metadata": {},
   "outputs": [
    {
     "name": "stdout",
     "output_type": "stream",
     "text": [
      "0    95694\n",
      "1     1059\n",
      "Name: Fraud, dtype: int64\n",
      "\n",
      "\n",
      "0    0.989055\n",
      "1    0.010945\n",
      "Name: Fraud, dtype: float64\n"
     ]
    }
   ],
   "source": [
    "print(df['Fraud'].value_counts())\n",
    "print('\\n')\n",
    "print(df['Fraud'].value_counts(normalize=True))"
   ]
  },
  {
   "cell_type": "code",
   "execution_count": 31,
   "id": "03a59671",
   "metadata": {},
   "outputs": [
    {
     "name": "stdout",
     "output_type": "stream",
     "text": [
      "Fraud Data Shape:  (1059, 8)\n",
      "Non-Fraud Data Shape:  (1059, 8)\n"
     ]
    }
   ],
   "source": [
    "#First Method of solving this problem which comes in mind will be by \n",
    "#taking same number of records of the majority class as the minority class\n",
    "fraud_data = df.loc[df[\"Fraud\"] == 1]\n",
    "non_fraud_data = df.loc[df[\"Fraud\"] == 0][:1059]\n",
    "\n",
    "#concating the above dataframes to get a single dataframe\n",
    "normal_distributed_df = pd.concat([fraud_data, non_fraud_data])\n",
    "\n",
    "# Shuffle dataframe rows\n",
    "new_df = normal_distributed_df.sample(frac=1, random_state=42)\n",
    "# setting up separate dataframes for fraud and non_fraud data for detailed analysis and comparison\n",
    "\n",
    "print(\"Fraud Data Shape: \", fraud_data.shape)\n",
    "print(\"Non-Fraud Data Shape: \", non_fraud_data.shape)"
   ]
  },
  {
   "cell_type": "code",
   "execution_count": 63,
   "id": "be435481",
   "metadata": {},
   "outputs": [
    {
     "name": "stdout",
     "output_type": "stream",
     "text": [
      "       day  month  Cardnum_minmax  Merchnum_log  Merch description_log  \\\n",
      "95234    2     12        0.068859      5.505332               7.997663   \n",
      "625      1      1        0.195043      6.794587               8.698014   \n",
      "84       6      1        0.199830      9.080915               8.145260   \n",
      "70701    0      9        0.150417      6.492240               9.373054   \n",
      "575      1      1        0.123078      9.065199               9.259797   \n",
      "...    ...    ...             ...           ...                    ...   \n",
      "62309    2      8        0.118744      9.032648               8.438583   \n",
      "36646    0      5        0.118944      8.962776               8.487352   \n",
      "62696    3      8        0.118744      7.031741               9.053102   \n",
      "50516    0      7        0.090775      8.099554               9.039671   \n",
      "907      2      1        0.146653      9.087834               8.197814   \n",
      "\n",
      "       Merch state_log  amount_log  Fraud  \n",
      "95234         5.347108    5.451897      1  \n",
      "625           5.347108    5.872118      0  \n",
      "84            5.159056    5.129899      0  \n",
      "70701         5.214936    8.591068      1  \n",
      "575           5.273000    5.837672      0  \n",
      "...                ...         ...    ...  \n",
      "62309         5.176150    7.431566      1  \n",
      "36646         5.159056    6.396930      1  \n",
      "62696         5.262691    6.396830      1  \n",
      "50516         5.252274    7.194444      1  \n",
      "907           5.267859    3.630723      0  \n",
      "\n",
      "[424 rows x 8 columns]\n"
     ]
    },
    {
     "data": {
      "text/plain": [
       "(424, 7)"
      ]
     },
     "execution_count": 63,
     "metadata": {},
     "output_type": "execute_result"
    }
   ],
   "source": [
    "#splitting the dataset\n",
    "X_train, X_test = train_test_split(new_df, test_size=0.2, random_state=42)\n",
    "\n",
    " \n",
    "pd.DataFrame(fraud_data).to_csv(\"./api/models/fraud_data.csv\", index = None)\n",
    "pd.DataFrame(X_test).to_csv(\"./api/models/X_test.csv\", index = None)\n",
    "print(X_test)\n",
    "\n",
    "X_train = X_train[X_train.Fraud == 0]\n",
    "X_train = X_train.drop(['Fraud'], axis=1)\n",
    "\n",
    "y_test = X_test['Fraud']\n",
    "X_test = X_test.drop(['Fraud'], axis=1)\n",
    "\n",
    "X_train = X_train\n",
    "X_test = X_test\n",
    "\n",
    "\n",
    "X_train.shape\n",
    "X_test.shape"
   ]
  },
  {
   "cell_type": "code",
   "execution_count": 33,
   "id": "435c75d8",
   "metadata": {},
   "outputs": [
    {
     "data": {
      "text/plain": [
       "(851, 7)"
      ]
     },
     "execution_count": 33,
     "metadata": {},
     "output_type": "execute_result"
    }
   ],
   "source": [
    "X_train.shape"
   ]
  },
  {
   "cell_type": "markdown",
   "id": "d54d802e",
   "metadata": {},
   "source": [
    "### UNDERCOMPLETE AUTOENCODER"
   ]
  },
  {
   "cell_type": "markdown",
   "id": "22a1f9ad",
   "metadata": {},
   "source": [
    "The Autoencoder model for anomaly detection has some steps as follows: \n",
    "\n",
    "Step 1 is the encoder step. The essential information is extracted by a neural network model in this step.\n",
    "\n",
    "Step 2 is the decoder step. In this step, the model reconstructs the data using the extracted information.\n",
    "\n",
    "Step 3: Iterate step 1 and step 2 to adjust the model to minimize the difference between input and reconstructed output, until we get good reconstruction results for the training dataset.\n",
    "\n",
    "Step 4: Make predictions on a dataset that includes outliers.\n",
    "\n",
    "Step 5: Set up a threshold for outliers/anomalies by comparing the differences between the autoencoder model reconstruction value and the actual value.\n",
    "\n",
    "Step 6: Identify the data points with the difference higher than the threshold to be outliers or anomalies."
   ]
  },
  {
   "cell_type": "code",
   "execution_count": 34,
   "id": "ddc317d5",
   "metadata": {},
   "outputs": [],
   "source": [
    "# 'tanh' is used for the activation function of the encoded network \n",
    "# because it has big learning steps and results in strong or higher gradients\n",
    "\n",
    "#relu is used on the bottle neck (latent low representation) \n",
    "#because model performance is better when trained with relu\n",
    "\n",
    "#sigmoid is used for binary classification and since we have \n",
    "#fraud and non fraudclass then it is good for this problem\n",
    "\n",
    "#In the input layer, we specified the shape of the dataset. "
   ]
  },
  {
   "cell_type": "code",
   "execution_count": 35,
   "id": "b67eb539",
   "metadata": {},
   "outputs": [
    {
     "name": "stderr",
     "output_type": "stream",
     "text": [
      "2022-11-21 18:08:13.878037: I tensorflow/core/platform/cpu_feature_guard.cc:193] This TensorFlow binary is optimized with oneAPI Deep Neural Network Library (oneDNN) to use the following CPU instructions in performance-critical operations:  AVX2 FMA\n",
      "To enable them in other operations, rebuild TensorFlow with the appropriate compiler flags.\n"
     ]
    }
   ],
   "source": [
    "n_features = (X_train.shape[1])\n",
    "encoder = models.Sequential(name='encoder')\n",
    "encoder.add(layer=layers.Dense(units=200, activation=activations.tanh, activity_regularizer=regularizers.l1(1e-3),input_shape=[n_features]))\n",
    "encoder.add(layer=layers.Dense(units=100, activation=activations.tanh))\n",
    "encoder.add(layer=layers.Dense(units=5, activation=activations.relu))\n",
    "\n",
    "decoder = models.Sequential(name='decoder')\n",
    "decoder.add(layer=layers.Dense(units=100, activation=activations.tanh, input_shape=[5]))\n",
    "decoder.add(layer=layers.Dense(units=200, activation=activations.tanh))\n",
    "decoder.add(layer=layers.Dense(units=n_features, activation=activations.sigmoid))\n",
    "\n",
    "autoencoder = models.Sequential([encoder, decoder])\n",
    "\n",
    "autoencoder.compile(loss=losses.MSE,optimizer=optimizers.Adam(),metrics=[metrics.mean_squared_error])"
   ]
  },
  {
   "cell_type": "code",
   "execution_count": 36,
   "id": "9bcb6443",
   "metadata": {},
   "outputs": [
    {
     "name": "stdout",
     "output_type": "stream",
     "text": [
      "Epoch 1/80\n",
      "4/4 [==============================] - 1s 66ms/step - loss: 25.1670 - mean_squared_error: 25.0399 - val_loss: 28.8688 - val_mean_squared_error: 28.7348\n",
      "Epoch 2/80\n",
      "4/4 [==============================] - 0s 11ms/step - loss: 22.9559 - mean_squared_error: 22.8287 - val_loss: 27.7167 - val_mean_squared_error: 27.5819\n",
      "Epoch 3/80\n",
      "4/4 [==============================] - 0s 11ms/step - loss: 22.3285 - mean_squared_error: 22.2005 - val_loss: 27.4649 - val_mean_squared_error: 27.3299\n",
      "Epoch 4/80\n",
      "4/4 [==============================] - 0s 12ms/step - loss: 22.2299 - mean_squared_error: 22.1021 - val_loss: 27.3769 - val_mean_squared_error: 27.2426\n",
      "Epoch 5/80\n",
      "4/4 [==============================] - 0s 10ms/step - loss: 22.2065 - mean_squared_error: 22.0797 - val_loss: 27.3377 - val_mean_squared_error: 27.2045\n",
      "Epoch 6/80\n",
      "4/4 [==============================] - 0s 11ms/step - loss: 22.1975 - mean_squared_error: 22.0724 - val_loss: 27.3174 - val_mean_squared_error: 27.1859\n",
      "Epoch 7/80\n",
      "4/4 [==============================] - 0s 11ms/step - loss: 22.1921 - mean_squared_error: 22.0694 - val_loss: 27.3054 - val_mean_squared_error: 27.1759\n",
      "Epoch 8/80\n",
      "4/4 [==============================] - 0s 18ms/step - loss: 22.1877 - mean_squared_error: 22.0678 - val_loss: 27.2974 - val_mean_squared_error: 27.1700\n",
      "Epoch 9/80\n",
      "4/4 [==============================] - 0s 12ms/step - loss: 22.1836 - mean_squared_error: 22.0669 - val_loss: 27.2913 - val_mean_squared_error: 27.1664\n",
      "Epoch 10/80\n",
      "4/4 [==============================] - 0s 11ms/step - loss: 22.1795 - mean_squared_error: 22.0663 - val_loss: 27.2864 - val_mean_squared_error: 27.1640\n",
      "Epoch 11/80\n",
      "4/4 [==============================] - 0s 10ms/step - loss: 22.1753 - mean_squared_error: 22.0659 - val_loss: 27.2822 - val_mean_squared_error: 27.1623\n",
      "Epoch 12/80\n",
      "4/4 [==============================] - 0s 10ms/step - loss: 22.1713 - mean_squared_error: 22.0656 - val_loss: 27.2784 - val_mean_squared_error: 27.1612\n",
      "Epoch 13/80\n",
      "4/4 [==============================] - 0s 10ms/step - loss: 22.1675 - mean_squared_error: 22.0655 - val_loss: 27.2747 - val_mean_squared_error: 27.1604\n",
      "Epoch 14/80\n",
      "4/4 [==============================] - 0s 10ms/step - loss: 22.1636 - mean_squared_error: 22.0654 - val_loss: 27.2712 - val_mean_squared_error: 27.1599\n",
      "Epoch 15/80\n",
      "4/4 [==============================] - 0s 11ms/step - loss: 22.1598 - mean_squared_error: 22.0653 - val_loss: 27.2680 - val_mean_squared_error: 27.1595\n",
      "Epoch 16/80\n",
      "4/4 [==============================] - 0s 10ms/step - loss: 22.1561 - mean_squared_error: 22.0652 - val_loss: 27.2651 - val_mean_squared_error: 27.1591\n",
      "Epoch 17/80\n",
      "4/4 [==============================] - 0s 10ms/step - loss: 22.1529 - mean_squared_error: 22.0651 - val_loss: 27.2629 - val_mean_squared_error: 27.1589\n",
      "Epoch 18/80\n",
      "4/4 [==============================] - 0s 10ms/step - loss: 22.1499 - mean_squared_error: 22.0651 - val_loss: 27.2607 - val_mean_squared_error: 27.1587\n",
      "Epoch 19/80\n",
      "4/4 [==============================] - 0s 10ms/step - loss: 22.1470 - mean_squared_error: 22.0651 - val_loss: 27.2585 - val_mean_squared_error: 27.1586\n",
      "Epoch 20/80\n",
      "4/4 [==============================] - 0s 10ms/step - loss: 22.1443 - mean_squared_error: 22.0650 - val_loss: 27.2564 - val_mean_squared_error: 27.1585\n",
      "Epoch 21/80\n",
      "4/4 [==============================] - 0s 11ms/step - loss: 22.1418 - mean_squared_error: 22.0650 - val_loss: 27.2543 - val_mean_squared_error: 27.1584\n",
      "Epoch 22/80\n",
      "4/4 [==============================] - 0s 10ms/step - loss: 22.1394 - mean_squared_error: 22.0650 - val_loss: 27.2523 - val_mean_squared_error: 27.1584\n",
      "Epoch 23/80\n",
      "4/4 [==============================] - 0s 12ms/step - loss: 22.1368 - mean_squared_error: 22.0649 - val_loss: 27.2505 - val_mean_squared_error: 27.1585\n",
      "Epoch 24/80\n",
      "4/4 [==============================] - 0s 11ms/step - loss: 22.1344 - mean_squared_error: 22.0649 - val_loss: 27.2494 - val_mean_squared_error: 27.1585\n",
      "Epoch 25/80\n",
      "4/4 [==============================] - 0s 10ms/step - loss: 22.1326 - mean_squared_error: 22.0649 - val_loss: 27.2482 - val_mean_squared_error: 27.1585\n",
      "Epoch 26/80\n",
      "4/4 [==============================] - 0s 12ms/step - loss: 22.1309 - mean_squared_error: 22.0649 - val_loss: 27.2466 - val_mean_squared_error: 27.1585\n",
      "Epoch 27/80\n",
      "4/4 [==============================] - 0s 10ms/step - loss: 22.1289 - mean_squared_error: 22.0649 - val_loss: 27.2450 - val_mean_squared_error: 27.1585\n",
      "Epoch 28/80\n",
      "4/4 [==============================] - 0s 10ms/step - loss: 22.1270 - mean_squared_error: 22.0649 - val_loss: 27.2434 - val_mean_squared_error: 27.1586\n",
      "Epoch 29/80\n",
      "4/4 [==============================] - 0s 10ms/step - loss: 22.1251 - mean_squared_error: 22.0649 - val_loss: 27.2423 - val_mean_squared_error: 27.1588\n",
      "Epoch 30/80\n",
      "4/4 [==============================] - 0s 11ms/step - loss: 22.1234 - mean_squared_error: 22.0649 - val_loss: 27.2413 - val_mean_squared_error: 27.1593\n",
      "Epoch 31/80\n",
      "4/4 [==============================] - 0s 11ms/step - loss: 22.1217 - mean_squared_error: 22.0649 - val_loss: 27.2405 - val_mean_squared_error: 27.1598\n",
      "Epoch 32/80\n",
      "4/4 [==============================] - 0s 12ms/step - loss: 22.1200 - mean_squared_error: 22.0649 - val_loss: 27.2396 - val_mean_squared_error: 27.1604\n",
      "Epoch 33/80\n",
      "4/4 [==============================] - 0s 12ms/step - loss: 22.1184 - mean_squared_error: 22.0650 - val_loss: 27.2389 - val_mean_squared_error: 27.1613\n",
      "Epoch 34/80\n",
      "4/4 [==============================] - 0s 13ms/step - loss: 22.1165 - mean_squared_error: 22.0650 - val_loss: 27.2386 - val_mean_squared_error: 27.1625\n",
      "Epoch 35/80\n",
      "4/4 [==============================] - 0s 11ms/step - loss: 22.1146 - mean_squared_error: 22.0651 - val_loss: 27.2390 - val_mean_squared_error: 27.1644\n",
      "Epoch 36/80\n",
      "4/4 [==============================] - 0s 14ms/step - loss: 22.1128 - mean_squared_error: 22.0652 - val_loss: 27.2401 - val_mean_squared_error: 27.1666\n",
      "Epoch 37/80\n",
      "4/4 [==============================] - 0s 11ms/step - loss: 22.1112 - mean_squared_error: 22.0653 - val_loss: 27.2415 - val_mean_squared_error: 27.1689\n",
      "Epoch 38/80\n",
      "4/4 [==============================] - 0s 11ms/step - loss: 22.1098 - mean_squared_error: 22.0654 - val_loss: 27.2430 - val_mean_squared_error: 27.1714\n",
      "Epoch 39/80\n",
      "4/4 [==============================] - 0s 14ms/step - loss: 22.1084 - mean_squared_error: 22.0654 - val_loss: 27.2446 - val_mean_squared_error: 27.1738\n",
      "Epoch 40/80\n",
      "4/4 [==============================] - 0s 12ms/step - loss: 22.1073 - mean_squared_error: 22.0654 - val_loss: 27.2461 - val_mean_squared_error: 27.1759\n",
      "Epoch 41/80\n",
      "4/4 [==============================] - 0s 13ms/step - loss: 22.1063 - mean_squared_error: 22.0654 - val_loss: 27.2468 - val_mean_squared_error: 27.1773\n",
      "Epoch 42/80\n",
      "4/4 [==============================] - 0s 12ms/step - loss: 22.1053 - mean_squared_error: 22.0654 - val_loss: 27.2473 - val_mean_squared_error: 27.1784\n",
      "Epoch 43/80\n",
      "4/4 [==============================] - 0s 10ms/step - loss: 22.1043 - mean_squared_error: 22.0654 - val_loss: 27.2483 - val_mean_squared_error: 27.1801\n",
      "Epoch 44/80\n",
      "4/4 [==============================] - 0s 11ms/step - loss: 22.1034 - mean_squared_error: 22.0653 - val_loss: 27.2503 - val_mean_squared_error: 27.1827\n",
      "Epoch 45/80\n",
      "4/4 [==============================] - 0s 11ms/step - loss: 22.1024 - mean_squared_error: 22.0653 - val_loss: 27.2538 - val_mean_squared_error: 27.1869\n",
      "Epoch 46/80\n",
      "4/4 [==============================] - 0s 12ms/step - loss: 22.1015 - mean_squared_error: 22.0654 - val_loss: 27.2585 - val_mean_squared_error: 27.1923\n",
      "Epoch 47/80\n",
      "4/4 [==============================] - 0s 11ms/step - loss: 22.1006 - mean_squared_error: 22.0654 - val_loss: 27.2654 - val_mean_squared_error: 27.1999\n",
      "Epoch 48/80\n",
      "4/4 [==============================] - 0s 11ms/step - loss: 22.0998 - mean_squared_error: 22.0654 - val_loss: 27.2710 - val_mean_squared_error: 27.2062\n",
      "Epoch 49/80\n",
      "4/4 [==============================] - 0s 12ms/step - loss: 22.0990 - mean_squared_error: 22.0654 - val_loss: 27.2777 - val_mean_squared_error: 27.2134\n",
      "Epoch 50/80\n",
      "4/4 [==============================] - 0s 12ms/step - loss: 22.0982 - mean_squared_error: 22.0654 - val_loss: 27.2824 - val_mean_squared_error: 27.2187\n",
      "Epoch 51/80\n",
      "4/4 [==============================] - 0s 12ms/step - loss: 22.0975 - mean_squared_error: 22.0653 - val_loss: 27.2821 - val_mean_squared_error: 27.2188\n",
      "Epoch 52/80\n",
      "4/4 [==============================] - 0s 12ms/step - loss: 22.0966 - mean_squared_error: 22.0651 - val_loss: 27.2745 - val_mean_squared_error: 27.2116\n",
      "Epoch 53/80\n",
      "4/4 [==============================] - 0s 11ms/step - loss: 22.0958 - mean_squared_error: 22.0649 - val_loss: 27.2666 - val_mean_squared_error: 27.2039\n",
      "Epoch 54/80\n",
      "4/4 [==============================] - 0s 10ms/step - loss: 22.0949 - mean_squared_error: 22.0646 - val_loss: 27.2592 - val_mean_squared_error: 27.1970\n",
      "Epoch 55/80\n",
      "4/4 [==============================] - 0s 11ms/step - loss: 22.0940 - mean_squared_error: 22.0644 - val_loss: 27.2559 - val_mean_squared_error: 27.1941\n",
      "Epoch 56/80\n",
      "4/4 [==============================] - 0s 11ms/step - loss: 22.0931 - mean_squared_error: 22.0642 - val_loss: 27.2518 - val_mean_squared_error: 27.1904\n",
      "Epoch 57/80\n",
      "4/4 [==============================] - 0s 12ms/step - loss: 22.0924 - mean_squared_error: 22.0641 - val_loss: 27.2496 - val_mean_squared_error: 27.1887\n",
      "Epoch 58/80\n",
      "4/4 [==============================] - 0s 13ms/step - loss: 22.0916 - mean_squared_error: 22.0639 - val_loss: 27.2482 - val_mean_squared_error: 27.1877\n",
      "Epoch 59/80\n",
      "4/4 [==============================] - 0s 12ms/step - loss: 22.0908 - mean_squared_error: 22.0638 - val_loss: 27.2511 - val_mean_squared_error: 27.1912\n",
      "Epoch 60/80\n",
      "4/4 [==============================] - 0s 30ms/step - loss: 22.0901 - mean_squared_error: 22.0637 - val_loss: 27.2574 - val_mean_squared_error: 27.1980\n",
      "Epoch 61/80\n",
      "4/4 [==============================] - 0s 11ms/step - loss: 22.0893 - mean_squared_error: 22.0637 - val_loss: 27.2629 - val_mean_squared_error: 27.2037\n",
      "Epoch 62/80\n",
      "4/4 [==============================] - 0s 12ms/step - loss: 22.0887 - mean_squared_error: 22.0637 - val_loss: 27.2645 - val_mean_squared_error: 27.2055\n",
      "Epoch 63/80\n",
      "4/4 [==============================] - 0s 13ms/step - loss: 22.0882 - mean_squared_error: 22.0636 - val_loss: 27.2577 - val_mean_squared_error: 27.1989\n",
      "Epoch 64/80\n",
      "4/4 [==============================] - 0s 12ms/step - loss: 22.0877 - mean_squared_error: 22.0635 - val_loss: 27.2516 - val_mean_squared_error: 27.1931\n",
      "Epoch 65/80\n",
      "4/4 [==============================] - 0s 13ms/step - loss: 22.0872 - mean_squared_error: 22.0635 - val_loss: 27.2495 - val_mean_squared_error: 27.1913\n",
      "Epoch 66/80\n",
      "4/4 [==============================] - 0s 12ms/step - loss: 22.0867 - mean_squared_error: 22.0634 - val_loss: 27.2518 - val_mean_squared_error: 27.1939\n",
      "Epoch 67/80\n",
      "4/4 [==============================] - 0s 12ms/step - loss: 22.0863 - mean_squared_error: 22.0634 - val_loss: 27.2532 - val_mean_squared_error: 27.1956\n",
      "Epoch 68/80\n",
      "4/4 [==============================] - 0s 12ms/step - loss: 22.0859 - mean_squared_error: 22.0634 - val_loss: 27.2524 - val_mean_squared_error: 27.1950\n",
      "Epoch 69/80\n",
      "4/4 [==============================] - 0s 11ms/step - loss: 22.0854 - mean_squared_error: 22.0634 - val_loss: 27.2502 - val_mean_squared_error: 27.1930\n",
      "Epoch 70/80\n",
      "4/4 [==============================] - 0s 11ms/step - loss: 22.0850 - mean_squared_error: 22.0633 - val_loss: 27.2482 - val_mean_squared_error: 27.1913\n",
      "Epoch 71/80\n",
      "4/4 [==============================] - 0s 11ms/step - loss: 22.0846 - mean_squared_error: 22.0633 - val_loss: 27.2485 - val_mean_squared_error: 27.1918\n",
      "Epoch 72/80\n",
      "4/4 [==============================] - 0s 11ms/step - loss: 22.0842 - mean_squared_error: 22.0633 - val_loss: 27.2502 - val_mean_squared_error: 27.1938\n",
      "Epoch 73/80\n",
      "4/4 [==============================] - 0s 13ms/step - loss: 22.0838 - mean_squared_error: 22.0633 - val_loss: 27.2494 - val_mean_squared_error: 27.1933\n",
      "Epoch 74/80\n",
      "4/4 [==============================] - 0s 13ms/step - loss: 22.0834 - mean_squared_error: 22.0633 - val_loss: 27.2488 - val_mean_squared_error: 27.1930\n",
      "Epoch 75/80\n",
      "4/4 [==============================] - 0s 13ms/step - loss: 22.0830 - mean_squared_error: 22.0633 - val_loss: 27.2520 - val_mean_squared_error: 27.1964\n",
      "Epoch 76/80\n",
      "4/4 [==============================] - 0s 13ms/step - loss: 22.0827 - mean_squared_error: 22.0633 - val_loss: 27.2533 - val_mean_squared_error: 27.1979\n",
      "Epoch 77/80\n",
      "4/4 [==============================] - 0s 14ms/step - loss: 22.0824 - mean_squared_error: 22.0633 - val_loss: 27.2529 - val_mean_squared_error: 27.1977\n",
      "Epoch 78/80\n",
      "4/4 [==============================] - 0s 13ms/step - loss: 22.0821 - mean_squared_error: 22.0632 - val_loss: 27.2491 - val_mean_squared_error: 27.1941\n",
      "Epoch 79/80\n",
      "4/4 [==============================] - 0s 13ms/step - loss: 22.0818 - mean_squared_error: 22.0632 - val_loss: 27.2476 - val_mean_squared_error: 27.1927\n",
      "Epoch 80/80\n",
      "4/4 [==============================] - 0s 11ms/step - loss: 22.0815 - mean_squared_error: 22.0632 - val_loss: 27.2475 - val_mean_squared_error: 27.1927\n"
     ]
    }
   ],
   "source": [
    "# compiling the auto encoder model  with the optimizer of adam and the loss of mse (Mean squared Error).\n",
    "#autoencoder.compile(optimizer=\"adam\", loss=\"mse\", metrics=['AUC'])\n",
    "\n",
    "#When fitting the autoencoder model, we can see that the input and output datasets are the same,\n",
    "#which is the dataset that contains only the normal data points.\n",
    "\n",
    "#The epochs of 50 and batch_size of 32 mean the model uses 32 datapoints to update the weights in each iteration, \n",
    "#and the model will go through the whole training dataset 50 times.\n",
    "\n",
    "#shuffle=True will shuffle the dataset before each epoch.\n",
    "\n",
    "# training the auto encoder model on non fraud data \n",
    "history = autoencoder.fit(X_train, X_train,batch_size=256,epochs=80,shuffle=True,validation_data=(X_test, X_test))"
   ]
  },
  {
   "cell_type": "code",
   "execution_count": 57,
   "id": "7dad350d-ac60-4e8c-9783-424e8f31093c",
   "metadata": {},
   "outputs": [
    {
     "name": "stdout",
     "output_type": "stream",
     "text": [
      "INFO:tensorflow:Assets written to: ram://c9cf2349-457f-4a99-95d9-8c3d2cb7fb1c/assets\n",
      "14/14 [==============================] - 0s 1ms/step\n",
      "[[0.99036217 0.9531359  0.1975342  ... 0.9947238  0.9916337  0.99355066]\n",
      " [0.99980116 0.9939256  0.11943313 ... 0.9999477  0.9998784  0.99991494]\n",
      " [0.9998766  0.99530846 0.11937736 ... 0.9999734  0.99992895 0.9999493 ]\n",
      " ...\n",
      " [0.9930802  0.95884234 0.18903288 ... 0.99627864 0.9940845  0.99559   ]\n",
      " [0.97276443 0.910034   0.25124148 ... 0.982451   0.97546554 0.9797981 ]\n",
      " [0.99983764 0.99457246 0.11880162 ... 0.9999605  0.9999016  0.99993014]]\n",
      "14/14 [==============================] - 0s 2ms/step - loss: 0.5262 - mean_squared_error: 0.4714\n",
      "Evaluation From traind model: [0.526172399520874, 0.47143757343292236]\n"
     ]
    }
   ],
   "source": [
    "import joblib\n",
    "\n",
    "# Save Model\n",
    "model = autoencoder\n",
    "filename = \"./api/models/Completed_model.joblib\"\n",
    "joblib.dump(model, filename)\n",
    "\n",
    "# Save columns in order\n",
    "# print(\"The X_Test\", X_test.columns)\n",
    "# print(\"The X_train\", X_train.columns)\n",
    "pd.DataFrame(X_train.columns).to_csv(\"./api/models/feature_list.csv\", index = None)\n",
    "\n",
    "pd.DataFrame(X_test).to_csv(\"./api/models/X_test.csv\", index = None)\n",
    "\n",
    "# Save data types of train set\n",
    "pd.DataFrame(X_train.dtypes).reset_index().to_csv(\"./api/models/data_types.csv\", index = None)\n",
    "\n",
    "pred1 = autoencoder.predict(X_test)\n",
    "print(pred1)\n",
    "pred1 = pd.DataFrame(pred1).to_csv('./api/models/data1.csv')\n",
    "\n",
    "loaded_model = joblib.load(filename)\n",
    "result = loaded_model.evaluate(X_test, y_test)\n",
    "print(\"Evaluation From traind model:\", result)\n"
   ]
  },
  {
   "cell_type": "code",
   "execution_count": 38,
   "id": "cfdf4ea2",
   "metadata": {},
   "outputs": [
    {
     "data": {
      "text/plain": [
       "Text(0.5, 1.0, 'Loss Curves')"
      ]
     },
     "execution_count": 38,
     "metadata": {},
     "output_type": "execute_result"
    },
    {
     "data": {
      "image/png": "[encoded data removed]",
      "text/plain": [
       "<Figure size 432x288 with 1 Axes>"
      ]
     },
     "metadata": {
      "needs_background": "light"
     },
     "output_type": "display_data"
    }
   ],
   "source": [
    "# Loss curve\n",
    "\n",
    "plt.plot(history.history[\"loss\"], \"black\", linewidth=2.0)\n",
    "plt.plot(history.history[\"val_loss\"], \"green\", linewidth=2.0)\n",
    "plt.legend([\"Training Loss\", \"Validation Loss\"], fontsize=14)\n",
    "plt.xlabel(\"Epochs\", fontsize=10)\n",
    "plt.ylabel(\"Loss\", fontsize=10)\n",
    "plt.title(\"Loss Curves\", fontsize=12)"
   ]
  },
  {
   "cell_type": "code",
   "execution_count": 39,
   "id": "62024657",
   "metadata": {},
   "outputs": [
    {
     "name": "stdout",
     "output_type": "stream",
     "text": [
      "14/14 [==============================] - 0s 1ms/step\n",
      "[[0.99036217 0.9531359  0.1975342  ... 0.9947238  0.9916337  0.99355066]\n",
      " [0.99980116 0.9939256  0.11943313 ... 0.9999477  0.9998784  0.99991494]\n",
      " [0.9998766  0.99530846 0.11937736 ... 0.9999734  0.99992895 0.9999493 ]\n",
      " ...\n",
      " [0.9930802  0.95884234 0.18903288 ... 0.99627864 0.9940845  0.99559   ]\n",
      " [0.97276443 0.910034   0.25124148 ... 0.982451   0.97546554 0.9797981 ]\n",
      " [0.99983764 0.99457246 0.11880162 ... 0.9999605  0.9999016  0.99993014]]\n"
     ]
    }
   ],
   "source": [
    "#we have an autoencoder model, let's use it to predict the outliers.\n",
    "#Firstly, we use .predict to get the reconstruction value for the testing data \n",
    "#set containing the usual data points and the outliers.\n",
    "\n",
    "\n",
    "# Predict anomalies/outliers in the training dataset\n",
    "prediction = autoencoder.predict(X_test)\n",
    "\n",
    "print(prediction)"
   ]
  },
  {
   "cell_type": "code",
   "execution_count": 40,
   "id": "d328b37a",
   "metadata": {},
   "outputs": [],
   "source": [
    "mse = np.mean(np.power(X_test - prediction, 2), axis=1)\n",
    "error_df = pd.DataFrame({'reconstruction_error': mse,\n",
    "                        'true_class': y_test})"
   ]
  },
  {
   "cell_type": "code",
   "execution_count": 41,
   "id": "34f4c67a",
   "metadata": {},
   "outputs": [
    {
     "data": {
      "text/html": [
       "<div>\n",
       "<style scoped>\n",
       "    .dataframe tbody tr th:only-of-type {\n",
       "        vertical-align: middle;\n",
       "    }\n",
       "\n",
       "    .dataframe tbody tr th {\n",
       "        vertical-align: top;\n",
       "    }\n",
       "\n",
       "    .dataframe thead th {\n",
       "        text-align: right;\n",
       "    }\n",
       "</style>\n",
       "<table border=\"1\" class=\"dataframe\">\n",
       "  <thead>\n",
       "    <tr style=\"text-align: right;\">\n",
       "      <th></th>\n",
       "      <th>reconstruction_error</th>\n",
       "      <th>true_class</th>\n",
       "    </tr>\n",
       "  </thead>\n",
       "  <tbody>\n",
       "    <tr>\n",
       "      <th>95234</th>\n",
       "      <td>33.043216</td>\n",
       "      <td>1</td>\n",
       "    </tr>\n",
       "    <tr>\n",
       "      <th>625</th>\n",
       "      <td>19.354396</td>\n",
       "      <td>0</td>\n",
       "    </tr>\n",
       "    <tr>\n",
       "      <th>84</th>\n",
       "      <td>25.102777</td>\n",
       "      <td>0</td>\n",
       "    </tr>\n",
       "    <tr>\n",
       "      <th>70701</th>\n",
       "      <td>35.201147</td>\n",
       "      <td>1</td>\n",
       "    </tr>\n",
       "    <tr>\n",
       "      <th>575</th>\n",
       "      <td>24.991009</td>\n",
       "      <td>0</td>\n",
       "    </tr>\n",
       "    <tr>\n",
       "      <th>...</th>\n",
       "      <td>...</td>\n",
       "      <td>...</td>\n",
       "    </tr>\n",
       "    <tr>\n",
       "      <th>62309</th>\n",
       "      <td>32.776058</td>\n",
       "      <td>1</td>\n",
       "    </tr>\n",
       "    <tr>\n",
       "      <th>36646</th>\n",
       "      <td>26.226202</td>\n",
       "      <td>1</td>\n",
       "    </tr>\n",
       "    <tr>\n",
       "      <th>62696</th>\n",
       "      <td>28.906763</td>\n",
       "      <td>1</td>\n",
       "    </tr>\n",
       "    <tr>\n",
       "      <th>50516</th>\n",
       "      <td>30.078243</td>\n",
       "      <td>1</td>\n",
       "    </tr>\n",
       "    <tr>\n",
       "      <th>907</th>\n",
       "      <td>20.480093</td>\n",
       "      <td>0</td>\n",
       "    </tr>\n",
       "  </tbody>\n",
       "</table>\n",
       "<p>424 rows × 2 columns</p>\n",
       "</div>"
      ],
      "text/plain": [
       "       reconstruction_error  true_class\n",
       "95234             33.043216           1\n",
       "625               19.354396           0\n",
       "84                25.102777           0\n",
       "70701             35.201147           1\n",
       "575               24.991009           0\n",
       "...                     ...         ...\n",
       "62309             32.776058           1\n",
       "36646             26.226202           1\n",
       "62696             28.906763           1\n",
       "50516             30.078243           1\n",
       "907               20.480093           0\n",
       "\n",
       "[424 rows x 2 columns]"
      ]
     },
     "execution_count": 41,
     "metadata": {},
     "output_type": "execute_result"
    }
   ],
   "source": [
    "error_df"
   ]
  },
  {
   "cell_type": "code",
   "execution_count": 42,
   "id": "6ce7cf9d",
   "metadata": {},
   "outputs": [
    {
     "data": {
      "text/html": [
       "<div>\n",
       "<style scoped>\n",
       "    .dataframe tbody tr th:only-of-type {\n",
       "        vertical-align: middle;\n",
       "    }\n",
       "\n",
       "    .dataframe tbody tr th {\n",
       "        vertical-align: top;\n",
       "    }\n",
       "\n",
       "    .dataframe thead th {\n",
       "        text-align: right;\n",
       "    }\n",
       "</style>\n",
       "<table border=\"1\" class=\"dataframe\">\n",
       "  <thead>\n",
       "    <tr style=\"text-align: right;\">\n",
       "      <th></th>\n",
       "      <th>reconstruction_error</th>\n",
       "      <th>true_class</th>\n",
       "    </tr>\n",
       "  </thead>\n",
       "  <tbody>\n",
       "    <tr>\n",
       "      <th>count</th>\n",
       "      <td>424.000000</td>\n",
       "      <td>424.000000</td>\n",
       "    </tr>\n",
       "    <tr>\n",
       "      <th>mean</th>\n",
       "      <td>27.192731</td>\n",
       "      <td>0.509434</td>\n",
       "    </tr>\n",
       "    <tr>\n",
       "      <th>std</th>\n",
       "      <td>6.809678</td>\n",
       "      <td>0.500502</td>\n",
       "    </tr>\n",
       "    <tr>\n",
       "      <th>min</th>\n",
       "      <td>10.810708</td>\n",
       "      <td>0.000000</td>\n",
       "    </tr>\n",
       "    <tr>\n",
       "      <th>25%</th>\n",
       "      <td>21.655826</td>\n",
       "      <td>0.000000</td>\n",
       "    </tr>\n",
       "    <tr>\n",
       "      <th>50%</th>\n",
       "      <td>26.246683</td>\n",
       "      <td>1.000000</td>\n",
       "    </tr>\n",
       "    <tr>\n",
       "      <th>75%</th>\n",
       "      <td>32.742380</td>\n",
       "      <td>1.000000</td>\n",
       "    </tr>\n",
       "    <tr>\n",
       "      <th>max</th>\n",
       "      <td>46.833586</td>\n",
       "      <td>1.000000</td>\n",
       "    </tr>\n",
       "  </tbody>\n",
       "</table>\n",
       "</div>"
      ],
      "text/plain": [
       "       reconstruction_error  true_class\n",
       "count            424.000000  424.000000\n",
       "mean              27.192731    0.509434\n",
       "std                6.809678    0.500502\n",
       "min               10.810708    0.000000\n",
       "25%               21.655826    0.000000\n",
       "50%               26.246683    1.000000\n",
       "75%               32.742380    1.000000\n",
       "max               46.833586    1.000000"
      ]
     },
     "execution_count": 42,
     "metadata": {},
     "output_type": "execute_result"
    }
   ],
   "source": [
    "error_df.describe()"
   ]
  },
  {
   "cell_type": "code",
   "execution_count": 43,
   "id": "3d8491e3",
   "metadata": {},
   "outputs": [
    {
     "data": {
      "text/plain": [
       "<tf.Tensor: shape=(424,), dtype=float64, numpy=\n",
       "array([33.04321562, 19.35439647, 25.10277677, 35.20114729, 24.99100923,\n",
       "       34.36535565, 35.89193769, 19.36071122, 34.57177732, 31.81954403,\n",
       "       25.76244327, 41.97372004, 34.97386329, 22.67990216, 36.75537059,\n",
       "       23.452657  , 38.54534668, 20.42520287, 20.7127539 , 28.44325895,\n",
       "       39.70710072, 21.59944824, 26.53878524, 21.80585956, 20.38586738,\n",
       "       22.62793664, 18.7281663 , 18.7281663 , 31.57937041, 34.63572687,\n",
       "       38.19563676, 24.2806314 , 31.26597848, 24.3030869 , 32.8621254 ,\n",
       "       24.54974395, 21.80174601, 31.847097  , 33.11632966, 39.91139911,\n",
       "       24.91820129, 33.75502822, 25.70760981, 18.72689085, 27.13134276,\n",
       "       26.91837818, 44.03587467, 36.88807091, 36.20315893, 29.32159283,\n",
       "       26.47767099, 35.78088808, 25.43645382, 27.04873036, 22.3939687 ,\n",
       "       22.44384574, 40.64122431, 21.60685374, 37.9392384 , 33.5846699 ,\n",
       "       23.349493  , 30.73954301, 21.48522313, 24.48643447, 33.83536172,\n",
       "       20.60918135, 30.6564978 , 27.39585628, 29.36369785, 20.5286898 ,\n",
       "       21.32725598, 24.56659584, 21.63412588, 30.48420173, 30.15854804,\n",
       "       32.97705425, 23.66293488, 22.64396443, 39.25241682, 18.7281663 ,\n",
       "       25.76308552, 23.22324932, 33.53285361, 27.07675829, 31.66454647,\n",
       "       27.06074029, 24.13998445, 31.20521688, 34.29161625, 32.35205317,\n",
       "       19.14736953, 24.90428819, 22.47228908, 20.66673624, 40.55079815,\n",
       "       18.7281663 , 31.12355482, 20.57001887, 20.0554968 , 44.02733902,\n",
       "       33.40493142, 36.93613783, 32.71547256, 25.67272933, 31.91057852,\n",
       "       22.96043523, 23.06020864, 39.37115199, 27.8375672 , 29.1280449 ,\n",
       "       17.80393054, 24.03079081, 40.23246359, 23.12681682, 31.25849166,\n",
       "       19.93513267, 21.96338961, 18.91496615, 20.90546296, 22.27956149,\n",
       "       37.87874711, 23.17112015, 19.991926  , 27.89519664, 38.43995819,\n",
       "       26.95373061, 19.18962504, 26.85298416, 25.27950775, 31.28428026,\n",
       "       23.44732181, 21.16981436, 17.17412796, 19.49683705, 33.72583171,\n",
       "       22.79181534, 25.47481769, 10.81070785, 18.27646996, 34.90434842,\n",
       "       23.9961923 , 19.18055595, 25.08847811, 29.79988953, 34.05865648,\n",
       "       21.49843566, 20.51240389, 19.71391833, 22.9264292 , 36.2200876 ,\n",
       "       20.40746042, 33.89804152, 30.48666888, 26.49722269, 30.79542856,\n",
       "       27.61932255, 30.8086879 , 21.87197001, 37.47304395, 34.46260778,\n",
       "       34.34042993, 33.87770644, 38.73274304, 23.16094628, 19.02523068,\n",
       "       13.53616111, 20.80806841, 18.87956854, 25.25536951, 18.8569416 ,\n",
       "       23.51487958, 20.8352869 , 22.14650219, 23.00546655, 35.14452948,\n",
       "       22.31211194, 21.22930181, 33.83045072, 32.09484266, 29.86406247,\n",
       "       34.66334316, 31.10999817, 45.67242723, 22.67788692, 27.27088895,\n",
       "       31.20688326, 21.68703964, 13.39454569, 33.89019506, 32.73115385,\n",
       "       36.45511009, 22.12292468, 25.19934396, 24.60156234, 33.67237519,\n",
       "       33.84820169, 31.49035438, 22.11110181, 19.77124638, 23.92388431,\n",
       "       22.69840092, 23.41824541, 34.28113759, 19.96132413, 32.25312855,\n",
       "       38.08174423, 13.01132439, 23.05305899, 26.4605909 , 20.21997345,\n",
       "       30.48533532, 27.26855529, 46.83358603, 26.09647915, 22.63202393,\n",
       "       43.85319653, 41.91968083, 20.44618409, 22.61738592, 34.19330109,\n",
       "       42.30924089, 23.73020371, 18.648449  , 27.11417804, 38.27010377,\n",
       "       21.19171202, 23.73330597, 27.20626543, 19.99251296, 40.06014155,\n",
       "       21.66580235, 27.05567619, 32.23708392, 37.53011196, 31.895277  ,\n",
       "       34.85297131, 25.14454519, 23.33412907, 21.18888711, 36.29011614,\n",
       "       20.77202785, 13.30587392, 23.94618688, 36.51030951, 14.99248923,\n",
       "       22.78811952, 21.5157726 , 36.39980199, 20.51993965, 34.42781407,\n",
       "       27.31099737, 16.01174992, 21.78030825, 22.50450308, 30.30404639,\n",
       "       17.63311239, 27.21417275, 20.70124412, 26.72048673, 31.40079743,\n",
       "       25.20492721, 19.03938929, 20.15291422, 34.71172241, 33.40979675,\n",
       "       22.21846376, 21.02463529, 29.54799836, 18.72689085, 23.69340239,\n",
       "       30.96805109, 43.54994667, 34.00355874, 26.50714137, 30.16987979,\n",
       "       26.68968726, 27.09767898, 23.7772454 , 27.32986101, 37.04590972,\n",
       "       22.49985307, 19.991926  , 21.86466647, 26.29335885, 34.55265059,\n",
       "       26.98024184, 21.77512362, 18.78991647, 21.44172614, 29.14973315,\n",
       "       19.67348403, 19.87153592, 32.17875648, 37.60069307, 18.05234605,\n",
       "       33.60402599, 36.61712485, 12.11899005, 26.77957722, 18.54916243,\n",
       "       28.68323785, 36.60225507, 37.54665158, 34.13870661, 31.75660327,\n",
       "       21.11182768, 30.16245285, 32.42452686, 18.85260933, 21.09547928,\n",
       "       18.84497611, 20.83378358, 20.00197878, 25.60759316, 18.72197348,\n",
       "       25.32896505, 19.99870114, 28.47604018, 26.45359437, 19.61992306,\n",
       "       32.24125278, 24.1994696 , 26.63187674, 30.23835559, 24.15266097,\n",
       "       24.28324689, 27.90091401, 18.94126304, 36.11457231, 23.89544776,\n",
       "       39.72410045, 32.46632118, 39.68244598, 24.02200857, 25.58824004,\n",
       "       21.66305899, 24.02062332, 30.8624315 , 22.51644296, 22.06022227,\n",
       "       35.1256121 , 19.64229745, 38.45859443, 18.78991593, 22.70778394,\n",
       "       32.85824584, 23.60704026, 34.60806218, 26.58816856, 28.95053877,\n",
       "       31.17346288, 27.30884699, 22.34480885, 38.29945139, 21.19406839,\n",
       "       19.99439291, 26.80624853, 37.19593584, 28.21347614, 33.69958433,\n",
       "       26.02199274, 36.57599296, 30.11463914, 31.9334774 , 21.24174788,\n",
       "       20.67058383, 34.01340844, 22.95448536, 16.72238739, 32.96460416,\n",
       "       26.26716517, 25.12801039, 24.17974482, 31.68925445, 20.55790297,\n",
       "       20.26871593, 41.03809678, 31.20514935, 22.40596399, 26.37072682,\n",
       "       32.96353167, 30.33948114, 33.07494989, 22.9056714 , 22.60111367,\n",
       "       29.4190269 , 22.12161186, 31.66039651, 33.69428943, 25.92504965,\n",
       "       16.33250178, 21.21374229, 18.78991593, 31.81903929, 19.99633973,\n",
       "       34.46886587, 20.17178834, 30.34463712, 21.1325063 , 26.72108299,\n",
       "       23.68500196, 19.43556549, 35.93210212, 40.12778822, 25.40602362,\n",
       "       30.67751312, 36.17069649, 19.92277146, 18.16742105, 22.93262778,\n",
       "       33.41936876, 22.41852578, 33.99211254, 27.60168314, 33.69562734,\n",
       "       20.2667076 , 26.94180016, 17.79821921, 20.13525534, 32.77605756,\n",
       "       26.22620163, 28.90676264, 30.07824322, 20.48009252])>"
      ]
     },
     "execution_count": 43,
     "metadata": {},
     "output_type": "execute_result"
    }
   ],
   "source": [
    "# Get the mean squared error between actual and reconstruction/prediction\n",
    "prediction_loss = tf.keras.losses.mse(prediction, X_test)\n",
    "prediction_loss"
   ]
  },
  {
   "cell_type": "code",
   "execution_count": 44,
   "id": "8a116b53",
   "metadata": {},
   "outputs": [
    {
     "name": "stdout",
     "output_type": "stream",
     "text": [
      "The prediction loss threshold for 50% of outliers is 26.25\n"
     ]
    }
   ],
   "source": [
    "# Check the prediction loss threshold for 50% of outliers\n",
    "loss_threshold = np.percentile(prediction_loss, 50)\n",
    "print(f'The prediction loss threshold for 50% of outliers is {loss_threshold:.2f}')"
   ]
  },
  {
   "cell_type": "code",
   "execution_count": 45,
   "id": "5014a34b",
   "metadata": {},
   "outputs": [
    {
     "data": {
      "image/png": "[encoded data removed]",
      "text/plain": [
       "<Figure size 432x288 with 1 Axes>"
      ]
     },
     "metadata": {
      "needs_background": "light"
     },
     "output_type": "display_data"
    }
   ],
   "source": [
    "#Reconstruction error with fraud\n",
    "\n",
    "fig = plt.figure()\n",
    "ax = fig.add_subplot(111)\n",
    "fraud_error_df = error_df[error_df['true_class'] == 1.0]\n",
    "_ = ax.hist(fraud_error_df.reconstruction_error.values, bins=10)"
   ]
  },
  {
   "cell_type": "code",
   "execution_count": 46,
   "id": "b415a4cc",
   "metadata": {},
   "outputs": [
    {
     "data": {
      "text/plain": [
       "[1,\n",
       " 0,\n",
       " 0,\n",
       " 1,\n",
       " 0,\n",
       " 1,\n",
       " 1,\n",
       " 0,\n",
       " 1,\n",
       " 1,\n",
       " 0,\n",
       " 1,\n",
       " 1,\n",
       " 0,\n",
       " 1,\n",
       " 0,\n",
       " 1,\n",
       " 0,\n",
       " 0,\n",
       " 1,\n",
       " 1,\n",
       " 0,\n",
       " 1,\n",
       " 0,\n",
       " 0,\n",
       " 0,\n",
       " 0,\n",
       " 0,\n",
       " 1,\n",
       " 1,\n",
       " 1,\n",
       " 0,\n",
       " 1,\n",
       " 0,\n",
       " 1,\n",
       " 0,\n",
       " 0,\n",
       " 1,\n",
       " 1,\n",
       " 1,\n",
       " 0,\n",
       " 1,\n",
       " 0,\n",
       " 0,\n",
       " 1,\n",
       " 1,\n",
       " 1,\n",
       " 1,\n",
       " 1,\n",
       " 1,\n",
       " 1,\n",
       " 1,\n",
       " 0,\n",
       " 1,\n",
       " 0,\n",
       " 0,\n",
       " 1,\n",
       " 0,\n",
       " 1,\n",
       " 1,\n",
       " 0,\n",
       " 1,\n",
       " 0,\n",
       " 0,\n",
       " 1,\n",
       " 0,\n",
       " 1,\n",
       " 1,\n",
       " 1,\n",
       " 0,\n",
       " 0,\n",
       " 0,\n",
       " 0,\n",
       " 1,\n",
       " 1,\n",
       " 1,\n",
       " 0,\n",
       " 0,\n",
       " 1,\n",
       " 0,\n",
       " 0,\n",
       " 0,\n",
       " 1,\n",
       " 1,\n",
       " 1,\n",
       " 1,\n",
       " 0,\n",
       " 1,\n",
       " 1,\n",
       " 1,\n",
       " 0,\n",
       " 0,\n",
       " 0,\n",
       " 0,\n",
       " 1,\n",
       " 0,\n",
       " 1,\n",
       " 0,\n",
       " 0,\n",
       " 1,\n",
       " 1,\n",
       " 1,\n",
       " 1,\n",
       " 0,\n",
       " 1,\n",
       " 0,\n",
       " 0,\n",
       " 1,\n",
       " 1,\n",
       " 1,\n",
       " 0,\n",
       " 0,\n",
       " 1,\n",
       " 0,\n",
       " 1,\n",
       " 0,\n",
       " 0,\n",
       " 0,\n",
       " 0,\n",
       " 0,\n",
       " 1,\n",
       " 0,\n",
       " 0,\n",
       " 1,\n",
       " 1,\n",
       " 1,\n",
       " 0,\n",
       " 1,\n",
       " 0,\n",
       " 1,\n",
       " 0,\n",
       " 0,\n",
       " 0,\n",
       " 0,\n",
       " 1,\n",
       " 0,\n",
       " 0,\n",
       " 0,\n",
       " 0,\n",
       " 1,\n",
       " 0,\n",
       " 0,\n",
       " 0,\n",
       " 1,\n",
       " 1,\n",
       " 0,\n",
       " 0,\n",
       " 0,\n",
       " 0,\n",
       " 1,\n",
       " 0,\n",
       " 1,\n",
       " 1,\n",
       " 1,\n",
       " 1,\n",
       " 1,\n",
       " 1,\n",
       " 0,\n",
       " 1,\n",
       " 1,\n",
       " 1,\n",
       " 1,\n",
       " 1,\n",
       " 0,\n",
       " 0,\n",
       " 0,\n",
       " 0,\n",
       " 0,\n",
       " 0,\n",
       " 0,\n",
       " 0,\n",
       " 0,\n",
       " 0,\n",
       " 0,\n",
       " 1,\n",
       " 0,\n",
       " 0,\n",
       " 1,\n",
       " 1,\n",
       " 1,\n",
       " 1,\n",
       " 1,\n",
       " 1,\n",
       " 0,\n",
       " 1,\n",
       " 1,\n",
       " 0,\n",
       " 0,\n",
       " 1,\n",
       " 1,\n",
       " 1,\n",
       " 0,\n",
       " 0,\n",
       " 0,\n",
       " 1,\n",
       " 1,\n",
       " 1,\n",
       " 0,\n",
       " 0,\n",
       " 0,\n",
       " 0,\n",
       " 0,\n",
       " 1,\n",
       " 0,\n",
       " 1,\n",
       " 1,\n",
       " 0,\n",
       " 0,\n",
       " 1,\n",
       " 0,\n",
       " 1,\n",
       " 1,\n",
       " 1,\n",
       " 0,\n",
       " 0,\n",
       " 1,\n",
       " 1,\n",
       " 0,\n",
       " 0,\n",
       " 1,\n",
       " 1,\n",
       " 0,\n",
       " 0,\n",
       " 1,\n",
       " 1,\n",
       " 0,\n",
       " 0,\n",
       " 1,\n",
       " 0,\n",
       " 1,\n",
       " 0,\n",
       " 1,\n",
       " 1,\n",
       " 1,\n",
       " 1,\n",
       " 1,\n",
       " 0,\n",
       " 0,\n",
       " 0,\n",
       " 1,\n",
       " 0,\n",
       " 0,\n",
       " 0,\n",
       " 1,\n",
       " 0,\n",
       " 0,\n",
       " 0,\n",
       " 1,\n",
       " 0,\n",
       " 1,\n",
       " 1,\n",
       " 0,\n",
       " 0,\n",
       " 0,\n",
       " 1,\n",
       " 0,\n",
       " 1,\n",
       " 0,\n",
       " 1,\n",
       " 1,\n",
       " 0,\n",
       " 0,\n",
       " 0,\n",
       " 1,\n",
       " 1,\n",
       " 0,\n",
       " 0,\n",
       " 1,\n",
       " 0,\n",
       " 0,\n",
       " 1,\n",
       " 1,\n",
       " 1,\n",
       " 1,\n",
       " 1,\n",
       " 1,\n",
       " 1,\n",
       " 0,\n",
       " 1,\n",
       " 1,\n",
       " 0,\n",
       " 0,\n",
       " 0,\n",
       " 1,\n",
       " 1,\n",
       " 1,\n",
       " 0,\n",
       " 0,\n",
       " 0,\n",
       " 1,\n",
       " 0,\n",
       " 0,\n",
       " 1,\n",
       " 1,\n",
       " 0,\n",
       " 1,\n",
       " 1,\n",
       " 0,\n",
       " 1,\n",
       " 0,\n",
       " 1,\n",
       " 1,\n",
       " 1,\n",
       " 1,\n",
       " 1,\n",
       " 0,\n",
       " 1,\n",
       " 1,\n",
       " 0,\n",
       " 0,\n",
       " 0,\n",
       " 0,\n",
       " 0,\n",
       " 0,\n",
       " 0,\n",
       " 0,\n",
       " 0,\n",
       " 1,\n",
       " 1,\n",
       " 0,\n",
       " 1,\n",
       " 0,\n",
       " 1,\n",
       " 1,\n",
       " 0,\n",
       " 0,\n",
       " 1,\n",
       " 0,\n",
       " 1,\n",
       " 0,\n",
       " 1,\n",
       " 1,\n",
       " 1,\n",
       " 0,\n",
       " 0,\n",
       " 0,\n",
       " 0,\n",
       " 1,\n",
       " 0,\n",
       " 0,\n",
       " 1,\n",
       " 0,\n",
       " 1,\n",
       " 0,\n",
       " 0,\n",
       " 1,\n",
       " 0,\n",
       " 1,\n",
       " 1,\n",
       " 1,\n",
       " 1,\n",
       " 1,\n",
       " 0,\n",
       " 1,\n",
       " 0,\n",
       " 0,\n",
       " 1,\n",
       " 1,\n",
       " 1,\n",
       " 1,\n",
       " 0,\n",
       " 1,\n",
       " 1,\n",
       " 1,\n",
       " 0,\n",
       " 0,\n",
       " 1,\n",
       " 0,\n",
       " 0,\n",
       " 1,\n",
       " 1,\n",
       " 0,\n",
       " 0,\n",
       " 1,\n",
       " 0,\n",
       " 0,\n",
       " 1,\n",
       " 1,\n",
       " 0,\n",
       " 1,\n",
       " 1,\n",
       " 1,\n",
       " 1,\n",
       " 0,\n",
       " 0,\n",
       " 1,\n",
       " 0,\n",
       " 1,\n",
       " 1,\n",
       " 0,\n",
       " 0,\n",
       " 0,\n",
       " 0,\n",
       " 1,\n",
       " 0,\n",
       " 1,\n",
       " 0,\n",
       " 1,\n",
       " 0,\n",
       " 1,\n",
       " 0,\n",
       " 0,\n",
       " 1,\n",
       " 1,\n",
       " 0,\n",
       " 1,\n",
       " 1,\n",
       " 0,\n",
       " 0,\n",
       " 0,\n",
       " 1,\n",
       " 0,\n",
       " 1,\n",
       " 1,\n",
       " 1,\n",
       " 0,\n",
       " 1,\n",
       " 0,\n",
       " 0,\n",
       " 1,\n",
       " 0,\n",
       " 1,\n",
       " 1,\n",
       " 0]"
      ]
     },
     "execution_count": 46,
     "metadata": {},
     "output_type": "execute_result"
    }
   ],
   "source": [
    "# Check the model performance at 50% threshold\n",
    "threshold_prediction = [0 if i < loss_threshold else 1 for i in prediction_loss]\n",
    "threshold_prediction"
   ]
  },
  {
   "cell_type": "code",
   "execution_count": 47,
   "id": "7218ebe7",
   "metadata": {},
   "outputs": [],
   "source": [
    "from sklearn.metrics import (confusion_matrix, precision_recall_curve, auc,\n",
    "                             roc_curve, recall_score, classification_report, f1_score,\n",
    "                             precision_recall_fscore_support)"
   ]
  },
  {
   "cell_type": "code",
   "execution_count": 48,
   "id": "7e9cc409",
   "metadata": {
    "scrolled": true
   },
   "outputs": [
    {
     "data": {
      "image/png": "[encoded data removed]",
      "text/plain": [
       "<Figure size 432x288 with 1 Axes>"
      ]
     },
     "metadata": {
      "needs_background": "light"
     },
     "output_type": "display_data"
    }
   ],
   "source": [
    "fpr, tpr, thresholds = roc_curve(error_df.true_class, error_df.reconstruction_error)\n",
    "roc_auc = auc(fpr, tpr)\n",
    "\n",
    "plt.title('Receiver Operating Characteristic')\n",
    "plt.plot(fpr, tpr, label='AUC = %0.4f'% roc_auc)\n",
    "plt.legend(loc='lower right')\n",
    "plt.plot([0,1],[0,1],'r--')\n",
    "plt.xlim([-0.001, 1])\n",
    "plt.ylim([0, 1.001])\n",
    "plt.ylabel('True Positive Rate')\n",
    "plt.xlabel('False Positive Rate')\n",
    "plt.show()"
   ]
  },
  {
   "cell_type": "code",
   "execution_count": 49,
   "id": "931bd1e1",
   "metadata": {},
   "outputs": [
    {
     "data": {
      "image/png": "[encoded data removed]",
      "text/plain": [
       "<Figure size 432x288 with 1 Axes>"
      ]
     },
     "metadata": {
      "needs_background": "light"
     },
     "output_type": "display_data"
    }
   ],
   "source": [
    "precision, recall,th= precision_recall_curve(error_df.true_class, error_df.reconstruction_error)\n",
    "plt.plot(recall, precision, 'b', label='Precision-Recall curve')\n",
    "plt.title('Recall vs Precision')\n",
    "plt.xlabel('Recall')\n",
    "plt.ylabel('Precision')\n",
    "plt.show()"
   ]
  },
  {
   "cell_type": "code",
   "execution_count": 50,
   "id": "3d2950b8",
   "metadata": {},
   "outputs": [
    {
     "data": {
      "image/png": "[encoded data removed]",
      "text/plain": [
       "<Figure size 432x288 with 1 Axes>"
      ]
     },
     "metadata": {
      "needs_background": "light"
     },
     "output_type": "display_data"
    }
   ],
   "source": [
    "plt.plot(th, precision[1:], 'b', label='Threshold-Precision curve')\n",
    "plt.title('Precision for different threshold values')\n",
    "plt.xlabel('Threshold')\n",
    "plt.ylabel('Precision')\n",
    "plt.show()"
   ]
  },
  {
   "cell_type": "code",
   "execution_count": 51,
   "id": "bc47c139",
   "metadata": {},
   "outputs": [
    {
     "data": {
      "image/png": "[encoded data removed]",
      "text/plain": [
       "<Figure size 432x288 with 1 Axes>"
      ]
     },
     "metadata": {
      "needs_background": "light"
     },
     "output_type": "display_data"
    }
   ],
   "source": [
    "plt.plot(th, recall[1:], 'b', label='Threshold-Recall curve')\n",
    "plt.title('Recall for different threshold values')\n",
    "plt.xlabel('Reconstruction error')\n",
    "plt.ylabel('Recall')\n",
    "plt.show()"
   ]
  },
  {
   "cell_type": "code",
   "execution_count": 52,
   "id": "65767a5c",
   "metadata": {},
   "outputs": [],
   "source": [
    "threshold = 26.20"
   ]
  },
  {
   "cell_type": "code",
   "execution_count": 53,
   "id": "9aa7dabc",
   "metadata": {},
   "outputs": [],
   "source": [
    "pred_y = [1 if e > threshold else 0 for e in error_df.reconstruction_error.values]"
   ]
  },
  {
   "cell_type": "code",
   "execution_count": 54,
   "id": "17efce9f",
   "metadata": {},
   "outputs": [],
   "source": [
    "predictions = pd.DataFrame({'true': error_df.true_class,\n",
    "                           'predicted': pred_y})"
   ]
  },
  {
   "cell_type": "code",
   "execution_count": 55,
   "id": "83a12500",
   "metadata": {},
   "outputs": [
    {
     "data": {
      "image/png": "[encoded data removed]",
      "text/plain": [
       "<Figure size 864x864 with 2 Axes>"
      ]
     },
     "metadata": {
      "needs_background": "light"
     },
     "output_type": "display_data"
    }
   ],
   "source": [
    "conf_matrix = confusion_matrix(error_df.true_class, pred_y)\n",
    "conf_matrix\n",
    "plt.figure(figsize=(12, 12))\n",
    "LABELS = ['Normal', 'Fraud']\n",
    "sns.heatmap(conf_matrix, xticklabels=LABELS, yticklabels=LABELS, annot=True, fmt=\"d\");\n",
    "plt.title(\"Confusion matrix\")\n",
    "plt.ylabel('True class')\n",
    "plt.xlabel('Predicted class')\n",
    "plt.show()"
   ]
  },
  {
   "cell_type": "code",
   "execution_count": 56,
   "id": "f6b062b5",
   "metadata": {},
   "outputs": [
    {
     "name": "stdout",
     "output_type": "stream",
     "text": [
      "              precision    recall  f1-score   support\n",
      "\n",
      "           0       0.89      0.90      0.90       208\n",
      "           1       0.91      0.89      0.90       216\n",
      "\n",
      "    accuracy                           0.90       424\n",
      "   macro avg       0.90      0.90      0.90       424\n",
      "weighted avg       0.90      0.90      0.90       424\n",
      "\n"
     ]
    }
   ],
   "source": [
    "# Check the prediction performance\n",
    "print(classification_report(y_test, pred_y))"
   ]
  },
  {
   "cell_type": "code",
   "execution_count": null,
   "id": "441cebc8",
   "metadata": {},
   "outputs": [],
   "source": []
  },
  {
   "cell_type": "code",
   "execution_count": null,
   "id": "5fbccc46-5127-4063-972c-541a669e0c02",
   "metadata": {},
   "outputs": [],
   "source": []
  }
 ],
 "metadata": {
  "kernelspec": {
   "display_name": "Python 3 (ipykernel)",
   "language": "python",
   "name": "python3"
  },
  "language_info": {
   "codemirror_mode": {
    "name": "ipython",
    "version": 3
   },
   "file_extension": ".py",
   "mimetype": "text/x-python",
   "name": "python",
   "nbconvert_exporter": "python",
   "pygments_lexer": "ipython3",
   "version": "3.9.10"
  }
 },
 "nbformat": 4,
 "nbformat_minor": 5
}
