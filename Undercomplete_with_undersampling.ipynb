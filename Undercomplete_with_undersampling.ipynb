{
 "cells": [
  {
   "cell_type": "markdown",
   "id": "9556156e",
   "metadata": {},
   "source": [
    "### IMPORT LIBRARIES"
   ]
  },
  {
   "cell_type": "code",
   "execution_count": 114,
   "id": "80e63cc4",
   "metadata": {},
   "outputs": [],
   "source": [
    "import numpy as np\n",
    "import pandas as pd\n",
    "import matplotlib.pyplot as plt\n",
    "import seaborn as sns\n",
    "\n",
    "# scikit-learn\n",
    "from sklearn.manifold import TSNE\n",
    "from sklearn.model_selection import train_test_split\n",
    "from sklearn.ensemble import IsolationForest\n",
    "\n",
    "\n",
    "# evaluation metrics\n",
    "from sklearn.metrics import classification_report, accuracy_score\n",
    "from sklearn.metrics import average_precision_score\n",
    "from sklearn.metrics import roc_auc_score\n",
    "\n",
    "\n",
    "\n",
    "# scaling\n",
    "from sklearn.preprocessing import StandardScaler\n",
    "from sklearn.preprocessing import LabelEncoder\n",
    "\n",
    "# autoencoder\n",
    "import tensorflow as tf\n",
    "from tensorflow import keras\n",
    "\n",
    "# deep learning\n",
    "from keras.models import Model, Sequential\n",
    "from keras import regularizers\n",
    "from keras.layers import (\n",
    "    Input,\n",
    "    Conv1D,\n",
    "    MaxPooling1D,\n",
    "    Dense,\n",
    "    Flatten,\n",
    "    Dropout,\n",
    "    BatchNormalization,\n",
    ")\n",
    "from keras.optimizers import Adam\n",
    "import tensorflow \n",
    "from tensorflow.keras.layers import Dense\n",
    "from tensorflow.keras.models import Model\n",
    "from tensorflow.keras import models,layers,activations,losses,optimizers,metrics\n",
    "from tensorflow.keras.callbacks import EarlyStopping"
   ]
  },
  {
   "cell_type": "markdown",
   "id": "ef05e488",
   "metadata": {},
   "source": [
    "### LOADING DATASET"
   ]
  },
  {
   "cell_type": "code",
   "execution_count": 57,
   "id": "8504799a",
   "metadata": {},
   "outputs": [],
   "source": [
    "credit_card = pd.read_excel(\"card transactions.xlsx\")"
   ]
  },
  {
   "cell_type": "markdown",
   "id": "b3cc5ca2",
   "metadata": {},
   "source": [
    "### DATA PREPROCESSING "
   ]
  },
  {
   "cell_type": "code",
   "execution_count": 58,
   "id": "f7ba61c3",
   "metadata": {},
   "outputs": [
    {
     "data": {
      "text/plain": [
       "(96753, 10)"
      ]
     },
     "execution_count": 58,
     "metadata": {},
     "output_type": "execute_result"
    }
   ],
   "source": [
    "credit_card.shape"
   ]
  },
  {
   "cell_type": "code",
   "execution_count": 59,
   "id": "c37f3e61",
   "metadata": {
    "scrolled": true
   },
   "outputs": [
    {
     "name": "stdout",
     "output_type": "stream",
     "text": [
      "<class 'pandas.core.frame.DataFrame'>\n",
      "RangeIndex: 96753 entries, 0 to 96752\n",
      "Data columns (total 10 columns):\n",
      " #   Column             Non-Null Count  Dtype         \n",
      "---  ------             --------------  -----         \n",
      " 0   Recnum             96753 non-null  int64         \n",
      " 1   Cardnum            96753 non-null  int64         \n",
      " 2   Date               96753 non-null  datetime64[ns]\n",
      " 3   Merchnum           93378 non-null  object        \n",
      " 4   Merch description  96753 non-null  object        \n",
      " 5   Merch state        95558 non-null  object        \n",
      " 6   Merch zip          92097 non-null  float64       \n",
      " 7   Transtype          96753 non-null  object        \n",
      " 8   Amount             96753 non-null  float64       \n",
      " 9   Fraud              96753 non-null  int64         \n",
      "dtypes: datetime64[ns](1), float64(2), int64(3), object(4)\n",
      "memory usage: 7.4+ MB\n"
     ]
    }
   ],
   "source": [
    "credit_card.info()"
   ]
  },
  {
   "cell_type": "markdown",
   "id": "9b408817",
   "metadata": {},
   "source": [
    "### EXTRACT DAY AND MONTH FOR FURTHER ANALYSIS"
   ]
  },
  {
   "cell_type": "code",
   "execution_count": 60,
   "id": "1eeb6e74",
   "metadata": {},
   "outputs": [],
   "source": [
    "day =pd.to_datetime(credit_card['Date']).dt.dayofweek\n",
    "month =pd.to_datetime(credit_card['Date']).dt.month\n",
    "credit_card.insert(1, 'day', day)\n",
    "credit_card.insert(2, 'month', month)"
   ]
  },
  {
   "cell_type": "markdown",
   "id": "022c42dd",
   "metadata": {},
   "source": [
    "### DELETING IRRELEVANT COLUMNS"
   ]
  },
  {
   "cell_type": "code",
   "execution_count": 61,
   "id": "08d006a3",
   "metadata": {},
   "outputs": [],
   "source": [
    "credit_card = credit_card.drop('Date', axis = 1)\n",
    "credit_card = credit_card.drop('Recnum', axis = 1)\n",
    "credit_card = credit_card.drop('Transtype', axis = 1)\n",
    "credit_card = credit_card.drop('Merch zip', axis = 1)"
   ]
  },
  {
   "cell_type": "markdown",
   "id": "50c70308",
   "metadata": {},
   "source": [
    "### CHECKING FOR NULL VALUES"
   ]
  },
  {
   "cell_type": "code",
   "execution_count": 62,
   "id": "4eb0f834",
   "metadata": {
    "scrolled": true
   },
   "outputs": [
    {
     "data": {
      "text/plain": [
       "day                     0\n",
       "month                   0\n",
       "Cardnum                 0\n",
       "Merchnum             3375\n",
       "Merch description       0\n",
       "Merch state          1195\n",
       "Amount                  0\n",
       "Fraud                   0\n",
       "dtype: int64"
      ]
     },
     "execution_count": 62,
     "metadata": {},
     "output_type": "execute_result"
    }
   ],
   "source": [
    "credit_card.isnull().sum()"
   ]
  },
  {
   "cell_type": "markdown",
   "id": "a140c6c6",
   "metadata": {},
   "source": [
    "### DROP THE NULL VALUES"
   ]
  },
  {
   "cell_type": "code",
   "execution_count": 63,
   "id": "06aba505",
   "metadata": {},
   "outputs": [],
   "source": [
    "credit_card['Merchnum'] = credit_card['Merchnum'].dropna()\n",
    "credit_card['Merch state'] = credit_card['Merch state'].dropna()"
   ]
  },
  {
   "cell_type": "code",
   "execution_count": 64,
   "id": "120406a9",
   "metadata": {},
   "outputs": [
    {
     "data": {
      "text/plain": [
       "day                     0\n",
       "month                   0\n",
       "Cardnum                 0\n",
       "Merchnum             3375\n",
       "Merch description       0\n",
       "Merch state          1195\n",
       "Amount                  0\n",
       "Fraud                   0\n",
       "dtype: int64"
      ]
     },
     "execution_count": 64,
     "metadata": {},
     "output_type": "execute_result"
    }
   ],
   "source": [
    "credit_card.isnull().sum()"
   ]
  },
  {
   "cell_type": "code",
   "execution_count": 65,
   "id": "6ad21154",
   "metadata": {},
   "outputs": [
    {
     "data": {
      "text/html": [
       "<div>\n",
       "<style scoped>\n",
       "    .dataframe tbody tr th:only-of-type {\n",
       "        vertical-align: middle;\n",
       "    }\n",
       "\n",
       "    .dataframe tbody tr th {\n",
       "        vertical-align: top;\n",
       "    }\n",
       "\n",
       "    .dataframe thead th {\n",
       "        text-align: right;\n",
       "    }\n",
       "</style>\n",
       "<table border=\"1\" class=\"dataframe\">\n",
       "  <thead>\n",
       "    <tr style=\"text-align: right;\">\n",
       "      <th></th>\n",
       "      <th>day</th>\n",
       "      <th>month</th>\n",
       "      <th>Amount</th>\n",
       "    </tr>\n",
       "  </thead>\n",
       "  <tbody>\n",
       "    <tr>\n",
       "      <th>count</th>\n",
       "      <td>96753.000000</td>\n",
       "      <td>96753.000000</td>\n",
       "      <td>9.675300e+04</td>\n",
       "    </tr>\n",
       "    <tr>\n",
       "      <th>mean</th>\n",
       "      <td>2.563218</td>\n",
       "      <td>6.327215</td>\n",
       "      <td>4.278857e+02</td>\n",
       "    </tr>\n",
       "    <tr>\n",
       "      <th>std</th>\n",
       "      <td>2.101681</td>\n",
       "      <td>3.241349</td>\n",
       "      <td>1.000614e+04</td>\n",
       "    </tr>\n",
       "    <tr>\n",
       "      <th>min</th>\n",
       "      <td>0.000000</td>\n",
       "      <td>1.000000</td>\n",
       "      <td>1.000000e-02</td>\n",
       "    </tr>\n",
       "    <tr>\n",
       "      <th>25%</th>\n",
       "      <td>1.000000</td>\n",
       "      <td>4.000000</td>\n",
       "      <td>3.348000e+01</td>\n",
       "    </tr>\n",
       "    <tr>\n",
       "      <th>50%</th>\n",
       "      <td>2.000000</td>\n",
       "      <td>6.000000</td>\n",
       "      <td>1.379800e+02</td>\n",
       "    </tr>\n",
       "    <tr>\n",
       "      <th>75%</th>\n",
       "      <td>5.000000</td>\n",
       "      <td>9.000000</td>\n",
       "      <td>4.282000e+02</td>\n",
       "    </tr>\n",
       "    <tr>\n",
       "      <th>max</th>\n",
       "      <td>6.000000</td>\n",
       "      <td>12.000000</td>\n",
       "      <td>3.102046e+06</td>\n",
       "    </tr>\n",
       "  </tbody>\n",
       "</table>\n",
       "</div>"
      ],
      "text/plain": [
       "                day         month        Amount\n",
       "count  96753.000000  96753.000000  9.675300e+04\n",
       "mean       2.563218      6.327215  4.278857e+02\n",
       "std        2.101681      3.241349  1.000614e+04\n",
       "min        0.000000      1.000000  1.000000e-02\n",
       "25%        1.000000      4.000000  3.348000e+01\n",
       "50%        2.000000      6.000000  1.379800e+02\n",
       "75%        5.000000      9.000000  4.282000e+02\n",
       "max        6.000000     12.000000  3.102046e+06"
      ]
     },
     "execution_count": 65,
     "metadata": {},
     "output_type": "execute_result"
    }
   ],
   "source": [
    "credit_card[['day', 'month','Amount']].describe()"
   ]
  },
  {
   "cell_type": "markdown",
   "id": "62d63d68",
   "metadata": {},
   "source": [
    "### UNIQUE VALUES"
   ]
  },
  {
   "cell_type": "code",
   "execution_count": 66,
   "id": "c7c400a8",
   "metadata": {},
   "outputs": [
    {
     "data": {
      "text/plain": [
       "{'day': 7,\n",
       " 'month': 12,\n",
       " 'Cardnum': 1645,\n",
       " 'Merchnum': 13092,\n",
       " 'Merch description': 13126,\n",
       " 'Merch state': 228,\n",
       " 'Amount': 34909,\n",
       " 'Fraud': 2}"
      ]
     },
     "execution_count": 66,
     "metadata": {},
     "output_type": "execute_result"
    }
   ],
   "source": [
    "dict_unique = {}\n",
    "for i in credit_card.columns.to_list():\n",
    "    dict_unique[i]=len(credit_card[i].unique())\n",
    "dict_unique"
   ]
  },
  {
   "cell_type": "markdown",
   "id": "df484be8",
   "metadata": {},
   "source": [
    "### CHECKING FOR DUPLICATES"
   ]
  },
  {
   "cell_type": "code",
   "execution_count": 67,
   "id": "1b192349",
   "metadata": {},
   "outputs": [
    {
     "data": {
      "text/plain": [
       "6898"
      ]
     },
     "execution_count": 67,
     "metadata": {},
     "output_type": "execute_result"
    }
   ],
   "source": [
    "credit_card.duplicated().sum()"
   ]
  },
  {
   "cell_type": "markdown",
   "id": "b8491b40",
   "metadata": {},
   "source": [
    "### STATISTICS SUMMARY"
   ]
  },
  {
   "cell_type": "code",
   "execution_count": 68,
   "id": "08ca4503",
   "metadata": {},
   "outputs": [
    {
     "data": {
      "text/html": [
       "<div>\n",
       "<style scoped>\n",
       "    .dataframe tbody tr th:only-of-type {\n",
       "        vertical-align: middle;\n",
       "    }\n",
       "\n",
       "    .dataframe tbody tr th {\n",
       "        vertical-align: top;\n",
       "    }\n",
       "\n",
       "    .dataframe thead th {\n",
       "        text-align: right;\n",
       "    }\n",
       "</style>\n",
       "<table border=\"1\" class=\"dataframe\">\n",
       "  <thead>\n",
       "    <tr style=\"text-align: right;\">\n",
       "      <th></th>\n",
       "      <th>day</th>\n",
       "      <th>month</th>\n",
       "      <th>Cardnum</th>\n",
       "      <th>Amount</th>\n",
       "      <th>Fraud</th>\n",
       "    </tr>\n",
       "  </thead>\n",
       "  <tbody>\n",
       "    <tr>\n",
       "      <th>count</th>\n",
       "      <td>96753.000000</td>\n",
       "      <td>96753.000000</td>\n",
       "      <td>9.675300e+04</td>\n",
       "      <td>9.675300e+04</td>\n",
       "      <td>96753.000000</td>\n",
       "    </tr>\n",
       "    <tr>\n",
       "      <th>mean</th>\n",
       "      <td>2.563218</td>\n",
       "      <td>6.327215</td>\n",
       "      <td>5.142202e+09</td>\n",
       "      <td>4.278857e+02</td>\n",
       "      <td>0.010945</td>\n",
       "    </tr>\n",
       "    <tr>\n",
       "      <th>std</th>\n",
       "      <td>2.101681</td>\n",
       "      <td>3.241349</td>\n",
       "      <td>5.567084e+04</td>\n",
       "      <td>1.000614e+04</td>\n",
       "      <td>0.104047</td>\n",
       "    </tr>\n",
       "    <tr>\n",
       "      <th>min</th>\n",
       "      <td>0.000000</td>\n",
       "      <td>1.000000</td>\n",
       "      <td>5.142110e+09</td>\n",
       "      <td>1.000000e-02</td>\n",
       "      <td>0.000000</td>\n",
       "    </tr>\n",
       "    <tr>\n",
       "      <th>25%</th>\n",
       "      <td>1.000000</td>\n",
       "      <td>4.000000</td>\n",
       "      <td>5.142152e+09</td>\n",
       "      <td>3.348000e+01</td>\n",
       "      <td>0.000000</td>\n",
       "    </tr>\n",
       "    <tr>\n",
       "      <th>50%</th>\n",
       "      <td>2.000000</td>\n",
       "      <td>6.000000</td>\n",
       "      <td>5.142196e+09</td>\n",
       "      <td>1.379800e+02</td>\n",
       "      <td>0.000000</td>\n",
       "    </tr>\n",
       "    <tr>\n",
       "      <th>75%</th>\n",
       "      <td>5.000000</td>\n",
       "      <td>9.000000</td>\n",
       "      <td>5.142246e+09</td>\n",
       "      <td>4.282000e+02</td>\n",
       "      <td>0.000000</td>\n",
       "    </tr>\n",
       "    <tr>\n",
       "      <th>max</th>\n",
       "      <td>6.000000</td>\n",
       "      <td>12.000000</td>\n",
       "      <td>5.142847e+09</td>\n",
       "      <td>3.102046e+06</td>\n",
       "      <td>1.000000</td>\n",
       "    </tr>\n",
       "  </tbody>\n",
       "</table>\n",
       "</div>"
      ],
      "text/plain": [
       "                day         month       Cardnum        Amount         Fraud\n",
       "count  96753.000000  96753.000000  9.675300e+04  9.675300e+04  96753.000000\n",
       "mean       2.563218      6.327215  5.142202e+09  4.278857e+02      0.010945\n",
       "std        2.101681      3.241349  5.567084e+04  1.000614e+04      0.104047\n",
       "min        0.000000      1.000000  5.142110e+09  1.000000e-02      0.000000\n",
       "25%        1.000000      4.000000  5.142152e+09  3.348000e+01      0.000000\n",
       "50%        2.000000      6.000000  5.142196e+09  1.379800e+02      0.000000\n",
       "75%        5.000000      9.000000  5.142246e+09  4.282000e+02      0.000000\n",
       "max        6.000000     12.000000  5.142847e+09  3.102046e+06      1.000000"
      ]
     },
     "execution_count": 68,
     "metadata": {},
     "output_type": "execute_result"
    }
   ],
   "source": [
    "credit_card.describe()"
   ]
  },
  {
   "cell_type": "markdown",
   "id": "4b70a24b",
   "metadata": {},
   "source": [
    "### EXPLORING THE DATASET"
   ]
  },
  {
   "cell_type": "code",
   "execution_count": 69,
   "id": "5163db68",
   "metadata": {},
   "outputs": [
    {
     "data": {
      "image/png": "[encoded data removed]",
      "text/plain": [
       "<Figure size 864x432 with 1 Axes>"
      ]
     },
     "metadata": {
      "needs_background": "light"
     },
     "output_type": "display_data"
    },
    {
     "data": {
      "image/png": "[encoded data removed]",
      "text/plain": [
       "<Figure size 864x432 with 1 Axes>"
      ]
     },
     "metadata": {
      "needs_background": "light"
     },
     "output_type": "display_data"
    },
    {
     "data": {
      "image/png": "[encoded data removed]",
      "text/plain": [
       "<Figure size 864x432 with 1 Axes>"
      ]
     },
     "metadata": {
      "needs_background": "light"
     },
     "output_type": "display_data"
    },
    {
     "data": {
      "image/png": "[encoded data removed]",
      "text/plain": [
       "<Figure size 864x432 with 1 Axes>"
      ]
     },
     "metadata": {
      "needs_background": "light"
     },
     "output_type": "display_data"
    },
    {
     "data": {
      "image/png": "[encoded data removed]",
      "text/plain": [
       "<Figure size 864x432 with 1 Axes>"
      ]
     },
     "metadata": {
      "needs_background": "light"
     },
     "output_type": "display_data"
    },
    {
     "data": {
      "image/png": "[encoded data removed]",
      "text/plain": [
       "<Figure size 864x432 with 1 Axes>"
      ]
     },
     "metadata": {
      "needs_background": "light"
     },
     "output_type": "display_data"
    },
    {
     "data": {
      "image/png": "[encoded data removed]",
      "text/plain": [
       "<Figure size 864x432 with 1 Axes>"
      ]
     },
     "metadata": {
      "needs_background": "light"
     },
     "output_type": "display_data"
    },
    {
     "data": {
      "image/png": "[encoded data removed]",
      "text/plain": [
       "<Figure size 864x432 with 1 Axes>"
      ]
     },
     "metadata": {
      "needs_background": "light"
     },
     "output_type": "display_data"
    }
   ],
   "source": [
    "categoricalVar = credit_card.columns.tolist()\n",
    "for col in categoricalVar:\n",
    "    df = pd.DataFrame(credit_card[col].value_counts().sort_values(ascending=False).head(20))\n",
    "    df.plot(kind='bar',figsize=(12,6))\n",
    "    plt.xlabel(col,fontsize=15)\n",
    "    plt.ylabel('Frequency',fontsize=15)\n",
    "    plt.xticks(fontsize=12)"
   ]
  },
  {
   "cell_type": "markdown",
   "id": "95edad76",
   "metadata": {},
   "source": [
    "### CORRELATION ANALYSIS"
   ]
  },
  {
   "cell_type": "code",
   "execution_count": 70,
   "id": "e4736351",
   "metadata": {},
   "outputs": [
    {
     "data": {
      "image/png": "[encoded data removed]",
      "text/plain": [
       "<Figure size 432x288 with 2 Axes>"
      ]
     },
     "metadata": {
      "needs_background": "light"
     },
     "output_type": "display_data"
    }
   ],
   "source": [
    "plt.title('Pearson Correlation Matrix')\n",
    "sns.heatmap(credit_card.corr(),linewidths=0.25,vmax=0.7,square=True,cmap=\"winter\",\n",
    "            linecolor='w',annot=True);"
   ]
  },
  {
   "cell_type": "markdown",
   "id": "cac4223a",
   "metadata": {},
   "source": [
    "The correlation plot shows no presence of multi collinearity amongst the features. All of these features does not show high correlation with the target class"
   ]
  },
  {
   "cell_type": "markdown",
   "id": "06d09423",
   "metadata": {},
   "source": [
    "### DISTRIBUTION OF TARGET CLASS"
   ]
  },
  {
   "cell_type": "code",
   "execution_count": 71,
   "id": "2507425b",
   "metadata": {},
   "outputs": [
    {
     "data": {
      "image/png": "[encoded data removed]",
      "text/plain": [
       "<Figure size 720x432 with 1 Axes>"
      ]
     },
     "metadata": {},
     "output_type": "display_data"
    }
   ],
   "source": [
    "plt.figure(figsize=(10,6))\n",
    "labels = ['Not Fraud' , 'Frauds']\n",
    "explode = [.01,.01]\n",
    "color = ['skyblue' , 'Red']\n",
    "sizes = credit_card.Fraud.value_counts().values\n",
    "\n",
    "plt.pie(sizes,explode,labels,autopct=\"%1.1f%%\", colors = color)\n",
    "plt.show()"
   ]
  },
  {
   "cell_type": "markdown",
   "id": "65c7a279",
   "metadata": {},
   "source": [
    "The pie chart shows highly imbalanced dataset. "
   ]
  },
  {
   "cell_type": "code",
   "execution_count": 72,
   "id": "e4b15b23",
   "metadata": {
    "scrolled": true
   },
   "outputs": [
    {
     "data": {
      "text/plain": [
       "<matplotlib.legend.Legend at 0x23f73f015e0>"
      ]
     },
     "execution_count": 72,
     "metadata": {},
     "output_type": "execute_result"
    },
    {
     "data": {
      "image/png": "[encoded data removed]",
      "text/plain": [
       "<Figure size 432x288 with 1 Axes>"
      ]
     },
     "metadata": {
      "needs_background": "light"
     },
     "output_type": "display_data"
    }
   ],
   "source": [
    "ax=sns.histplot(x='Amount',data=credit_card[credit_card.Amount<=1000],\n",
    "                hue='Fraud',stat='percent',multiple='dodge',common_norm=False,bins=25)\n",
    "ax.set_ylabel('Percentage in Each Type')\n",
    "ax.set_xlabel('Transaction Amount ')\n",
    "plt.legend(title='Type', labels=['Fraud', 'Not Fraud'])"
   ]
  },
  {
   "cell_type": "markdown",
   "id": "ae892f1a",
   "metadata": {},
   "source": [
    "### STATE VS FRAUD : let's also explore which geographies are more prone to fraud. "
   ]
  },
  {
   "cell_type": "code",
   "execution_count": 73,
   "id": "92790004",
   "metadata": {},
   "outputs": [
    {
     "data": {
      "text/plain": [
       "Text(0.5, 1.0, 'The Percentage of Fraudulent over Non-Fraudulent Transcations in Each State')"
      ]
     },
     "execution_count": 73,
     "metadata": {},
     "output_type": "execute_result"
    },
    {
     "data": {
      "image/png": "[encoded data removed]",
      "text/plain": [
       "<Figure size 432x288 with 1 Axes>"
      ]
     },
     "metadata": {
      "needs_background": "light"
     },
     "output_type": "display_data"
    }
   ],
   "source": [
    "a=credit_card['Merch state'][credit_card.Fraud==0].value_counts(normalize=True)\n",
    "a=a.to_frame()\n",
    "a=a.reset_index()\n",
    "a.columns = ['Merch state', 'Per']\n",
    "\n",
    "b=credit_card['Merch state'][credit_card.Fraud==1].value_counts(normalize=True)\n",
    "b=b.to_frame()\n",
    "b=b.reset_index()\n",
    "b.columns = ['Merch state', 'Per']\n",
    "\n",
    "merged=a.merge(b,on='Merch state')\n",
    "merged['diff']=merged['Per_y']-merged['Per_x']\n",
    "merged['diff']=merged['diff']*100\n",
    "merged=merged.sort_values('diff',ascending=False)\n",
    "\n",
    "ax1=sns.barplot(data=merged, x='diff',y='Merch state')\n",
    "ax1.set_xlabel('Percentage Difference')\n",
    "ax1.set_ylabel('Merch state')\n",
    "plt.title('The Percentage of Fraudulent over Non-Fraudulent Transcations in Each State')"
   ]
  },
  {
   "cell_type": "markdown",
   "id": "d81f51b0",
   "metadata": {},
   "source": [
    "### Monthly trends"
   ]
  },
  {
   "cell_type": "code",
   "execution_count": 74,
   "id": "f94a701f",
   "metadata": {},
   "outputs": [
    {
     "data": {
      "text/plain": [
       "<matplotlib.legend.Legend at 0x23f73a43b50>"
      ]
     },
     "execution_count": 74,
     "metadata": {},
     "output_type": "execute_result"
    },
    {
     "data": {
      "image/png": "[encoded data removed]",
      "text/plain": [
       "<Figure size 432x288 with 1 Axes>"
      ]
     },
     "metadata": {
      "needs_background": "light"
     },
     "output_type": "display_data"
    }
   ],
   "source": [
    "#month vs fraud\n",
    "ax=sns.histplot(data=credit_card, x=\"month\", hue=\"Fraud\", common_norm=False,stat='percent',multiple='dodge')\n",
    "ax.set_ylabel('Percentage')\n",
    "ax.set_xlabel('Month')\n",
    "plt.xticks(np.arange(1,13,1))\n",
    "ax.set_xticklabels([\"Jan\",\"Feb\",\"Mar\",\"Apr\",\"May\",\"Jun\",\"Jul\",'Aug','Sep','Oct','Nov','Dec'])\n",
    "plt.legend(title='Type', labels=['Fraud', 'Not Fraud'])"
   ]
  },
  {
   "cell_type": "markdown",
   "id": "96f524fd",
   "metadata": {},
   "source": [
    "### Daily trend"
   ]
  },
  {
   "cell_type": "code",
   "execution_count": 75,
   "id": "a9b4e730",
   "metadata": {},
   "outputs": [
    {
     "name": "stderr",
     "output_type": "stream",
     "text": [
      "C:\\Users\\Home\\AppData\\Local\\Temp\\ipykernel_20952\\3150562307.py:2: UserWarning: FixedFormatter should only be used together with FixedLocator\n",
      "  ax.set_xticklabels(['',\"Mon\",\"Tue\",\"Wed\",\"Thu\",\"Fri\",\"Sat\",\"Sun\"])\n"
     ]
    },
    {
     "data": {
      "text/plain": [
       "<matplotlib.legend.Legend at 0x23f7476cac0>"
      ]
     },
     "execution_count": 75,
     "metadata": {},
     "output_type": "execute_result"
    },
    {
     "data": {
      "image/png": "[encoded data removed]",
      "text/plain": [
       "<Figure size 432x288 with 1 Axes>"
      ]
     },
     "metadata": {
      "needs_background": "light"
     },
     "output_type": "display_data"
    }
   ],
   "source": [
    "ax=sns.histplot(data = credit_card, x=\"day\", hue=\"Fraud\", common_norm=False,stat='percent',multiple='dodge')\n",
    "ax.set_xticklabels(['',\"Mon\",\"Tue\",\"Wed\",\"Thu\",\"Fri\",\"Sat\",\"Sun\"])\n",
    "ax.set_ylabel('Percentage')\n",
    "ax.set_xlabel('Day')\n",
    "plt.legend(title='Type', labels=['Fraud', 'Not Fraud'])"
   ]
  },
  {
   "cell_type": "markdown",
   "id": "9b71f4ff",
   "metadata": {},
   "source": [
    "### ENCODING INDEPENDENT VARIABLE"
   ]
  },
  {
   "cell_type": "code",
   "execution_count": 76,
   "id": "decc6174",
   "metadata": {},
   "outputs": [
    {
     "data": {
      "text/html": [
       "<div>\n",
       "<style scoped>\n",
       "    .dataframe tbody tr th:only-of-type {\n",
       "        vertical-align: middle;\n",
       "    }\n",
       "\n",
       "    .dataframe tbody tr th {\n",
       "        vertical-align: top;\n",
       "    }\n",
       "\n",
       "    .dataframe thead th {\n",
       "        text-align: right;\n",
       "    }\n",
       "</style>\n",
       "<table border=\"1\" class=\"dataframe\">\n",
       "  <thead>\n",
       "    <tr style=\"text-align: right;\">\n",
       "      <th></th>\n",
       "      <th>day</th>\n",
       "      <th>month</th>\n",
       "      <th>Cardnum</th>\n",
       "      <th>Merchnum</th>\n",
       "      <th>Merch description</th>\n",
       "      <th>Merch state</th>\n",
       "      <th>Amount</th>\n",
       "      <th>Fraud</th>\n",
       "    </tr>\n",
       "  </thead>\n",
       "  <tbody>\n",
       "    <tr>\n",
       "      <th>0</th>\n",
       "      <td>4</td>\n",
       "      <td>1</td>\n",
       "      <td>5142190439</td>\n",
       "      <td>4975</td>\n",
       "      <td>4594</td>\n",
       "      <td>217</td>\n",
       "      <td>3.62</td>\n",
       "      <td>0</td>\n",
       "    </tr>\n",
       "    <tr>\n",
       "      <th>1</th>\n",
       "      <td>4</td>\n",
       "      <td>1</td>\n",
       "      <td>5142183973</td>\n",
       "      <td>6735</td>\n",
       "      <td>10393</td>\n",
       "      <td>189</td>\n",
       "      <td>31.42</td>\n",
       "      <td>0</td>\n",
       "    </tr>\n",
       "    <tr>\n",
       "      <th>2</th>\n",
       "      <td>4</td>\n",
       "      <td>1</td>\n",
       "      <td>5142131721</td>\n",
       "      <td>3340</td>\n",
       "      <td>8454</td>\n",
       "      <td>191</td>\n",
       "      <td>178.49</td>\n",
       "      <td>0</td>\n",
       "    </tr>\n",
       "    <tr>\n",
       "      <th>3</th>\n",
       "      <td>4</td>\n",
       "      <td>1</td>\n",
       "      <td>5142148452</td>\n",
       "      <td>4975</td>\n",
       "      <td>4598</td>\n",
       "      <td>217</td>\n",
       "      <td>3.62</td>\n",
       "      <td>0</td>\n",
       "    </tr>\n",
       "    <tr>\n",
       "      <th>4</th>\n",
       "      <td>4</td>\n",
       "      <td>1</td>\n",
       "      <td>5142190439</td>\n",
       "      <td>4975</td>\n",
       "      <td>4594</td>\n",
       "      <td>217</td>\n",
       "      <td>3.62</td>\n",
       "      <td>0</td>\n",
       "    </tr>\n",
       "    <tr>\n",
       "      <th>...</th>\n",
       "      <td>...</td>\n",
       "      <td>...</td>\n",
       "      <td>...</td>\n",
       "      <td>...</td>\n",
       "      <td>...</td>\n",
       "      <td>...</td>\n",
       "      <td>...</td>\n",
       "      <td>...</td>\n",
       "    </tr>\n",
       "    <tr>\n",
       "      <th>96748</th>\n",
       "      <td>4</td>\n",
       "      <td>12</td>\n",
       "      <td>5142276053</td>\n",
       "      <td>2241</td>\n",
       "      <td>1534</td>\n",
       "      <td>187</td>\n",
       "      <td>84.79</td>\n",
       "      <td>0</td>\n",
       "    </tr>\n",
       "    <tr>\n",
       "      <th>96749</th>\n",
       "      <td>4</td>\n",
       "      <td>12</td>\n",
       "      <td>5142225701</td>\n",
       "      <td>9925</td>\n",
       "      <td>7247</td>\n",
       "      <td>207</td>\n",
       "      <td>118.75</td>\n",
       "      <td>0</td>\n",
       "    </tr>\n",
       "    <tr>\n",
       "      <th>96750</th>\n",
       "      <td>4</td>\n",
       "      <td>12</td>\n",
       "      <td>5142226486</td>\n",
       "      <td>3226</td>\n",
       "      <td>11299</td>\n",
       "      <td>207</td>\n",
       "      <td>363.56</td>\n",
       "      <td>0</td>\n",
       "    </tr>\n",
       "    <tr>\n",
       "      <th>96751</th>\n",
       "      <td>4</td>\n",
       "      <td>12</td>\n",
       "      <td>5142244619</td>\n",
       "      <td>10571</td>\n",
       "      <td>2093</td>\n",
       "      <td>174</td>\n",
       "      <td>2202.03</td>\n",
       "      <td>0</td>\n",
       "    </tr>\n",
       "    <tr>\n",
       "      <th>96752</th>\n",
       "      <td>4</td>\n",
       "      <td>12</td>\n",
       "      <td>5142243247</td>\n",
       "      <td>11477</td>\n",
       "      <td>10959</td>\n",
       "      <td>202</td>\n",
       "      <td>554.64</td>\n",
       "      <td>0</td>\n",
       "    </tr>\n",
       "  </tbody>\n",
       "</table>\n",
       "<p>96753 rows × 8 columns</p>\n",
       "</div>"
      ],
      "text/plain": [
       "       day  month     Cardnum  Merchnum  Merch description  Merch state  \\\n",
       "0        4      1  5142190439      4975               4594          217   \n",
       "1        4      1  5142183973      6735              10393          189   \n",
       "2        4      1  5142131721      3340               8454          191   \n",
       "3        4      1  5142148452      4975               4598          217   \n",
       "4        4      1  5142190439      4975               4594          217   \n",
       "...    ...    ...         ...       ...                ...          ...   \n",
       "96748    4     12  5142276053      2241               1534          187   \n",
       "96749    4     12  5142225701      9925               7247          207   \n",
       "96750    4     12  5142226486      3226              11299          207   \n",
       "96751    4     12  5142244619     10571               2093          174   \n",
       "96752    4     12  5142243247     11477              10959          202   \n",
       "\n",
       "        Amount  Fraud  \n",
       "0         3.62      0  \n",
       "1        31.42      0  \n",
       "2       178.49      0  \n",
       "3         3.62      0  \n",
       "4         3.62      0  \n",
       "...        ...    ...  \n",
       "96748    84.79      0  \n",
       "96749   118.75      0  \n",
       "96750   363.56      0  \n",
       "96751  2202.03      0  \n",
       "96752   554.64      0  \n",
       "\n",
       "[96753 rows x 8 columns]"
      ]
     },
     "execution_count": 76,
     "metadata": {},
     "output_type": "execute_result"
    }
   ],
   "source": [
    "le = LabelEncoder()\n",
    "credit_card[\"Merchnum\"] = le.fit_transform(credit_card['Merchnum'])\n",
    "credit_card[\"Merch description\"] = le.fit_transform(credit_card['Merch description'])\n",
    "credit_card[\"Merch state\"] = le.fit_transform(credit_card['Merch state'])\n",
    "credit_card"
   ]
  },
  {
   "cell_type": "code",
   "execution_count": 77,
   "id": "6d5ef868",
   "metadata": {},
   "outputs": [
    {
     "name": "stdout",
     "output_type": "stream",
     "text": [
      "<class 'pandas.core.frame.DataFrame'>\n",
      "RangeIndex: 96753 entries, 0 to 96752\n",
      "Data columns (total 8 columns):\n",
      " #   Column             Non-Null Count  Dtype  \n",
      "---  ------             --------------  -----  \n",
      " 0   day                96753 non-null  int64  \n",
      " 1   month              96753 non-null  int64  \n",
      " 2   Cardnum            96753 non-null  int64  \n",
      " 3   Merchnum           96753 non-null  int64  \n",
      " 4   Merch description  96753 non-null  int64  \n",
      " 5   Merch state        96753 non-null  int64  \n",
      " 6   Amount             96753 non-null  float64\n",
      " 7   Fraud              96753 non-null  int64  \n",
      "dtypes: float64(1), int64(7)\n",
      "memory usage: 5.9 MB\n"
     ]
    }
   ],
   "source": [
    "credit_card.info()"
   ]
  },
  {
   "cell_type": "markdown",
   "id": "b71a1e49",
   "metadata": {},
   "source": [
    "### FEATURE SCALING "
   ]
  },
  {
   "cell_type": "code",
   "execution_count": 78,
   "id": "f554a7bd",
   "metadata": {},
   "outputs": [
    {
     "data": {
      "text/html": [
       "<div>\n",
       "<style scoped>\n",
       "    .dataframe tbody tr th:only-of-type {\n",
       "        vertical-align: middle;\n",
       "    }\n",
       "\n",
       "    .dataframe tbody tr th {\n",
       "        vertical-align: top;\n",
       "    }\n",
       "\n",
       "    .dataframe thead th {\n",
       "        text-align: right;\n",
       "    }\n",
       "</style>\n",
       "<table border=\"1\" class=\"dataframe\">\n",
       "  <thead>\n",
       "    <tr style=\"text-align: right;\">\n",
       "      <th></th>\n",
       "      <th>day</th>\n",
       "      <th>month</th>\n",
       "      <th>Cardnum</th>\n",
       "      <th>Merchnum</th>\n",
       "      <th>Merch description</th>\n",
       "      <th>Merch state</th>\n",
       "      <th>Amount</th>\n",
       "      <th>Fraud</th>\n",
       "      <th>amount_log</th>\n",
       "      <th>Cardnum_log</th>\n",
       "      <th>Merchnum_log</th>\n",
       "      <th>Merch description_log</th>\n",
       "      <th>Merch state_log</th>\n",
       "    </tr>\n",
       "  </thead>\n",
       "  <tbody>\n",
       "    <tr>\n",
       "      <th>0</th>\n",
       "      <td>4</td>\n",
       "      <td>1</td>\n",
       "      <td>5142190439</td>\n",
       "      <td>4975</td>\n",
       "      <td>4594</td>\n",
       "      <td>217</td>\n",
       "      <td>3.62</td>\n",
       "      <td>0</td>\n",
       "      <td>1.286502</td>\n",
       "      <td>22.360745</td>\n",
       "      <td>8.512181</td>\n",
       "      <td>8.432506</td>\n",
       "      <td>5.379898</td>\n",
       "    </tr>\n",
       "    <tr>\n",
       "      <th>1</th>\n",
       "      <td>4</td>\n",
       "      <td>1</td>\n",
       "      <td>5142183973</td>\n",
       "      <td>6735</td>\n",
       "      <td>10393</td>\n",
       "      <td>189</td>\n",
       "      <td>31.42</td>\n",
       "      <td>0</td>\n",
       "      <td>3.447448</td>\n",
       "      <td>22.360744</td>\n",
       "      <td>8.815073</td>\n",
       "      <td>9.248888</td>\n",
       "      <td>5.241748</td>\n",
       "    </tr>\n",
       "    <tr>\n",
       "      <th>2</th>\n",
       "      <td>4</td>\n",
       "      <td>1</td>\n",
       "      <td>5142131721</td>\n",
       "      <td>3340</td>\n",
       "      <td>8454</td>\n",
       "      <td>191</td>\n",
       "      <td>178.49</td>\n",
       "      <td>0</td>\n",
       "      <td>5.184533</td>\n",
       "      <td>22.360734</td>\n",
       "      <td>8.113726</td>\n",
       "      <td>9.042395</td>\n",
       "      <td>5.252274</td>\n",
       "    </tr>\n",
       "    <tr>\n",
       "      <th>3</th>\n",
       "      <td>4</td>\n",
       "      <td>1</td>\n",
       "      <td>5142148452</td>\n",
       "      <td>4975</td>\n",
       "      <td>4598</td>\n",
       "      <td>217</td>\n",
       "      <td>3.62</td>\n",
       "      <td>0</td>\n",
       "      <td>1.286502</td>\n",
       "      <td>22.360737</td>\n",
       "      <td>8.512181</td>\n",
       "      <td>8.433377</td>\n",
       "      <td>5.379898</td>\n",
       "    </tr>\n",
       "    <tr>\n",
       "      <th>4</th>\n",
       "      <td>4</td>\n",
       "      <td>1</td>\n",
       "      <td>5142190439</td>\n",
       "      <td>4975</td>\n",
       "      <td>4594</td>\n",
       "      <td>217</td>\n",
       "      <td>3.62</td>\n",
       "      <td>0</td>\n",
       "      <td>1.286502</td>\n",
       "      <td>22.360745</td>\n",
       "      <td>8.512181</td>\n",
       "      <td>8.432506</td>\n",
       "      <td>5.379898</td>\n",
       "    </tr>\n",
       "    <tr>\n",
       "      <th>...</th>\n",
       "      <td>...</td>\n",
       "      <td>...</td>\n",
       "      <td>...</td>\n",
       "      <td>...</td>\n",
       "      <td>...</td>\n",
       "      <td>...</td>\n",
       "      <td>...</td>\n",
       "      <td>...</td>\n",
       "      <td>...</td>\n",
       "      <td>...</td>\n",
       "      <td>...</td>\n",
       "      <td>...</td>\n",
       "      <td>...</td>\n",
       "    </tr>\n",
       "    <tr>\n",
       "      <th>96748</th>\n",
       "      <td>4</td>\n",
       "      <td>12</td>\n",
       "      <td>5142276053</td>\n",
       "      <td>2241</td>\n",
       "      <td>1534</td>\n",
       "      <td>187</td>\n",
       "      <td>84.79</td>\n",
       "      <td>0</td>\n",
       "      <td>4.440179</td>\n",
       "      <td>22.360762</td>\n",
       "      <td>7.714678</td>\n",
       "      <td>7.335634</td>\n",
       "      <td>5.231109</td>\n",
       "    </tr>\n",
       "    <tr>\n",
       "      <th>96749</th>\n",
       "      <td>4</td>\n",
       "      <td>12</td>\n",
       "      <td>5142225701</td>\n",
       "      <td>9925</td>\n",
       "      <td>7247</td>\n",
       "      <td>207</td>\n",
       "      <td>118.75</td>\n",
       "      <td>0</td>\n",
       "      <td>4.777021</td>\n",
       "      <td>22.360752</td>\n",
       "      <td>9.202812</td>\n",
       "      <td>8.888343</td>\n",
       "      <td>5.332719</td>\n",
       "    </tr>\n",
       "    <tr>\n",
       "      <th>96750</th>\n",
       "      <td>4</td>\n",
       "      <td>12</td>\n",
       "      <td>5142226486</td>\n",
       "      <td>3226</td>\n",
       "      <td>11299</td>\n",
       "      <td>207</td>\n",
       "      <td>363.56</td>\n",
       "      <td>0</td>\n",
       "      <td>5.895945</td>\n",
       "      <td>22.360752</td>\n",
       "      <td>8.078998</td>\n",
       "      <td>9.332470</td>\n",
       "      <td>5.332719</td>\n",
       "    </tr>\n",
       "    <tr>\n",
       "      <th>96751</th>\n",
       "      <td>4</td>\n",
       "      <td>12</td>\n",
       "      <td>5142244619</td>\n",
       "      <td>10571</td>\n",
       "      <td>2093</td>\n",
       "      <td>174</td>\n",
       "      <td>2202.03</td>\n",
       "      <td>0</td>\n",
       "      <td>7.697135</td>\n",
       "      <td>22.360756</td>\n",
       "      <td>9.265870</td>\n",
       "      <td>7.646354</td>\n",
       "      <td>5.159056</td>\n",
       "    </tr>\n",
       "    <tr>\n",
       "      <th>96752</th>\n",
       "      <td>4</td>\n",
       "      <td>12</td>\n",
       "      <td>5142243247</td>\n",
       "      <td>11477</td>\n",
       "      <td>10959</td>\n",
       "      <td>202</td>\n",
       "      <td>554.64</td>\n",
       "      <td>0</td>\n",
       "      <td>6.318319</td>\n",
       "      <td>22.360755</td>\n",
       "      <td>9.348100</td>\n",
       "      <td>9.301916</td>\n",
       "      <td>5.308268</td>\n",
       "    </tr>\n",
       "  </tbody>\n",
       "</table>\n",
       "<p>96753 rows × 13 columns</p>\n",
       "</div>"
      ],
      "text/plain": [
       "       day  month     Cardnum  Merchnum  Merch description  Merch state  \\\n",
       "0        4      1  5142190439      4975               4594          217   \n",
       "1        4      1  5142183973      6735              10393          189   \n",
       "2        4      1  5142131721      3340               8454          191   \n",
       "3        4      1  5142148452      4975               4598          217   \n",
       "4        4      1  5142190439      4975               4594          217   \n",
       "...    ...    ...         ...       ...                ...          ...   \n",
       "96748    4     12  5142276053      2241               1534          187   \n",
       "96749    4     12  5142225701      9925               7247          207   \n",
       "96750    4     12  5142226486      3226              11299          207   \n",
       "96751    4     12  5142244619     10571               2093          174   \n",
       "96752    4     12  5142243247     11477              10959          202   \n",
       "\n",
       "        Amount  Fraud  amount_log  Cardnum_log  Merchnum_log  \\\n",
       "0         3.62      0    1.286502    22.360745      8.512181   \n",
       "1        31.42      0    3.447448    22.360744      8.815073   \n",
       "2       178.49      0    5.184533    22.360734      8.113726   \n",
       "3         3.62      0    1.286502    22.360737      8.512181   \n",
       "4         3.62      0    1.286502    22.360745      8.512181   \n",
       "...        ...    ...         ...          ...           ...   \n",
       "96748    84.79      0    4.440179    22.360762      7.714678   \n",
       "96749   118.75      0    4.777021    22.360752      9.202812   \n",
       "96750   363.56      0    5.895945    22.360752      8.078998   \n",
       "96751  2202.03      0    7.697135    22.360756      9.265870   \n",
       "96752   554.64      0    6.318319    22.360755      9.348100   \n",
       "\n",
       "       Merch description_log  Merch state_log  \n",
       "0                   8.432506         5.379898  \n",
       "1                   9.248888         5.241748  \n",
       "2                   9.042395         5.252274  \n",
       "3                   8.433377         5.379898  \n",
       "4                   8.432506         5.379898  \n",
       "...                      ...              ...  \n",
       "96748               7.335634         5.231109  \n",
       "96749               8.888343         5.332719  \n",
       "96750               9.332470         5.332719  \n",
       "96751               7.646354         5.159056  \n",
       "96752               9.301916         5.308268  \n",
       "\n",
       "[96753 rows x 13 columns]"
      ]
     },
     "execution_count": 78,
     "metadata": {},
     "output_type": "execute_result"
    }
   ],
   "source": [
    "# Scale amount by log\n",
    "# Adding a small amount of 0.0001 to amount as log of zero is infinite.\n",
    "credit_card['amount_log'] = np.log(credit_card.Amount + 0.0001)\n",
    "credit_card['Cardnum_log'] = np.log(credit_card.Cardnum + 0.0001)\n",
    "credit_card['Merchnum_log'] = np.log(credit_card.Merchnum + 0.0001)\n",
    "credit_card['Merch description_log'] = np.log(credit_card['Merch description'] + 0.0001)\n",
    "credit_card['Merch state_log'] = np.log(credit_card['Merch state'] + 0.0001)\n",
    "credit_card"
   ]
  },
  {
   "cell_type": "code",
   "execution_count": 79,
   "id": "8c94e547",
   "metadata": {},
   "outputs": [
    {
     "data": {
      "text/html": [
       "<div>\n",
       "<style scoped>\n",
       "    .dataframe tbody tr th:only-of-type {\n",
       "        vertical-align: middle;\n",
       "    }\n",
       "\n",
       "    .dataframe tbody tr th {\n",
       "        vertical-align: top;\n",
       "    }\n",
       "\n",
       "    .dataframe thead th {\n",
       "        text-align: right;\n",
       "    }\n",
       "</style>\n",
       "<table border=\"1\" class=\"dataframe\">\n",
       "  <thead>\n",
       "    <tr style=\"text-align: right;\">\n",
       "      <th></th>\n",
       "      <th>day</th>\n",
       "      <th>month</th>\n",
       "      <th>Cardnum</th>\n",
       "      <th>Merchnum</th>\n",
       "      <th>Merch description</th>\n",
       "      <th>Merch state</th>\n",
       "      <th>Amount</th>\n",
       "      <th>Fraud</th>\n",
       "      <th>amount_log</th>\n",
       "      <th>Cardnum_log</th>\n",
       "      <th>Merchnum_log</th>\n",
       "      <th>Merch description_log</th>\n",
       "      <th>Merch state_log</th>\n",
       "      <th>amount_scaled</th>\n",
       "      <th>Cardnum_scaled</th>\n",
       "      <th>Merchnum_scaled</th>\n",
       "      <th>Merch description_scaled</th>\n",
       "      <th>Merch state_scaled</th>\n",
       "    </tr>\n",
       "  </thead>\n",
       "  <tbody>\n",
       "    <tr>\n",
       "      <th>0</th>\n",
       "      <td>4</td>\n",
       "      <td>1</td>\n",
       "      <td>5142190439</td>\n",
       "      <td>4975</td>\n",
       "      <td>4594</td>\n",
       "      <td>217</td>\n",
       "      <td>3.62</td>\n",
       "      <td>0</td>\n",
       "      <td>1.286502</td>\n",
       "      <td>22.360745</td>\n",
       "      <td>8.512181</td>\n",
       "      <td>8.432506</td>\n",
       "      <td>5.379898</td>\n",
       "      <td>-0.042401</td>\n",
       "      <td>-0.203839</td>\n",
       "      <td>-0.611361</td>\n",
       "      <td>-0.498148</td>\n",
       "      <td>0.974765</td>\n",
       "    </tr>\n",
       "    <tr>\n",
       "      <th>1</th>\n",
       "      <td>4</td>\n",
       "      <td>1</td>\n",
       "      <td>5142183973</td>\n",
       "      <td>6735</td>\n",
       "      <td>10393</td>\n",
       "      <td>189</td>\n",
       "      <td>31.42</td>\n",
       "      <td>0</td>\n",
       "      <td>3.447448</td>\n",
       "      <td>22.360744</td>\n",
       "      <td>8.815073</td>\n",
       "      <td>9.248888</td>\n",
       "      <td>5.241748</td>\n",
       "      <td>-0.039622</td>\n",
       "      <td>-0.319986</td>\n",
       "      <td>-0.176560</td>\n",
       "      <td>1.157666</td>\n",
       "      <td>-0.590932</td>\n",
       "    </tr>\n",
       "    <tr>\n",
       "      <th>2</th>\n",
       "      <td>4</td>\n",
       "      <td>1</td>\n",
       "      <td>5142131721</td>\n",
       "      <td>3340</td>\n",
       "      <td>8454</td>\n",
       "      <td>191</td>\n",
       "      <td>178.49</td>\n",
       "      <td>0</td>\n",
       "      <td>5.184533</td>\n",
       "      <td>22.360734</td>\n",
       "      <td>8.113726</td>\n",
       "      <td>9.042395</td>\n",
       "      <td>5.252274</td>\n",
       "      <td>-0.024924</td>\n",
       "      <td>-1.258580</td>\n",
       "      <td>-1.015281</td>\n",
       "      <td>0.604015</td>\n",
       "      <td>-0.479096</td>\n",
       "    </tr>\n",
       "    <tr>\n",
       "      <th>3</th>\n",
       "      <td>4</td>\n",
       "      <td>1</td>\n",
       "      <td>5142148452</td>\n",
       "      <td>4975</td>\n",
       "      <td>4598</td>\n",
       "      <td>217</td>\n",
       "      <td>3.62</td>\n",
       "      <td>0</td>\n",
       "      <td>1.286502</td>\n",
       "      <td>22.360737</td>\n",
       "      <td>8.512181</td>\n",
       "      <td>8.433377</td>\n",
       "      <td>5.379898</td>\n",
       "      <td>-0.042401</td>\n",
       "      <td>-0.958044</td>\n",
       "      <td>-0.611361</td>\n",
       "      <td>-0.497006</td>\n",
       "      <td>0.974765</td>\n",
       "    </tr>\n",
       "    <tr>\n",
       "      <th>4</th>\n",
       "      <td>4</td>\n",
       "      <td>1</td>\n",
       "      <td>5142190439</td>\n",
       "      <td>4975</td>\n",
       "      <td>4594</td>\n",
       "      <td>217</td>\n",
       "      <td>3.62</td>\n",
       "      <td>0</td>\n",
       "      <td>1.286502</td>\n",
       "      <td>22.360745</td>\n",
       "      <td>8.512181</td>\n",
       "      <td>8.432506</td>\n",
       "      <td>5.379898</td>\n",
       "      <td>-0.042401</td>\n",
       "      <td>-0.203839</td>\n",
       "      <td>-0.611361</td>\n",
       "      <td>-0.498148</td>\n",
       "      <td>0.974765</td>\n",
       "    </tr>\n",
       "    <tr>\n",
       "      <th>...</th>\n",
       "      <td>...</td>\n",
       "      <td>...</td>\n",
       "      <td>...</td>\n",
       "      <td>...</td>\n",
       "      <td>...</td>\n",
       "      <td>...</td>\n",
       "      <td>...</td>\n",
       "      <td>...</td>\n",
       "      <td>...</td>\n",
       "      <td>...</td>\n",
       "      <td>...</td>\n",
       "      <td>...</td>\n",
       "      <td>...</td>\n",
       "      <td>...</td>\n",
       "      <td>...</td>\n",
       "      <td>...</td>\n",
       "      <td>...</td>\n",
       "      <td>...</td>\n",
       "    </tr>\n",
       "    <tr>\n",
       "      <th>96748</th>\n",
       "      <td>4</td>\n",
       "      <td>12</td>\n",
       "      <td>5142276053</td>\n",
       "      <td>2241</td>\n",
       "      <td>1534</td>\n",
       "      <td>187</td>\n",
       "      <td>84.79</td>\n",
       "      <td>0</td>\n",
       "      <td>4.440179</td>\n",
       "      <td>22.360762</td>\n",
       "      <td>7.714678</td>\n",
       "      <td>7.335634</td>\n",
       "      <td>5.231109</td>\n",
       "      <td>-0.034289</td>\n",
       "      <td>1.334030</td>\n",
       "      <td>-1.286785</td>\n",
       "      <td>-1.371884</td>\n",
       "      <td>-0.702767</td>\n",
       "    </tr>\n",
       "    <tr>\n",
       "      <th>96749</th>\n",
       "      <td>4</td>\n",
       "      <td>12</td>\n",
       "      <td>5142225701</td>\n",
       "      <td>9925</td>\n",
       "      <td>7247</td>\n",
       "      <td>207</td>\n",
       "      <td>118.75</td>\n",
       "      <td>0</td>\n",
       "      <td>4.777021</td>\n",
       "      <td>22.360752</td>\n",
       "      <td>9.202812</td>\n",
       "      <td>8.888343</td>\n",
       "      <td>5.332719</td>\n",
       "      <td>-0.030895</td>\n",
       "      <td>0.429566</td>\n",
       "      <td>0.611517</td>\n",
       "      <td>0.259375</td>\n",
       "      <td>0.415587</td>\n",
       "    </tr>\n",
       "    <tr>\n",
       "      <th>96750</th>\n",
       "      <td>4</td>\n",
       "      <td>12</td>\n",
       "      <td>5142226486</td>\n",
       "      <td>3226</td>\n",
       "      <td>11299</td>\n",
       "      <td>207</td>\n",
       "      <td>363.56</td>\n",
       "      <td>0</td>\n",
       "      <td>5.895945</td>\n",
       "      <td>22.360752</td>\n",
       "      <td>8.078998</td>\n",
       "      <td>9.332470</td>\n",
       "      <td>5.332719</td>\n",
       "      <td>-0.006429</td>\n",
       "      <td>0.443667</td>\n",
       "      <td>-1.043445</td>\n",
       "      <td>1.416361</td>\n",
       "      <td>0.415587</td>\n",
       "    </tr>\n",
       "    <tr>\n",
       "      <th>96751</th>\n",
       "      <td>4</td>\n",
       "      <td>12</td>\n",
       "      <td>5142244619</td>\n",
       "      <td>10571</td>\n",
       "      <td>2093</td>\n",
       "      <td>174</td>\n",
       "      <td>2202.03</td>\n",
       "      <td>0</td>\n",
       "      <td>7.697135</td>\n",
       "      <td>22.360756</td>\n",
       "      <td>9.265870</td>\n",
       "      <td>7.646354</td>\n",
       "      <td>5.159056</td>\n",
       "      <td>0.177306</td>\n",
       "      <td>0.769387</td>\n",
       "      <td>0.771108</td>\n",
       "      <td>-1.212270</td>\n",
       "      <td>-1.429698</td>\n",
       "    </tr>\n",
       "    <tr>\n",
       "      <th>96752</th>\n",
       "      <td>4</td>\n",
       "      <td>12</td>\n",
       "      <td>5142243247</td>\n",
       "      <td>11477</td>\n",
       "      <td>10959</td>\n",
       "      <td>202</td>\n",
       "      <td>554.64</td>\n",
       "      <td>0</td>\n",
       "      <td>6.318319</td>\n",
       "      <td>22.360755</td>\n",
       "      <td>9.348100</td>\n",
       "      <td>9.301916</td>\n",
       "      <td>5.308268</td>\n",
       "      <td>0.012668</td>\n",
       "      <td>0.744742</td>\n",
       "      <td>0.994932</td>\n",
       "      <td>1.319279</td>\n",
       "      <td>0.135999</td>\n",
       "    </tr>\n",
       "  </tbody>\n",
       "</table>\n",
       "<p>96753 rows × 18 columns</p>\n",
       "</div>"
      ],
      "text/plain": [
       "       day  month     Cardnum  Merchnum  Merch description  Merch state  \\\n",
       "0        4      1  5142190439      4975               4594          217   \n",
       "1        4      1  5142183973      6735              10393          189   \n",
       "2        4      1  5142131721      3340               8454          191   \n",
       "3        4      1  5142148452      4975               4598          217   \n",
       "4        4      1  5142190439      4975               4594          217   \n",
       "...    ...    ...         ...       ...                ...          ...   \n",
       "96748    4     12  5142276053      2241               1534          187   \n",
       "96749    4     12  5142225701      9925               7247          207   \n",
       "96750    4     12  5142226486      3226              11299          207   \n",
       "96751    4     12  5142244619     10571               2093          174   \n",
       "96752    4     12  5142243247     11477              10959          202   \n",
       "\n",
       "        Amount  Fraud  amount_log  Cardnum_log  Merchnum_log  \\\n",
       "0         3.62      0    1.286502    22.360745      8.512181   \n",
       "1        31.42      0    3.447448    22.360744      8.815073   \n",
       "2       178.49      0    5.184533    22.360734      8.113726   \n",
       "3         3.62      0    1.286502    22.360737      8.512181   \n",
       "4         3.62      0    1.286502    22.360745      8.512181   \n",
       "...        ...    ...         ...          ...           ...   \n",
       "96748    84.79      0    4.440179    22.360762      7.714678   \n",
       "96749   118.75      0    4.777021    22.360752      9.202812   \n",
       "96750   363.56      0    5.895945    22.360752      8.078998   \n",
       "96751  2202.03      0    7.697135    22.360756      9.265870   \n",
       "96752   554.64      0    6.318319    22.360755      9.348100   \n",
       "\n",
       "       Merch description_log  Merch state_log  amount_scaled  Cardnum_scaled  \\\n",
       "0                   8.432506         5.379898      -0.042401       -0.203839   \n",
       "1                   9.248888         5.241748      -0.039622       -0.319986   \n",
       "2                   9.042395         5.252274      -0.024924       -1.258580   \n",
       "3                   8.433377         5.379898      -0.042401       -0.958044   \n",
       "4                   8.432506         5.379898      -0.042401       -0.203839   \n",
       "...                      ...              ...            ...             ...   \n",
       "96748               7.335634         5.231109      -0.034289        1.334030   \n",
       "96749               8.888343         5.332719      -0.030895        0.429566   \n",
       "96750               9.332470         5.332719      -0.006429        0.443667   \n",
       "96751               7.646354         5.159056       0.177306        0.769387   \n",
       "96752               9.301916         5.308268       0.012668        0.744742   \n",
       "\n",
       "       Merchnum_scaled  Merch description_scaled  Merch state_scaled  \n",
       "0            -0.611361                 -0.498148            0.974765  \n",
       "1            -0.176560                  1.157666           -0.590932  \n",
       "2            -1.015281                  0.604015           -0.479096  \n",
       "3            -0.611361                 -0.497006            0.974765  \n",
       "4            -0.611361                 -0.498148            0.974765  \n",
       "...                ...                       ...                 ...  \n",
       "96748        -1.286785                 -1.371884           -0.702767  \n",
       "96749         0.611517                  0.259375            0.415587  \n",
       "96750        -1.043445                  1.416361            0.415587  \n",
       "96751         0.771108                 -1.212270           -1.429698  \n",
       "96752         0.994932                  1.319279            0.135999  \n",
       "\n",
       "[96753 rows x 18 columns]"
      ]
     },
     "execution_count": 79,
     "metadata": {},
     "output_type": "execute_result"
    }
   ],
   "source": [
    "ss = StandardScaler() # object of the class StandardScaler ()\n",
    "credit_card['amount_scaled'] = ss.fit_transform(credit_card['Amount'].values.reshape(-1,1))\n",
    "credit_card['Cardnum_scaled'] = ss.fit_transform(credit_card['Cardnum'].values.reshape(-1,1))\n",
    "credit_card['Merchnum_scaled'] = ss.fit_transform(credit_card['Merchnum'].values.reshape(-1,1))\n",
    "credit_card['Merch description_scaled'] = ss.fit_transform(credit_card['Merch description'].values.reshape(-1,1))\n",
    "credit_card['Merch state_scaled'] = ss.fit_transform(credit_card['Merch state'].values.reshape(-1,1))\n",
    "\n",
    "credit_card"
   ]
  },
  {
   "cell_type": "code",
   "execution_count": 80,
   "id": "215291c6",
   "metadata": {},
   "outputs": [],
   "source": [
    "from sklearn.preprocessing import MinMaxScaler\n",
    "\n",
    "mm = MinMaxScaler() # object of the class StandardScaler ()\n",
    "credit_card['amount_minmax'] = mm.fit_transform(credit_card['Amount'].values.reshape(-1,1))\n",
    "credit_card['Cardnum_minmax'] = mm.fit_transform(credit_card['Cardnum'].values.reshape(-1,1))\n",
    "credit_card['Merchnum_minmax'] = mm.fit_transform(credit_card['Merchnum'].values.reshape(-1,1))\n",
    "credit_card['Merch description_minmax'] = mm.fit_transform(credit_card['Merch description'].values.reshape(-1,1))\n",
    "credit_card['Merch state_minmax'] = mm.fit_transform(credit_card['Merch state'].values.reshape(-1,1))"
   ]
  },
  {
   "cell_type": "code",
   "execution_count": 81,
   "id": "2d42d65e",
   "metadata": {},
   "outputs": [
    {
     "data": {
      "image/png": "[encoded data removed]",
      "text/plain": [
       "<Figure size 1152x288 with 4 Axes>"
      ]
     },
     "metadata": {
      "needs_background": "light"
     },
     "output_type": "display_data"
    }
   ],
   "source": [
    "#Feature engineering to a better visualization of the values\n",
    "\n",
    "# Let's explore the Amount by Class and see the distribuition of Amount transactions\n",
    "fig , axs = plt.subplots(nrows = 1 , ncols = 4 , figsize = (16,4))\n",
    "\n",
    "sns.boxplot(x =\"Fraud\",y=\"Amount\",data=credit_card, ax = axs[0])\n",
    "axs[0].set_title(\"Fraud vs Amount\")\n",
    "\n",
    "sns.boxplot(x =\"Fraud\",y=\"amount_log\",data=credit_card, ax = axs[1])\n",
    "axs[1].set_title(\"Fraud vs Log Amount\")\n",
    "\n",
    "sns.boxplot(x =\"Fraud\",y=\"amount_scaled\",data=credit_card, ax = axs[2])\n",
    "axs[2].set_title(\"Fraud vs Scaled Amount\")\n",
    "\n",
    "sns.boxplot(x =\"Fraud\",y=\"amount_minmax\",data=credit_card, ax = axs[3])\n",
    "axs[3].set_title(\"Fraud vs Min Max Amount\")\n",
    "\n",
    "# fig.suptitle('Amount by Class', fontsize=20)\n",
    "plt.show()\n"
   ]
  },
  {
   "cell_type": "code",
   "execution_count": 82,
   "id": "0f937bcd",
   "metadata": {},
   "outputs": [
    {
     "data": {
      "image/png": "[encoded data removed]",
      "text/plain": [
       "<Figure size 1152x288 with 4 Axes>"
      ]
     },
     "metadata": {
      "needs_background": "light"
     },
     "output_type": "display_data"
    }
   ],
   "source": [
    "fig , axs = plt.subplots(nrows = 1 , ncols = 4 , figsize = (16,4))\n",
    "\n",
    "sns.boxplot(x =\"Fraud\",y=\"Cardnum\",data=credit_card, ax = axs[0])\n",
    "axs[0].set_title(\"Fraud vs Cardnum\")\n",
    "\n",
    "sns.boxplot(x =\"Fraud\",y=\"Cardnum_log\",data=credit_card, ax = axs[1])\n",
    "axs[1].set_title(\"Fraud vs Cardnum_log\")\n",
    "\n",
    "sns.boxplot(x =\"Fraud\",y=\"Cardnum_scaled\",data=credit_card, ax = axs[2])\n",
    "axs[2].set_title(\"Fraud vs Cardnum_scaled\")\n",
    "\n",
    "sns.boxplot(x =\"Fraud\",y=\"Cardnum_minmax\",data=credit_card, ax = axs[3])\n",
    "axs[3].set_title(\"Fraud vs Cardnum_minmax\")\n",
    "\n",
    "# fig.suptitle('Amount by Class', fontsize=20)\n",
    "plt.show()\n"
   ]
  },
  {
   "cell_type": "code",
   "execution_count": 83,
   "id": "02ffb885",
   "metadata": {},
   "outputs": [
    {
     "data": {
      "image/png": "[encoded data removed]",
      "text/plain": [
       "<Figure size 1152x288 with 4 Axes>"
      ]
     },
     "metadata": {
      "needs_background": "light"
     },
     "output_type": "display_data"
    }
   ],
   "source": [
    "fig , axs = plt.subplots(nrows = 1 , ncols = 4 , figsize = (16,4))\n",
    "\n",
    "sns.boxplot(x =\"Fraud\",y=\"Merchnum\",data=credit_card, ax = axs[0])\n",
    "axs[0].set_title(\"Fraud vs Amount\")\n",
    "\n",
    "sns.boxplot(x =\"Fraud\",y=\"Merchnum_log\",data=credit_card, ax = axs[1])\n",
    "axs[1].set_title(\"Class vs Log Amount\")\n",
    "\n",
    "sns.boxplot(x =\"Fraud\",y=\"Merchnum_scaled\",data=credit_card, ax = axs[2])\n",
    "axs[2].set_title(\"Class vs Scaled Amount\")\n",
    "\n",
    "sns.boxplot(x =\"Fraud\",y=\"Merchnum_minmax\",data=credit_card, ax = axs[3])\n",
    "axs[3].set_title(\"Class vs Min Max Amount\")\n",
    "\n",
    "# fig.suptitle('Amount by Class', fontsize=20)\n",
    "plt.show()"
   ]
  },
  {
   "cell_type": "markdown",
   "id": "6b75f555",
   "metadata": {},
   "source": [
    "We can see a slight difference in the log amount of our two Classes"
   ]
  },
  {
   "cell_type": "code",
   "execution_count": 84,
   "id": "6d74caa1",
   "metadata": {},
   "outputs": [
    {
     "data": {
      "text/html": [
       "<div>\n",
       "<style scoped>\n",
       "    .dataframe tbody tr th:only-of-type {\n",
       "        vertical-align: middle;\n",
       "    }\n",
       "\n",
       "    .dataframe tbody tr th {\n",
       "        vertical-align: top;\n",
       "    }\n",
       "\n",
       "    .dataframe thead th {\n",
       "        text-align: right;\n",
       "    }\n",
       "</style>\n",
       "<table border=\"1\" class=\"dataframe\">\n",
       "  <thead>\n",
       "    <tr style=\"text-align: right;\">\n",
       "      <th></th>\n",
       "      <th>day</th>\n",
       "      <th>month</th>\n",
       "      <th>Cardnum_minmax</th>\n",
       "      <th>Merchnum_log</th>\n",
       "      <th>Merch description_log</th>\n",
       "      <th>Merch state_log</th>\n",
       "      <th>amount_log</th>\n",
       "      <th>Fraud</th>\n",
       "    </tr>\n",
       "  </thead>\n",
       "  <tbody>\n",
       "    <tr>\n",
       "      <th>0</th>\n",
       "      <td>4</td>\n",
       "      <td>1</td>\n",
       "      <td>0.109083</td>\n",
       "      <td>8.512181</td>\n",
       "      <td>8.432506</td>\n",
       "      <td>5.379898</td>\n",
       "      <td>1.286502</td>\n",
       "      <td>0</td>\n",
       "    </tr>\n",
       "    <tr>\n",
       "      <th>1</th>\n",
       "      <td>4</td>\n",
       "      <td>1</td>\n",
       "      <td>0.100314</td>\n",
       "      <td>8.815073</td>\n",
       "      <td>9.248888</td>\n",
       "      <td>5.241748</td>\n",
       "      <td>3.447448</td>\n",
       "      <td>0</td>\n",
       "    </tr>\n",
       "    <tr>\n",
       "      <th>2</th>\n",
       "      <td>4</td>\n",
       "      <td>1</td>\n",
       "      <td>0.029454</td>\n",
       "      <td>8.113726</td>\n",
       "      <td>9.042395</td>\n",
       "      <td>5.252274</td>\n",
       "      <td>5.184533</td>\n",
       "      <td>0</td>\n",
       "    </tr>\n",
       "    <tr>\n",
       "      <th>3</th>\n",
       "      <td>4</td>\n",
       "      <td>1</td>\n",
       "      <td>0.052143</td>\n",
       "      <td>8.512181</td>\n",
       "      <td>8.433377</td>\n",
       "      <td>5.379898</td>\n",
       "      <td>1.286502</td>\n",
       "      <td>0</td>\n",
       "    </tr>\n",
       "    <tr>\n",
       "      <th>4</th>\n",
       "      <td>4</td>\n",
       "      <td>1</td>\n",
       "      <td>0.109083</td>\n",
       "      <td>8.512181</td>\n",
       "      <td>8.432506</td>\n",
       "      <td>5.379898</td>\n",
       "      <td>1.286502</td>\n",
       "      <td>0</td>\n",
       "    </tr>\n",
       "    <tr>\n",
       "      <th>...</th>\n",
       "      <td>...</td>\n",
       "      <td>...</td>\n",
       "      <td>...</td>\n",
       "      <td>...</td>\n",
       "      <td>...</td>\n",
       "      <td>...</td>\n",
       "      <td>...</td>\n",
       "      <td>...</td>\n",
       "    </tr>\n",
       "    <tr>\n",
       "      <th>96748</th>\n",
       "      <td>4</td>\n",
       "      <td>12</td>\n",
       "      <td>0.225186</td>\n",
       "      <td>7.714678</td>\n",
       "      <td>7.335634</td>\n",
       "      <td>5.231109</td>\n",
       "      <td>4.440179</td>\n",
       "      <td>0</td>\n",
       "    </tr>\n",
       "    <tr>\n",
       "      <th>96749</th>\n",
       "      <td>4</td>\n",
       "      <td>12</td>\n",
       "      <td>0.156902</td>\n",
       "      <td>9.202812</td>\n",
       "      <td>8.888343</td>\n",
       "      <td>5.332719</td>\n",
       "      <td>4.777021</td>\n",
       "      <td>0</td>\n",
       "    </tr>\n",
       "    <tr>\n",
       "      <th>96750</th>\n",
       "      <td>4</td>\n",
       "      <td>12</td>\n",
       "      <td>0.157967</td>\n",
       "      <td>8.078998</td>\n",
       "      <td>9.332470</td>\n",
       "      <td>5.332719</td>\n",
       "      <td>5.895945</td>\n",
       "      <td>0</td>\n",
       "    </tr>\n",
       "    <tr>\n",
       "      <th>96751</th>\n",
       "      <td>4</td>\n",
       "      <td>12</td>\n",
       "      <td>0.182557</td>\n",
       "      <td>9.265870</td>\n",
       "      <td>7.646354</td>\n",
       "      <td>5.159056</td>\n",
       "      <td>7.697135</td>\n",
       "      <td>0</td>\n",
       "    </tr>\n",
       "    <tr>\n",
       "      <th>96752</th>\n",
       "      <td>4</td>\n",
       "      <td>12</td>\n",
       "      <td>0.180697</td>\n",
       "      <td>9.348100</td>\n",
       "      <td>9.301916</td>\n",
       "      <td>5.308268</td>\n",
       "      <td>6.318319</td>\n",
       "      <td>0</td>\n",
       "    </tr>\n",
       "  </tbody>\n",
       "</table>\n",
       "<p>96753 rows × 8 columns</p>\n",
       "</div>"
      ],
      "text/plain": [
       "       day  month  Cardnum_minmax  Merchnum_log  Merch description_log  \\\n",
       "0        4      1        0.109083      8.512181               8.432506   \n",
       "1        4      1        0.100314      8.815073               9.248888   \n",
       "2        4      1        0.029454      8.113726               9.042395   \n",
       "3        4      1        0.052143      8.512181               8.433377   \n",
       "4        4      1        0.109083      8.512181               8.432506   \n",
       "...    ...    ...             ...           ...                    ...   \n",
       "96748    4     12        0.225186      7.714678               7.335634   \n",
       "96749    4     12        0.156902      9.202812               8.888343   \n",
       "96750    4     12        0.157967      8.078998               9.332470   \n",
       "96751    4     12        0.182557      9.265870               7.646354   \n",
       "96752    4     12        0.180697      9.348100               9.301916   \n",
       "\n",
       "       Merch state_log  amount_log  Fraud  \n",
       "0             5.379898    1.286502      0  \n",
       "1             5.241748    3.447448      0  \n",
       "2             5.252274    5.184533      0  \n",
       "3             5.379898    1.286502      0  \n",
       "4             5.379898    1.286502      0  \n",
       "...                ...         ...    ...  \n",
       "96748         5.231109    4.440179      0  \n",
       "96749         5.332719    4.777021      0  \n",
       "96750         5.332719    5.895945      0  \n",
       "96751         5.159056    7.697135      0  \n",
       "96752         5.308268    6.318319      0  \n",
       "\n",
       "[96753 rows x 8 columns]"
      ]
     },
     "execution_count": 84,
     "metadata": {},
     "output_type": "execute_result"
    }
   ],
   "source": [
    "df = credit_card[['day', 'month', 'Cardnum_minmax','Merchnum_log','Merch description_log', 'Merch state_log', 'amount_log','Fraud']]\n",
    "df"
   ]
  },
  {
   "cell_type": "code",
   "execution_count": 85,
   "id": "4391e5e7",
   "metadata": {},
   "outputs": [
    {
     "name": "stdout",
     "output_type": "stream",
     "text": [
      "0    95694\n",
      "1     1059\n",
      "Name: Fraud, dtype: int64\n",
      "\n",
      "\n",
      "0    0.989055\n",
      "1    0.010945\n",
      "Name: Fraud, dtype: float64\n"
     ]
    }
   ],
   "source": [
    "print(df['Fraud'].value_counts())\n",
    "print('\\n')\n",
    "print(df['Fraud'].value_counts(normalize=True))"
   ]
  },
  {
   "cell_type": "code",
   "execution_count": 86,
   "id": "03a59671",
   "metadata": {},
   "outputs": [
    {
     "name": "stdout",
     "output_type": "stream",
     "text": [
      "Fraud Data Shape:  (1059, 8)\n",
      "Non-Fraud Data Shape:  (1059, 8)\n"
     ]
    }
   ],
   "source": [
    "#First Method of solving this problem which comes in mind will be by \n",
    "#taking same number of records of the majority class as the minority class\n",
    "fraud_data = df.loc[df[\"Fraud\"] == 1]\n",
    "non_fraud_data = df.loc[df[\"Fraud\"] == 0][:1059]\n",
    "\n",
    "#concating the above dataframes to get a single dataframe\n",
    "normal_distributed_df = pd.concat([fraud_data, non_fraud_data])\n",
    "\n",
    "# Shuffle dataframe rows\n",
    "new_df = normal_distributed_df.sample(frac=1, random_state=42)\n",
    "# setting up separate dataframes for fraud and non_fraud data for detailed analysis and comparison\n",
    "\n",
    "print(\"Fraud Data Shape: \", fraud_data.shape)\n",
    "print(\"Non-Fraud Data Shape: \", non_fraud_data.shape)"
   ]
  },
  {
   "cell_type": "code",
   "execution_count": 147,
   "id": "be435481",
   "metadata": {},
   "outputs": [
    {
     "data": {
      "text/plain": [
       "(424, 7)"
      ]
     },
     "execution_count": 147,
     "metadata": {},
     "output_type": "execute_result"
    }
   ],
   "source": [
    "#splitting the dataset\n",
    "X_train, X_test = train_test_split(new_df, test_size=0.2, random_state=42)\n",
    "\n",
    "X_train = X_train[X_train.Fraud == 0]\n",
    "X_train = X_train.drop(['Fraud'], axis=1)\n",
    "\n",
    "y_test = X_test['Fraud']\n",
    "X_test = X_test.drop(['Fraud'], axis=1)\n",
    "\n",
    "X_train = X_train\n",
    "X_test = X_test\n",
    "\n",
    "\n",
    "X_train.shape\n",
    "X_test.shape"
   ]
  },
  {
   "cell_type": "code",
   "execution_count": 145,
   "id": "435c75d8",
   "metadata": {},
   "outputs": [
    {
     "data": {
      "text/plain": [
       "(851, 7)"
      ]
     },
     "execution_count": 145,
     "metadata": {},
     "output_type": "execute_result"
    }
   ],
   "source": [
    "X_train.shape"
   ]
  },
  {
   "cell_type": "markdown",
   "id": "d54d802e",
   "metadata": {},
   "source": [
    "### UNDERCOMPLETE AUTOENCODER"
   ]
  },
  {
   "cell_type": "markdown",
   "id": "22a1f9ad",
   "metadata": {},
   "source": [
    "The Autoencoder model for anomaly detection has some steps as follows: \n",
    "\n",
    "Step 1 is the encoder step. The essential information is extracted by a neural network model in this step.\n",
    "\n",
    "Step 2 is the decoder step. In this step, the model reconstructs the data using the extracted information.\n",
    "\n",
    "Step 3: Iterate step 1 and step 2 to adjust the model to minimize the difference between input and reconstructed output, until we get good reconstruction results for the training dataset.\n",
    "\n",
    "Step 4: Make predictions on a dataset that includes outliers.\n",
    "\n",
    "Step 5: Set up a threshold for outliers/anomalies by comparing the differences between the autoencoder model reconstruction value and the actual value.\n",
    "\n",
    "Step 6: Identify the data points with the difference higher than the threshold to be outliers or anomalies."
   ]
  },
  {
   "cell_type": "code",
   "execution_count": 89,
   "id": "ddc317d5",
   "metadata": {},
   "outputs": [],
   "source": [
    "# 'tanh' is used for the activation function of the encoded network \n",
    "# because it has big learning steps and results in strong or higher gradients\n",
    "\n",
    "#relu is used on the bottle neck (latent low representation) \n",
    "#because model performance is better when trained with relu\n",
    "\n",
    "#sigmoid is used for binary classification and since we have \n",
    "#fraud and non fraudclass then it is good for this problem\n",
    "\n",
    "#In the input layer, we specified the shape of the dataset. "
   ]
  },
  {
   "cell_type": "code",
   "execution_count": 90,
   "id": "b67eb539",
   "metadata": {},
   "outputs": [],
   "source": [
    "n_features = (X_train.shape[1])\n",
    "encoder = models.Sequential(name='encoder')\n",
    "encoder.add(layer=layers.Dense(units=200, activation=activations.tanh, activity_regularizer=regularizers.l1(1e-3),input_shape=[n_features]))\n",
    "encoder.add(layer=layers.Dense(units=100, activation=activations.tanh))\n",
    "encoder.add(layer=layers.Dense(units=5, activation=activations.relu))\n",
    "\n",
    "decoder = models.Sequential(name='decoder')\n",
    "decoder.add(layer=layers.Dense(units=100, activation=activations.tanh, input_shape=[5]))\n",
    "decoder.add(layer=layers.Dense(units=200, activation=activations.tanh))\n",
    "decoder.add(layer=layers.Dense(units=n_features, activation=activations.sigmoid))\n",
    "\n",
    "autoencoder = models.Sequential([encoder, decoder])\n",
    "\n",
    "autoencoder.compile(loss=losses.MSE,optimizer=optimizers.Adam(),metrics=[metrics.mean_squared_error])"
   ]
  },
  {
   "cell_type": "code",
   "execution_count": 91,
   "id": "9bcb6443",
   "metadata": {},
   "outputs": [
    {
     "name": "stdout",
     "output_type": "stream",
     "text": [
      "Epoch 1/80\n",
      "4/4 [==============================] - 3s 395ms/step - loss: 24.9636 - mean_squared_error: 24.8266 - val_loss: 29.0345 - val_mean_squared_error: 28.8940\n",
      "Epoch 2/80\n",
      "4/4 [==============================] - 0s 32ms/step - loss: 22.8492 - mean_squared_error: 22.7122 - val_loss: 28.1524 - val_mean_squared_error: 28.0120\n",
      "Epoch 3/80\n",
      "4/4 [==============================] - 0s 33ms/step - loss: 22.4088 - mean_squared_error: 22.2716 - val_loss: 27.7616 - val_mean_squared_error: 27.6216\n",
      "Epoch 4/80\n",
      "4/4 [==============================] - 0s 33ms/step - loss: 22.2817 - mean_squared_error: 22.1449 - val_loss: 27.5129 - val_mean_squared_error: 27.3737\n",
      "Epoch 5/80\n",
      "4/4 [==============================] - 0s 36ms/step - loss: 22.2278 - mean_squared_error: 22.0919 - val_loss: 27.4009 - val_mean_squared_error: 27.2628\n",
      "Epoch 6/80\n",
      "4/4 [==============================] - 0s 35ms/step - loss: 22.2098 - mean_squared_error: 22.0753 - val_loss: 27.3540 - val_mean_squared_error: 27.2173\n",
      "Epoch 7/80\n",
      "4/4 [==============================] - 0s 36ms/step - loss: 22.2037 - mean_squared_error: 22.0709 - val_loss: 27.3311 - val_mean_squared_error: 27.1959\n",
      "Epoch 8/80\n",
      "4/4 [==============================] - 0s 36ms/step - loss: 22.2001 - mean_squared_error: 22.0691 - val_loss: 27.3179 - val_mean_squared_error: 27.1845\n",
      "Epoch 9/80\n",
      "4/4 [==============================] - 0s 38ms/step - loss: 22.1971 - mean_squared_error: 22.0682 - val_loss: 27.3094 - val_mean_squared_error: 27.1778\n",
      "Epoch 10/80\n",
      "4/4 [==============================] - 0s 36ms/step - loss: 22.1942 - mean_squared_error: 22.0675 - val_loss: 27.3032 - val_mean_squared_error: 27.1736\n",
      "Epoch 11/80\n",
      "4/4 [==============================] - 0s 34ms/step - loss: 22.1913 - mean_squared_error: 22.0671 - val_loss: 27.2981 - val_mean_squared_error: 27.1708\n",
      "Epoch 12/80\n",
      "4/4 [==============================] - 0s 36ms/step - loss: 22.1883 - mean_squared_error: 22.0667 - val_loss: 27.2936 - val_mean_squared_error: 27.1689\n",
      "Epoch 13/80\n",
      "4/4 [==============================] - 0s 39ms/step - loss: 22.1850 - mean_squared_error: 22.0664 - val_loss: 27.2894 - val_mean_squared_error: 27.1675\n",
      "Epoch 14/80\n",
      "4/4 [==============================] - 0s 39ms/step - loss: 22.1815 - mean_squared_error: 22.0662 - val_loss: 27.2852 - val_mean_squared_error: 27.1665\n",
      "Epoch 15/80\n",
      "4/4 [==============================] - 0s 36ms/step - loss: 22.1777 - mean_squared_error: 22.0659 - val_loss: 27.2811 - val_mean_squared_error: 27.1657\n",
      "Epoch 16/80\n",
      "4/4 [==============================] - 0s 36ms/step - loss: 22.1736 - mean_squared_error: 22.0657 - val_loss: 27.2773 - val_mean_squared_error: 27.1652\n",
      "Epoch 17/80\n",
      "4/4 [==============================] - 0s 34ms/step - loss: 22.1692 - mean_squared_error: 22.0655 - val_loss: 27.2740 - val_mean_squared_error: 27.1650\n",
      "Epoch 18/80\n",
      "4/4 [==============================] - 0s 33ms/step - loss: 22.1647 - mean_squared_error: 22.0654 - val_loss: 27.2711 - val_mean_squared_error: 27.1649\n",
      "Epoch 19/80\n",
      "4/4 [==============================] - 0s 33ms/step - loss: 22.1606 - mean_squared_error: 22.0652 - val_loss: 27.2688 - val_mean_squared_error: 27.1651\n",
      "Epoch 20/80\n",
      "4/4 [==============================] - 0s 37ms/step - loss: 22.1568 - mean_squared_error: 22.0651 - val_loss: 27.2669 - val_mean_squared_error: 27.1653\n",
      "Epoch 21/80\n",
      "4/4 [==============================] - 0s 36ms/step - loss: 22.1535 - mean_squared_error: 22.0651 - val_loss: 27.2652 - val_mean_squared_error: 27.1656\n",
      "Epoch 22/80\n",
      "4/4 [==============================] - 0s 37ms/step - loss: 22.1504 - mean_squared_error: 22.0650 - val_loss: 27.2636 - val_mean_squared_error: 27.1659\n",
      "Epoch 23/80\n",
      "4/4 [==============================] - 0s 34ms/step - loss: 22.1474 - mean_squared_error: 22.0649 - val_loss: 27.2619 - val_mean_squared_error: 27.1663\n",
      "Epoch 24/80\n",
      "4/4 [==============================] - 0s 36ms/step - loss: 22.1443 - mean_squared_error: 22.0649 - val_loss: 27.2605 - val_mean_squared_error: 27.1670\n",
      "Epoch 25/80\n",
      "4/4 [==============================] - 0s 32ms/step - loss: 22.1414 - mean_squared_error: 22.0648 - val_loss: 27.2600 - val_mean_squared_error: 27.1681\n",
      "Epoch 26/80\n",
      "4/4 [==============================] - 0s 39ms/step - loss: 22.1393 - mean_squared_error: 22.0648 - val_loss: 27.2603 - val_mean_squared_error: 27.1699\n",
      "Epoch 27/80\n",
      "4/4 [==============================] - 0s 35ms/step - loss: 22.1372 - mean_squared_error: 22.0648 - val_loss: 27.2611 - val_mean_squared_error: 27.1725\n",
      "Epoch 28/80\n",
      "4/4 [==============================] - 0s 36ms/step - loss: 22.1348 - mean_squared_error: 22.0648 - val_loss: 27.2630 - val_mean_squared_error: 27.1764\n",
      "Epoch 29/80\n",
      "4/4 [==============================] - 0s 36ms/step - loss: 22.1323 - mean_squared_error: 22.0647 - val_loss: 27.2668 - val_mean_squared_error: 27.1816\n",
      "Epoch 30/80\n",
      "4/4 [==============================] - 0s 37ms/step - loss: 22.1299 - mean_squared_error: 22.0647 - val_loss: 27.2725 - val_mean_squared_error: 27.1885\n",
      "Epoch 31/80\n",
      "4/4 [==============================] - 0s 32ms/step - loss: 22.1279 - mean_squared_error: 22.0647 - val_loss: 27.2800 - val_mean_squared_error: 27.1966\n",
      "Epoch 32/80\n",
      "4/4 [==============================] - 0s 36ms/step - loss: 22.1264 - mean_squared_error: 22.0648 - val_loss: 27.2886 - val_mean_squared_error: 27.2060\n",
      "Epoch 33/80\n",
      "4/4 [==============================] - 0s 39ms/step - loss: 22.1248 - mean_squared_error: 22.0648 - val_loss: 27.2979 - val_mean_squared_error: 27.2163\n",
      "Epoch 34/80\n",
      "4/4 [==============================] - 0s 33ms/step - loss: 22.1231 - mean_squared_error: 22.0647 - val_loss: 27.3090 - val_mean_squared_error: 27.2286\n",
      "Epoch 35/80\n",
      "4/4 [==============================] - 0s 34ms/step - loss: 22.1216 - mean_squared_error: 22.0647 - val_loss: 27.3241 - val_mean_squared_error: 27.2448\n",
      "Epoch 36/80\n",
      "4/4 [==============================] - 0s 31ms/step - loss: 22.1200 - mean_squared_error: 22.0647 - val_loss: 27.3427 - val_mean_squared_error: 27.2643\n",
      "Epoch 37/80\n",
      "4/4 [==============================] - 0s 32ms/step - loss: 22.1187 - mean_squared_error: 22.0647 - val_loss: 27.3679 - val_mean_squared_error: 27.2905\n",
      "Epoch 38/80\n",
      "4/4 [==============================] - 0s 31ms/step - loss: 22.1174 - mean_squared_error: 22.0647 - val_loss: 27.3992 - val_mean_squared_error: 27.3226\n",
      "Epoch 39/80\n",
      "4/4 [==============================] - 0s 33ms/step - loss: 22.1162 - mean_squared_error: 22.0647 - val_loss: 27.4319 - val_mean_squared_error: 27.3563\n",
      "Epoch 40/80\n",
      "4/4 [==============================] - 0s 31ms/step - loss: 22.1149 - mean_squared_error: 22.0647 - val_loss: 27.4668 - val_mean_squared_error: 27.3921\n",
      "Epoch 41/80\n",
      "4/4 [==============================] - 0s 27ms/step - loss: 22.1135 - mean_squared_error: 22.0646 - val_loss: 27.4980 - val_mean_squared_error: 27.4243\n",
      "Epoch 42/80\n",
      "4/4 [==============================] - 0s 27ms/step - loss: 22.1121 - mean_squared_error: 22.0644 - val_loss: 27.5352 - val_mean_squared_error: 27.4620\n",
      "Epoch 43/80\n",
      "4/4 [==============================] - 0s 29ms/step - loss: 22.1111 - mean_squared_error: 22.0642 - val_loss: 27.5810 - val_mean_squared_error: 27.5085\n",
      "Epoch 44/80\n",
      "4/4 [==============================] - 0s 30ms/step - loss: 22.1098 - mean_squared_error: 22.0638 - val_loss: 27.6260 - val_mean_squared_error: 27.5543\n",
      "Epoch 45/80\n",
      "4/4 [==============================] - 0s 32ms/step - loss: 22.1087 - mean_squared_error: 22.0634 - val_loss: 27.6672 - val_mean_squared_error: 27.5963\n",
      "Epoch 46/80\n",
      "4/4 [==============================] - 0s 30ms/step - loss: 22.1069 - mean_squared_error: 22.0625 - val_loss: 27.7085 - val_mean_squared_error: 27.6383\n",
      "Epoch 47/80\n",
      "4/4 [==============================] - 0s 33ms/step - loss: 22.1054 - mean_squared_error: 22.0618 - val_loss: 27.7577 - val_mean_squared_error: 27.6881\n",
      "Epoch 48/80\n",
      "4/4 [==============================] - 0s 31ms/step - loss: 22.1039 - mean_squared_error: 22.0611 - val_loss: 27.7961 - val_mean_squared_error: 27.7270\n",
      "Epoch 49/80\n",
      "4/4 [==============================] - 0s 33ms/step - loss: 22.1026 - mean_squared_error: 22.0606 - val_loss: 27.8263 - val_mean_squared_error: 27.7577\n",
      "Epoch 50/80\n",
      "4/4 [==============================] - 0s 32ms/step - loss: 22.1011 - mean_squared_error: 22.0599 - val_loss: 27.8614 - val_mean_squared_error: 27.7933\n",
      "Epoch 51/80\n"
     ]
    },
    {
     "name": "stdout",
     "output_type": "stream",
     "text": [
      "4/4 [==============================] - 0s 33ms/step - loss: 22.1001 - mean_squared_error: 22.0597 - val_loss: 27.9008 - val_mean_squared_error: 27.8331\n",
      "Epoch 52/80\n",
      "4/4 [==============================] - 0s 40ms/step - loss: 22.0990 - mean_squared_error: 22.0594 - val_loss: 27.9321 - val_mean_squared_error: 27.8648\n",
      "Epoch 53/80\n",
      "4/4 [==============================] - 0s 29ms/step - loss: 22.0980 - mean_squared_error: 22.0592 - val_loss: 27.9493 - val_mean_squared_error: 27.8823\n",
      "Epoch 54/80\n",
      "4/4 [==============================] - 0s 29ms/step - loss: 22.0971 - mean_squared_error: 22.0590 - val_loss: 27.9869 - val_mean_squared_error: 27.9204\n",
      "Epoch 55/80\n",
      "4/4 [==============================] - 0s 32ms/step - loss: 22.0962 - mean_squared_error: 22.0590 - val_loss: 28.0191 - val_mean_squared_error: 27.9532\n",
      "Epoch 56/80\n",
      "4/4 [==============================] - 0s 33ms/step - loss: 22.0952 - mean_squared_error: 22.0588 - val_loss: 28.0559 - val_mean_squared_error: 27.9904\n",
      "Epoch 57/80\n",
      "4/4 [==============================] - 0s 32ms/step - loss: 22.0945 - mean_squared_error: 22.0587 - val_loss: 28.0779 - val_mean_squared_error: 28.0129\n",
      "Epoch 58/80\n",
      "4/4 [==============================] - 0s 37ms/step - loss: 22.0938 - mean_squared_error: 22.0586 - val_loss: 28.1041 - val_mean_squared_error: 28.0395\n",
      "Epoch 59/80\n",
      "4/4 [==============================] - 0s 36ms/step - loss: 22.0930 - mean_squared_error: 22.0586 - val_loss: 28.1528 - val_mean_squared_error: 28.0887\n",
      "Epoch 60/80\n",
      "4/4 [==============================] - 0s 34ms/step - loss: 22.0922 - mean_squared_error: 22.0585 - val_loss: 28.2311 - val_mean_squared_error: 28.1676\n",
      "Epoch 61/80\n",
      "4/4 [==============================] - 0s 33ms/step - loss: 22.0913 - mean_squared_error: 22.0586 - val_loss: 28.3139 - val_mean_squared_error: 28.2511\n",
      "Epoch 62/80\n",
      "4/4 [==============================] - 0s 33ms/step - loss: 22.0905 - mean_squared_error: 22.0587 - val_loss: 28.3557 - val_mean_squared_error: 28.2934\n",
      "Epoch 63/80\n",
      "4/4 [==============================] - 0s 35ms/step - loss: 22.0899 - mean_squared_error: 22.0587 - val_loss: 28.3440 - val_mean_squared_error: 28.2823\n",
      "Epoch 64/80\n",
      "4/4 [==============================] - 0s 33ms/step - loss: 22.0892 - mean_squared_error: 22.0585 - val_loss: 28.3236 - val_mean_squared_error: 28.2623\n",
      "Epoch 65/80\n",
      "4/4 [==============================] - 0s 34ms/step - loss: 22.0885 - mean_squared_error: 22.0584 - val_loss: 28.3239 - val_mean_squared_error: 28.2630\n",
      "Epoch 66/80\n",
      "4/4 [==============================] - 0s 37ms/step - loss: 22.0878 - mean_squared_error: 22.0584 - val_loss: 28.3430 - val_mean_squared_error: 28.2823\n",
      "Epoch 67/80\n",
      "4/4 [==============================] - 0s 33ms/step - loss: 22.0873 - mean_squared_error: 22.0584 - val_loss: 28.3615 - val_mean_squared_error: 28.3012\n",
      "Epoch 68/80\n",
      "4/4 [==============================] - 0s 32ms/step - loss: 22.0866 - mean_squared_error: 22.0584 - val_loss: 28.3602 - val_mean_squared_error: 28.3003\n",
      "Epoch 69/80\n",
      "4/4 [==============================] - 0s 36ms/step - loss: 22.0861 - mean_squared_error: 22.0583 - val_loss: 28.3621 - val_mean_squared_error: 28.3025\n",
      "Epoch 70/80\n",
      "4/4 [==============================] - 0s 33ms/step - loss: 22.0856 - mean_squared_error: 22.0582 - val_loss: 28.3609 - val_mean_squared_error: 28.3015\n",
      "Epoch 71/80\n",
      "4/4 [==============================] - 0s 35ms/step - loss: 22.0852 - mean_squared_error: 22.0581 - val_loss: 28.3585 - val_mean_squared_error: 28.2994\n",
      "Epoch 72/80\n",
      "4/4 [==============================] - 0s 33ms/step - loss: 22.0847 - mean_squared_error: 22.0581 - val_loss: 28.3569 - val_mean_squared_error: 28.2979\n",
      "Epoch 73/80\n",
      "4/4 [==============================] - 0s 39ms/step - loss: 22.0843 - mean_squared_error: 22.0580 - val_loss: 28.3475 - val_mean_squared_error: 28.2888\n",
      "Epoch 74/80\n",
      "4/4 [==============================] - 0s 44ms/step - loss: 22.0839 - mean_squared_error: 22.0579 - val_loss: 28.3497 - val_mean_squared_error: 28.2913\n",
      "Epoch 75/80\n",
      "4/4 [==============================] - 0s 41ms/step - loss: 22.0835 - mean_squared_error: 22.0578 - val_loss: 28.3522 - val_mean_squared_error: 28.2939\n",
      "Epoch 76/80\n",
      "4/4 [==============================] - 0s 46ms/step - loss: 22.0831 - mean_squared_error: 22.0578 - val_loss: 28.3577 - val_mean_squared_error: 28.2996\n",
      "Epoch 77/80\n",
      "4/4 [==============================] - 0s 43ms/step - loss: 22.0827 - mean_squared_error: 22.0578 - val_loss: 28.3553 - val_mean_squared_error: 28.2974\n",
      "Epoch 78/80\n",
      "4/4 [==============================] - 0s 38ms/step - loss: 22.0823 - mean_squared_error: 22.0577 - val_loss: 28.3502 - val_mean_squared_error: 28.2925\n",
      "Epoch 79/80\n",
      "4/4 [==============================] - 0s 42ms/step - loss: 22.0819 - mean_squared_error: 22.0577 - val_loss: 28.3468 - val_mean_squared_error: 28.2893\n",
      "Epoch 80/80\n",
      "4/4 [==============================] - 0s 34ms/step - loss: 22.0816 - mean_squared_error: 22.0577 - val_loss: 28.3569 - val_mean_squared_error: 28.2996\n"
     ]
    }
   ],
   "source": [
    "# compiling the auto encoder model  with the optimizer of adam and the loss of mse (Mean squared Error).\n",
    "#autoencoder.compile(optimizer=\"adam\", loss=\"mse\", metrics=['AUC'])\n",
    "\n",
    "#When fitting the autoencoder model, we can see that the input and output datasets are the same,\n",
    "#which is the dataset that contains only the normal data points.\n",
    "\n",
    "#The epochs of 50 and batch_size of 32 mean the model uses 32 datapoints to update the weights in each iteration, \n",
    "#and the model will go through the whole training dataset 50 times.\n",
    "\n",
    "#shuffle=True will shuffle the dataset before each epoch.\n",
    "\n",
    "# training the auto encoder model on non fraud data \n",
    "history = autoencoder.fit(X_train, X_train,batch_size=256,epochs=80,shuffle=True,validation_data=(X_test, X_test))"
   ]
  },
  {
   "cell_type": "code",
   "execution_count": 150,
   "id": "7dad350d-ac60-4e8c-9783-424e8f31093c",
   "metadata": {},
   "outputs": [
    {
     "name": "stdout",
     "output_type": "stream",
     "text": [
      "INFO:tensorflow:Assets written to: ram://3d153e79-ccc6-40a2-ae0b-aefa1a262d03/assets\n",
      "14/14 [==============================] - 0s 1ms/step\n",
      "[[0.8267001  0.68464583 0.39931995 ... 0.84676313 0.8716794  0.8536981 ]\n",
      " [0.9994763  0.9879127  0.11793514 ... 0.9998945  0.9998581  0.9997725 ]\n",
      " [0.9995483  0.9888426  0.11960863 ... 0.99987274 0.9998494  0.99976015]\n",
      " ...\n",
      " [0.9776674  0.8897537  0.2548216  ... 0.9861691  0.98774225 0.9821268 ]\n",
      " [0.9780686  0.89563555 0.25220764 ... 0.9867317  0.98743284 0.9822171 ]\n",
      " [0.99962556 0.99008024 0.11673571 ... 0.99989974 0.9998783  0.999809  ]]\n",
      "14/14 [==============================] - 0s 1ms/step - loss: 0.5259 - mean_squared_error: 0.4651\n",
      "Evaluation From traind model: [0.5258944034576416, 0.4651283323764801]\n"
     ]
    }
   ],
   "source": [
    "import joblib\n",
    "\n",
    "# Save Model\n",
    "model = autoencoder\n",
    "filename = \"./api/models/Completed_model.joblib\"\n",
    "joblib.dump(model, filename)\n",
    "\n",
    "# Save columns in order\n",
    "# print(\"The X_Test\", X_test.columns)\n",
    "# print(\"The X_train\", X_train.columns)\n",
    "pd.DataFrame(X_train.columns).to_csv(\"./api/models/feature_list.csv\", index = None)\n",
    "\n",
    "pd.DataFrame(X_test).to_csv(\"./api/models/X_test.csv\", index = None)\n",
    "\n",
    "# Save data types of train set\n",
    "pd.DataFrame(X_train.dtypes).reset_index().to_csv(\"./api/models/data_types.csv\", index = None)\n",
    "\n",
    "pred1 = autoencoder.predict(X_test)\n",
    "print(pred1)\n",
    "pred1 = pd.DataFrame(pred1).to_csv('./api/models/data1.csv')\n",
    "\n",
    "loaded_model = joblib.load(filename)\n",
    "result = loaded_model.evaluate(X_test, y_test)\n",
    "print(\"Evaluation From traind model:\", result)\n"
   ]
  },
  {
   "cell_type": "code",
   "execution_count": 149,
   "id": "cfdf4ea2",
   "metadata": {},
   "outputs": [
    {
     "data": {
      "text/plain": [
       "Text(0.5, 1.0, 'Loss Curves')"
      ]
     },
     "execution_count": 149,
     "metadata": {},
     "output_type": "execute_result"
    },
    {
     "data": {
      "image/png": "[encoded data removed]",
      "text/plain": [
       "<Figure size 432x288 with 1 Axes>"
      ]
     },
     "metadata": {
      "needs_background": "light"
     },
     "output_type": "display_data"
    }
   ],
   "source": [
    "# Loss curve\n",
    "\n",
    "plt.plot(history.history[\"loss\"], \"black\", linewidth=2.0)\n",
    "plt.plot(history.history[\"val_loss\"], \"green\", linewidth=2.0)\n",
    "plt.legend([\"Training Loss\", \"Validation Loss\"], fontsize=14)\n",
    "plt.xlabel(\"Epochs\", fontsize=10)\n",
    "plt.ylabel(\"Loss\", fontsize=10)\n",
    "plt.title(\"Loss Curves\", fontsize=12)"
   ]
  },
  {
   "cell_type": "code",
   "execution_count": 140,
   "id": "62024657",
   "metadata": {},
   "outputs": [
    {
     "name": "stdout",
     "output_type": "stream",
     "text": [
      "14/14 [==============================] - 0s 4ms/step\n"
     ]
    }
   ],
   "source": [
    "#we have an autoencoder model, let's use it to predict the outliers.\n",
    "#Firstly, we use .predict to get the reconstruction value for the testing data \n",
    "#set containing the usual data points and the outliers.\n",
    "\n",
    "\n",
    "# Predict anomalies/outliers in the training dataset\n",
    "prediction = autoencoder.predict(X_test)\n",
    "\n",
    "print(prediction)"
   ]
  },
  {
   "cell_type": "code",
   "execution_count": 94,
   "id": "d328b37a",
   "metadata": {},
   "outputs": [],
   "source": [
    "mse = np.mean(np.power(X_test - prediction, 2), axis=1)\n",
    "error_df = pd.DataFrame({'reconstruction_error': mse,\n",
    "                        'true_class': y_test})"
   ]
  },
  {
   "cell_type": "code",
   "execution_count": 95,
   "id": "34f4c67a",
   "metadata": {},
   "outputs": [
    {
     "data": {
      "text/html": [
       "<div>\n",
       "<style scoped>\n",
       "    .dataframe tbody tr th:only-of-type {\n",
       "        vertical-align: middle;\n",
       "    }\n",
       "\n",
       "    .dataframe tbody tr th {\n",
       "        vertical-align: top;\n",
       "    }\n",
       "\n",
       "    .dataframe thead th {\n",
       "        text-align: right;\n",
       "    }\n",
       "</style>\n",
       "<table border=\"1\" class=\"dataframe\">\n",
       "  <thead>\n",
       "    <tr style=\"text-align: right;\">\n",
       "      <th></th>\n",
       "      <th>reconstruction_error</th>\n",
       "      <th>true_class</th>\n",
       "    </tr>\n",
       "  </thead>\n",
       "  <tbody>\n",
       "    <tr>\n",
       "      <th>95234</th>\n",
       "      <td>35.179777</td>\n",
       "      <td>1</td>\n",
       "    </tr>\n",
       "    <tr>\n",
       "      <th>625</th>\n",
       "      <td>19.355102</td>\n",
       "      <td>0</td>\n",
       "    </tr>\n",
       "    <tr>\n",
       "      <th>84</th>\n",
       "      <td>25.104023</td>\n",
       "      <td>0</td>\n",
       "    </tr>\n",
       "    <tr>\n",
       "      <th>70701</th>\n",
       "      <td>36.682506</td>\n",
       "      <td>1</td>\n",
       "    </tr>\n",
       "    <tr>\n",
       "      <th>575</th>\n",
       "      <td>24.991239</td>\n",
       "      <td>0</td>\n",
       "    </tr>\n",
       "    <tr>\n",
       "      <th>...</th>\n",
       "      <td>...</td>\n",
       "      <td>...</td>\n",
       "    </tr>\n",
       "    <tr>\n",
       "      <th>62309</th>\n",
       "      <td>35.723155</td>\n",
       "      <td>1</td>\n",
       "    </tr>\n",
       "    <tr>\n",
       "      <th>36646</th>\n",
       "      <td>27.835445</td>\n",
       "      <td>1</td>\n",
       "    </tr>\n",
       "    <tr>\n",
       "      <th>62696</th>\n",
       "      <td>31.242016</td>\n",
       "      <td>1</td>\n",
       "    </tr>\n",
       "    <tr>\n",
       "      <th>50516</th>\n",
       "      <td>32.244133</td>\n",
       "      <td>1</td>\n",
       "    </tr>\n",
       "    <tr>\n",
       "      <th>907</th>\n",
       "      <td>20.480643</td>\n",
       "      <td>0</td>\n",
       "    </tr>\n",
       "  </tbody>\n",
       "</table>\n",
       "<p>424 rows × 2 columns</p>\n",
       "</div>"
      ],
      "text/plain": [
       "       reconstruction_error  true_class\n",
       "95234             35.179777           1\n",
       "625               19.355102           0\n",
       "84                25.104023           0\n",
       "70701             36.682506           1\n",
       "575               24.991239           0\n",
       "...                     ...         ...\n",
       "62309             35.723155           1\n",
       "36646             27.835445           1\n",
       "62696             31.242016           1\n",
       "50516             32.244133           1\n",
       "907               20.480643           0\n",
       "\n",
       "[424 rows x 2 columns]"
      ]
     },
     "execution_count": 95,
     "metadata": {},
     "output_type": "execute_result"
    }
   ],
   "source": [
    "error_df"
   ]
  },
  {
   "cell_type": "code",
   "execution_count": 96,
   "id": "6ce7cf9d",
   "metadata": {},
   "outputs": [
    {
     "data": {
      "text/html": [
       "<div>\n",
       "<style scoped>\n",
       "    .dataframe tbody tr th:only-of-type {\n",
       "        vertical-align: middle;\n",
       "    }\n",
       "\n",
       "    .dataframe tbody tr th {\n",
       "        vertical-align: top;\n",
       "    }\n",
       "\n",
       "    .dataframe thead th {\n",
       "        text-align: right;\n",
       "    }\n",
       "</style>\n",
       "<table border=\"1\" class=\"dataframe\">\n",
       "  <thead>\n",
       "    <tr style=\"text-align: right;\">\n",
       "      <th></th>\n",
       "      <th>reconstruction_error</th>\n",
       "      <th>true_class</th>\n",
       "    </tr>\n",
       "  </thead>\n",
       "  <tbody>\n",
       "    <tr>\n",
       "      <th>count</th>\n",
       "      <td>424.000000</td>\n",
       "      <td>424.000000</td>\n",
       "    </tr>\n",
       "    <tr>\n",
       "      <th>mean</th>\n",
       "      <td>28.299634</td>\n",
       "      <td>0.509434</td>\n",
       "    </tr>\n",
       "    <tr>\n",
       "      <th>std</th>\n",
       "      <td>7.977062</td>\n",
       "      <td>0.500502</td>\n",
       "    </tr>\n",
       "    <tr>\n",
       "      <th>min</th>\n",
       "      <td>10.814408</td>\n",
       "      <td>0.000000</td>\n",
       "    </tr>\n",
       "    <tr>\n",
       "      <th>25%</th>\n",
       "      <td>21.656245</td>\n",
       "      <td>0.000000</td>\n",
       "    </tr>\n",
       "    <tr>\n",
       "      <th>50%</th>\n",
       "      <td>26.548335</td>\n",
       "      <td>1.000000</td>\n",
       "    </tr>\n",
       "    <tr>\n",
       "      <th>75%</th>\n",
       "      <td>35.294780</td>\n",
       "      <td>1.000000</td>\n",
       "    </tr>\n",
       "    <tr>\n",
       "      <th>max</th>\n",
       "      <td>50.166683</td>\n",
       "      <td>1.000000</td>\n",
       "    </tr>\n",
       "  </tbody>\n",
       "</table>\n",
       "</div>"
      ],
      "text/plain": [
       "       reconstruction_error  true_class\n",
       "count            424.000000  424.000000\n",
       "mean              28.299634    0.509434\n",
       "std                7.977062    0.500502\n",
       "min               10.814408    0.000000\n",
       "25%               21.656245    0.000000\n",
       "50%               26.548335    1.000000\n",
       "75%               35.294780    1.000000\n",
       "max               50.166683    1.000000"
      ]
     },
     "execution_count": 96,
     "metadata": {},
     "output_type": "execute_result"
    }
   ],
   "source": [
    "error_df.describe()"
   ]
  },
  {
   "cell_type": "code",
   "execution_count": 97,
   "id": "3d8491e3",
   "metadata": {},
   "outputs": [
    {
     "data": {
      "text/plain": [
       "<tf.Tensor: shape=(424,), dtype=float64, numpy=\n",
       "array([35.17977664, 19.35510199, 25.10402311, 36.68250602, 24.99123944,\n",
       "       36.79005913, 38.82667915, 19.60715045, 37.47828866, 34.37429506,\n",
       "       25.76306657, 45.44287652, 37.92472453, 24.77223469, 39.32284439,\n",
       "       23.45300851, 41.5359904 , 20.42560147, 20.71310848, 30.54781079,\n",
       "       42.30800559, 21.59992605, 28.45114174, 21.80623881, 20.38653082,\n",
       "       24.55144951, 18.72909264, 18.72909264, 31.6146359 , 37.25678945,\n",
       "       41.22518322, 24.28126357, 31.78467173, 24.30411393, 35.62600429,\n",
       "       24.55040004, 21.8022232 , 34.43606698, 35.68904249, 43.19853758,\n",
       "       24.91844751, 36.66479009, 27.35772507, 18.7278213 , 29.00706279,\n",
       "       26.91835473, 47.41923363, 40.0790997 , 38.99718719, 29.34438116,\n",
       "       26.4783342 , 38.02251909, 25.43738587, 27.16927547, 22.39452154,\n",
       "       22.44414137, 43.88504957, 21.60714981, 41.20535418, 36.4119181 ,\n",
       "       23.34960202, 33.00636878, 21.48567916, 24.48663402, 33.85444374,\n",
       "       20.6118738 , 32.92831762, 28.86947583, 29.40984168, 20.52881269,\n",
       "       21.32811434, 24.56677819, 21.63413942, 32.96451594, 32.14906897,\n",
       "       35.6131433 , 23.6631981 , 22.64429465, 42.52725543, 18.72909264,\n",
       "       26.79319912, 23.2235072 , 36.58457888, 27.16661774, 34.01695866,\n",
       "       27.06167092, 24.15912931, 33.75909682, 37.28610346, 35.28871862,\n",
       "       19.14787009, 24.90535449, 22.47258596, 20.66714812, 43.29814951,\n",
       "       18.72909264, 33.42725269, 20.57139603, 20.0558228 , 47.50402542,\n",
       "       36.40439071, 40.14618056, 35.67791772, 25.67302205, 32.50368355,\n",
       "       22.96050113, 23.281368  , 42.63224177, 27.83818212, 29.70137468,\n",
       "       17.80474487, 24.0312901 , 43.27097497, 23.12744004, 33.25589127,\n",
       "       19.93533116, 21.96371466, 18.91557407, 21.12282218, 22.28088202,\n",
       "       40.91016871, 23.17135587, 19.99302375, 29.63413407, 41.04765656,\n",
       "       29.04073371, 19.19015851, 26.85300992, 25.28120734, 33.74689634,\n",
       "       25.02779002, 21.17020977, 17.17494798, 19.4971408 , 36.72152554,\n",
       "       22.79186696, 25.47516407, 10.81440824, 18.27718075, 37.63666732,\n",
       "       23.99742905, 19.1806714 , 25.08936756, 32.17460399, 36.63393897,\n",
       "       21.49870784, 20.51314109, 19.71491448, 22.9266837 , 38.71029953,\n",
       "       20.40793515, 36.9302585 , 33.16595489, 26.4980703 , 31.31751136,\n",
       "       28.48311604, 31.32769527, 21.8732476 , 40.50343805, 37.01938743,\n",
       "       37.11290234, 36.44074228, 41.7847548 , 23.16126733, 19.02578197,\n",
       "       13.5377575 , 20.80876962, 18.87998944, 25.25573972, 18.85753292,\n",
       "       23.51558497, 20.83545512, 22.14666175, 23.00611735, 37.91309637,\n",
       "       22.312621  , 21.22975108, 36.40875077, 32.58662498, 29.86538084,\n",
       "       37.59408047, 33.41279586, 49.18229794, 22.67630917, 29.14310776,\n",
       "       33.82144536, 21.68765028, 13.39570664, 36.92245485, 35.68346238,\n",
       "       39.62181499, 22.12456795, 25.19961833, 26.79374924, 36.58245496,\n",
       "       36.40883464, 34.34643832, 22.1113372 , 19.7715994 , 23.92512563,\n",
       "       22.69865482, 23.41857865, 37.05371451, 19.96202171, 34.48464284,\n",
       "       41.07500744, 13.01824364, 23.05428814, 26.60762528, 20.4092915 ,\n",
       "       32.94519576, 27.52198024, 50.1666828 , 27.99831553, 22.63269198,\n",
       "       47.10025539, 45.03375162, 20.44662513, 22.61792307, 36.4191701 ,\n",
       "       45.02218276, 23.73027317, 18.64963   , 27.23457832, 41.32736151,\n",
       "       21.19244424, 26.01073698, 27.45110704, 19.99363618, 43.36202659,\n",
       "       21.66601567, 29.15079973, 35.0352985 , 40.56037247, 34.28203126,\n",
       "       37.93816461, 25.14549954, 23.33435098, 21.18912008, 39.11923029,\n",
       "       20.77219807, 13.30786646, 23.94653975, 39.63053392, 14.9953501 ,\n",
       "       24.88584462, 21.51612385, 39.49147234, 20.52011899, 37.41105876,\n",
       "       27.31123094, 16.0123468 , 21.78126015, 22.50457935, 32.48248986,\n",
       "       17.63363845, 27.21425803, 20.70145412, 26.83472394, 34.30592301,\n",
       "       25.20488964, 19.03990483, 20.15343327, 37.22552406, 36.18441864,\n",
       "       22.22092304, 21.02700205, 30.27380022, 18.7278213 , 23.69427997,\n",
       "       33.87217557, 46.66781127, 37.09455569, 26.50806446, 32.89865301,\n",
       "       26.80271046, 27.21815384, 24.00360258, 27.32998988, 39.5981149 ,\n",
       "       22.50111431, 19.99302375, 21.86526627, 26.41847774, 37.70086199,\n",
       "       29.06934795, 21.77596323, 18.79134351, 21.44170952, 31.16740232,\n",
       "       19.67445459, 19.87209898, 35.13466181, 40.63078957, 18.05285042,\n",
       "       36.33943995, 39.78014458, 12.12054477, 29.02425843, 18.54952434,\n",
       "       28.7796952 , 39.44799132, 40.57687398, 37.04695812, 34.46931815,\n",
       "       21.11263935, 30.2664422 , 35.24654352, 18.85351512, 21.09565985,\n",
       "       18.84588662, 20.83416113, 20.00195671, 25.60830776, 18.7228291 ,\n",
       "       25.32988542, 19.99980908, 30.31621704, 26.45418473, 19.62072669,\n",
       "       34.70941125, 24.19976614, 26.63266517, 32.97396189, 24.15383214,\n",
       "       24.28330272, 27.90232633, 18.94177534, 39.31563683, 23.89535363,\n",
       "       42.88258537, 35.08513502, 42.71042796, 24.20871769, 25.58876356,\n",
       "       21.66361399, 24.0208398 , 33.35705184, 22.51662491, 22.06066516,\n",
       "       38.22825471, 19.64269512, 41.26993314, 18.79134345, 23.02848997,\n",
       "       35.3129643 , 23.60761539, 37.05262012, 26.58860556, 30.77691329,\n",
       "       31.76016415, 28.05070061, 22.34478475, 41.11529703, 21.19583047,\n",
       "       19.99551611, 26.80683714, 39.85567369, 28.2147707 , 36.4734114 ,\n",
       "       26.0227451 , 39.50378913, 30.71120373, 34.68251732, 21.24193421,\n",
       "       20.67114378, 36.58742025, 22.95499585, 16.72397744, 35.57316277,\n",
       "       28.05496443, 25.12804359, 24.18041779, 31.72229968, 20.55862895,\n",
       "       20.26955281, 44.02904252, 33.76560925, 22.40632765, 26.61038002,\n",
       "       35.73103268, 33.08339676, 35.88023293, 22.90579561, 22.60142952,\n",
       "       29.4196466 , 22.12214952, 34.01245211, 36.68040834, 26.02467541,\n",
       "       16.33415767, 21.21174793, 18.79134345, 34.54179532, 19.99744482,\n",
       "       37.36044461, 20.17209761, 33.0441567 , 21.13291146, 26.72137898,\n",
       "       23.68553241, 19.43608424, 38.98815782, 43.0395538 , 25.40631292,\n",
       "       31.26475874, 39.3067892 , 19.92326974, 18.16759062, 22.93100883,\n",
       "       36.19396233, 22.41885842, 36.76525741, 27.60231494, 36.56102299,\n",
       "       20.26720842, 29.02920942, 17.79916877, 20.13548926, 35.72315546,\n",
       "       27.83544505, 31.2420161 , 32.2441334 , 20.4806427 ])>"
      ]
     },
     "execution_count": 42,
     "metadata": {},
     "output_type": "execute_result"
    }
   ],
   "source": [
    "# Get the mean squared error between actual and reconstruction/prediction\n",
    "prediction_loss = tf.keras.losses.mse(prediction, X_test)\n",
    "prediction_loss"
   ]
  },
  {
   "cell_type": "code",
   "execution_count": 43,
   "id": "8a116b53",
   "metadata": {},
   "outputs": [
    {
     "name": "stdout",
     "output_type": "stream",
     "text": [
      "The prediction loss threshold for 50% of outliers is 26.55\n"
     ]
    }
   ],
   "source": [
    "# Check the prediction loss threshold for 50% of outliers\n",
    "loss_threshold = np.percentile(prediction_loss, 50)\n",
    "print(f'The prediction loss threshold for 50% of outliers is {loss_threshold:.2f}')"
   ]
  },
  {
   "cell_type": "code",
   "execution_count": 44,
   "id": "5014a34b",
   "metadata": {},
   "outputs": [
    {
     "data": {
      "image/png": "[encoded data removed]",
      "text/plain": [
       "<Figure size 432x288 with 1 Axes>"
      ]
     },
     "metadata": {
      "needs_background": "light"
     },
     "output_type": "display_data"
    }
   ],
   "source": [
    "#Reconstruction error with fraud\n",
    "\n",
    "fig = plt.figure()\n",
    "ax = fig.add_subplot(111)\n",
    "fraud_error_df = error_df[error_df['true_class'] == 1.0]\n",
    "_ = ax.hist(fraud_error_df.reconstruction_error.values, bins=10)"
   ]
  },
  {
   "cell_type": "code",
   "execution_count": 45,
   "id": "b415a4cc",
   "metadata": {},
   "outputs": [
    {
     "data": {
      "text/plain": [
       "[1,\n",
       " 0,\n",
       " 0,\n",
       " 1,\n",
       " 0,\n",
       " 1,\n",
       " 1,\n",
       " 0,\n",
       " 1,\n",
       " 1,\n",
       " 0,\n",
       " 1,\n",
       " 1,\n",
       " 0,\n",
       " 1,\n",
       " 0,\n",
       " 1,\n",
       " 0,\n",
       " 0,\n",
       " 1,\n",
       " 1,\n",
       " 0,\n",
       " 1,\n",
       " 0,\n",
       " 0,\n",
       " 0,\n",
       " 0,\n",
       " 0,\n",
       " 1,\n",
       " 1,\n",
       " 1,\n",
       " 0,\n",
       " 1,\n",
       " 0,\n",
       " 1,\n",
       " 0,\n",
       " 0,\n",
       " 1,\n",
       " 1,\n",
       " 1,\n",
       " 0,\n",
       " 1,\n",
       " 1,\n",
       " 0,\n",
       " 1,\n",
       " 1,\n",
       " 1,\n",
       " 1,\n",
       " 1,\n",
       " 1,\n",
       " 0,\n",
       " 1,\n",
       " 0,\n",
       " 1,\n",
       " 0,\n",
       " 0,\n",
       " 1,\n",
       " 0,\n",
       " 1,\n",
       " 1,\n",
       " 0,\n",
       " 1,\n",
       " 0,\n",
       " 0,\n",
       " 1,\n",
       " 0,\n",
       " 1,\n",
       " 1,\n",
       " 1,\n",
       " 0,\n",
       " 0,\n",
       " 0,\n",
       " 0,\n",
       " 1,\n",
       " 1,\n",
       " 1,\n",
       " 0,\n",
       " 0,\n",
       " 1,\n",
       " 0,\n",
       " 1,\n",
       " 0,\n",
       " 1,\n",
       " 1,\n",
       " 1,\n",
       " 1,\n",
       " 0,\n",
       " 1,\n",
       " 1,\n",
       " 1,\n",
       " 0,\n",
       " 0,\n",
       " 0,\n",
       " 0,\n",
       " 1,\n",
       " 0,\n",
       " 1,\n",
       " 0,\n",
       " 0,\n",
       " 1,\n",
       " 1,\n",
       " 1,\n",
       " 1,\n",
       " 0,\n",
       " 1,\n",
       " 0,\n",
       " 0,\n",
       " 1,\n",
       " 1,\n",
       " 1,\n",
       " 0,\n",
       " 0,\n",
       " 1,\n",
       " 0,\n",
       " 1,\n",
       " 0,\n",
       " 0,\n",
       " 0,\n",
       " 0,\n",
       " 0,\n",
       " 1,\n",
       " 0,\n",
       " 0,\n",
       " 1,\n",
       " 1,\n",
       " 1,\n",
       " 0,\n",
       " 1,\n",
       " 0,\n",
       " 1,\n",
       " 0,\n",
       " 0,\n",
       " 0,\n",
       " 0,\n",
       " 1,\n",
       " 0,\n",
       " 0,\n",
       " 0,\n",
       " 0,\n",
       " 1,\n",
       " 0,\n",
       " 0,\n",
       " 0,\n",
       " 1,\n",
       " 1,\n",
       " 0,\n",
       " 0,\n",
       " 0,\n",
       " 0,\n",
       " 1,\n",
       " 0,\n",
       " 1,\n",
       " 1,\n",
       " 0,\n",
       " 1,\n",
       " 1,\n",
       " 1,\n",
       " 0,\n",
       " 1,\n",
       " 1,\n",
       " 1,\n",
       " 1,\n",
       " 1,\n",
       " 0,\n",
       " 0,\n",
       " 0,\n",
       " 0,\n",
       " 0,\n",
       " 0,\n",
       " 0,\n",
       " 0,\n",
       " 0,\n",
       " 0,\n",
       " 0,\n",
       " 1,\n",
       " 0,\n",
       " 0,\n",
       " 1,\n",
       " 1,\n",
       " 1,\n",
       " 1,\n",
       " 1,\n",
       " 1,\n",
       " 0,\n",
       " 1,\n",
       " 1,\n",
       " 0,\n",
       " 0,\n",
       " 1,\n",
       " 1,\n",
       " 1,\n",
       " 0,\n",
       " 0,\n",
       " 1,\n",
       " 1,\n",
       " 1,\n",
       " 1,\n",
       " 0,\n",
       " 0,\n",
       " 0,\n",
       " 0,\n",
       " 0,\n",
       " 1,\n",
       " 0,\n",
       " 1,\n",
       " 1,\n",
       " 0,\n",
       " 0,\n",
       " 1,\n",
       " 0,\n",
       " 1,\n",
       " 1,\n",
       " 1,\n",
       " 1,\n",
       " 0,\n",
       " 1,\n",
       " 1,\n",
       " 0,\n",
       " 0,\n",
       " 1,\n",
       " 1,\n",
       " 0,\n",
       " 0,\n",
       " 1,\n",
       " 1,\n",
       " 0,\n",
       " 0,\n",
       " 1,\n",
       " 0,\n",
       " 1,\n",
       " 0,\n",
       " 1,\n",
       " 1,\n",
       " 1,\n",
       " 1,\n",
       " 1,\n",
       " 0,\n",
       " 0,\n",
       " 0,\n",
       " 1,\n",
       " 0,\n",
       " 0,\n",
       " 0,\n",
       " 1,\n",
       " 0,\n",
       " 0,\n",
       " 0,\n",
       " 1,\n",
       " 0,\n",
       " 1,\n",
       " 1,\n",
       " 0,\n",
       " 0,\n",
       " 0,\n",
       " 1,\n",
       " 0,\n",
       " 1,\n",
       " 0,\n",
       " 1,\n",
       " 1,\n",
       " 0,\n",
       " 0,\n",
       " 0,\n",
       " 1,\n",
       " 1,\n",
       " 0,\n",
       " 0,\n",
       " 1,\n",
       " 0,\n",
       " 0,\n",
       " 1,\n",
       " 1,\n",
       " 1,\n",
       " 0,\n",
       " 1,\n",
       " 1,\n",
       " 1,\n",
       " 0,\n",
       " 1,\n",
       " 1,\n",
       " 0,\n",
       " 0,\n",
       " 0,\n",
       " 0,\n",
       " 1,\n",
       " 1,\n",
       " 0,\n",
       " 0,\n",
       " 0,\n",
       " 1,\n",
       " 0,\n",
       " 0,\n",
       " 1,\n",
       " 1,\n",
       " 0,\n",
       " 1,\n",
       " 1,\n",
       " 0,\n",
       " 1,\n",
       " 0,\n",
       " 1,\n",
       " 1,\n",
       " 1,\n",
       " 1,\n",
       " 1,\n",
       " 0,\n",
       " 1,\n",
       " 1,\n",
       " 0,\n",
       " 0,\n",
       " 0,\n",
       " 0,\n",
       " 0,\n",
       " 0,\n",
       " 0,\n",
       " 0,\n",
       " 0,\n",
       " 1,\n",
       " 0,\n",
       " 0,\n",
       " 1,\n",
       " 0,\n",
       " 1,\n",
       " 1,\n",
       " 0,\n",
       " 0,\n",
       " 1,\n",
       " 0,\n",
       " 1,\n",
       " 0,\n",
       " 1,\n",
       " 1,\n",
       " 1,\n",
       " 0,\n",
       " 0,\n",
       " 0,\n",
       " 0,\n",
       " 1,\n",
       " 0,\n",
       " 0,\n",
       " 1,\n",
       " 0,\n",
       " 1,\n",
       " 0,\n",
       " 0,\n",
       " 1,\n",
       " 0,\n",
       " 1,\n",
       " 1,\n",
       " 1,\n",
       " 1,\n",
       " 1,\n",
       " 0,\n",
       " 1,\n",
       " 0,\n",
       " 0,\n",
       " 1,\n",
       " 1,\n",
       " 1,\n",
       " 1,\n",
       " 0,\n",
       " 1,\n",
       " 1,\n",
       " 1,\n",
       " 0,\n",
       " 0,\n",
       " 1,\n",
       " 0,\n",
       " 0,\n",
       " 1,\n",
       " 1,\n",
       " 0,\n",
       " 0,\n",
       " 1,\n",
       " 0,\n",
       " 0,\n",
       " 1,\n",
       " 1,\n",
       " 0,\n",
       " 1,\n",
       " 1,\n",
       " 1,\n",
       " 1,\n",
       " 0,\n",
       " 0,\n",
       " 1,\n",
       " 0,\n",
       " 1,\n",
       " 1,\n",
       " 0,\n",
       " 0,\n",
       " 0,\n",
       " 0,\n",
       " 1,\n",
       " 0,\n",
       " 1,\n",
       " 0,\n",
       " 1,\n",
       " 0,\n",
       " 1,\n",
       " 0,\n",
       " 0,\n",
       " 1,\n",
       " 1,\n",
       " 0,\n",
       " 1,\n",
       " 1,\n",
       " 0,\n",
       " 0,\n",
       " 0,\n",
       " 1,\n",
       " 0,\n",
       " 1,\n",
       " 1,\n",
       " 1,\n",
       " 0,\n",
       " 1,\n",
       " 0,\n",
       " 0,\n",
       " 1,\n",
       " 1,\n",
       " 1,\n",
       " 1,\n",
       " 0]"
      ]
     },
     "execution_count": 45,
     "metadata": {},
     "output_type": "execute_result"
    }
   ],
   "source": [
    "# Check the model performance at 50% threshold\n",
    "threshold_prediction = [0 if i < loss_threshold else 1 for i in prediction_loss]\n",
    "threshold_prediction"
   ]
  },
  {
   "cell_type": "code",
   "execution_count": 46,
   "id": "7218ebe7",
   "metadata": {},
   "outputs": [],
   "source": [
    "from sklearn.metrics import (confusion_matrix, precision_recall_curve, auc,\n",
    "                             roc_curve, recall_score, classification_report, f1_score,\n",
    "                             precision_recall_fscore_support)"
   ]
  },
  {
   "cell_type": "code",
   "execution_count": 47,
   "id": "7e9cc409",
   "metadata": {
    "scrolled": true
   },
   "outputs": [
    {
     "data": {
      "image/png": "[encoded data removed]",
      "text/plain": [
       "<Figure size 432x288 with 1 Axes>"
      ]
     },
     "metadata": {
      "needs_background": "light"
     },
     "output_type": "display_data"
    }
   ],
   "source": [
    "fpr, tpr, thresholds = roc_curve(error_df.true_class, error_df.reconstruction_error)\n",
    "roc_auc = auc(fpr, tpr)\n",
    "\n",
    "plt.title('Receiver Operating Characteristic')\n",
    "plt.plot(fpr, tpr, label='AUC = %0.4f'% roc_auc)\n",
    "plt.legend(loc='lower right')\n",
    "plt.plot([0,1],[0,1],'r--')\n",
    "plt.xlim([-0.001, 1])\n",
    "plt.ylim([0, 1.001])\n",
    "plt.ylabel('True Positive Rate')\n",
    "plt.xlabel('False Positive Rate')\n",
    "plt.show()"
   ]
  },
  {
   "cell_type": "code",
   "execution_count": 48,
   "id": "931bd1e1",
   "metadata": {},
   "outputs": [
    {
     "data": {
      "image/png": "[encoded data removed]",
      "text/plain": [
       "<Figure size 432x288 with 1 Axes>"
      ]
     },
     "metadata": {
      "needs_background": "light"
     },
     "output_type": "display_data"
    }
   ],
   "source": [
    "precision, recall,th= precision_recall_curve(error_df.true_class, error_df.reconstruction_error)\n",
    "plt.plot(recall, precision, 'b', label='Precision-Recall curve')\n",
    "plt.title('Recall vs Precision')\n",
    "plt.xlabel('Recall')\n",
    "plt.ylabel('Precision')\n",
    "plt.show()"
   ]
  },
  {
   "cell_type": "code",
   "execution_count": 49,
   "id": "3d2950b8",
   "metadata": {},
   "outputs": [
    {
     "data": {
      "image/png": "[encoded data removed]",
      "text/plain": [
       "<Figure size 432x288 with 1 Axes>"
      ]
     },
     "metadata": {
      "needs_background": "light"
     },
     "output_type": "display_data"
    }
   ],
   "source": [
    "plt.plot(th, precision[1:], 'b', label='Threshold-Precision curve')\n",
    "plt.title('Precision for different threshold values')\n",
    "plt.xlabel('Threshold')\n",
    "plt.ylabel('Precision')\n",
    "plt.show()"
   ]
  },
  {
   "cell_type": "code",
   "execution_count": 50,
   "id": "bc47c139",
   "metadata": {},
   "outputs": [
    {
     "data": {
      "image/png": "[encoded data removed]",
      "text/plain": [
       "<Figure size 432x288 with 1 Axes>"
      ]
     },
     "metadata": {
      "needs_background": "light"
     },
     "output_type": "display_data"
    }
   ],
   "source": [
    "plt.plot(th, recall[1:], 'b', label='Threshold-Recall curve')\n",
    "plt.title('Recall for different threshold values')\n",
    "plt.xlabel('Reconstruction error')\n",
    "plt.ylabel('Recall')\n",
    "plt.show()"
   ]
  },
  {
   "cell_type": "code",
   "execution_count": 51,
   "id": "65767a5c",
   "metadata": {},
   "outputs": [],
   "source": [
    "threshold = 26.20"
   ]
  },
  {
   "cell_type": "code",
   "execution_count": 52,
   "id": "9aa7dabc",
   "metadata": {},
   "outputs": [],
   "source": [
    "pred_y = [1 if e > threshold else 0 for e in error_df.reconstruction_error.values]"
   ]
  },
  {
   "cell_type": "code",
   "execution_count": 53,
   "id": "17efce9f",
   "metadata": {},
   "outputs": [],
   "source": [
    "predictions = pd.DataFrame({'true': error_df.true_class,\n",
    "                           'predicted': pred_y})"
   ]
  },
  {
   "cell_type": "code",
   "execution_count": 54,
   "id": "83a12500",
   "metadata": {},
   "outputs": [
    {
     "data": {
      "image/png": "[encoded data removed]",
      "text/plain": [
       "<Figure size 864x864 with 2 Axes>"
      ]
     },
     "metadata": {
      "needs_background": "light"
     },
     "output_type": "display_data"
    }
   ],
   "source": [
    "conf_matrix = confusion_matrix(error_df.true_class, pred_y)\n",
    "conf_matrix\n",
    "plt.figure(figsize=(12, 12))\n",
    "LABELS = ['Normal', 'Fraud']\n",
    "sns.heatmap(conf_matrix, xticklabels=LABELS, yticklabels=LABELS, annot=True, fmt=\"d\");\n",
    "plt.title(\"Confusion matrix\")\n",
    "plt.ylabel('True class')\n",
    "plt.xlabel('Predicted class')\n",
    "plt.show()"
   ]
  },
  {
   "cell_type": "code",
   "execution_count": 55,
   "id": "f6b062b5",
   "metadata": {},
   "outputs": [
    {
     "name": "stdout",
     "output_type": "stream",
     "text": [
      "              precision    recall  f1-score   support\n",
      "\n",
      "           0       0.91      0.90      0.91       208\n",
      "           1       0.91      0.91      0.91       216\n",
      "\n",
      "    accuracy                           0.91       424\n",
      "   macro avg       0.91      0.91      0.91       424\n",
      "weighted avg       0.91      0.91      0.91       424\n",
      "\n"
     ]
    }
   ],
   "source": [
    "# Check the prediction performance\n",
    "print(classification_report(y_test, pred_y))"
   ]
  },
  {
   "cell_type": "code",
   "execution_count": null,
   "id": "441cebc8",
   "metadata": {},
   "outputs": [],
   "source": []
  },
  {
   "cell_type": "code",
   "execution_count": null,
   "id": "5fbccc46-5127-4063-972c-541a669e0c02",
   "metadata": {},
   "outputs": [],
   "source": []
  }
 ],
 "metadata": {
  "kernelspec": {
   "display_name": "Python 3 (ipykernel)",
   "language": "python",
   "name": "python3"
  },
  "language_info": {
   "codemirror_mode": {
    "name": "ipython",
    "version": 3
   },
   "file_extension": ".py",
   "mimetype": "text/x-python",
   "name": "python",
   "nbconvert_exporter": "python",
   "pygments_lexer": "ipython3",
   "version": "3.9.10"
  }
 },
 "nbformat": 4,
 "nbformat_minor": 5
}
