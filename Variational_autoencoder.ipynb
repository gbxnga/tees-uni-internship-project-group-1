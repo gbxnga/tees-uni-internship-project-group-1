{
 "cells": [
  {
   "cell_type": "markdown",
   "id": "9556156e",
   "metadata": {},
   "source": [
    "### IMPORT LIBRARIES"
   ]
  },
  {
   "cell_type": "code",
   "execution_count": 1,
   "id": "80e63cc4",
   "metadata": {},
   "outputs": [],
   "source": [
    "\n",
    "import numpy as np\n",
    "import pandas as pd\n",
    "import matplotlib.pyplot as plt\n",
    "import seaborn as sns\n",
    "\n",
    "# scikit-learn\n",
    "from sklearn.manifold import TSNE\n",
    "from sklearn.model_selection import train_test_split\n",
    "from sklearn.ensemble import IsolationForest\n",
    "from sklearn.svm import OneClassSVM\n",
    "from sklearn.linear_model import LogisticRegression\n",
    "from sklearn.svm import SVC\n",
    "\n",
    "# evaluation metrics\n",
    "from sklearn.metrics import classification_report, accuracy_score\n",
    "from sklearn.metrics import average_precision_score\n",
    "from sklearn.metrics import roc_auc_score\n",
    "from tensorflow.keras import metrics\n",
    "# scaling\n",
    "from sklearn.preprocessing import StandardScaler\n",
    "from sklearn.preprocessing import LabelEncoder\n",
    "\n",
    "# autoencoder\n",
    "import tensorflow as tf\n",
    "from tensorflow import keras\n",
    "\n",
    "# deep learning\n",
    "from keras.models import Model, Sequential\n",
    "from keras import regularizers\n",
    "from keras.layers import (\n",
    "    Input,\n",
    "    Conv1D,\n",
    "    MaxPooling1D,\n",
    "    Dense,\n",
    "    Flatten,\n",
    "    Dropout,\n",
    "    BatchNormalization,\n",
    ")\n",
    "from keras.optimizers import Adam\n",
    "\n",
    "from tensorflow.python.framework.ops import disable_eager_execution\n"
   ]
  },
  {
   "cell_type": "markdown",
   "id": "ef05e488",
   "metadata": {},
   "source": [
    "### LOADING DATASET"
   ]
  },
  {
   "cell_type": "code",
   "execution_count": 2,
   "id": "8504799a",
   "metadata": {},
   "outputs": [],
   "source": [
    "credit_card = pd.read_excel(\"card transactions.xlsx\")"
   ]
  },
  {
   "cell_type": "markdown",
   "id": "b3cc5ca2",
   "metadata": {},
   "source": [
    "### DATA PREPROCESSING "
   ]
  },
  {
   "cell_type": "code",
   "execution_count": 3,
   "id": "f7ba61c3",
   "metadata": {},
   "outputs": [
    {
     "data": {
      "text/plain": [
       "(96753, 10)"
      ]
     },
     "execution_count": 3,
     "metadata": {},
     "output_type": "execute_result"
    }
   ],
   "source": [
    "credit_card.shape"
   ]
  },
  {
   "cell_type": "code",
   "execution_count": 4,
   "id": "c37f3e61",
   "metadata": {
    "scrolled": true
   },
   "outputs": [
    {
     "name": "stdout",
     "output_type": "stream",
     "text": [
      "<class 'pandas.core.frame.DataFrame'>\n",
      "RangeIndex: 96753 entries, 0 to 96752\n",
      "Data columns (total 10 columns):\n",
      " #   Column             Non-Null Count  Dtype         \n",
      "---  ------             --------------  -----         \n",
      " 0   Recnum             96753 non-null  int64         \n",
      " 1   Cardnum            96753 non-null  int64         \n",
      " 2   Date               96753 non-null  datetime64[ns]\n",
      " 3   Merchnum           93378 non-null  object        \n",
      " 4   Merch description  96753 non-null  object        \n",
      " 5   Merch state        95558 non-null  object        \n",
      " 6   Merch zip          92097 non-null  float64       \n",
      " 7   Transtype          96753 non-null  object        \n",
      " 8   Amount             96753 non-null  float64       \n",
      " 9   Fraud              96753 non-null  int64         \n",
      "dtypes: datetime64[ns](1), float64(2), int64(3), object(4)\n",
      "memory usage: 7.4+ MB\n"
     ]
    }
   ],
   "source": [
    "credit_card.info()"
   ]
  },
  {
   "cell_type": "markdown",
   "id": "9b408817",
   "metadata": {},
   "source": [
    "### EXTRACT DAY AND MONTH FOR FURTHER ANALYSIS"
   ]
  },
  {
   "cell_type": "code",
   "execution_count": 5,
   "id": "1eeb6e74",
   "metadata": {},
   "outputs": [],
   "source": [
    "day =pd.to_datetime(credit_card['Date']).dt.dayofweek\n",
    "month =pd.to_datetime(credit_card['Date']).dt.month\n",
    "credit_card.insert(1, 'day', day)\n",
    "credit_card.insert(2, 'month', month)\n",
    "credit_card = credit_card.drop('Date', axis = 1)"
   ]
  },
  {
   "cell_type": "code",
   "execution_count": 6,
   "id": "386651e7",
   "metadata": {},
   "outputs": [
    {
     "data": {
      "text/plain": [
       "{'Recnum': 100.0,\n",
       " 'day': 100.0,\n",
       " 'month': 100.0,\n",
       " 'Cardnum': 100.0,\n",
       " 'Merchnum': 96.51173607019938,\n",
       " 'Merch description': 100.0,\n",
       " 'Merch state': 98.76489617892985,\n",
       " 'Merch zip': 95.1877461163995,\n",
       " 'Transtype': 100.0,\n",
       " 'Amount': 100.0,\n",
       " 'Fraud': 100.0}"
      ]
     },
     "execution_count": 6,
     "metadata": {},
     "output_type": "execute_result"
    }
   ],
   "source": [
    "dict_populated = {}\n",
    "for i in credit_card.columns.to_list():\n",
    "    dict_populated[i] = credit_card[i].count()/len(credit_card)*100\n",
    "dict_populated"
   ]
  },
  {
   "cell_type": "markdown",
   "id": "50c70308",
   "metadata": {},
   "source": [
    "### CHECKING FOR NULL VALUES"
   ]
  },
  {
   "cell_type": "code",
   "execution_count": 7,
   "id": "4eb0f834",
   "metadata": {},
   "outputs": [
    {
     "data": {
      "text/plain": [
       "Recnum                  0\n",
       "day                     0\n",
       "month                   0\n",
       "Cardnum                 0\n",
       "Merchnum             3375\n",
       "Merch description       0\n",
       "Merch state          1195\n",
       "Merch zip            4656\n",
       "Transtype               0\n",
       "Amount                  0\n",
       "Fraud                   0\n",
       "dtype: int64"
      ]
     },
     "execution_count": 7,
     "metadata": {},
     "output_type": "execute_result"
    }
   ],
   "source": [
    "credit_card.isnull().sum()"
   ]
  },
  {
   "cell_type": "markdown",
   "id": "a140c6c6",
   "metadata": {},
   "source": [
    "### DROPPING THE NULL VALUES"
   ]
  },
  {
   "cell_type": "code",
   "execution_count": 8,
   "id": "50a1abc9",
   "metadata": {
    "scrolled": true
   },
   "outputs": [
    {
     "data": {
      "text/html": [
       "<div>\n",
       "<style scoped>\n",
       "    .dataframe tbody tr th:only-of-type {\n",
       "        vertical-align: middle;\n",
       "    }\n",
       "\n",
       "    .dataframe tbody tr th {\n",
       "        vertical-align: top;\n",
       "    }\n",
       "\n",
       "    .dataframe thead th {\n",
       "        text-align: right;\n",
       "    }\n",
       "</style>\n",
       "<table border=\"1\" class=\"dataframe\">\n",
       "  <thead>\n",
       "    <tr style=\"text-align: right;\">\n",
       "      <th></th>\n",
       "      <th>Recnum</th>\n",
       "      <th>day</th>\n",
       "      <th>month</th>\n",
       "      <th>Cardnum</th>\n",
       "      <th>Merchnum</th>\n",
       "      <th>Merch description</th>\n",
       "      <th>Merch state</th>\n",
       "      <th>Merch zip</th>\n",
       "      <th>Transtype</th>\n",
       "      <th>Amount</th>\n",
       "      <th>Fraud</th>\n",
       "    </tr>\n",
       "  </thead>\n",
       "  <tbody>\n",
       "    <tr>\n",
       "      <th>0</th>\n",
       "      <td>1</td>\n",
       "      <td>4</td>\n",
       "      <td>1</td>\n",
       "      <td>5142190439</td>\n",
       "      <td>5509006296254</td>\n",
       "      <td>FEDEX SHP 12/23/09 AB#</td>\n",
       "      <td>TN</td>\n",
       "      <td>38118.0</td>\n",
       "      <td>P</td>\n",
       "      <td>3.62</td>\n",
       "      <td>0</td>\n",
       "    </tr>\n",
       "    <tr>\n",
       "      <th>1</th>\n",
       "      <td>2</td>\n",
       "      <td>4</td>\n",
       "      <td>1</td>\n",
       "      <td>5142183973</td>\n",
       "      <td>61003026333</td>\n",
       "      <td>SERVICE MERCHANDISE #81</td>\n",
       "      <td>MA</td>\n",
       "      <td>1803.0</td>\n",
       "      <td>P</td>\n",
       "      <td>31.42</td>\n",
       "      <td>0</td>\n",
       "    </tr>\n",
       "    <tr>\n",
       "      <th>2</th>\n",
       "      <td>3</td>\n",
       "      <td>4</td>\n",
       "      <td>1</td>\n",
       "      <td>5142131721</td>\n",
       "      <td>4503082993600</td>\n",
       "      <td>OFFICE DEPOT #191</td>\n",
       "      <td>MD</td>\n",
       "      <td>20706.0</td>\n",
       "      <td>P</td>\n",
       "      <td>178.49</td>\n",
       "      <td>0</td>\n",
       "    </tr>\n",
       "    <tr>\n",
       "      <th>3</th>\n",
       "      <td>4</td>\n",
       "      <td>4</td>\n",
       "      <td>1</td>\n",
       "      <td>5142148452</td>\n",
       "      <td>5509006296254</td>\n",
       "      <td>FEDEX SHP 12/28/09 AB#</td>\n",
       "      <td>TN</td>\n",
       "      <td>38118.0</td>\n",
       "      <td>P</td>\n",
       "      <td>3.62</td>\n",
       "      <td>0</td>\n",
       "    </tr>\n",
       "    <tr>\n",
       "      <th>4</th>\n",
       "      <td>5</td>\n",
       "      <td>4</td>\n",
       "      <td>1</td>\n",
       "      <td>5142190439</td>\n",
       "      <td>5509006296254</td>\n",
       "      <td>FEDEX SHP 12/23/09 AB#</td>\n",
       "      <td>TN</td>\n",
       "      <td>38118.0</td>\n",
       "      <td>P</td>\n",
       "      <td>3.62</td>\n",
       "      <td>0</td>\n",
       "    </tr>\n",
       "    <tr>\n",
       "      <th>...</th>\n",
       "      <td>...</td>\n",
       "      <td>...</td>\n",
       "      <td>...</td>\n",
       "      <td>...</td>\n",
       "      <td>...</td>\n",
       "      <td>...</td>\n",
       "      <td>...</td>\n",
       "      <td>...</td>\n",
       "      <td>...</td>\n",
       "      <td>...</td>\n",
       "      <td>...</td>\n",
       "    </tr>\n",
       "    <tr>\n",
       "      <th>96748</th>\n",
       "      <td>96749</td>\n",
       "      <td>4</td>\n",
       "      <td>12</td>\n",
       "      <td>5142276053</td>\n",
       "      <td>3500000006160</td>\n",
       "      <td>BEST BUY      00001610</td>\n",
       "      <td>KY</td>\n",
       "      <td>41042.0</td>\n",
       "      <td>P</td>\n",
       "      <td>84.79</td>\n",
       "      <td>0</td>\n",
       "    </tr>\n",
       "    <tr>\n",
       "      <th>96749</th>\n",
       "      <td>96750</td>\n",
       "      <td>4</td>\n",
       "      <td>12</td>\n",
       "      <td>5142225701</td>\n",
       "      <td>8090710030950</td>\n",
       "      <td>MARKUS OFFICE SUPPLIES</td>\n",
       "      <td>OH</td>\n",
       "      <td>45248.0</td>\n",
       "      <td>P</td>\n",
       "      <td>118.75</td>\n",
       "      <td>0</td>\n",
       "    </tr>\n",
       "    <tr>\n",
       "      <th>96750</th>\n",
       "      <td>96751</td>\n",
       "      <td>4</td>\n",
       "      <td>12</td>\n",
       "      <td>5142226486</td>\n",
       "      <td>4503057341100</td>\n",
       "      <td>TECH PAC, INC</td>\n",
       "      <td>OH</td>\n",
       "      <td>45150.0</td>\n",
       "      <td>P</td>\n",
       "      <td>363.56</td>\n",
       "      <td>0</td>\n",
       "    </tr>\n",
       "    <tr>\n",
       "      <th>96751</th>\n",
       "      <td>96752</td>\n",
       "      <td>4</td>\n",
       "      <td>12</td>\n",
       "      <td>5142244619</td>\n",
       "      <td>8834000695412</td>\n",
       "      <td>BUY.COM</td>\n",
       "      <td>CA</td>\n",
       "      <td>92656.0</td>\n",
       "      <td>P</td>\n",
       "      <td>2202.03</td>\n",
       "      <td>0</td>\n",
       "    </tr>\n",
       "    <tr>\n",
       "      <th>96752</th>\n",
       "      <td>96753</td>\n",
       "      <td>4</td>\n",
       "      <td>12</td>\n",
       "      <td>5142243247</td>\n",
       "      <td>9108347680006</td>\n",
       "      <td>STAPLES NATIONAL #471</td>\n",
       "      <td>NJ</td>\n",
       "      <td>7606.0</td>\n",
       "      <td>P</td>\n",
       "      <td>554.64</td>\n",
       "      <td>0</td>\n",
       "    </tr>\n",
       "  </tbody>\n",
       "</table>\n",
       "<p>90198 rows × 11 columns</p>\n",
       "</div>"
      ],
      "text/plain": [
       "       Recnum  day  month     Cardnum       Merchnum        Merch description  \\\n",
       "0           1    4      1  5142190439  5509006296254   FEDEX SHP 12/23/09 AB#   \n",
       "1           2    4      1  5142183973    61003026333  SERVICE MERCHANDISE #81   \n",
       "2           3    4      1  5142131721  4503082993600        OFFICE DEPOT #191   \n",
       "3           4    4      1  5142148452  5509006296254   FEDEX SHP 12/28/09 AB#   \n",
       "4           5    4      1  5142190439  5509006296254   FEDEX SHP 12/23/09 AB#   \n",
       "...       ...  ...    ...         ...            ...                      ...   \n",
       "96748   96749    4     12  5142276053  3500000006160   BEST BUY      00001610   \n",
       "96749   96750    4     12  5142225701  8090710030950   MARKUS OFFICE SUPPLIES   \n",
       "96750   96751    4     12  5142226486  4503057341100            TECH PAC, INC   \n",
       "96751   96752    4     12  5142244619  8834000695412                  BUY.COM   \n",
       "96752   96753    4     12  5142243247  9108347680006    STAPLES NATIONAL #471   \n",
       "\n",
       "      Merch state  Merch zip Transtype   Amount  Fraud  \n",
       "0              TN    38118.0         P     3.62      0  \n",
       "1              MA     1803.0         P    31.42      0  \n",
       "2              MD    20706.0         P   178.49      0  \n",
       "3              TN    38118.0         P     3.62      0  \n",
       "4              TN    38118.0         P     3.62      0  \n",
       "...           ...        ...       ...      ...    ...  \n",
       "96748          KY    41042.0         P    84.79      0  \n",
       "96749          OH    45248.0         P   118.75      0  \n",
       "96750          OH    45150.0         P   363.56      0  \n",
       "96751          CA    92656.0         P  2202.03      0  \n",
       "96752          NJ     7606.0         P   554.64      0  \n",
       "\n",
       "[90198 rows x 11 columns]"
      ]
     },
     "execution_count": 8,
     "metadata": {},
     "output_type": "execute_result"
    }
   ],
   "source": [
    "credit_card = credit_card.dropna()\n",
    "credit_card"
   ]
  },
  {
   "cell_type": "markdown",
   "id": "62d63d68",
   "metadata": {},
   "source": [
    "### UNIQUE VALUES"
   ]
  },
  {
   "cell_type": "code",
   "execution_count": 9,
   "id": "c7c400a8",
   "metadata": {},
   "outputs": [
    {
     "data": {
      "text/plain": [
       "{'Recnum': 90198,\n",
       " 'day': 7,\n",
       " 'month': 12,\n",
       " 'Cardnum': 1622,\n",
       " 'Merchnum': 12807,\n",
       " 'Merch description': 12184,\n",
       " 'Merch state': 51,\n",
       " 'Merch zip': 4452,\n",
       " 'Transtype': 1,\n",
       " 'Amount': 33878,\n",
       " 'Fraud': 2}"
      ]
     },
     "execution_count": 9,
     "metadata": {},
     "output_type": "execute_result"
    }
   ],
   "source": [
    "dict_unique = {}\n",
    "for i in credit_card.columns.to_list():\n",
    "    dict_unique[i]=len(credit_card[i].unique())\n",
    "dict_unique"
   ]
  },
  {
   "cell_type": "markdown",
   "id": "df484be8",
   "metadata": {},
   "source": [
    "### CHECKING FOR DUPLICATES"
   ]
  },
  {
   "cell_type": "code",
   "execution_count": 10,
   "id": "1b192349",
   "metadata": {},
   "outputs": [
    {
     "data": {
      "text/plain": [
       "0"
      ]
     },
     "execution_count": 10,
     "metadata": {},
     "output_type": "execute_result"
    }
   ],
   "source": [
    "credit_card.duplicated().sum()"
   ]
  },
  {
   "cell_type": "markdown",
   "id": "b8491b40",
   "metadata": {},
   "source": [
    "### STATISTICS SUMMARY"
   ]
  },
  {
   "cell_type": "code",
   "execution_count": 11,
   "id": "08ca4503",
   "metadata": {},
   "outputs": [
    {
     "data": {
      "text/html": [
       "<div>\n",
       "<style scoped>\n",
       "    .dataframe tbody tr th:only-of-type {\n",
       "        vertical-align: middle;\n",
       "    }\n",
       "\n",
       "    .dataframe tbody tr th {\n",
       "        vertical-align: top;\n",
       "    }\n",
       "\n",
       "    .dataframe thead th {\n",
       "        text-align: right;\n",
       "    }\n",
       "</style>\n",
       "<table border=\"1\" class=\"dataframe\">\n",
       "  <thead>\n",
       "    <tr style=\"text-align: right;\">\n",
       "      <th></th>\n",
       "      <th>Recnum</th>\n",
       "      <th>day</th>\n",
       "      <th>month</th>\n",
       "      <th>Cardnum</th>\n",
       "      <th>Merch zip</th>\n",
       "      <th>Amount</th>\n",
       "      <th>Fraud</th>\n",
       "    </tr>\n",
       "  </thead>\n",
       "  <tbody>\n",
       "    <tr>\n",
       "      <th>count</th>\n",
       "      <td>90198.000000</td>\n",
       "      <td>90198.000000</td>\n",
       "      <td>90198.000000</td>\n",
       "      <td>9.019800e+04</td>\n",
       "      <td>90198.000000</td>\n",
       "      <td>90198.000000</td>\n",
       "      <td>90198.000000</td>\n",
       "    </tr>\n",
       "    <tr>\n",
       "      <th>mean</th>\n",
       "      <td>48355.064835</td>\n",
       "      <td>2.571576</td>\n",
       "      <td>6.320063</td>\n",
       "      <td>5.142202e+09</td>\n",
       "      <td>44581.840872</td>\n",
       "      <td>397.266831</td>\n",
       "      <td>0.011331</td>\n",
       "    </tr>\n",
       "    <tr>\n",
       "      <th>std</th>\n",
       "      <td>27697.328106</td>\n",
       "      <td>2.109709</td>\n",
       "      <td>3.210985</td>\n",
       "      <td>5.589836e+04</td>\n",
       "      <td>28269.803688</td>\n",
       "      <td>816.286539</td>\n",
       "      <td>0.105841</td>\n",
       "    </tr>\n",
       "    <tr>\n",
       "      <th>min</th>\n",
       "      <td>1.000000</td>\n",
       "      <td>0.000000</td>\n",
       "      <td>1.000000</td>\n",
       "      <td>5.142110e+09</td>\n",
       "      <td>1.000000</td>\n",
       "      <td>0.010000</td>\n",
       "      <td>0.000000</td>\n",
       "    </tr>\n",
       "    <tr>\n",
       "      <th>25%</th>\n",
       "      <td>24550.250000</td>\n",
       "      <td>1.000000</td>\n",
       "      <td>4.000000</td>\n",
       "      <td>5.142151e+09</td>\n",
       "      <td>20854.000000</td>\n",
       "      <td>33.780000</td>\n",
       "      <td>0.000000</td>\n",
       "    </tr>\n",
       "    <tr>\n",
       "      <th>50%</th>\n",
       "      <td>48459.500000</td>\n",
       "      <td>2.000000</td>\n",
       "      <td>6.000000</td>\n",
       "      <td>5.142196e+09</td>\n",
       "      <td>38118.000000</td>\n",
       "      <td>139.000000</td>\n",
       "      <td>0.000000</td>\n",
       "    </tr>\n",
       "    <tr>\n",
       "      <th>75%</th>\n",
       "      <td>72101.750000</td>\n",
       "      <td>5.000000</td>\n",
       "      <td>9.000000</td>\n",
       "      <td>5.142245e+09</td>\n",
       "      <td>63103.000000</td>\n",
       "      <td>429.977500</td>\n",
       "      <td>0.000000</td>\n",
       "    </tr>\n",
       "    <tr>\n",
       "      <th>max</th>\n",
       "      <td>96753.000000</td>\n",
       "      <td>6.000000</td>\n",
       "      <td>12.000000</td>\n",
       "      <td>5.142847e+09</td>\n",
       "      <td>99999.000000</td>\n",
       "      <td>30372.460000</td>\n",
       "      <td>1.000000</td>\n",
       "    </tr>\n",
       "  </tbody>\n",
       "</table>\n",
       "</div>"
      ],
      "text/plain": [
       "             Recnum           day         month       Cardnum     Merch zip  \\\n",
       "count  90198.000000  90198.000000  90198.000000  9.019800e+04  90198.000000   \n",
       "mean   48355.064835      2.571576      6.320063  5.142202e+09  44581.840872   \n",
       "std    27697.328106      2.109709      3.210985  5.589836e+04  28269.803688   \n",
       "min        1.000000      0.000000      1.000000  5.142110e+09      1.000000   \n",
       "25%    24550.250000      1.000000      4.000000  5.142151e+09  20854.000000   \n",
       "50%    48459.500000      2.000000      6.000000  5.142196e+09  38118.000000   \n",
       "75%    72101.750000      5.000000      9.000000  5.142245e+09  63103.000000   \n",
       "max    96753.000000      6.000000     12.000000  5.142847e+09  99999.000000   \n",
       "\n",
       "             Amount         Fraud  \n",
       "count  90198.000000  90198.000000  \n",
       "mean     397.266831      0.011331  \n",
       "std      816.286539      0.105841  \n",
       "min        0.010000      0.000000  \n",
       "25%       33.780000      0.000000  \n",
       "50%      139.000000      0.000000  \n",
       "75%      429.977500      0.000000  \n",
       "max    30372.460000      1.000000  "
      ]
     },
     "execution_count": 11,
     "metadata": {},
     "output_type": "execute_result"
    }
   ],
   "source": [
    "credit_card.describe()"
   ]
  },
  {
   "cell_type": "markdown",
   "id": "4b70a24b",
   "metadata": {},
   "source": [
    "### EXPLORING THE DATASET"
   ]
  },
  {
   "cell_type": "code",
   "execution_count": 12,
   "id": "5163db68",
   "metadata": {
    "scrolled": false
   },
   "outputs": [
    {
     "data": {
      "image/png": "[encoded data removed]",
      "text/plain": [
       "<Figure size 864x432 with 1 Axes>"
      ]
     },
     "metadata": {
      "needs_background": "light"
     },
     "output_type": "display_data"
    },
    {
     "data": {
      "image/png": "[encoded data removed]",
      "text/plain": [
       "<Figure size 864x432 with 1 Axes>"
      ]
     },
     "metadata": {
      "needs_background": "light"
     },
     "output_type": "display_data"
    },
    {
     "data": {
      "image/png": "[encoded data removed]",
      "text/plain": [
       "<Figure size 864x432 with 1 Axes>"
      ]
     },
     "metadata": {
      "needs_background": "light"
     },
     "output_type": "display_data"
    },
    {
     "data": {
      "image/png": "[encoded data removed]",
      "text/plain": [
       "<Figure size 864x432 with 1 Axes>"
      ]
     },
     "metadata": {
      "needs_background": "light"
     },
     "output_type": "display_data"
    },
    {
     "data": {
      "image/png": "[encoded data removed]",
      "text/plain": [
       "<Figure size 864x432 with 1 Axes>"
      ]
     },
     "metadata": {
      "needs_background": "light"
     },
     "output_type": "display_data"
    },
    {
     "data": {
      "image/png": "[encoded data removed]",
      "text/plain": [
       "<Figure size 864x432 with 1 Axes>"
      ]
     },
     "metadata": {
      "needs_background": "light"
     },
     "output_type": "display_data"
    },
    {
     "data": {
      "image/png": "[encoded data removed]",
      "text/plain": [
       "<Figure size 864x432 with 1 Axes>"
      ]
     },
     "metadata": {
      "needs_background": "light"
     },
     "output_type": "display_data"
    },
    {
     "data": {
      "image/png": "[encoded data removed]",
      "text/plain": [
       "<Figure size 864x432 with 1 Axes>"
      ]
     },
     "metadata": {
      "needs_background": "light"
     },
     "output_type": "display_data"
    },
    {
     "data": {
      "image/png": "[encoded data removed]",
      "text/plain": [
       "<Figure size 864x432 with 1 Axes>"
      ]
     },
     "metadata": {
      "needs_background": "light"
     },
     "output_type": "display_data"
    },
    {
     "data": {
      "image/png": "[encoded data removed]",
      "text/plain": [
       "<Figure size 864x432 with 1 Axes>"
      ]
     },
     "metadata": {
      "needs_background": "light"
     },
     "output_type": "display_data"
    },
    {
     "data": {
      "image/png": "[encoded data removed]",
      "text/plain": [
       "<Figure size 864x432 with 1 Axes>"
      ]
     },
     "metadata": {
      "needs_background": "light"
     },
     "output_type": "display_data"
    }
   ],
   "source": [
    "categoricalVar = credit_card.columns.tolist()\n",
    "for col in categoricalVar:\n",
    "    df = pd.DataFrame(credit_card[col].value_counts().sort_values(ascending=False).head(20))\n",
    "    df.plot(kind='bar',figsize=(12,6))\n",
    "    plt.xlabel(col,fontsize=15)\n",
    "    plt.ylabel('Frequency',fontsize=15)\n",
    "    plt.xticks(fontsize=12)"
   ]
  },
  {
   "cell_type": "code",
   "execution_count": 13,
   "id": "0374f4ce",
   "metadata": {},
   "outputs": [
    {
     "name": "stderr",
     "output_type": "stream",
     "text": [
      "C:\\ProgramData\\Anaconda3\\lib\\site-packages\\seaborn\\distributions.py:2619: FutureWarning: `distplot` is a deprecated function and will be removed in a future version. Please adapt your code to use either `displot` (a figure-level function with similar flexibility) or `histplot` (an axes-level function for histograms).\n",
      "  warnings.warn(msg, FutureWarning)\n"
     ]
    },
    {
     "data": {
      "text/plain": [
       "Text(0, 0.5, 'Count')"
      ]
     },
     "execution_count": 13,
     "metadata": {},
     "output_type": "execute_result"
    },
    {
     "data": {
      "image/png": "[encoded data removed]",
      "text/plain": [
       "<Figure size 864x432 with 1 Axes>"
      ]
     },
     "metadata": {
      "needs_background": "light"
     },
     "output_type": "display_data"
    }
   ],
   "source": [
    "plt.rcParams[\"figure.figsize\"] = [12,6]\n",
    "xhigh = 50000\n",
    "plt.xlim(0,xhigh)\n",
    "temp = credit_card[credit_card['Amount'] <= xhigh]\n",
    "sns.set_palette(\"deep\")\n",
    "plot=sns.distplot(temp['Amount'],bins=25, kde=False, color='blue')\n",
    "plot.set_yscale('log')\n",
    "plt.ylabel('Count')"
   ]
  },
  {
   "cell_type": "code",
   "execution_count": 14,
   "id": "aa5d8abc",
   "metadata": {},
   "outputs": [
    {
     "data": {
      "text/plain": [
       "Text(0.5, 0, 'Amount')"
      ]
     },
     "execution_count": 14,
     "metadata": {},
     "output_type": "execute_result"
    },
    {
     "data": {
      "image/png": "[encoded data removed]",
      "text/plain": [
       "<Figure size 864x432 with 1 Axes>"
      ]
     },
     "metadata": {
      "needs_background": "light"
     },
     "output_type": "display_data"
    }
   ],
   "source": [
    "plt.hist(credit_card['Amount'],bins=50,range=[0,40000],edgecolor='blue',linewidth=1.2)\n",
    "plt.yscale('log')\n",
    "plt.ylim(bottom = .1)\n",
    "plt.ylabel('Count')\n",
    "plt.xlabel('Amount')"
   ]
  },
  {
   "cell_type": "markdown",
   "id": "8cfe0a3d",
   "metadata": {},
   "source": [
    "### CORRELATION ANALYSIS"
   ]
  },
  {
   "cell_type": "code",
   "execution_count": 15,
   "id": "765df859",
   "metadata": {},
   "outputs": [
    {
     "data": {
      "text/plain": [
       "Fraud        1.000000\n",
       "Amount       0.217197\n",
       "Cardnum      0.042390\n",
       "month        0.037741\n",
       "Recnum       0.037017\n",
       "Merch zip    0.032984\n",
       "day          0.014640\n",
       "Name: Fraud, dtype: float64"
      ]
     },
     "execution_count": 15,
     "metadata": {},
     "output_type": "execute_result"
    }
   ],
   "source": [
    "credit_card_corr = credit_card.corr()['Fraud'].abs().sort_values(ascending=False)\n",
    "credit_card_corr"
   ]
  },
  {
   "cell_type": "code",
   "execution_count": 16,
   "id": "334eaf31",
   "metadata": {},
   "outputs": [
    {
     "data": {
      "image/png": "[encoded data removed]",
      "text/plain": [
       "<Figure size 720x576 with 2 Axes>"
      ]
     },
     "metadata": {
      "needs_background": "light"
     },
     "output_type": "display_data"
    }
   ],
   "source": [
    "fig = plt.figure(figsize=(10, 8))\n",
    "sns.heatmap(credit_card.corr())\n",
    "plt.show()"
   ]
  },
  {
   "cell_type": "markdown",
   "id": "cac4223a",
   "metadata": {},
   "source": [
    "The correlation plot shows no presence of multi collinearity amongst the features (PCA components). All of these features does not show high correlation with the target class"
   ]
  },
  {
   "cell_type": "markdown",
   "id": "06d09423",
   "metadata": {},
   "source": [
    "### DISTRIBUTION OF TARGET CLASS"
   ]
  },
  {
   "cell_type": "code",
   "execution_count": 17,
   "id": "2507425b",
   "metadata": {},
   "outputs": [
    {
     "data": {
      "image/png": "[encoded data removed]",
      "text/plain": [
       "<Figure size 720x432 with 1 Axes>"
      ]
     },
     "metadata": {},
     "output_type": "display_data"
    }
   ],
   "source": [
    "plt.figure(figsize=(10,6))\n",
    "labels = ['Not Fraud' , 'Frauds']\n",
    "explode = [.01,.01]\n",
    "color = ['skyblue' , 'Red']\n",
    "sizes = credit_card.Fraud.value_counts().values\n",
    "\n",
    "plt.pie(sizes,explode,labels,autopct=\"%1.1f%%\", colors = color)\n",
    "plt.show()"
   ]
  },
  {
   "cell_type": "markdown",
   "id": "65c7a279",
   "metadata": {},
   "source": [
    "The pie chart shows highly imbalanced dataset. "
   ]
  },
  {
   "cell_type": "code",
   "execution_count": 18,
   "id": "e4b15b23",
   "metadata": {
    "scrolled": true
   },
   "outputs": [
    {
     "data": {
      "text/plain": [
       "<matplotlib.legend.Legend at 0x1629921ef10>"
      ]
     },
     "execution_count": 18,
     "metadata": {},
     "output_type": "execute_result"
    },
    {
     "data": {
      "image/png": "[encoded data removed]",
      "text/plain": [
       "<Figure size 864x432 with 1 Axes>"
      ]
     },
     "metadata": {
      "needs_background": "light"
     },
     "output_type": "display_data"
    }
   ],
   "source": [
    "ax=sns.histplot(x='Amount',data=credit_card[credit_card.Amount<=1000],\n",
    "                hue='Fraud',stat='percent',multiple='dodge',common_norm=False,bins=25)\n",
    "ax.set_ylabel('Percentage in Each Type')\n",
    "ax.set_xlabel('Transaction Amount ')\n",
    "plt.legend(title='Type', labels=['Fraud', 'Not Fraud'])"
   ]
  },
  {
   "cell_type": "markdown",
   "id": "ae892f1a",
   "metadata": {},
   "source": [
    "### STATE VS FRAUD : let's also explore which geographies are more prone to fraud. "
   ]
  },
  {
   "cell_type": "code",
   "execution_count": 19,
   "id": "92790004",
   "metadata": {},
   "outputs": [
    {
     "data": {
      "text/plain": [
       "Text(0.5, 1.0, 'The Percentage of Fraudulent over Non-Fraudulent Transcations in Each State')"
      ]
     },
     "execution_count": 19,
     "metadata": {},
     "output_type": "execute_result"
    },
    {
     "data": {
      "image/png": "[encoded data removed]",
      "text/plain": [
       "<Figure size 864x432 with 1 Axes>"
      ]
     },
     "metadata": {
      "needs_background": "light"
     },
     "output_type": "display_data"
    }
   ],
   "source": [
    "a=credit_card['Merch state'][credit_card.Fraud==0].value_counts(normalize=True)\n",
    "a=a.to_frame()\n",
    "a=a.reset_index()\n",
    "a.columns = ['Merch state', 'Per']\n",
    "\n",
    "b=credit_card['Merch state'][credit_card.Fraud==1].value_counts(normalize=True)\n",
    "b=b.to_frame()\n",
    "b=b.reset_index()\n",
    "b.columns = ['Merch state', 'Per']\n",
    "\n",
    "merged=a.merge(b,on='Merch state')\n",
    "merged['diff']=merged['Per_y']-merged['Per_x']\n",
    "merged['diff']=merged['diff']*100\n",
    "merged=merged.sort_values('diff',ascending=False)\n",
    "\n",
    "ax1=sns.barplot(data=merged, x='diff',y='Merch state')\n",
    "ax1.set_xlabel('Percentage Difference')\n",
    "ax1.set_ylabel('Merch state')\n",
    "plt.title('The Percentage of Fraudulent over Non-Fraudulent Transcations in Each State')"
   ]
  },
  {
   "cell_type": "markdown",
   "id": "d81f51b0",
   "metadata": {},
   "source": [
    "### Monthly trends"
   ]
  },
  {
   "cell_type": "code",
   "execution_count": 20,
   "id": "f94a701f",
   "metadata": {},
   "outputs": [
    {
     "data": {
      "text/plain": [
       "<matplotlib.legend.Legend at 0x1629ab4d0d0>"
      ]
     },
     "execution_count": 20,
     "metadata": {},
     "output_type": "execute_result"
    },
    {
     "data": {
      "image/png": "[encoded data removed]",
      "text/plain": [
       "<Figure size 864x432 with 1 Axes>"
      ]
     },
     "metadata": {
      "needs_background": "light"
     },
     "output_type": "display_data"
    }
   ],
   "source": [
    "#month vs fraud\n",
    "ax=sns.histplot(data=credit_card, x=\"month\", hue=\"Fraud\", common_norm=False,stat='percent',multiple='dodge')\n",
    "ax.set_ylabel('Percentage')\n",
    "ax.set_xlabel('Month')\n",
    "plt.xticks(np.arange(1,13,1))\n",
    "ax.set_xticklabels([\"Jan\",\"Feb\",\"Mar\",\"Apr\",\"May\",\"Jun\",\"Jul\",'Aug','Sep','Oct','Nov','Dec'])\n",
    "plt.legend(title='Type', labels=['Fraud', 'Not Fraud'])"
   ]
  },
  {
   "cell_type": "markdown",
   "id": "96f524fd",
   "metadata": {},
   "source": [
    "### Daily trend"
   ]
  },
  {
   "cell_type": "code",
   "execution_count": 21,
   "id": "a9b4e730",
   "metadata": {},
   "outputs": [
    {
     "name": "stderr",
     "output_type": "stream",
     "text": [
      "C:\\Users\\b1379039\\AppData\\Local\\Temp\\ipykernel_6180\\3150562307.py:2: UserWarning: FixedFormatter should only be used together with FixedLocator\n",
      "  ax.set_xticklabels(['',\"Mon\",\"Tue\",\"Wed\",\"Thu\",\"Fri\",\"Sat\",\"Sun\"])\n"
     ]
    },
    {
     "data": {
      "text/plain": [
       "<matplotlib.legend.Legend at 0x16299ee9e20>"
      ]
     },
     "execution_count": 21,
     "metadata": {},
     "output_type": "execute_result"
    },
    {
     "data": {
      "image/png": "[encoded data removed]",
      "text/plain": [
       "<Figure size 864x432 with 1 Axes>"
      ]
     },
     "metadata": {
      "needs_background": "light"
     },
     "output_type": "display_data"
    }
   ],
   "source": [
    "ax=sns.histplot(data = credit_card, x=\"day\", hue=\"Fraud\", common_norm=False,stat='percent',multiple='dodge')\n",
    "ax.set_xticklabels(['',\"Mon\",\"Tue\",\"Wed\",\"Thu\",\"Fri\",\"Sat\",\"Sun\"])\n",
    "ax.set_ylabel('Percentage')\n",
    "ax.set_xlabel('Day')\n",
    "plt.legend(title='Type', labels=['Fraud', 'Not Fraud'])"
   ]
  },
  {
   "cell_type": "markdown",
   "id": "b7628e2f",
   "metadata": {},
   "source": [
    "### DATASET DISTRIBUTION AND A SIMPLE APPROACH OF UNDERSAMPLING"
   ]
  },
  {
   "cell_type": "code",
   "execution_count": 22,
   "id": "d86fca6d",
   "metadata": {
    "scrolled": true
   },
   "outputs": [
    {
     "name": "stdout",
     "output_type": "stream",
     "text": [
      "Fraud Data Shape:  (1022, 11)\n",
      "Non-Fraud Data Shape:  (1022, 11)\n"
     ]
    }
   ],
   "source": [
    "#First Method of solving this problem which comes in mind will be by \n",
    "#taking same number of records of the majority class as the minority class\n",
    "\n",
    "fraud_data = credit_card.loc[credit_card[\"Fraud\"] == 1]\n",
    "non_fraud_data = credit_card.loc[credit_card[\"Fraud\"] == 0][:1022]\n",
    "\n",
    "#concating the above dataframes to get a single dataframe\n",
    "normal_distributed_df = pd.concat([fraud_data, non_fraud_data])\n",
    "\n",
    "# Shuffle dataframe rows\n",
    "new_df = normal_distributed_df.sample(frac=1, random_state=42)\n",
    "# setting up separate dataframes for fraud and non_fraud data for detailed analysis and comparison\n",
    "\n",
    "print(\"Fraud Data Shape: \", fraud_data.shape)\n",
    "print(\"Non-Fraud Data Shape: \", non_fraud_data.shape)"
   ]
  },
  {
   "cell_type": "code",
   "execution_count": 23,
   "id": "efa21bf2",
   "metadata": {},
   "outputs": [
    {
     "name": "stdout",
     "output_type": "stream",
     "text": [
      "No Frauds 50.0 % of the dataset\n",
      "Frauds 50.0 % of the dataset\n"
     ]
    }
   ],
   "source": [
    "#Now we have exactly 50-50 percent rows of both majority and minority classes\n",
    "\n",
    "print('No Frauds', round(new_df['Fraud'].value_counts()[0]/len(new_df) * 100 , 2), '% of the dataset')\n",
    "print('Frauds', round(new_df['Fraud'].value_counts()[1]/len(new_df) * 100 , 2), '% of the dataset')"
   ]
  },
  {
   "cell_type": "markdown",
   "id": "89e9ef3a",
   "metadata": {},
   "source": [
    "### ENCODING INDEPENDENT VARIABLE"
   ]
  },
  {
   "cell_type": "code",
   "execution_count": 24,
   "id": "e17a8519",
   "metadata": {},
   "outputs": [],
   "source": [
    "le = LabelEncoder()\n",
    "new_df[\"Merchnum\"] = le.fit_transform(new_df['Merchnum'])\n",
    "new_df[\"Merch description\"] = le.fit_transform(new_df['Merch description'])\n",
    "new_df[\"Merch state\"] = le.fit_transform(new_df['Merch state'])\n",
    "new_df[\"Transtype\"] = le.fit_transform(new_df['Transtype'])"
   ]
  },
  {
   "cell_type": "markdown",
   "id": "b71a1e49",
   "metadata": {},
   "source": [
    "### FEATURE SCALING THE DATASET "
   ]
  },
  {
   "cell_type": "code",
   "execution_count": 25,
   "id": "d61fa037",
   "metadata": {},
   "outputs": [
    {
     "data": {
      "text/html": [
       "<div>\n",
       "<style scoped>\n",
       "    .dataframe tbody tr th:only-of-type {\n",
       "        vertical-align: middle;\n",
       "    }\n",
       "\n",
       "    .dataframe tbody tr th {\n",
       "        vertical-align: top;\n",
       "    }\n",
       "\n",
       "    .dataframe thead th {\n",
       "        text-align: right;\n",
       "    }\n",
       "</style>\n",
       "<table border=\"1\" class=\"dataframe\">\n",
       "  <thead>\n",
       "    <tr style=\"text-align: right;\">\n",
       "      <th></th>\n",
       "      <th>Recnum</th>\n",
       "      <th>day</th>\n",
       "      <th>month</th>\n",
       "      <th>Cardnum</th>\n",
       "      <th>Merchnum</th>\n",
       "      <th>Merch description</th>\n",
       "      <th>Merch state</th>\n",
       "      <th>Merch zip</th>\n",
       "      <th>Transtype</th>\n",
       "      <th>Amount</th>\n",
       "      <th>Fraud</th>\n",
       "    </tr>\n",
       "  </thead>\n",
       "  <tbody>\n",
       "    <tr>\n",
       "      <th>41695</th>\n",
       "      <td>0.373921</td>\n",
       "      <td>1.280883</td>\n",
       "      <td>0.468455</td>\n",
       "      <td>-0.934997</td>\n",
       "      <td>1.227079</td>\n",
       "      <td>-1.163108</td>\n",
       "      <td>0.358556</td>\n",
       "      <td>-0.138674</td>\n",
       "      <td>0.0</td>\n",
       "      <td>1.322675</td>\n",
       "      <td>1.0</td>\n",
       "    </tr>\n",
       "    <tr>\n",
       "      <th>299</th>\n",
       "      <td>-0.869619</td>\n",
       "      <td>-1.215423</td>\n",
       "      <td>-0.851901</td>\n",
       "      <td>-0.300915</td>\n",
       "      <td>0.009823</td>\n",
       "      <td>0.733899</td>\n",
       "      <td>-1.062205</td>\n",
       "      <td>0.393393</td>\n",
       "      <td>0.0</td>\n",
       "      <td>-0.513138</td>\n",
       "      <td>-1.0</td>\n",
       "    </tr>\n",
       "    <tr>\n",
       "      <th>50319</th>\n",
       "      <td>0.632987</td>\n",
       "      <td>1.780145</td>\n",
       "      <td>0.732526</td>\n",
       "      <td>-0.313086</td>\n",
       "      <td>-0.894957</td>\n",
       "      <td>0.590816</td>\n",
       "      <td>-0.688321</td>\n",
       "      <td>-0.891307</td>\n",
       "      <td>0.0</td>\n",
       "      <td>0.054580</td>\n",
       "      <td>1.0</td>\n",
       "    </tr>\n",
       "    <tr>\n",
       "      <th>59817</th>\n",
       "      <td>0.918308</td>\n",
       "      <td>-0.216900</td>\n",
       "      <td>0.996597</td>\n",
       "      <td>-0.679765</td>\n",
       "      <td>1.199096</td>\n",
       "      <td>0.092332</td>\n",
       "      <td>0.283779</td>\n",
       "      <td>-1.167370</td>\n",
       "      <td>0.0</td>\n",
       "      <td>2.654921</td>\n",
       "      <td>1.0</td>\n",
       "    </tr>\n",
       "    <tr>\n",
       "      <th>571</th>\n",
       "      <td>-0.861448</td>\n",
       "      <td>-0.716161</td>\n",
       "      <td>-0.851901</td>\n",
       "      <td>-0.623078</td>\n",
       "      <td>1.315691</td>\n",
       "      <td>1.292385</td>\n",
       "      <td>1.106325</td>\n",
       "      <td>-0.841293</td>\n",
       "      <td>0.0</td>\n",
       "      <td>-0.519058</td>\n",
       "      <td>-1.0</td>\n",
       "    </tr>\n",
       "    <tr>\n",
       "      <th>...</th>\n",
       "      <td>...</td>\n",
       "      <td>...</td>\n",
       "      <td>...</td>\n",
       "      <td>...</td>\n",
       "      <td>...</td>\n",
       "      <td>...</td>\n",
       "      <td>...</td>\n",
       "      <td>...</td>\n",
       "      <td>...</td>\n",
       "      <td>...</td>\n",
       "      <td>...</td>\n",
       "    </tr>\n",
       "    <tr>\n",
       "      <th>133</th>\n",
       "      <td>-0.874605</td>\n",
       "      <td>1.780145</td>\n",
       "      <td>-0.851901</td>\n",
       "      <td>0.481099</td>\n",
       "      <td>-0.960251</td>\n",
       "      <td>0.632356</td>\n",
       "      <td>1.106325</td>\n",
       "      <td>-0.850096</td>\n",
       "      <td>0.0</td>\n",
       "      <td>-0.520783</td>\n",
       "      <td>-1.0</td>\n",
       "    </tr>\n",
       "    <tr>\n",
       "      <th>311</th>\n",
       "      <td>-0.869258</td>\n",
       "      <td>-1.215423</td>\n",
       "      <td>-0.851901</td>\n",
       "      <td>-0.190186</td>\n",
       "      <td>1.068509</td>\n",
       "      <td>-1.181570</td>\n",
       "      <td>-1.735198</td>\n",
       "      <td>1.426989</td>\n",
       "      <td>0.0</td>\n",
       "      <td>1.682796</td>\n",
       "      <td>-1.0</td>\n",
       "    </tr>\n",
       "    <tr>\n",
       "      <th>87460</th>\n",
       "      <td>1.748706</td>\n",
       "      <td>-0.716161</td>\n",
       "      <td>1.788810</td>\n",
       "      <td>-0.031046</td>\n",
       "      <td>-0.554499</td>\n",
       "      <td>-1.061565</td>\n",
       "      <td>1.106325</td>\n",
       "      <td>-0.850161</td>\n",
       "      <td>0.0</td>\n",
       "      <td>-0.477535</td>\n",
       "      <td>1.0</td>\n",
       "    </tr>\n",
       "    <tr>\n",
       "      <th>485</th>\n",
       "      <td>-0.864031</td>\n",
       "      <td>-0.716161</td>\n",
       "      <td>-0.851901</td>\n",
       "      <td>-0.753585</td>\n",
       "      <td>-1.342684</td>\n",
       "      <td>0.881598</td>\n",
       "      <td>1.106325</td>\n",
       "      <td>-0.841616</td>\n",
       "      <td>0.0</td>\n",
       "      <td>-0.470703</td>\n",
       "      <td>-1.0</td>\n",
       "    </tr>\n",
       "    <tr>\n",
       "      <th>128</th>\n",
       "      <td>-0.874756</td>\n",
       "      <td>1.780145</td>\n",
       "      <td>-0.851901</td>\n",
       "      <td>0.262068</td>\n",
       "      <td>0.014487</td>\n",
       "      <td>1.038528</td>\n",
       "      <td>0.582887</td>\n",
       "      <td>-0.944869</td>\n",
       "      <td>0.0</td>\n",
       "      <td>-0.523027</td>\n",
       "      <td>-1.0</td>\n",
       "    </tr>\n",
       "  </tbody>\n",
       "</table>\n",
       "<p>2044 rows × 11 columns</p>\n",
       "</div>"
      ],
      "text/plain": [
       "         Recnum       day     month   Cardnum  Merchnum  Merch description  \\\n",
       "41695  0.373921  1.280883  0.468455 -0.934997  1.227079          -1.163108   \n",
       "299   -0.869619 -1.215423 -0.851901 -0.300915  0.009823           0.733899   \n",
       "50319  0.632987  1.780145  0.732526 -0.313086 -0.894957           0.590816   \n",
       "59817  0.918308 -0.216900  0.996597 -0.679765  1.199096           0.092332   \n",
       "571   -0.861448 -0.716161 -0.851901 -0.623078  1.315691           1.292385   \n",
       "...         ...       ...       ...       ...       ...                ...   \n",
       "133   -0.874605  1.780145 -0.851901  0.481099 -0.960251           0.632356   \n",
       "311   -0.869258 -1.215423 -0.851901 -0.190186  1.068509          -1.181570   \n",
       "87460  1.748706 -0.716161  1.788810 -0.031046 -0.554499          -1.061565   \n",
       "485   -0.864031 -0.716161 -0.851901 -0.753585 -1.342684           0.881598   \n",
       "128   -0.874756  1.780145 -0.851901  0.262068  0.014487           1.038528   \n",
       "\n",
       "       Merch state  Merch zip  Transtype    Amount  Fraud  \n",
       "41695     0.358556  -0.138674        0.0  1.322675    1.0  \n",
       "299      -1.062205   0.393393        0.0 -0.513138   -1.0  \n",
       "50319    -0.688321  -0.891307        0.0  0.054580    1.0  \n",
       "59817     0.283779  -1.167370        0.0  2.654921    1.0  \n",
       "571       1.106325  -0.841293        0.0 -0.519058   -1.0  \n",
       "...            ...        ...        ...       ...    ...  \n",
       "133       1.106325  -0.850096        0.0 -0.520783   -1.0  \n",
       "311      -1.735198   1.426989        0.0  1.682796   -1.0  \n",
       "87460     1.106325  -0.850161        0.0 -0.477535    1.0  \n",
       "485       1.106325  -0.841616        0.0 -0.470703   -1.0  \n",
       "128       0.582887  -0.944869        0.0 -0.523027   -1.0  \n",
       "\n",
       "[2044 rows x 11 columns]"
      ]
     },
     "execution_count": 25,
     "metadata": {},
     "output_type": "execute_result"
    }
   ],
   "source": [
    "df = pd.DataFrame(StandardScaler().fit_transform(new_df), columns=new_df.columns, index=new_df.index)\n",
    "df"
   ]
  },
  {
   "cell_type": "markdown",
   "id": "09cb3ae7",
   "metadata": {},
   "source": [
    "### SPLITTING THE DATASET"
   ]
  },
  {
   "cell_type": "code",
   "execution_count": 26,
   "id": "86934c47",
   "metadata": {},
   "outputs": [
    {
     "data": {
      "text/plain": [
       "(814, 10)"
      ]
     },
     "execution_count": 26,
     "metadata": {},
     "output_type": "execute_result"
    }
   ],
   "source": [
    "#splitting the dataset\n",
    "X_train, X_test = train_test_split(df, test_size=0.2, random_state=42)\n",
    "\n",
    "X_train = X_train[X_train.Fraud == -1.0]\n",
    "X_train = X_train.drop(['Fraud'], axis=1)\n",
    "\n",
    "y_test = X_test['Fraud']\n",
    "X_test = X_test.drop(['Fraud'], axis=1)\n",
    "\n",
    "X_train = X_train.values\n",
    "X_test = X_test.values\n",
    "X_train.shape"
   ]
  },
  {
   "cell_type": "code",
   "execution_count": 27,
   "id": "2e1177ed",
   "metadata": {},
   "outputs": [
    {
     "data": {
      "text/plain": [
       "(409, 10)"
      ]
     },
     "execution_count": 27,
     "metadata": {},
     "output_type": "execute_result"
    }
   ],
   "source": [
    "X_test.shape"
   ]
  },
  {
   "cell_type": "code",
   "execution_count": 28,
   "id": "74c49bc2",
   "metadata": {},
   "outputs": [
    {
     "data": {
      "text/plain": [
       "(409,)"
      ]
     },
     "execution_count": 28,
     "metadata": {},
     "output_type": "execute_result"
    }
   ],
   "source": [
    "y_test.shape"
   ]
  },
  {
   "cell_type": "markdown",
   "id": "d54d802e",
   "metadata": {},
   "source": [
    "### UNDERCOMPLETE OR GENERAL AUTOENCODER"
   ]
  },
  {
   "cell_type": "markdown",
   "id": "22a1f9ad",
   "metadata": {},
   "source": [
    "The Autoencoder model for anomaly detection has some steps as follows: \n",
    "\n",
    "Step 1 is the encoder step. The essential information is extracted by a neural network model in this step.\n",
    "\n",
    "Step 2 is the decoder step. In this step, the model reconstructs the data using the extracted information.\n",
    "\n",
    "Step 3: Iterate step 1 and step 2 to adjust the model to minimize the difference between input and reconstructed output, until we get good reconstruction results for the training dataset.\n",
    "\n",
    "Step 4: Make predictions on a dataset that includes outliers.\n",
    "\n",
    "Step 5: Set up a threshold for outliers/anomalies by comparing the differences between the autoencoder model reconstruction value and the actual value.\n",
    "\n",
    "Step 6: Identify the data points with the difference higher than the threshold to be outliers or anomalies."
   ]
  },
  {
   "cell_type": "markdown",
   "id": "669bf0e4",
   "metadata": {},
   "source": [
    "#### INPUT LAYER"
   ]
  },
  {
   "cell_type": "code",
   "execution_count": 29,
   "id": "ddc317d5",
   "metadata": {},
   "outputs": [],
   "source": [
    "# 'tanh' is used for the activation function of the encoded network \n",
    "# because it has big learning steps and results in strong or higher gradients\n",
    "\n",
    "#relu is used on the bottle neck (latent low representation) \n",
    "#because model performance is better when trained with relu\n",
    "\n",
    "#sigmoid is used for binary classification and since we have \n",
    "#fraud and non fraudclass then it is good for this problem\n",
    "\n",
    "#In the input layer, we specified the shape of the dataset. \n",
    "\n",
    "input_layer = Input(shape=(X_train.shape[1],))"
   ]
  },
  {
   "cell_type": "markdown",
   "id": "998b9242",
   "metadata": {},
   "source": [
    "#### BUILDING THE ENCODER NETWORK"
   ]
  },
  {
   "cell_type": "code",
   "execution_count": 30,
   "id": "60de42ef",
   "metadata": {},
   "outputs": [],
   "source": [
    "\n",
    "#Note that the encoder requires the number of neurons to decrease with the layers. \n",
    "#The last layer in the encoder is the size of the encoded representation, and it is also called the bottleneck.\n",
    "encoded = Dense(200, activation=\"tanh\", activity_regularizer=regularizers.l1(1e-3))(input_layer)\n",
    "encoded = Dense(100, activation=\"tanh\", activity_regularizer=regularizers.l1(1e-3))(encoded)\n",
    "encoded = Dense(2, activation=\"relu\")(encoded)"
   ]
  },
  {
   "cell_type": "markdown",
   "id": "96f953d4",
   "metadata": {},
   "source": [
    "#### BUILDING THE DECODER NETWORK"
   ]
  },
  {
   "cell_type": "code",
   "execution_count": 31,
   "id": "d0bba684",
   "metadata": {},
   "outputs": [],
   "source": [
    "# The decoder consists of 3 layers with 12, 25, 50 and 100 neurons, respectively. \n",
    "#Opposite from the encoder, the decoder requires the number of neurons to increase with the layers. \n",
    "#The output layer in the decoder has the same size as the input layer.\n",
    "\n",
    "decoded = Dense(100, activation=\"tanh\")(encoded)\n",
    "decoded = Dense(200, activation=\"tanh\")(decoded)"
   ]
  },
  {
   "cell_type": "markdown",
   "id": "8805683c",
   "metadata": {},
   "source": [
    "#### OUTPUT LAYER"
   ]
  },
  {
   "cell_type": "code",
   "execution_count": 32,
   "id": "1360d3c0",
   "metadata": {},
   "outputs": [],
   "source": [
    "output_layer = Dense(X_train.shape[1], activation=\"sigmoid\")(decoded)"
   ]
  },
  {
   "cell_type": "markdown",
   "id": "00650a00",
   "metadata": {},
   "source": [
    "#### MODEL CREATION"
   ]
  },
  {
   "cell_type": "code",
   "execution_count": 33,
   "id": "2087f58e",
   "metadata": {},
   "outputs": [
    {
     "name": "stdout",
     "output_type": "stream",
     "text": [
      "Model: \"model\"\n",
      "_________________________________________________________________\n",
      " Layer (type)                Output Shape              Param #   \n",
      "=================================================================\n",
      " input_1 (InputLayer)        [(None, 10)]              0         \n",
      "                                                                 \n",
      " dense (Dense)               (None, 200)               2200      \n",
      "                                                                 \n",
      " dense_1 (Dense)             (None, 100)               20100     \n",
      "                                                                 \n",
      " dense_2 (Dense)             (None, 2)                 202       \n",
      "                                                                 \n",
      " dense_3 (Dense)             (None, 100)               300       \n",
      "                                                                 \n",
      " dense_4 (Dense)             (None, 200)               20200     \n",
      "                                                                 \n",
      " dense_5 (Dense)             (None, 10)                2010      \n",
      "                                                                 \n",
      "=================================================================\n",
      "Total params: 45,012\n",
      "Trainable params: 45,012\n",
      "Non-trainable params: 0\n",
      "_________________________________________________________________\n"
     ]
    }
   ],
   "source": [
    "#After defining the input, encoder, and decoder layers, we create the autoencoder model to combine the layers.\n",
    "autoencoder = Model(input_layer, output_layer)\n",
    "autoencoder.summary()"
   ]
  },
  {
   "cell_type": "code",
   "execution_count": 34,
   "id": "9bcb6443",
   "metadata": {},
   "outputs": [
    {
     "name": "stdout",
     "output_type": "stream",
     "text": [
      "Epoch 1/200\n",
      "7/7 [==============================] - 1s 33ms/step - loss: 1.1257 - val_loss: 1.0015\n",
      "Epoch 2/200\n",
      "7/7 [==============================] - 0s 7ms/step - loss: 0.7979 - val_loss: 0.9235\n",
      "Epoch 3/200\n",
      "7/7 [==============================] - 0s 6ms/step - loss: 0.7287 - val_loss: 0.9061\n",
      "Epoch 4/200\n",
      "7/7 [==============================] - 0s 7ms/step - loss: 0.7095 - val_loss: 0.8962\n",
      "Epoch 5/200\n",
      "7/7 [==============================] - 0s 6ms/step - loss: 0.6998 - val_loss: 0.8915\n",
      "Epoch 6/200\n",
      "7/7 [==============================] - 0s 6ms/step - loss: 0.6932 - val_loss: 0.8854\n",
      "Epoch 7/200\n",
      "7/7 [==============================] - 0s 6ms/step - loss: 0.6858 - val_loss: 0.8796\n",
      "Epoch 8/200\n",
      "7/7 [==============================] - 0s 6ms/step - loss: 0.6784 - val_loss: 0.8763\n",
      "Epoch 9/200\n",
      "7/7 [==============================] - 0s 6ms/step - loss: 0.6726 - val_loss: 0.8751\n",
      "Epoch 10/200\n",
      "7/7 [==============================] - 0s 6ms/step - loss: 0.6666 - val_loss: 0.8754\n",
      "Epoch 11/200\n",
      "7/7 [==============================] - 0s 6ms/step - loss: 0.6625 - val_loss: 0.8715\n",
      "Epoch 12/200\n",
      "7/7 [==============================] - 0s 6ms/step - loss: 0.6589 - val_loss: 0.8700\n",
      "Epoch 13/200\n",
      "7/7 [==============================] - 0s 7ms/step - loss: 0.6561 - val_loss: 0.8695\n",
      "Epoch 14/200\n",
      "7/7 [==============================] - 0s 6ms/step - loss: 0.6535 - val_loss: 0.8693\n",
      "Epoch 15/200\n",
      "7/7 [==============================] - 0s 7ms/step - loss: 0.6517 - val_loss: 0.8663\n",
      "Epoch 16/200\n",
      "7/7 [==============================] - 0s 7ms/step - loss: 0.6489 - val_loss: 0.8658\n",
      "Epoch 17/200\n",
      "7/7 [==============================] - 0s 7ms/step - loss: 0.6461 - val_loss: 0.8674\n",
      "Epoch 18/200\n",
      "7/7 [==============================] - 0s 6ms/step - loss: 0.6439 - val_loss: 0.8675\n",
      "Epoch 19/200\n",
      "7/7 [==============================] - 0s 6ms/step - loss: 0.6420 - val_loss: 0.8677\n",
      "Epoch 20/200\n",
      "7/7 [==============================] - 0s 6ms/step - loss: 0.6402 - val_loss: 0.8663\n",
      "Epoch 21/200\n",
      "7/7 [==============================] - 0s 6ms/step - loss: 0.6382 - val_loss: 0.8670\n",
      "Epoch 22/200\n",
      "7/7 [==============================] - 0s 6ms/step - loss: 0.6363 - val_loss: 0.8660\n",
      "Epoch 23/200\n",
      "7/7 [==============================] - 0s 7ms/step - loss: 0.6354 - val_loss: 0.8652\n",
      "Epoch 24/200\n",
      "7/7 [==============================] - 0s 6ms/step - loss: 0.6339 - val_loss: 0.8657\n",
      "Epoch 25/200\n",
      "7/7 [==============================] - 0s 7ms/step - loss: 0.6316 - val_loss: 0.8711\n",
      "Epoch 26/200\n",
      "7/7 [==============================] - 0s 6ms/step - loss: 0.6298 - val_loss: 0.8726\n",
      "Epoch 27/200\n",
      "7/7 [==============================] - 0s 6ms/step - loss: 0.6291 - val_loss: 0.8740\n",
      "Epoch 28/200\n",
      "7/7 [==============================] - 0s 7ms/step - loss: 0.6267 - val_loss: 0.8742\n",
      "Epoch 29/200\n",
      "7/7 [==============================] - 0s 7ms/step - loss: 0.6249 - val_loss: 0.8774\n",
      "Epoch 30/200\n",
      "7/7 [==============================] - 0s 6ms/step - loss: 0.6229 - val_loss: 0.8798\n",
      "Epoch 31/200\n",
      "7/7 [==============================] - 0s 6ms/step - loss: 0.6215 - val_loss: 0.8833\n",
      "Epoch 32/200\n",
      "7/7 [==============================] - 0s 6ms/step - loss: 0.6200 - val_loss: 0.8864\n",
      "Epoch 33/200\n",
      "7/7 [==============================] - 0s 6ms/step - loss: 0.6179 - val_loss: 0.8905\n",
      "Epoch 34/200\n",
      "7/7 [==============================] - 0s 6ms/step - loss: 0.6154 - val_loss: 0.8939\n",
      "Epoch 35/200\n",
      "7/7 [==============================] - 0s 7ms/step - loss: 0.6135 - val_loss: 0.8964\n",
      "Epoch 36/200\n",
      "7/7 [==============================] - 0s 6ms/step - loss: 0.6119 - val_loss: 0.8986\n",
      "Epoch 37/200\n",
      "7/7 [==============================] - 0s 6ms/step - loss: 0.6100 - val_loss: 0.9015\n",
      "Epoch 38/200\n",
      "7/7 [==============================] - 0s 7ms/step - loss: 0.6086 - val_loss: 0.9044\n",
      "Epoch 39/200\n",
      "7/7 [==============================] - 0s 7ms/step - loss: 0.6073 - val_loss: 0.9063\n",
      "Epoch 40/200\n",
      "7/7 [==============================] - 0s 6ms/step - loss: 0.6062 - val_loss: 0.9083\n",
      "Epoch 41/200\n",
      "7/7 [==============================] - 0s 6ms/step - loss: 0.6052 - val_loss: 0.9102\n",
      "Epoch 42/200\n",
      "7/7 [==============================] - 0s 6ms/step - loss: 0.6043 - val_loss: 0.9121\n",
      "Epoch 43/200\n",
      "7/7 [==============================] - 0s 6ms/step - loss: 0.6034 - val_loss: 0.9137\n",
      "Epoch 44/200\n",
      "7/7 [==============================] - 0s 6ms/step - loss: 0.6026 - val_loss: 0.9148\n",
      "Epoch 45/200\n",
      "7/7 [==============================] - 0s 6ms/step - loss: 0.6020 - val_loss: 0.9164\n",
      "Epoch 46/200\n",
      "7/7 [==============================] - 0s 6ms/step - loss: 0.6013 - val_loss: 0.9181\n",
      "Epoch 47/200\n",
      "7/7 [==============================] - 0s 7ms/step - loss: 0.6007 - val_loss: 0.9194\n",
      "Epoch 48/200\n",
      "7/7 [==============================] - 0s 6ms/step - loss: 0.6001 - val_loss: 0.9212\n",
      "Epoch 49/200\n",
      "7/7 [==============================] - 0s 6ms/step - loss: 0.5996 - val_loss: 0.9219\n",
      "Epoch 50/200\n",
      "7/7 [==============================] - 0s 6ms/step - loss: 0.5991 - val_loss: 0.9239\n",
      "Epoch 51/200\n",
      "7/7 [==============================] - 0s 6ms/step - loss: 0.5986 - val_loss: 0.9251\n",
      "Epoch 52/200\n",
      "7/7 [==============================] - 0s 6ms/step - loss: 0.5981 - val_loss: 0.9267\n",
      "Epoch 53/200\n",
      "7/7 [==============================] - 0s 6ms/step - loss: 0.5977 - val_loss: 0.9269\n",
      "Epoch 54/200\n",
      "7/7 [==============================] - 0s 6ms/step - loss: 0.5974 - val_loss: 0.9289\n",
      "Epoch 55/200\n",
      "7/7 [==============================] - 0s 6ms/step - loss: 0.5970 - val_loss: 0.9296\n",
      "Epoch 56/200\n",
      "7/7 [==============================] - 0s 6ms/step - loss: 0.5967 - val_loss: 0.9315\n",
      "Epoch 57/200\n",
      "7/7 [==============================] - 0s 6ms/step - loss: 0.5963 - val_loss: 0.9324\n",
      "Epoch 58/200\n",
      "7/7 [==============================] - 0s 6ms/step - loss: 0.5960 - val_loss: 0.9329\n",
      "Epoch 59/200\n",
      "7/7 [==============================] - 0s 6ms/step - loss: 0.5956 - val_loss: 0.9348\n",
      "Epoch 60/200\n",
      "7/7 [==============================] - 0s 6ms/step - loss: 0.5953 - val_loss: 0.9333\n",
      "Epoch 61/200\n",
      "7/7 [==============================] - 0s 6ms/step - loss: 0.5951 - val_loss: 0.9367\n",
      "Epoch 62/200\n",
      "7/7 [==============================] - 0s 6ms/step - loss: 0.5947 - val_loss: 0.9344\n",
      "Epoch 63/200\n",
      "7/7 [==============================] - 0s 6ms/step - loss: 0.5944 - val_loss: 0.9355\n",
      "Epoch 64/200\n",
      "7/7 [==============================] - 0s 6ms/step - loss: 0.5942 - val_loss: 0.9363\n",
      "Epoch 65/200\n",
      "7/7 [==============================] - 0s 6ms/step - loss: 0.5939 - val_loss: 0.9358\n",
      "Epoch 66/200\n",
      "7/7 [==============================] - 0s 6ms/step - loss: 0.5937 - val_loss: 0.9365\n",
      "Epoch 67/200\n",
      "7/7 [==============================] - 0s 6ms/step - loss: 0.5934 - val_loss: 0.9373\n",
      "Epoch 68/200\n",
      "7/7 [==============================] - 0s 6ms/step - loss: 0.5932 - val_loss: 0.9376\n",
      "Epoch 69/200\n",
      "7/7 [==============================] - 0s 6ms/step - loss: 0.5930 - val_loss: 0.9376\n",
      "Epoch 70/200\n",
      "7/7 [==============================] - 0s 6ms/step - loss: 0.5929 - val_loss: 0.9383\n",
      "Epoch 71/200\n",
      "7/7 [==============================] - 0s 6ms/step - loss: 0.5927 - val_loss: 0.9384\n",
      "Epoch 72/200\n",
      "7/7 [==============================] - 0s 6ms/step - loss: 0.5927 - val_loss: 0.9408\n",
      "Epoch 73/200\n",
      "7/7 [==============================] - 0s 6ms/step - loss: 0.5926 - val_loss: 0.9393\n",
      "Epoch 74/200\n",
      "7/7 [==============================] - 0s 6ms/step - loss: 0.5923 - val_loss: 0.9395\n",
      "Epoch 75/200\n",
      "7/7 [==============================] - 0s 6ms/step - loss: 0.5920 - val_loss: 0.9412\n",
      "Epoch 76/200\n",
      "7/7 [==============================] - 0s 6ms/step - loss: 0.5919 - val_loss: 0.9386\n",
      "Epoch 77/200\n",
      "7/7 [==============================] - 0s 6ms/step - loss: 0.5918 - val_loss: 0.9402\n",
      "Epoch 78/200\n",
      "7/7 [==============================] - 0s 6ms/step - loss: 0.5916 - val_loss: 0.9423\n",
      "Epoch 79/200\n",
      "7/7 [==============================] - 0s 6ms/step - loss: 0.5916 - val_loss: 0.9408\n",
      "Epoch 80/200\n",
      "7/7 [==============================] - 0s 6ms/step - loss: 0.5914 - val_loss: 0.9417\n",
      "Epoch 81/200\n",
      "7/7 [==============================] - 0s 6ms/step - loss: 0.5914 - val_loss: 0.9398\n",
      "Epoch 82/200\n",
      "7/7 [==============================] - 0s 6ms/step - loss: 0.5913 - val_loss: 0.9415\n",
      "Epoch 83/200\n",
      "7/7 [==============================] - 0s 6ms/step - loss: 0.5913 - val_loss: 0.9421\n",
      "Epoch 84/200\n",
      "7/7 [==============================] - 0s 6ms/step - loss: 0.5913 - val_loss: 0.9410\n",
      "Epoch 85/200\n",
      "7/7 [==============================] - 0s 6ms/step - loss: 0.5911 - val_loss: 0.9416\n",
      "Epoch 86/200\n",
      "7/7 [==============================] - 0s 6ms/step - loss: 0.5910 - val_loss: 0.9443\n",
      "Epoch 87/200\n",
      "7/7 [==============================] - 0s 6ms/step - loss: 0.5906 - val_loss: 0.9411\n",
      "Epoch 88/200\n",
      "7/7 [==============================] - 0s 6ms/step - loss: 0.5905 - val_loss: 0.9421\n",
      "Epoch 89/200\n",
      "7/7 [==============================] - 0s 6ms/step - loss: 0.5904 - val_loss: 0.9437\n",
      "Epoch 90/200\n",
      "7/7 [==============================] - 0s 6ms/step - loss: 0.5902 - val_loss: 0.9427\n",
      "Epoch 91/200\n",
      "7/7 [==============================] - 0s 6ms/step - loss: 0.5902 - val_loss: 0.9438\n",
      "Epoch 92/200\n",
      "7/7 [==============================] - 0s 7ms/step - loss: 0.5901 - val_loss: 0.9428\n",
      "Epoch 93/200\n",
      "7/7 [==============================] - 0s 7ms/step - loss: 0.5901 - val_loss: 0.9420\n",
      "Epoch 94/200\n",
      "7/7 [==============================] - 0s 6ms/step - loss: 0.5900 - val_loss: 0.9444\n",
      "Epoch 95/200\n",
      "7/7 [==============================] - 0s 6ms/step - loss: 0.5901 - val_loss: 0.9416\n",
      "Epoch 96/200\n",
      "7/7 [==============================] - 0s 7ms/step - loss: 0.5901 - val_loss: 0.9457\n",
      "Epoch 97/200\n",
      "7/7 [==============================] - 0s 6ms/step - loss: 0.5901 - val_loss: 0.9422\n",
      "Epoch 98/200\n",
      "7/7 [==============================] - 0s 6ms/step - loss: 0.5899 - val_loss: 0.9440\n",
      "Epoch 99/200\n",
      "7/7 [==============================] - 0s 6ms/step - loss: 0.5898 - val_loss: 0.9418\n",
      "Epoch 100/200\n",
      "7/7 [==============================] - 0s 6ms/step - loss: 0.5896 - val_loss: 0.9432\n",
      "Epoch 101/200\n",
      "7/7 [==============================] - 0s 6ms/step - loss: 0.5895 - val_loss: 0.9446\n",
      "Epoch 102/200\n",
      "7/7 [==============================] - 0s 6ms/step - loss: 0.5895 - val_loss: 0.9428\n",
      "Epoch 103/200\n",
      "7/7 [==============================] - 0s 6ms/step - loss: 0.5894 - val_loss: 0.9431\n",
      "Epoch 104/200\n",
      "7/7 [==============================] - 0s 6ms/step - loss: 0.5893 - val_loss: 0.9435\n",
      "Epoch 105/200\n",
      "7/7 [==============================] - 0s 6ms/step - loss: 0.5893 - val_loss: 0.9449\n",
      "Epoch 106/200\n",
      "7/7 [==============================] - 0s 6ms/step - loss: 0.5892 - val_loss: 0.9447\n",
      "Epoch 107/200\n",
      "7/7 [==============================] - 0s 6ms/step - loss: 0.5893 - val_loss: 0.9433\n",
      "Epoch 108/200\n",
      "7/7 [==============================] - 0s 6ms/step - loss: 0.5891 - val_loss: 0.9456\n",
      "Epoch 109/200\n",
      "7/7 [==============================] - 0s 6ms/step - loss: 0.5891 - val_loss: 0.9426\n",
      "Epoch 110/200\n",
      "7/7 [==============================] - 0s 6ms/step - loss: 0.5890 - val_loss: 0.9446\n",
      "Epoch 111/200\n",
      "7/7 [==============================] - 0s 6ms/step - loss: 0.5890 - val_loss: 0.9442\n",
      "Epoch 112/200\n",
      "7/7 [==============================] - 0s 6ms/step - loss: 0.5892 - val_loss: 0.9438\n",
      "Epoch 113/200\n",
      "7/7 [==============================] - 0s 6ms/step - loss: 0.5891 - val_loss: 0.9459\n",
      "Epoch 114/200\n",
      "7/7 [==============================] - 0s 6ms/step - loss: 0.5892 - val_loss: 0.9436\n",
      "Epoch 115/200\n",
      "7/7 [==============================] - 0s 6ms/step - loss: 0.5890 - val_loss: 0.9436\n",
      "Epoch 116/200\n",
      "7/7 [==============================] - 0s 6ms/step - loss: 0.5891 - val_loss: 0.9459\n",
      "Epoch 117/200\n",
      "7/7 [==============================] - 0s 7ms/step - loss: 0.5896 - val_loss: 0.9416\n",
      "Epoch 118/200\n",
      "7/7 [==============================] - 0s 6ms/step - loss: 0.5894 - val_loss: 0.9450\n",
      "Epoch 119/200\n",
      "7/7 [==============================] - 0s 6ms/step - loss: 0.5890 - val_loss: 0.9427\n",
      "Epoch 120/200\n",
      "7/7 [==============================] - 0s 6ms/step - loss: 0.5888 - val_loss: 0.9432\n",
      "Epoch 121/200\n",
      "7/7 [==============================] - 0s 7ms/step - loss: 0.5887 - val_loss: 0.9437\n",
      "Epoch 122/200\n",
      "7/7 [==============================] - 0s 6ms/step - loss: 0.5886 - val_loss: 0.9427\n",
      "Epoch 123/200\n",
      "7/7 [==============================] - 0s 6ms/step - loss: 0.5885 - val_loss: 0.9432\n",
      "Epoch 124/200\n",
      "7/7 [==============================] - 0s 6ms/step - loss: 0.5885 - val_loss: 0.9437\n",
      "Epoch 125/200\n",
      "7/7 [==============================] - 0s 6ms/step - loss: 0.5884 - val_loss: 0.9425\n",
      "Epoch 126/200\n",
      "7/7 [==============================] - 0s 6ms/step - loss: 0.5884 - val_loss: 0.9439\n",
      "Epoch 127/200\n",
      "7/7 [==============================] - 0s 6ms/step - loss: 0.5884 - val_loss: 0.9438\n",
      "Epoch 128/200\n",
      "7/7 [==============================] - 0s 6ms/step - loss: 0.5884 - val_loss: 0.9427\n",
      "Epoch 129/200\n",
      "7/7 [==============================] - 0s 6ms/step - loss: 0.5884 - val_loss: 0.9430\n",
      "Epoch 130/200\n",
      "7/7 [==============================] - 0s 6ms/step - loss: 0.5883 - val_loss: 0.9430\n",
      "Epoch 131/200\n",
      "7/7 [==============================] - 0s 6ms/step - loss: 0.5883 - val_loss: 0.9429\n",
      "Epoch 132/200\n",
      "7/7 [==============================] - 0s 6ms/step - loss: 0.5883 - val_loss: 0.9434\n",
      "Epoch 133/200\n",
      "7/7 [==============================] - 0s 6ms/step - loss: 0.5883 - val_loss: 0.9449\n",
      "Epoch 134/200\n",
      "7/7 [==============================] - 0s 6ms/step - loss: 0.5904 - val_loss: 0.9334\n",
      "Epoch 135/200\n",
      "7/7 [==============================] - 0s 6ms/step - loss: 0.5921 - val_loss: 0.9354\n",
      "Epoch 136/200\n",
      "7/7 [==============================] - 0s 6ms/step - loss: 0.5939 - val_loss: 0.9347\n",
      "Epoch 137/200\n",
      "7/7 [==============================] - 0s 6ms/step - loss: 0.5976 - val_loss: 0.8912\n",
      "Epoch 138/200\n",
      "7/7 [==============================] - 0s 6ms/step - loss: 0.5987 - val_loss: 0.8909\n",
      "Epoch 139/200\n",
      "7/7 [==============================] - 0s 6ms/step - loss: 0.5986 - val_loss: 0.8881\n",
      "Epoch 140/200\n",
      "7/7 [==============================] - 0s 6ms/step - loss: 0.6054 - val_loss: 0.8790\n",
      "Epoch 141/200\n",
      "7/7 [==============================] - 0s 6ms/step - loss: 0.6064 - val_loss: 0.8675\n",
      "Epoch 142/200\n",
      "7/7 [==============================] - 0s 6ms/step - loss: 0.6096 - val_loss: 0.8659\n",
      "Epoch 143/200\n",
      "7/7 [==============================] - 0s 6ms/step - loss: 0.6062 - val_loss: 0.8648\n",
      "Epoch 144/200\n",
      "7/7 [==============================] - 0s 6ms/step - loss: 0.6031 - val_loss: 0.8682\n",
      "Epoch 145/200\n",
      "7/7 [==============================] - 0s 6ms/step - loss: 0.6019 - val_loss: 0.8685\n",
      "Epoch 146/200\n",
      "7/7 [==============================] - 0s 6ms/step - loss: 0.5985 - val_loss: 0.8685\n",
      "Epoch 147/200\n",
      "7/7 [==============================] - 0s 6ms/step - loss: 0.5978 - val_loss: 0.8636\n",
      "Epoch 148/200\n",
      "7/7 [==============================] - 0s 6ms/step - loss: 0.5953 - val_loss: 0.8628\n",
      "Epoch 149/200\n",
      "7/7 [==============================] - 0s 6ms/step - loss: 0.5930 - val_loss: 0.8725\n",
      "Epoch 150/200\n",
      "7/7 [==============================] - 0s 6ms/step - loss: 0.5919 - val_loss: 0.8798\n",
      "Epoch 151/200\n",
      "7/7 [==============================] - 0s 6ms/step - loss: 0.5911 - val_loss: 0.8801\n",
      "Epoch 152/200\n",
      "7/7 [==============================] - 0s 6ms/step - loss: 0.5908 - val_loss: 0.8757\n",
      "Epoch 153/200\n",
      "7/7 [==============================] - 0s 6ms/step - loss: 0.5903 - val_loss: 0.8737\n",
      "Epoch 154/200\n",
      "7/7 [==============================] - 0s 6ms/step - loss: 0.5901 - val_loss: 0.8733\n",
      "Epoch 155/200\n",
      "7/7 [==============================] - 0s 6ms/step - loss: 0.5899 - val_loss: 0.8728\n",
      "Epoch 156/200\n",
      "7/7 [==============================] - 0s 6ms/step - loss: 0.5897 - val_loss: 0.8733\n",
      "Epoch 157/200\n",
      "7/7 [==============================] - 0s 6ms/step - loss: 0.5895 - val_loss: 0.8754\n",
      "Epoch 158/200\n",
      "7/7 [==============================] - 0s 6ms/step - loss: 0.5894 - val_loss: 0.8743\n",
      "Epoch 159/200\n",
      "7/7 [==============================] - 0s 6ms/step - loss: 0.5892 - val_loss: 0.8730\n",
      "Epoch 160/200\n",
      "7/7 [==============================] - 0s 6ms/step - loss: 0.5891 - val_loss: 0.8745\n",
      "Epoch 161/200\n",
      "7/7 [==============================] - 0s 7ms/step - loss: 0.5890 - val_loss: 0.8731\n",
      "Epoch 162/200\n",
      "7/7 [==============================] - 0s 7ms/step - loss: 0.5890 - val_loss: 0.8750\n",
      "Epoch 163/200\n",
      "7/7 [==============================] - 0s 6ms/step - loss: 0.5889 - val_loss: 0.8734\n",
      "Epoch 164/200\n",
      "7/7 [==============================] - 0s 6ms/step - loss: 0.5889 - val_loss: 0.8750\n",
      "Epoch 165/200\n",
      "7/7 [==============================] - 0s 7ms/step - loss: 0.5889 - val_loss: 0.8740\n",
      "Epoch 166/200\n",
      "7/7 [==============================] - 0s 7ms/step - loss: 0.5888 - val_loss: 0.8743\n",
      "Epoch 167/200\n"
     ]
    },
    {
     "name": "stdout",
     "output_type": "stream",
     "text": [
      "7/7 [==============================] - 0s 6ms/step - loss: 0.5887 - val_loss: 0.8717\n",
      "Epoch 168/200\n",
      "7/7 [==============================] - 0s 6ms/step - loss: 0.5888 - val_loss: 0.8751\n",
      "Epoch 169/200\n",
      "7/7 [==============================] - 0s 6ms/step - loss: 0.5888 - val_loss: 0.8764\n",
      "Epoch 170/200\n",
      "7/7 [==============================] - 0s 6ms/step - loss: 0.5887 - val_loss: 0.8733\n",
      "Epoch 171/200\n",
      "7/7 [==============================] - 0s 6ms/step - loss: 0.5888 - val_loss: 0.8719\n",
      "Epoch 172/200\n",
      "7/7 [==============================] - 0s 6ms/step - loss: 0.5897 - val_loss: 0.8705\n",
      "Epoch 173/200\n",
      "7/7 [==============================] - 0s 6ms/step - loss: 0.5892 - val_loss: 0.8738\n",
      "Epoch 174/200\n",
      "7/7 [==============================] - 0s 6ms/step - loss: 0.5890 - val_loss: 0.8735\n",
      "Epoch 175/200\n",
      "7/7 [==============================] - 0s 6ms/step - loss: 0.5887 - val_loss: 0.8736\n",
      "Epoch 176/200\n",
      "7/7 [==============================] - 0s 6ms/step - loss: 0.5884 - val_loss: 0.8745\n",
      "Epoch 177/200\n",
      "7/7 [==============================] - 0s 6ms/step - loss: 0.5882 - val_loss: 0.8739\n",
      "Epoch 178/200\n",
      "7/7 [==============================] - 0s 6ms/step - loss: 0.5883 - val_loss: 0.8750\n",
      "Epoch 179/200\n",
      "7/7 [==============================] - 0s 6ms/step - loss: 0.5882 - val_loss: 0.8766\n",
      "Epoch 180/200\n",
      "7/7 [==============================] - 0s 6ms/step - loss: 0.5882 - val_loss: 0.8741\n",
      "Epoch 181/200\n",
      "7/7 [==============================] - 0s 6ms/step - loss: 0.5883 - val_loss: 0.8737\n",
      "Epoch 182/200\n",
      "7/7 [==============================] - 0s 6ms/step - loss: 0.5881 - val_loss: 0.8759\n",
      "Epoch 183/200\n",
      "7/7 [==============================] - 0s 6ms/step - loss: 0.5880 - val_loss: 0.8754\n",
      "Epoch 184/200\n",
      "7/7 [==============================] - 0s 6ms/step - loss: 0.5880 - val_loss: 0.8758\n",
      "Epoch 185/200\n",
      "7/7 [==============================] - 0s 6ms/step - loss: 0.5880 - val_loss: 0.8757\n",
      "Epoch 186/200\n",
      "7/7 [==============================] - 0s 6ms/step - loss: 0.5879 - val_loss: 0.8760\n",
      "Epoch 187/200\n",
      "7/7 [==============================] - 0s 6ms/step - loss: 0.5879 - val_loss: 0.8759\n",
      "Epoch 188/200\n",
      "7/7 [==============================] - 0s 6ms/step - loss: 0.5879 - val_loss: 0.8771\n",
      "Epoch 189/200\n",
      "7/7 [==============================] - 0s 6ms/step - loss: 0.5878 - val_loss: 0.8769\n",
      "Epoch 190/200\n",
      "7/7 [==============================] - 0s 6ms/step - loss: 0.5878 - val_loss: 0.8775\n",
      "Epoch 191/200\n",
      "7/7 [==============================] - 0s 6ms/step - loss: 0.5877 - val_loss: 0.8768\n",
      "Epoch 192/200\n",
      "7/7 [==============================] - 0s 6ms/step - loss: 0.5877 - val_loss: 0.8778\n",
      "Epoch 193/200\n",
      "7/7 [==============================] - 0s 6ms/step - loss: 0.5877 - val_loss: 0.8784\n",
      "Epoch 194/200\n",
      "7/7 [==============================] - 0s 6ms/step - loss: 0.5877 - val_loss: 0.8772\n",
      "Epoch 195/200\n",
      "7/7 [==============================] - 0s 6ms/step - loss: 0.5877 - val_loss: 0.8793\n",
      "Epoch 196/200\n",
      "7/7 [==============================] - 0s 6ms/step - loss: 0.5876 - val_loss: 0.8783\n",
      "Epoch 197/200\n",
      "7/7 [==============================] - 0s 6ms/step - loss: 0.5876 - val_loss: 0.8801\n",
      "Epoch 198/200\n",
      "7/7 [==============================] - 0s 6ms/step - loss: 0.5876 - val_loss: 0.8789\n",
      "Epoch 199/200\n",
      "7/7 [==============================] - 0s 6ms/step - loss: 0.5877 - val_loss: 0.8802\n",
      "Epoch 200/200\n",
      "7/7 [==============================] - 0s 6ms/step - loss: 0.5877 - val_loss: 0.8785\n"
     ]
    }
   ],
   "source": [
    "# compiling the auto encoder model  with the optimizer of adam and the loss of mse (Mean squared Error).\n",
    "autoencoder.compile(optimizer=\"adam\", loss=\"mse\")\n",
    "\n",
    "#When fitting the autoencoder model, we can see that the input and output datasets are the same,\n",
    "#which is the dataset that contains only the normal data points.\n",
    "\n",
    "#The epochs of 50 and batch_size of 32 mean the model uses 32 datapoints to update the weights in each iteration, \n",
    "#and the model will go through the whole training dataset 50 times.\n",
    "\n",
    "#shuffle=True will shuffle the dataset before each epoch.\n",
    "\n",
    "# training the auto encoder model on non fraud data \n",
    "history = autoencoder.fit(X_train,X_train,batch_size=128,epochs=200,shuffle=True,validation_data=(X_test, X_test))"
   ]
  },
  {
   "cell_type": "code",
   "execution_count": 35,
   "id": "cfdf4ea2",
   "metadata": {},
   "outputs": [
    {
     "data": {
      "text/plain": [
       "Text(0.5, 1.0, 'Loss Curves')"
      ]
     },
     "execution_count": 35,
     "metadata": {},
     "output_type": "execute_result"
    },
    {
     "data": {
      "image/png": "[encoded data removed]",
      "text/plain": [
       "<Figure size 864x432 with 1 Axes>"
      ]
     },
     "metadata": {
      "needs_background": "light"
     },
     "output_type": "display_data"
    }
   ],
   "source": [
    "# Loss curve\n",
    "\n",
    "plt.plot(history.history[\"loss\"], \"black\", linewidth=2.0)\n",
    "plt.plot(history.history[\"val_loss\"], \"green\", linewidth=2.0)\n",
    "plt.legend([\"Training Loss\", \"Validation Loss\"], fontsize=14)\n",
    "plt.xlabel(\"Epochs\", fontsize=10)\n",
    "plt.ylabel(\"Loss\", fontsize=10)\n",
    "plt.title(\"Loss Curves\", fontsize=12)"
   ]
  },
  {
   "cell_type": "markdown",
   "id": "2c99000a",
   "metadata": {},
   "source": [
    "This chart visualizes the training and validation loss changes during the model fitting. The x-axis is the number of epochs, and the y axis is the loss. We can see that both training and validation losses decrease with the increase of epochs."
   ]
  },
  {
   "cell_type": "code",
   "execution_count": 36,
   "id": "62024657",
   "metadata": {},
   "outputs": [
    {
     "name": "stdout",
     "output_type": "stream",
     "text": [
      "13/13 [==============================] - 0s 1ms/step\n"
     ]
    }
   ],
   "source": [
    "#we have an autoencoder model, let's use it to predict the outliers.\n",
    "#Firstly, we use .predict to get the reconstruction value for the testing data \n",
    "#set containing the usual data points and the outliers.\n",
    "\n",
    "\n",
    "# Predict anomalies/outliers in the training dataset\n",
    "prediction = autoencoder.predict(X_test)"
   ]
  },
  {
   "cell_type": "code",
   "execution_count": 37,
   "id": "8c7c627e",
   "metadata": {},
   "outputs": [],
   "source": [
    "# Get the mean squared error between actual and reconstruction/prediction\n",
    "prediction_loss = tf.keras.losses.mse(prediction, X_test)"
   ]
  },
  {
   "cell_type": "code",
   "execution_count": 38,
   "id": "2a655380",
   "metadata": {},
   "outputs": [
    {
     "name": "stdout",
     "output_type": "stream",
     "text": [
      "The prediction loss threshold for 2% of outliers is 0.71\n"
     ]
    }
   ],
   "source": [
    "# a threshold is set to identify the outliers. \n",
    "#This threshold can be based on percentile, standard deviation, or other methods. \n",
    "#We use 98% loss as the threshold to identify 2% of the data as outliers in this example.\n",
    "\n",
    "\n",
    "# Check the prediction loss threshold for 2% of outliers\n",
    "loss_threshold = np.percentile(prediction_loss, 50)\n",
    "print(f'The prediction loss threshold for 2% of outliers is {loss_threshold:.2f}')"
   ]
  },
  {
   "cell_type": "code",
   "execution_count": 39,
   "id": "e5c3a805",
   "metadata": {},
   "outputs": [
    {
     "data": {
      "text/plain": [
       "<matplotlib.lines.Line2D at 0x16299d772e0>"
      ]
     },
     "execution_count": 39,
     "metadata": {},
     "output_type": "execute_result"
    },
    {
     "data": {
      "image/png": "[encoded data removed]",
      "text/plain": [
       "<Figure size 864x432 with 1 Axes>"
      ]
     },
     "metadata": {
      "needs_background": "light"
     },
     "output_type": "display_data"
    }
   ],
   "source": [
    "# Visualize the threshold\n",
    "sns.histplot(prediction_loss, bins=30, alpha=0.8)\n",
    "plt.axvline(x=loss_threshold, color='orange')\n"
   ]
  },
  {
   "cell_type": "code",
   "execution_count": 40,
   "id": "83471d6f",
   "metadata": {},
   "outputs": [
    {
     "data": {
      "text/plain": [
       "[1,\n",
       " -1.0,\n",
       " -1.0,\n",
       " -1.0,\n",
       " 1,\n",
       " -1.0,\n",
       " 1,\n",
       " 1,\n",
       " -1.0,\n",
       " 1,\n",
       " 1,\n",
       " 1,\n",
       " -1.0,\n",
       " -1.0,\n",
       " 1,\n",
       " 1,\n",
       " -1.0,\n",
       " -1.0,\n",
       " 1,\n",
       " -1.0,\n",
       " 1,\n",
       " -1.0,\n",
       " -1.0,\n",
       " -1.0,\n",
       " 1,\n",
       " -1.0,\n",
       " -1.0,\n",
       " -1.0,\n",
       " 1,\n",
       " 1,\n",
       " 1,\n",
       " -1.0,\n",
       " 1,\n",
       " 1,\n",
       " -1.0,\n",
       " -1.0,\n",
       " 1,\n",
       " 1,\n",
       " 1,\n",
       " -1.0,\n",
       " -1.0,\n",
       " 1,\n",
       " 1,\n",
       " -1.0,\n",
       " 1,\n",
       " -1.0,\n",
       " -1.0,\n",
       " 1,\n",
       " -1.0,\n",
       " -1.0,\n",
       " 1,\n",
       " -1.0,\n",
       " -1.0,\n",
       " -1.0,\n",
       " 1,\n",
       " -1.0,\n",
       " -1.0,\n",
       " 1,\n",
       " -1.0,\n",
       " 1,\n",
       " 1,\n",
       " -1.0,\n",
       " -1.0,\n",
       " 1,\n",
       " 1,\n",
       " -1.0,\n",
       " 1,\n",
       " 1,\n",
       " 1,\n",
       " 1,\n",
       " -1.0,\n",
       " 1,\n",
       " 1,\n",
       " -1.0,\n",
       " 1,\n",
       " -1.0,\n",
       " -1.0,\n",
       " -1.0,\n",
       " -1.0,\n",
       " -1.0,\n",
       " -1.0,\n",
       " -1.0,\n",
       " 1,\n",
       " 1,\n",
       " -1.0,\n",
       " 1,\n",
       " -1.0,\n",
       " -1.0,\n",
       " -1.0,\n",
       " 1,\n",
       " 1,\n",
       " -1.0,\n",
       " -1.0,\n",
       " -1.0,\n",
       " 1,\n",
       " -1.0,\n",
       " 1,\n",
       " 1,\n",
       " 1,\n",
       " -1.0,\n",
       " -1.0,\n",
       " -1.0,\n",
       " 1,\n",
       " 1,\n",
       " 1,\n",
       " 1,\n",
       " -1.0,\n",
       " -1.0,\n",
       " -1.0,\n",
       " -1.0,\n",
       " -1.0,\n",
       " 1,\n",
       " 1,\n",
       " 1,\n",
       " 1,\n",
       " -1.0,\n",
       " -1.0,\n",
       " -1.0,\n",
       " 1,\n",
       " -1.0,\n",
       " 1,\n",
       " -1.0,\n",
       " -1.0,\n",
       " -1.0,\n",
       " -1.0,\n",
       " 1,\n",
       " -1.0,\n",
       " -1.0,\n",
       " 1,\n",
       " -1.0,\n",
       " -1.0,\n",
       " -1.0,\n",
       " -1.0,\n",
       " 1,\n",
       " 1,\n",
       " -1.0,\n",
       " -1.0,\n",
       " -1.0,\n",
       " 1,\n",
       " -1.0,\n",
       " 1,\n",
       " -1.0,\n",
       " -1.0,\n",
       " 1,\n",
       " 1,\n",
       " -1.0,\n",
       " -1.0,\n",
       " 1,\n",
       " 1,\n",
       " 1,\n",
       " 1,\n",
       " 1,\n",
       " -1.0,\n",
       " 1,\n",
       " -1.0,\n",
       " -1.0,\n",
       " -1.0,\n",
       " 1,\n",
       " 1,\n",
       " 1,\n",
       " -1.0,\n",
       " -1.0,\n",
       " 1,\n",
       " 1,\n",
       " -1.0,\n",
       " -1.0,\n",
       " -1.0,\n",
       " -1.0,\n",
       " -1.0,\n",
       " 1,\n",
       " 1,\n",
       " -1.0,\n",
       " 1,\n",
       " 1,\n",
       " 1,\n",
       " -1.0,\n",
       " -1.0,\n",
       " 1,\n",
       " 1,\n",
       " -1.0,\n",
       " 1,\n",
       " 1,\n",
       " -1.0,\n",
       " -1.0,\n",
       " 1,\n",
       " -1.0,\n",
       " -1.0,\n",
       " 1,\n",
       " 1,\n",
       " -1.0,\n",
       " -1.0,\n",
       " -1.0,\n",
       " -1.0,\n",
       " 1,\n",
       " 1,\n",
       " -1.0,\n",
       " 1,\n",
       " -1.0,\n",
       " -1.0,\n",
       " 1,\n",
       " -1.0,\n",
       " -1.0,\n",
       " 1,\n",
       " -1.0,\n",
       " -1.0,\n",
       " -1.0,\n",
       " 1,\n",
       " 1,\n",
       " 1,\n",
       " -1.0,\n",
       " 1,\n",
       " 1,\n",
       " -1.0,\n",
       " -1.0,\n",
       " -1.0,\n",
       " 1,\n",
       " -1.0,\n",
       " 1,\n",
       " 1,\n",
       " -1.0,\n",
       " -1.0,\n",
       " -1.0,\n",
       " 1,\n",
       " -1.0,\n",
       " 1,\n",
       " 1,\n",
       " 1,\n",
       " -1.0,\n",
       " 1,\n",
       " 1,\n",
       " 1,\n",
       " -1.0,\n",
       " -1.0,\n",
       " -1.0,\n",
       " 1,\n",
       " -1.0,\n",
       " 1,\n",
       " -1.0,\n",
       " 1,\n",
       " 1,\n",
       " -1.0,\n",
       " 1,\n",
       " 1,\n",
       " 1,\n",
       " 1,\n",
       " 1,\n",
       " -1.0,\n",
       " -1.0,\n",
       " -1.0,\n",
       " 1,\n",
       " 1,\n",
       " 1,\n",
       " -1.0,\n",
       " 1,\n",
       " -1.0,\n",
       " 1,\n",
       " 1,\n",
       " -1.0,\n",
       " -1.0,\n",
       " -1.0,\n",
       " 1,\n",
       " -1.0,\n",
       " -1.0,\n",
       " 1,\n",
       " -1.0,\n",
       " 1,\n",
       " 1,\n",
       " -1.0,\n",
       " 1,\n",
       " 1,\n",
       " -1.0,\n",
       " 1,\n",
       " 1,\n",
       " 1,\n",
       " -1.0,\n",
       " -1.0,\n",
       " -1.0,\n",
       " 1,\n",
       " 1,\n",
       " -1.0,\n",
       " -1.0,\n",
       " 1,\n",
       " 1,\n",
       " 1,\n",
       " -1.0,\n",
       " 1,\n",
       " 1,\n",
       " 1,\n",
       " 1,\n",
       " 1,\n",
       " 1,\n",
       " 1,\n",
       " -1.0,\n",
       " 1,\n",
       " -1.0,\n",
       " -1.0,\n",
       " 1,\n",
       " 1,\n",
       " -1.0,\n",
       " 1,\n",
       " -1.0,\n",
       " 1,\n",
       " -1.0,\n",
       " -1.0,\n",
       " -1.0,\n",
       " 1,\n",
       " 1,\n",
       " 1,\n",
       " -1.0,\n",
       " 1,\n",
       " 1,\n",
       " 1,\n",
       " -1.0,\n",
       " 1,\n",
       " 1,\n",
       " 1,\n",
       " 1,\n",
       " -1.0,\n",
       " 1,\n",
       " -1.0,\n",
       " 1,\n",
       " 1,\n",
       " 1,\n",
       " 1,\n",
       " -1.0,\n",
       " 1,\n",
       " -1.0,\n",
       " 1,\n",
       " -1.0,\n",
       " 1,\n",
       " -1.0,\n",
       " 1,\n",
       " 1,\n",
       " 1,\n",
       " -1.0,\n",
       " -1.0,\n",
       " -1.0,\n",
       " -1.0,\n",
       " -1.0,\n",
       " -1.0,\n",
       " 1,\n",
       " -1.0,\n",
       " -1.0,\n",
       " -1.0,\n",
       " 1,\n",
       " 1,\n",
       " 1,\n",
       " 1,\n",
       " 1,\n",
       " -1.0,\n",
       " -1.0,\n",
       " 1,\n",
       " 1,\n",
       " -1.0,\n",
       " -1.0,\n",
       " -1.0,\n",
       " 1,\n",
       " 1,\n",
       " 1,\n",
       " 1,\n",
       " -1.0,\n",
       " -1.0,\n",
       " -1.0,\n",
       " -1.0,\n",
       " 1,\n",
       " -1.0,\n",
       " 1,\n",
       " 1,\n",
       " -1.0,\n",
       " -1.0,\n",
       " -1.0,\n",
       " 1,\n",
       " 1,\n",
       " 1,\n",
       " 1,\n",
       " 1,\n",
       " -1.0,\n",
       " 1,\n",
       " 1,\n",
       " 1,\n",
       " -1.0,\n",
       " -1.0,\n",
       " 1,\n",
       " -1.0,\n",
       " 1,\n",
       " -1.0,\n",
       " 1,\n",
       " 1,\n",
       " -1.0,\n",
       " -1.0,\n",
       " -1.0,\n",
       " -1.0,\n",
       " -1.0,\n",
       " 1,\n",
       " -1.0,\n",
       " -1.0,\n",
       " -1.0,\n",
       " -1.0,\n",
       " 1,\n",
       " -1.0,\n",
       " 1,\n",
       " -1.0,\n",
       " -1.0,\n",
       " 1,\n",
       " 1,\n",
       " 1,\n",
       " -1.0,\n",
       " 1,\n",
       " 1]"
      ]
     },
     "execution_count": 40,
     "metadata": {},
     "output_type": "execute_result"
    }
   ],
   "source": [
    "# Check the model performance at 2% threshold\n",
    "threshold_prediction = [-1.0 if i < loss_threshold else 1 for i in prediction_loss]\n",
    "threshold_prediction"
   ]
  },
  {
   "cell_type": "code",
   "execution_count": 41,
   "id": "4b33162e",
   "metadata": {},
   "outputs": [
    {
     "name": "stdout",
     "output_type": "stream",
     "text": [
      "              precision    recall  f1-score   support\n",
      "\n",
      "        -1.0       0.75      0.74      0.74       208\n",
      "         1.0       0.73      0.75      0.74       201\n",
      "\n",
      "    accuracy                           0.74       409\n",
      "   macro avg       0.74      0.74      0.74       409\n",
      "weighted avg       0.74      0.74      0.74       409\n",
      "\n"
     ]
    }
   ],
   "source": [
    "# Check the prediction performance\n",
    "print(classification_report(y_test, threshold_prediction))"
   ]
  },
  {
   "cell_type": "code",
   "execution_count": 42,
   "id": "5ae784c3",
   "metadata": {},
   "outputs": [
    {
     "name": "stdout",
     "output_type": "stream",
     "text": [
      "13/13 [==============================] - 0s 1ms/step\n"
     ]
    },
    {
     "data": {
      "text/plain": [
       "(409, 10)"
      ]
     },
     "execution_count": 42,
     "metadata": {},
     "output_type": "execute_result"
    }
   ],
   "source": [
    "# Predict anomalies/outliers in the training dataset\n",
    "prediction = autoencoder.predict(X_test)\n",
    "prediction.shape"
   ]
  },
  {
   "cell_type": "code",
   "execution_count": 43,
   "id": "fe874023",
   "metadata": {},
   "outputs": [],
   "source": [
    "#mse here is basically the reconstruction error, \n",
    "#if the model has learned the normal datapoints well,\n",
    "#then this error should be less on normal points, and high on fraud points.\n",
    "\n",
    "mse = np.mean(np.power(X_test - prediction, 2), axis=1)\n",
    "error_df = pd.DataFrame({'reconstruction_error': mse, 'Fraud':y_test})"
   ]
  },
  {
   "cell_type": "code",
   "execution_count": 44,
   "id": "4d110861",
   "metadata": {},
   "outputs": [
    {
     "data": {
      "image/png": "[encoded data removed]",
      "text/plain": [
       "<Figure size 864x432 with 1 Axes>"
      ]
     },
     "metadata": {
      "needs_background": "light"
     },
     "output_type": "display_data"
    }
   ],
   "source": [
    "from sklearn.metrics import (roc_curve,confusion_matrix,auc)\n",
    "fpr, tpr, thres = roc_curve(error_df.Fraud, error_df.reconstruction_error)\n",
    "roc_auc = auc(fpr, tpr)\n",
    "plt.plot(fpr, tpr, label='AUC = %0.4f'% roc_auc) \n",
    "plt.plot([0,1], [0,1], ':', label = 'Random') \n",
    "plt.legend() \n",
    "plt.grid() \n",
    "plt.ylabel(\"TPR\") \n",
    "plt.xlabel(\"FPR\") \n",
    "plt.title('ROC') \n",
    "plt.show()"
   ]
  },
  {
   "cell_type": "code",
   "execution_count": 45,
   "id": "079f26fa",
   "metadata": {},
   "outputs": [
    {
     "data": {
      "image/png": "[encoded data removed]",
      "text/plain": [
       "<Figure size 864x432 with 2 Axes>"
      ]
     },
     "metadata": {
      "needs_background": "light"
     },
     "output_type": "display_data"
    }
   ],
   "source": [
    "LABELS = ['Normal', 'Fraud']\n",
    "threshold = 0.63\n",
    "y_pred = [1 if e > threshold else -1.0 for e in error_df.reconstruction_error.values]\n",
    "conf_matrix = confusion_matrix(error_df.Fraud, y_pred)\n",
    "sns.heatmap(conf_matrix, xticklabels=LABELS, yticklabels=LABELS, annot=True, fmt=\"d\", cmap='Greens');\n",
    "plt.title(\"Confusion matrix\")\n",
    "plt.ylabel('Fraud')\n",
    "plt.xlabel('Predicted class')\n",
    "plt.show()"
   ]
  },
  {
   "cell_type": "markdown",
   "id": "952326c8",
   "metadata": {},
   "source": [
    "### VARIATIONAL AUTOENCODER"
   ]
  },
  {
   "cell_type": "code",
   "execution_count": 46,
   "id": "f1ba5f23",
   "metadata": {},
   "outputs": [],
   "source": [
    "disable_eager_execution()"
   ]
  },
  {
   "cell_type": "code",
   "execution_count": 47,
   "id": "1123d84b",
   "metadata": {},
   "outputs": [],
   "source": [
    "# network parameters and learning parameters\n",
    "original_dim = X_train.shape[1]\n",
    "input_shape = (original_dim, )\n",
    "intermediate_dim = 200\n",
    "batch_size = 256\n",
    "latent_dim = 2\n",
    "epochs = 400\n",
    "epsilon_std = 1.0"
   ]
  },
  {
   "cell_type": "code",
   "execution_count": 48,
   "id": "66e6f460",
   "metadata": {},
   "outputs": [],
   "source": [
    "#sampling random number\n",
    "from keras import backend as K\n",
    "def sampling(args):\n",
    "    z_mean, z_log_var = args\n",
    "    batch = K.shape(z_mean)[0]\n",
    "    epsilon = K.random_normal(shape=(batch, latent_dim), mean=0.,\n",
    "                              stddev=epsilon_std)  # by default, random_normal has mean=0 and std=1.0\n",
    "    return z_mean + K.exp(0.5 * z_log_var) * epsilon"
   ]
  },
  {
   "cell_type": "code",
   "execution_count": 49,
   "id": "6411e474",
   "metadata": {},
   "outputs": [
    {
     "name": "stdout",
     "output_type": "stream",
     "text": [
      "Model: \"encoder\"\n",
      "__________________________________________________________________________________________________\n",
      " Layer (type)                   Output Shape         Param #     Connected to                     \n",
      "==================================================================================================\n",
      " input (InputLayer)             [(None, 10)]         0           []                               \n",
      "                                                                                                  \n",
      " encoding (Dense)               (None, 200)          2200        ['input[0][0]']                  \n",
      "                                                                                                  \n",
      " mean (Dense)                   (None, 2)            402         ['encoding[0][0]']               \n",
      "                                                                                                  \n",
      " log-variance (Dense)           (None, 2)            402         ['encoding[0][0]']               \n",
      "                                                                                                  \n",
      " lambda (Lambda)                (None, 2)            0           ['mean[0][0]',                   \n",
      "                                                                  'log-variance[0][0]']           \n",
      "                                                                                                  \n",
      "==================================================================================================\n",
      "Total params: 3,004\n",
      "Trainable params: 3,004\n",
      "Non-trainable params: 0\n",
      "__________________________________________________________________________________________________\n"
     ]
    }
   ],
   "source": [
    "# sampling \n",
    "from tensorflow.keras.layers import Input, Dense, Lambda, Reshape\n",
    "x = Input(shape=(original_dim,), name=\"input\")\n",
    "h = Dense(intermediate_dim, activation='relu', name=\"encoding\")(x)\n",
    "z_mean = Dense(latent_dim, name=\"mean\")(h)\n",
    "z_log_var = Dense(latent_dim, name=\"log-variance\")(h)\n",
    "# note that \"output_shape\" isn't necessary with the TensorFlow backend\n",
    "z = Lambda(sampling, output_shape=(latent_dim,))([z_mean, z_log_var])\n",
    "# defining the encoder as a keras model\n",
    "encoder = Model(x, [z_mean, z_log_var, z], name=\"encoder\")\n",
    "# print out summary of what we just did\n",
    "encoder.summary()\n",
    "z = Lambda(sampling, output_shape=(latent_dim,), name='z')([z_mean, z_log_var]) "
   ]
  },
  {
   "cell_type": "code",
   "execution_count": 50,
   "id": "17eb9cc0",
   "metadata": {},
   "outputs": [
    {
     "name": "stdout",
     "output_type": "stream",
     "text": [
      "Model: \"decoder\"\n",
      "_________________________________________________________________\n",
      " Layer (type)                Output Shape              Param #   \n",
      "=================================================================\n",
      " decoder_input (InputLayer)  [(None, 2)]               0         \n",
      "                                                                 \n",
      " decoder_h (Dense)           (None, 200)               600       \n",
      "                                                                 \n",
      " flat_decoded (Dense)        (None, 10)                2010      \n",
      "                                                                 \n",
      "=================================================================\n",
      "Total params: 2,610\n",
      "Trainable params: 2,610\n",
      "Non-trainable params: 0\n",
      "_________________________________________________________________\n"
     ]
    }
   ],
   "source": [
    "# decoder model\n",
    "input_decoder = Input(shape=(latent_dim,), name=\"decoder_input\")\n",
    "# taking the latent space to intermediate dimension\n",
    "decoder_h = Dense(intermediate_dim, activation='relu', name=\"decoder_h\")(input_decoder)\n",
    "# getting the mean from the original dimension\n",
    "x_decoded = Dense(original_dim, activation='sigmoid', name=\"flat_decoded\")(decoder_h)\n",
    "# defining the decoder as a keras model\n",
    "decoder = Model(input_decoder, x_decoded, name=\"decoder\")\n",
    "decoder.summary()"
   ]
  },
  {
   "cell_type": "code",
   "execution_count": 51,
   "id": "3611e85f",
   "metadata": {},
   "outputs": [],
   "source": [
    "# grab the output. Recall, that we need to grab the 3rd element our sampling z\n",
    "output_combined = decoder(encoder(x)[2])"
   ]
  },
  {
   "cell_type": "code",
   "execution_count": 52,
   "id": "e3a1b86c",
   "metadata": {
    "scrolled": true
   },
   "outputs": [
    {
     "name": "stdout",
     "output_type": "stream",
     "text": [
      "Model: \"model_1\"\n",
      "_________________________________________________________________\n",
      " Layer (type)                Output Shape              Param #   \n",
      "=================================================================\n",
      " input (InputLayer)          [(None, 10)]              0         \n",
      "                                                                 \n",
      " encoder (Functional)        [(None, 2),               3004      \n",
      "                              (None, 2),                         \n",
      "                              (None, 2)]                         \n",
      "                                                                 \n",
      " decoder (Functional)        (None, 10)                2610      \n",
      "                                                                 \n",
      "=================================================================\n",
      "Total params: 5,614\n",
      "Trainable params: 5,614\n",
      "Non-trainable params: 0\n",
      "_________________________________________________________________\n"
     ]
    }
   ],
   "source": [
    "\n",
    "# link the input and the overall output\n",
    "vae = Model(x, output_combined)\n",
    "# print out what the overall model looks like\n",
    "vae.summary()"
   ]
  },
  {
   "cell_type": "code",
   "execution_count": 37,
   "id": "eda06891",
   "metadata": {},
   "outputs": [],
   "source": [
    "# Defina VAE Loss Function\n",
    "def rec_loss(y_true, y_pred):\n",
    "    return K.sum(K.square(y_true - y_pred), axis=-1)\n",
    "\n",
    "def kl_loss(y_true, y_pred):\n",
    "    return - 0.5 * K.sum(1 + z_log_var - K.square(z_mean) - K.exp(z_log_var), axis=-1)\n",
    "\n",
    "def vae_loss(x, decoded_mean):\n",
    "    rec_loss = K.sum(K.square(x - decoded_mean), axis=-1)\n",
    "    kl_loss = - 0.5 * K.sum(1 + z_log_var - K.square(z_mean) - K.exp(z_log_var), axis=-1)\n",
    "    return K.mean((rec_loss + kl_loss) / 2)"
   ]
  },
  {
   "cell_type": "code",
   "execution_count": 54,
   "id": "008d0990",
   "metadata": {},
   "outputs": [
    {
     "name": "stdout",
     "output_type": "stream",
     "text": [
      "Model: \"model_1\"\n",
      "_________________________________________________________________\n",
      " Layer (type)                Output Shape              Param #   \n",
      "=================================================================\n",
      " input (InputLayer)          [(None, 10)]              0         \n",
      "                                                                 \n",
      " encoder (Functional)        [(None, 2),               3004      \n",
      "                              (None, 2),                         \n",
      "                              (None, 2)]                         \n",
      "                                                                 \n",
      " decoder (Functional)        (None, 10)                2610      \n",
      "                                                                 \n",
      "=================================================================\n",
      "Total params: 5,614\n",
      "Trainable params: 5,614\n",
      "Non-trainable params: 0\n",
      "_________________________________________________________________\n"
     ]
    }
   ],
   "source": [
    "\n",
    "# vae.compile(optimizer='adam', loss=vae_loss)\n",
    "vae.compile(optimizer='adam', loss=vae_loss, metrics=[rec_loss, kl_loss],experimental_run_tf_function=False)\n",
    "vae.summary()"
   ]
  },
  {
   "cell_type": "code",
   "execution_count": 55,
   "id": "11c8dcbc",
   "metadata": {},
   "outputs": [
    {
     "name": "stdout",
     "output_type": "stream",
     "text": [
      "Train on 814 samples, validate on 409 samples\n",
      "Epoch 1/400\n",
      "814/814 [==============================] - 0s 188us/sample - loss: 6.0661 - rec_loss: 12.0728 - kl_loss: 0.0594 - val_loss: 5.7029 - val_rec_loss: 11.3385 - val_kl_loss: 0.0674\n",
      "Epoch 2/400\n",
      "814/814 [==============================] - 0s 12us/sample - loss: 5.9056 - rec_loss: 11.7542 - kl_loss: 0.0569 - val_loss: 5.6055 - val_rec_loss: 11.1391 - val_kl_loss: 0.0718\n",
      "Epoch 3/400\n",
      "814/814 [==============================] - 0s 14us/sample - loss: 5.7554 - rec_loss: 11.4407 - kl_loss: 0.0700 - val_loss: 5.5318 - val_rec_loss: 10.9776 - val_kl_loss: 0.0860\n",
      "Epoch 4/400\n",
      "814/814 [==============================] - 0s 12us/sample - loss: 5.6368 - rec_loss: 11.1804 - kl_loss: 0.0933 - val_loss: 5.4587 - val_rec_loss: 10.8075 - val_kl_loss: 0.1099\n",
      "Epoch 5/400\n",
      "814/814 [==============================] - 0s 14us/sample - loss: 5.4893 - rec_loss: 10.8522 - kl_loss: 0.1263 - val_loss: 5.3838 - val_rec_loss: 10.6268 - val_kl_loss: 0.1407\n",
      "Epoch 6/400\n",
      "814/814 [==============================] - 0s 12us/sample - loss: 5.3419 - rec_loss: 10.5054 - kl_loss: 0.1783 - val_loss: 5.2937 - val_rec_loss: 10.4086 - val_kl_loss: 0.1787\n",
      "Epoch 7/400\n",
      "814/814 [==============================] - 0s 12us/sample - loss: 5.2370 - rec_loss: 10.2290 - kl_loss: 0.2450 - val_loss: 5.2092 - val_rec_loss: 10.2102 - val_kl_loss: 0.2082\n",
      "Epoch 8/400\n",
      "814/814 [==============================] - 0s 14us/sample - loss: 5.0730 - rec_loss: 9.8554 - kl_loss: 0.2906 - val_loss: 5.1545 - val_rec_loss: 10.0837 - val_kl_loss: 0.2253\n",
      "Epoch 9/400\n",
      "814/814 [==============================] - 0s 12us/sample - loss: 4.9595 - rec_loss: 9.6006 - kl_loss: 0.3183 - val_loss: 5.0451 - val_rec_loss: 9.8547 - val_kl_loss: 0.2356\n",
      "Epoch 10/400\n",
      "814/814 [==============================] - 0s 14us/sample - loss: 4.7950 - rec_loss: 9.2621 - kl_loss: 0.3279 - val_loss: 5.0007 - val_rec_loss: 9.7644 - val_kl_loss: 0.2369\n",
      "Epoch 11/400\n",
      "814/814 [==============================] - 0s 14us/sample - loss: 4.7154 - rec_loss: 9.1119 - kl_loss: 0.3189 - val_loss: 4.9419 - val_rec_loss: 9.6567 - val_kl_loss: 0.2271\n",
      "Epoch 12/400\n",
      "814/814 [==============================] - 0s 14us/sample - loss: 4.5691 - rec_loss: 8.8445 - kl_loss: 0.2938 - val_loss: 4.8787 - val_rec_loss: 9.5382 - val_kl_loss: 0.2192\n"
     ]
    },
    {
     "name": "stderr",
     "output_type": "stream",
     "text": [
      "C:\\ProgramData\\Anaconda3\\lib\\site-packages\\keras\\engine\\training_v1.py:2332: UserWarning: `Model.state_updates` will be removed in a future version. This property should not be used in TensorFlow 2.0, as `updates` are applied automatically.\n",
      "  updates = self.state_updates\n"
     ]
    },
    {
     "name": "stdout",
     "output_type": "stream",
     "text": [
      "Epoch 13/400\n",
      "814/814 [==============================] - 0s 14us/sample - loss: 4.4530 - rec_loss: 8.6152 - kl_loss: 0.2908 - val_loss: 4.8283 - val_rec_loss: 9.4384 - val_kl_loss: 0.2183\n",
      "Epoch 14/400\n",
      "814/814 [==============================] - 0s 14us/sample - loss: 4.3727 - rec_loss: 8.4468 - kl_loss: 0.2985 - val_loss: 4.7704 - val_rec_loss: 9.3283 - val_kl_loss: 0.2125\n",
      "Epoch 15/400\n",
      "814/814 [==============================] - 0s 12us/sample - loss: 4.2891 - rec_loss: 8.2822 - kl_loss: 0.2961 - val_loss: 4.7488 - val_rec_loss: 9.2999 - val_kl_loss: 0.1976\n",
      "Epoch 16/400\n",
      "814/814 [==============================] - 0s 14us/sample - loss: 4.1772 - rec_loss: 8.0831 - kl_loss: 0.2712 - val_loss: 4.6875 - val_rec_loss: 9.1949 - val_kl_loss: 0.1801\n",
      "Epoch 17/400\n",
      "814/814 [==============================] - 0s 12us/sample - loss: 4.1114 - rec_loss: 7.9809 - kl_loss: 0.2419 - val_loss: 4.6972 - val_rec_loss: 9.2259 - val_kl_loss: 0.1684\n",
      "Epoch 18/400\n",
      "814/814 [==============================] - 0s 12us/sample - loss: 4.0630 - rec_loss: 7.9021 - kl_loss: 0.2240 - val_loss: 4.6787 - val_rec_loss: 9.1935 - val_kl_loss: 0.1639\n",
      "Epoch 19/400\n",
      "814/814 [==============================] - 0s 14us/sample - loss: 4.0072 - rec_loss: 7.7991 - kl_loss: 0.2153 - val_loss: 4.6300 - val_rec_loss: 9.1013 - val_kl_loss: 0.1587\n",
      "Epoch 20/400\n",
      "814/814 [==============================] - 0s 12us/sample - loss: 3.9585 - rec_loss: 7.7063 - kl_loss: 0.2107 - val_loss: 4.5878 - val_rec_loss: 9.0232 - val_kl_loss: 0.1524\n",
      "Epoch 21/400\n",
      "814/814 [==============================] - 0s 14us/sample - loss: 3.9310 - rec_loss: 7.6577 - kl_loss: 0.2043 - val_loss: 4.5944 - val_rec_loss: 9.0485 - val_kl_loss: 0.1403\n",
      "Epoch 22/400\n",
      "814/814 [==============================] - 0s 14us/sample - loss: 3.8605 - rec_loss: 7.5325 - kl_loss: 0.1884 - val_loss: 4.5560 - val_rec_loss: 8.9844 - val_kl_loss: 0.1276\n",
      "Epoch 23/400\n",
      "814/814 [==============================] - 0s 14us/sample - loss: 3.8272 - rec_loss: 7.4886 - kl_loss: 0.1657 - val_loss: 4.5443 - val_rec_loss: 8.9745 - val_kl_loss: 0.1141\n",
      "Epoch 24/400\n",
      "814/814 [==============================] - 0s 12us/sample - loss: 3.7791 - rec_loss: 7.4212 - kl_loss: 0.1370 - val_loss: 4.5280 - val_rec_loss: 8.9540 - val_kl_loss: 0.1019\n",
      "Epoch 25/400\n",
      "814/814 [==============================] - 0s 12us/sample - loss: 3.7452 - rec_loss: 7.3776 - kl_loss: 0.1129 - val_loss: 4.5266 - val_rec_loss: 8.9572 - val_kl_loss: 0.0960\n",
      "Epoch 26/400\n",
      "814/814 [==============================] - 0s 14us/sample - loss: 3.7155 - rec_loss: 7.3305 - kl_loss: 0.1005 - val_loss: 4.5393 - val_rec_loss: 8.9899 - val_kl_loss: 0.0886\n",
      "Epoch 27/400\n",
      "814/814 [==============================] - 0s 14us/sample - loss: 3.7018 - rec_loss: 7.3170 - kl_loss: 0.0867 - val_loss: 4.5103 - val_rec_loss: 8.9415 - val_kl_loss: 0.0790\n",
      "Epoch 28/400\n",
      "814/814 [==============================] - 0s 14us/sample - loss: 3.6515 - rec_loss: 7.2296 - kl_loss: 0.0734 - val_loss: 4.5093 - val_rec_loss: 8.9475 - val_kl_loss: 0.0710\n",
      "Epoch 29/400\n",
      "814/814 [==============================] - 0s 14us/sample - loss: 3.6326 - rec_loss: 7.1988 - kl_loss: 0.0664 - val_loss: 4.4875 - val_rec_loss: 8.9086 - val_kl_loss: 0.0663\n",
      "Epoch 30/400\n",
      "814/814 [==============================] - 0s 12us/sample - loss: 3.6304 - rec_loss: 7.2007 - kl_loss: 0.0600 - val_loss: 4.5004 - val_rec_loss: 8.9379 - val_kl_loss: 0.0630\n",
      "Epoch 31/400\n",
      "814/814 [==============================] - 0s 14us/sample - loss: 3.6001 - rec_loss: 7.1477 - kl_loss: 0.0524 - val_loss: 4.4861 - val_rec_loss: 8.9099 - val_kl_loss: 0.0623\n",
      "Epoch 32/400\n",
      "814/814 [==============================] - 0s 14us/sample - loss: 3.5891 - rec_loss: 7.1318 - kl_loss: 0.0465 - val_loss: 4.4902 - val_rec_loss: 8.9199 - val_kl_loss: 0.0606\n",
      "Epoch 33/400\n",
      "814/814 [==============================] - 0s 12us/sample - loss: 3.5706 - rec_loss: 7.1005 - kl_loss: 0.0406 - val_loss: 4.4717 - val_rec_loss: 8.8850 - val_kl_loss: 0.0585\n",
      "Epoch 34/400\n",
      "814/814 [==============================] - 0s 14us/sample - loss: 3.5492 - rec_loss: 7.0618 - kl_loss: 0.0366 - val_loss: 4.4781 - val_rec_loss: 8.9010 - val_kl_loss: 0.0553\n",
      "Epoch 35/400\n",
      "814/814 [==============================] - 0s 12us/sample - loss: 3.5483 - rec_loss: 7.0637 - kl_loss: 0.0329 - val_loss: 4.4661 - val_rec_loss: 8.8806 - val_kl_loss: 0.0515\n",
      "Epoch 36/400\n",
      "814/814 [==============================] - 0s 12us/sample - loss: 3.5245 - rec_loss: 7.0198 - kl_loss: 0.0292 - val_loss: 4.4730 - val_rec_loss: 8.8976 - val_kl_loss: 0.0485\n",
      "Epoch 37/400\n",
      "814/814 [==============================] - 0s 12us/sample - loss: 3.5161 - rec_loss: 7.0061 - kl_loss: 0.0262 - val_loss: 4.4689 - val_rec_loss: 8.8920 - val_kl_loss: 0.0459\n",
      "Epoch 38/400\n",
      "814/814 [==============================] - 0s 12us/sample - loss: 3.5059 - rec_loss: 6.9888 - kl_loss: 0.0230 - val_loss: 4.4533 - val_rec_loss: 8.8635 - val_kl_loss: 0.0432\n",
      "Epoch 39/400\n",
      "814/814 [==============================] - 0s 12us/sample - loss: 3.4964 - rec_loss: 6.9724 - kl_loss: 0.0203 - val_loss: 4.4607 - val_rec_loss: 8.8795 - val_kl_loss: 0.0418\n",
      "Epoch 40/400\n",
      "814/814 [==============================] - 0s 12us/sample - loss: 3.4921 - rec_loss: 6.9654 - kl_loss: 0.0187 - val_loss: 4.4582 - val_rec_loss: 8.8757 - val_kl_loss: 0.0408\n",
      "Epoch 41/400\n",
      "814/814 [==============================] - 0s 12us/sample - loss: 3.4767 - rec_loss: 6.9361 - kl_loss: 0.0173 - val_loss: 4.4558 - val_rec_loss: 8.8722 - val_kl_loss: 0.0394\n",
      "Epoch 42/400\n",
      "814/814 [==============================] - 0s 12us/sample - loss: 3.4707 - rec_loss: 6.9259 - kl_loss: 0.0156 - val_loss: 4.4548 - val_rec_loss: 8.8720 - val_kl_loss: 0.0376\n",
      "Epoch 43/400\n",
      "814/814 [==============================] - 0s 12us/sample - loss: 3.4684 - rec_loss: 6.9231 - kl_loss: 0.0138 - val_loss: 4.4495 - val_rec_loss: 8.8626 - val_kl_loss: 0.0364\n",
      "Epoch 44/400\n",
      "814/814 [==============================] - 0s 12us/sample - loss: 3.4573 - rec_loss: 6.9022 - kl_loss: 0.0123 - val_loss: 4.4559 - val_rec_loss: 8.8766 - val_kl_loss: 0.0353\n",
      "Epoch 45/400\n",
      "814/814 [==============================] - 0s 12us/sample - loss: 3.4614 - rec_loss: 6.9118 - kl_loss: 0.0110 - val_loss: 4.4519 - val_rec_loss: 8.8702 - val_kl_loss: 0.0337\n",
      "Epoch 46/400\n",
      "814/814 [==============================] - 0s 12us/sample - loss: 3.4536 - rec_loss: 6.8972 - kl_loss: 0.0100 - val_loss: 4.4500 - val_rec_loss: 8.8677 - val_kl_loss: 0.0324\n",
      "Epoch 47/400\n",
      "814/814 [==============================] - 0s 12us/sample - loss: 3.4453 - rec_loss: 6.8812 - kl_loss: 0.0093 - val_loss: 4.4521 - val_rec_loss: 8.8725 - val_kl_loss: 0.0317\n",
      "Epoch 48/400\n",
      "814/814 [==============================] - 0s 12us/sample - loss: 3.4458 - rec_loss: 6.8825 - kl_loss: 0.0090 - val_loss: 4.4515 - val_rec_loss: 8.8715 - val_kl_loss: 0.0316\n",
      "Epoch 49/400\n",
      "814/814 [==============================] - 0s 12us/sample - loss: 3.4429 - rec_loss: 6.8769 - kl_loss: 0.0088 - val_loss: 4.4474 - val_rec_loss: 8.8640 - val_kl_loss: 0.0308\n",
      "Epoch 50/400\n",
      "814/814 [==============================] - 0s 12us/sample - loss: 3.4371 - rec_loss: 6.8658 - kl_loss: 0.0084 - val_loss: 4.4487 - val_rec_loss: 8.8680 - val_kl_loss: 0.0293\n",
      "Epoch 51/400\n",
      "814/814 [==============================] - 0s 12us/sample - loss: 3.4358 - rec_loss: 6.8638 - kl_loss: 0.0079 - val_loss: 4.4424 - val_rec_loss: 8.8564 - val_kl_loss: 0.0284\n",
      "Epoch 52/400\n",
      "814/814 [==============================] - 0s 12us/sample - loss: 3.4326 - rec_loss: 6.8580 - kl_loss: 0.0073 - val_loss: 4.4437 - val_rec_loss: 8.8594 - val_kl_loss: 0.0281\n",
      "Epoch 53/400\n",
      "814/814 [==============================] - 0s 12us/sample - loss: 3.4299 - rec_loss: 6.8531 - kl_loss: 0.0067 - val_loss: 4.4442 - val_rec_loss: 8.8607 - val_kl_loss: 0.0278\n",
      "Epoch 54/400\n",
      "814/814 [==============================] - 0s 12us/sample - loss: 3.4323 - rec_loss: 6.8584 - kl_loss: 0.0062 - val_loss: 4.4450 - val_rec_loss: 8.8629 - val_kl_loss: 0.0271\n",
      "Epoch 55/400\n",
      "814/814 [==============================] - 0s 12us/sample - loss: 3.4261 - rec_loss: 6.8463 - kl_loss: 0.0059 - val_loss: 4.4430 - val_rec_loss: 8.8600 - val_kl_loss: 0.0260\n",
      "Epoch 56/400\n",
      "814/814 [==============================] - 0s 12us/sample - loss: 3.4207 - rec_loss: 6.8360 - kl_loss: 0.0055 - val_loss: 4.4452 - val_rec_loss: 8.8660 - val_kl_loss: 0.0245\n"
     ]
    },
    {
     "name": "stdout",
     "output_type": "stream",
     "text": [
      "Epoch 57/400\n",
      "814/814 [==============================] - 0s 12us/sample - loss: 3.4197 - rec_loss: 6.8344 - kl_loss: 0.0051 - val_loss: 4.4391 - val_rec_loss: 8.8545 - val_kl_loss: 0.0238\n",
      "Epoch 58/400\n",
      "814/814 [==============================] - 0s 12us/sample - loss: 3.4186 - rec_loss: 6.8327 - kl_loss: 0.0046 - val_loss: 4.4460 - val_rec_loss: 8.8685 - val_kl_loss: 0.0236\n",
      "Epoch 59/400\n",
      "814/814 [==============================] - 0s 14us/sample - loss: 3.4179 - rec_loss: 6.8314 - kl_loss: 0.0043 - val_loss: 4.4462 - val_rec_loss: 8.8688 - val_kl_loss: 0.0235\n",
      "Epoch 60/400\n",
      "814/814 [==============================] - 0s 12us/sample - loss: 3.4147 - rec_loss: 6.8252 - kl_loss: 0.0042 - val_loss: 4.4423 - val_rec_loss: 8.8618 - val_kl_loss: 0.0228\n",
      "Epoch 61/400\n",
      "814/814 [==============================] - 0s 12us/sample - loss: 3.4149 - rec_loss: 6.8259 - kl_loss: 0.0040 - val_loss: 4.4413 - val_rec_loss: 8.8605 - val_kl_loss: 0.0221\n",
      "Epoch 62/400\n",
      "814/814 [==============================] - 0s 12us/sample - loss: 3.4115 - rec_loss: 6.8191 - kl_loss: 0.0039 - val_loss: 4.4420 - val_rec_loss: 8.8624 - val_kl_loss: 0.0216\n",
      "Epoch 63/400\n",
      "814/814 [==============================] - 0s 12us/sample - loss: 3.4127 - rec_loss: 6.8216 - kl_loss: 0.0038 - val_loss: 4.4389 - val_rec_loss: 8.8569 - val_kl_loss: 0.0209\n",
      "Epoch 64/400\n",
      "814/814 [==============================] - 0s 12us/sample - loss: 3.4085 - rec_loss: 6.8134 - kl_loss: 0.0035 - val_loss: 4.4408 - val_rec_loss: 8.8611 - val_kl_loss: 0.0205\n",
      "Epoch 65/400\n",
      "814/814 [==============================] - 0s 12us/sample - loss: 3.4081 - rec_loss: 6.8130 - kl_loss: 0.0033 - val_loss: 4.4394 - val_rec_loss: 8.8588 - val_kl_loss: 0.0199\n",
      "Epoch 66/400\n",
      "814/814 [==============================] - 0s 12us/sample - loss: 3.4096 - rec_loss: 6.8160 - kl_loss: 0.0031 - val_loss: 4.4410 - val_rec_loss: 8.8626 - val_kl_loss: 0.0194\n",
      "Epoch 67/400\n",
      "814/814 [==============================] - 0s 12us/sample - loss: 3.4071 - rec_loss: 6.8111 - kl_loss: 0.0030 - val_loss: 4.4399 - val_rec_loss: 8.8607 - val_kl_loss: 0.0192\n",
      "Epoch 68/400\n",
      "814/814 [==============================] - 0s 12us/sample - loss: 3.4044 - rec_loss: 6.8059 - kl_loss: 0.0029 - val_loss: 4.4427 - val_rec_loss: 8.8662 - val_kl_loss: 0.0192\n",
      "Epoch 69/400\n",
      "814/814 [==============================] - 0s 12us/sample - loss: 3.4041 - rec_loss: 6.8053 - kl_loss: 0.0028 - val_loss: 4.4371 - val_rec_loss: 8.8552 - val_kl_loss: 0.0191\n",
      "Epoch 70/400\n",
      "814/814 [==============================] - 0s 12us/sample - loss: 3.4022 - rec_loss: 6.8016 - kl_loss: 0.0028 - val_loss: 4.4382 - val_rec_loss: 8.8573 - val_kl_loss: 0.0192\n",
      "Epoch 71/400\n",
      "814/814 [==============================] - 0s 12us/sample - loss: 3.4051 - rec_loss: 6.8073 - kl_loss: 0.0028 - val_loss: 4.4408 - val_rec_loss: 8.8623 - val_kl_loss: 0.0193\n",
      "Epoch 72/400\n",
      "814/814 [==============================] - 0s 12us/sample - loss: 3.4001 - rec_loss: 6.7976 - kl_loss: 0.0027 - val_loss: 4.4393 - val_rec_loss: 8.8595 - val_kl_loss: 0.0191\n",
      "Epoch 73/400\n",
      "814/814 [==============================] - 0s 12us/sample - loss: 3.3993 - rec_loss: 6.7961 - kl_loss: 0.0025 - val_loss: 4.4374 - val_rec_loss: 8.8559 - val_kl_loss: 0.0189\n",
      "Epoch 74/400\n",
      "814/814 [==============================] - 0s 14us/sample - loss: 3.4003 - rec_loss: 6.7982 - kl_loss: 0.0024 - val_loss: 4.4411 - val_rec_loss: 8.8636 - val_kl_loss: 0.0186\n",
      "Epoch 75/400\n",
      "814/814 [==============================] - 0s 12us/sample - loss: 3.3986 - rec_loss: 6.7949 - kl_loss: 0.0023 - val_loss: 4.4378 - val_rec_loss: 8.8568 - val_kl_loss: 0.0187\n",
      "Epoch 76/400\n",
      "814/814 [==============================] - 0s 12us/sample - loss: 3.3980 - rec_loss: 6.7937 - kl_loss: 0.0023 - val_loss: 4.4398 - val_rec_loss: 8.8609 - val_kl_loss: 0.0187\n",
      "Epoch 77/400\n",
      "814/814 [==============================] - 0s 12us/sample - loss: 3.3983 - rec_loss: 6.7942 - kl_loss: 0.0023 - val_loss: 4.4387 - val_rec_loss: 8.8587 - val_kl_loss: 0.0186\n",
      "Epoch 78/400\n",
      "814/814 [==============================] - 0s 14us/sample - loss: 3.3955 - rec_loss: 6.7887 - kl_loss: 0.0022 - val_loss: 4.4367 - val_rec_loss: 8.8553 - val_kl_loss: 0.0180\n",
      "Epoch 79/400\n",
      "814/814 [==============================] - 0s 14us/sample - loss: 3.3958 - rec_loss: 6.7895 - kl_loss: 0.0021 - val_loss: 4.4361 - val_rec_loss: 8.8548 - val_kl_loss: 0.0174\n",
      "Epoch 80/400\n",
      "814/814 [==============================] - 0s 14us/sample - loss: 3.3942 - rec_loss: 6.7862 - kl_loss: 0.0021 - val_loss: 4.4402 - val_rec_loss: 8.8630 - val_kl_loss: 0.0173\n",
      "Epoch 81/400\n",
      "814/814 [==============================] - 0s 12us/sample - loss: 3.3973 - rec_loss: 6.7928 - kl_loss: 0.0019 - val_loss: 4.4376 - val_rec_loss: 8.8579 - val_kl_loss: 0.0173\n",
      "Epoch 82/400\n",
      "814/814 [==============================] - 0s 14us/sample - loss: 3.3948 - rec_loss: 6.7879 - kl_loss: 0.0018 - val_loss: 4.4391 - val_rec_loss: 8.8612 - val_kl_loss: 0.0171\n",
      "Epoch 83/400\n",
      "814/814 [==============================] - 0s 14us/sample - loss: 3.3950 - rec_loss: 6.7883 - kl_loss: 0.0017 - val_loss: 4.4399 - val_rec_loss: 8.8629 - val_kl_loss: 0.0170\n",
      "Epoch 84/400\n",
      "814/814 [==============================] - 0s 12us/sample - loss: 3.3949 - rec_loss: 6.7881 - kl_loss: 0.0017 - val_loss: 4.4370 - val_rec_loss: 8.8573 - val_kl_loss: 0.0166\n",
      "Epoch 85/400\n",
      "814/814 [==============================] - 0s 11us/sample - loss: 3.3935 - rec_loss: 6.7854 - kl_loss: 0.0016 - val_loss: 4.4371 - val_rec_loss: 8.8578 - val_kl_loss: 0.0164\n",
      "Epoch 86/400\n",
      "814/814 [==============================] - 0s 14us/sample - loss: 3.3913 - rec_loss: 6.7810 - kl_loss: 0.0016 - val_loss: 4.4395 - val_rec_loss: 8.8629 - val_kl_loss: 0.0161\n",
      "Epoch 87/400\n",
      "814/814 [==============================] - 0s 14us/sample - loss: 3.3933 - rec_loss: 6.7850 - kl_loss: 0.0016 - val_loss: 4.4344 - val_rec_loss: 8.8531 - val_kl_loss: 0.0158\n",
      "Epoch 88/400\n",
      "814/814 [==============================] - 0s 12us/sample - loss: 3.3912 - rec_loss: 6.7808 - kl_loss: 0.0016 - val_loss: 4.4362 - val_rec_loss: 8.8571 - val_kl_loss: 0.0153\n",
      "Epoch 89/400\n",
      "814/814 [==============================] - 0s 14us/sample - loss: 3.3901 - rec_loss: 6.7786 - kl_loss: 0.0016 - val_loss: 4.4351 - val_rec_loss: 8.8551 - val_kl_loss: 0.0151\n",
      "Epoch 90/400\n",
      "814/814 [==============================] - 0s 14us/sample - loss: 3.3904 - rec_loss: 6.7793 - kl_loss: 0.0015 - val_loss: 4.4364 - val_rec_loss: 8.8578 - val_kl_loss: 0.0150\n",
      "Epoch 91/400\n",
      "814/814 [==============================] - 0s 12us/sample - loss: 3.3905 - rec_loss: 6.7796 - kl_loss: 0.0014 - val_loss: 4.4373 - val_rec_loss: 8.8598 - val_kl_loss: 0.0149\n",
      "Epoch 92/400\n",
      "814/814 [==============================] - 0s 12us/sample - loss: 3.3908 - rec_loss: 6.7802 - kl_loss: 0.0013 - val_loss: 4.4355 - val_rec_loss: 8.8565 - val_kl_loss: 0.0146\n",
      "Epoch 93/400\n",
      "814/814 [==============================] - 0s 12us/sample - loss: 3.3902 - rec_loss: 6.7791 - kl_loss: 0.0013 - val_loss: 4.4366 - val_rec_loss: 8.8588 - val_kl_loss: 0.0145\n",
      "Epoch 94/400\n",
      "814/814 [==============================] - 0s 12us/sample - loss: 3.3893 - rec_loss: 6.7771 - kl_loss: 0.0014 - val_loss: 4.4375 - val_rec_loss: 8.8606 - val_kl_loss: 0.0145\n",
      "Epoch 95/400\n",
      "814/814 [==============================] - 0s 12us/sample - loss: 3.3890 - rec_loss: 6.7766 - kl_loss: 0.0015 - val_loss: 4.4375 - val_rec_loss: 8.8606 - val_kl_loss: 0.0144\n",
      "Epoch 96/400\n",
      "814/814 [==============================] - 0s 12us/sample - loss: 3.3893 - rec_loss: 6.7772 - kl_loss: 0.0014 - val_loss: 4.4369 - val_rec_loss: 8.8593 - val_kl_loss: 0.0144\n",
      "Epoch 97/400\n",
      "814/814 [==============================] - 0s 12us/sample - loss: 3.3888 - rec_loss: 6.7762 - kl_loss: 0.0013 - val_loss: 4.4347 - val_rec_loss: 8.8547 - val_kl_loss: 0.0146\n",
      "Epoch 98/400\n",
      "814/814 [==============================] - 0s 12us/sample - loss: 3.3875 - rec_loss: 6.7737 - kl_loss: 0.0013 - val_loss: 4.4349 - val_rec_loss: 8.8551 - val_kl_loss: 0.0148\n",
      "Epoch 99/400\n",
      "814/814 [==============================] - 0s 12us/sample - loss: 3.3883 - rec_loss: 6.7755 - kl_loss: 0.0012 - val_loss: 4.4367 - val_rec_loss: 8.8586 - val_kl_loss: 0.0147\n",
      "Epoch 100/400\n",
      "814/814 [==============================] - 0s 12us/sample - loss: 3.3872 - rec_loss: 6.7731 - kl_loss: 0.0012 - val_loss: 4.4350 - val_rec_loss: 8.8553 - val_kl_loss: 0.0146\n"
     ]
    },
    {
     "name": "stdout",
     "output_type": "stream",
     "text": [
      "Epoch 101/400\n",
      "814/814 [==============================] - 0s 12us/sample - loss: 3.3872 - rec_loss: 6.7731 - kl_loss: 0.0012 - val_loss: 4.4357 - val_rec_loss: 8.8569 - val_kl_loss: 0.0145\n",
      "Epoch 102/400\n",
      "814/814 [==============================] - 0s 12us/sample - loss: 3.3869 - rec_loss: 6.7727 - kl_loss: 0.0012 - val_loss: 4.4368 - val_rec_loss: 8.8592 - val_kl_loss: 0.0143\n",
      "Epoch 103/400\n",
      "814/814 [==============================] - 0s 12us/sample - loss: 3.3874 - rec_loss: 6.7737 - kl_loss: 0.0012 - val_loss: 4.4358 - val_rec_loss: 8.8573 - val_kl_loss: 0.0142\n",
      "Epoch 104/400\n",
      "814/814 [==============================] - 0s 14us/sample - loss: 3.3868 - rec_loss: 6.7724 - kl_loss: 0.0011 - val_loss: 4.4352 - val_rec_loss: 8.8563 - val_kl_loss: 0.0141\n",
      "Epoch 105/400\n",
      "814/814 [==============================] - 0s 12us/sample - loss: 3.3872 - rec_loss: 6.7733 - kl_loss: 0.0010 - val_loss: 4.4351 - val_rec_loss: 8.8564 - val_kl_loss: 0.0137\n",
      "Epoch 106/400\n",
      "814/814 [==============================] - 0s 12us/sample - loss: 3.3863 - rec_loss: 6.7716 - kl_loss: 0.0010 - val_loss: 4.4357 - val_rec_loss: 8.8578 - val_kl_loss: 0.0135\n",
      "Epoch 107/400\n",
      "814/814 [==============================] - 0s 14us/sample - loss: 3.3863 - rec_loss: 6.7715 - kl_loss: 0.0011 - val_loss: 4.4362 - val_rec_loss: 8.8588 - val_kl_loss: 0.0135\n",
      "Epoch 108/400\n",
      "814/814 [==============================] - 0s 12us/sample - loss: 3.3848 - rec_loss: 6.7686 - kl_loss: 0.0011 - val_loss: 4.4366 - val_rec_loss: 8.8598 - val_kl_loss: 0.0135\n",
      "Epoch 109/400\n",
      "814/814 [==============================] - 0s 14us/sample - loss: 3.3859 - rec_loss: 6.7708 - kl_loss: 0.0010 - val_loss: 4.4347 - val_rec_loss: 8.8561 - val_kl_loss: 0.0134\n",
      "Epoch 110/400\n",
      "814/814 [==============================] - 0s 14us/sample - loss: 3.3852 - rec_loss: 6.7695 - kl_loss: 0.0010 - val_loss: 4.4359 - val_rec_loss: 8.8587 - val_kl_loss: 0.0130\n",
      "Epoch 111/400\n",
      "814/814 [==============================] - 0s 12us/sample - loss: 3.3859 - rec_loss: 6.7708 - kl_loss: 9.9799e-04 - val_loss: 4.4365 - val_rec_loss: 8.8602 - val_kl_loss: 0.0128\n",
      "Epoch 112/400\n",
      "814/814 [==============================] - 0s 14us/sample - loss: 3.3846 - rec_loss: 6.7683 - kl_loss: 9.9298e-04 - val_loss: 4.4345 - val_rec_loss: 8.8562 - val_kl_loss: 0.0128\n",
      "Epoch 113/400\n",
      "814/814 [==============================] - 0s 12us/sample - loss: 3.3843 - rec_loss: 6.7676 - kl_loss: 9.9300e-04 - val_loss: 4.4347 - val_rec_loss: 8.8565 - val_kl_loss: 0.0129\n",
      "Epoch 114/400\n",
      "814/814 [==============================] - 0s 12us/sample - loss: 3.3842 - rec_loss: 6.7675 - kl_loss: 9.9127e-04 - val_loss: 4.4359 - val_rec_loss: 8.8588 - val_kl_loss: 0.0130\n",
      "Epoch 115/400\n",
      "814/814 [==============================] - 0s 12us/sample - loss: 3.3849 - rec_loss: 6.7688 - kl_loss: 9.8350e-04 - val_loss: 4.4342 - val_rec_loss: 8.8553 - val_kl_loss: 0.0130\n",
      "Epoch 116/400\n",
      "814/814 [==============================] - 0s 12us/sample - loss: 3.3851 - rec_loss: 6.7692 - kl_loss: 9.4739e-04 - val_loss: 4.4353 - val_rec_loss: 8.8577 - val_kl_loss: 0.0129\n",
      "Epoch 117/400\n",
      "814/814 [==============================] - 0s 12us/sample - loss: 3.3830 - rec_loss: 6.7650 - kl_loss: 9.2572e-04 - val_loss: 4.4362 - val_rec_loss: 8.8597 - val_kl_loss: 0.0128\n",
      "Epoch 118/400\n",
      "814/814 [==============================] - 0s 14us/sample - loss: 3.3838 - rec_loss: 6.7666 - kl_loss: 9.1600e-04 - val_loss: 4.4337 - val_rec_loss: 8.8548 - val_kl_loss: 0.0127\n",
      "Epoch 119/400\n",
      "814/814 [==============================] - 0s 14us/sample - loss: 3.3841 - rec_loss: 6.7674 - kl_loss: 9.0221e-04 - val_loss: 4.4350 - val_rec_loss: 8.8575 - val_kl_loss: 0.0126\n",
      "Epoch 120/400\n",
      "814/814 [==============================] - 0s 12us/sample - loss: 3.3834 - rec_loss: 6.7658 - kl_loss: 8.8734e-04 - val_loss: 4.4344 - val_rec_loss: 8.8563 - val_kl_loss: 0.0125\n",
      "Epoch 121/400\n",
      "814/814 [==============================] - 0s 12us/sample - loss: 3.3845 - rec_loss: 6.7681 - kl_loss: 8.5879e-04 - val_loss: 4.4353 - val_rec_loss: 8.8582 - val_kl_loss: 0.0124\n",
      "Epoch 122/400\n",
      "814/814 [==============================] - 0s 14us/sample - loss: 3.3824 - rec_loss: 6.7639 - kl_loss: 8.5105e-04 - val_loss: 4.4349 - val_rec_loss: 8.8574 - val_kl_loss: 0.0125\n",
      "Epoch 123/400\n",
      "814/814 [==============================] - 0s 14us/sample - loss: 3.3816 - rec_loss: 6.7624 - kl_loss: 8.4304e-04 - val_loss: 4.4348 - val_rec_loss: 8.8570 - val_kl_loss: 0.0126\n",
      "Epoch 124/400\n",
      "814/814 [==============================] - 0s 12us/sample - loss: 3.3828 - rec_loss: 6.7647 - kl_loss: 8.3794e-04 - val_loss: 4.4328 - val_rec_loss: 8.8531 - val_kl_loss: 0.0126\n",
      "Epoch 125/400\n",
      "814/814 [==============================] - 0s 12us/sample - loss: 3.3827 - rec_loss: 6.7645 - kl_loss: 8.0945e-04 - val_loss: 4.4337 - val_rec_loss: 8.8550 - val_kl_loss: 0.0124\n",
      "Epoch 126/400\n",
      "814/814 [==============================] - 0s 14us/sample - loss: 3.3841 - rec_loss: 6.7674 - kl_loss: 8.0748e-04 - val_loss: 4.4354 - val_rec_loss: 8.8584 - val_kl_loss: 0.0123\n",
      "Epoch 127/400\n",
      "814/814 [==============================] - 0s 12us/sample - loss: 3.3821 - rec_loss: 6.7635 - kl_loss: 8.0271e-04 - val_loss: 4.4332 - val_rec_loss: 8.8541 - val_kl_loss: 0.0124\n",
      "Epoch 128/400\n",
      "814/814 [==============================] - 0s 12us/sample - loss: 3.3814 - rec_loss: 6.7620 - kl_loss: 7.9059e-04 - val_loss: 4.4348 - val_rec_loss: 8.8571 - val_kl_loss: 0.0124\n",
      "Epoch 129/400\n",
      "814/814 [==============================] - 0s 12us/sample - loss: 3.3815 - rec_loss: 6.7622 - kl_loss: 7.9399e-04 - val_loss: 4.4332 - val_rec_loss: 8.8542 - val_kl_loss: 0.0123\n",
      "Epoch 130/400\n",
      "814/814 [==============================] - 0s 12us/sample - loss: 3.3824 - rec_loss: 6.7639 - kl_loss: 7.8375e-04 - val_loss: 4.4361 - val_rec_loss: 8.8600 - val_kl_loss: 0.0122\n",
      "Epoch 131/400\n",
      "814/814 [==============================] - 0s 12us/sample - loss: 3.3816 - rec_loss: 6.7624 - kl_loss: 7.8511e-04 - val_loss: 4.4341 - val_rec_loss: 8.8560 - val_kl_loss: 0.0121\n",
      "Epoch 132/400\n",
      "814/814 [==============================] - 0s 12us/sample - loss: 3.3819 - rec_loss: 6.7630 - kl_loss: 7.6355e-04 - val_loss: 4.4329 - val_rec_loss: 8.8538 - val_kl_loss: 0.0121\n",
      "Epoch 133/400\n",
      "814/814 [==============================] - 0s 12us/sample - loss: 3.3832 - rec_loss: 6.7656 - kl_loss: 7.4694e-04 - val_loss: 4.4338 - val_rec_loss: 8.8556 - val_kl_loss: 0.0120\n",
      "Epoch 134/400\n",
      "814/814 [==============================] - 0s 12us/sample - loss: 3.3822 - rec_loss: 6.7637 - kl_loss: 7.3274e-04 - val_loss: 4.4340 - val_rec_loss: 8.8561 - val_kl_loss: 0.0118\n",
      "Epoch 135/400\n",
      "814/814 [==============================] - 0s 12us/sample - loss: 3.3821 - rec_loss: 6.7635 - kl_loss: 7.3193e-04 - val_loss: 4.4335 - val_rec_loss: 8.8552 - val_kl_loss: 0.0119\n",
      "Epoch 136/400\n",
      "814/814 [==============================] - 0s 12us/sample - loss: 3.3816 - rec_loss: 6.7626 - kl_loss: 7.2185e-04 - val_loss: 4.4336 - val_rec_loss: 8.8553 - val_kl_loss: 0.0119\n",
      "Epoch 137/400\n",
      "814/814 [==============================] - 0s 12us/sample - loss: 3.3808 - rec_loss: 6.7608 - kl_loss: 7.3574e-04 - val_loss: 4.4345 - val_rec_loss: 8.8572 - val_kl_loss: 0.0118\n",
      "Epoch 138/400\n",
      "814/814 [==============================] - 0s 12us/sample - loss: 3.3819 - rec_loss: 6.7631 - kl_loss: 7.3898e-04 - val_loss: 4.4334 - val_rec_loss: 8.8550 - val_kl_loss: 0.0118\n",
      "Epoch 139/400\n",
      "814/814 [==============================] - 0s 12us/sample - loss: 3.3811 - rec_loss: 6.7615 - kl_loss: 7.3532e-04 - val_loss: 4.4351 - val_rec_loss: 8.8584 - val_kl_loss: 0.0118\n",
      "Epoch 140/400\n",
      "814/814 [==============================] - 0s 12us/sample - loss: 3.3820 - rec_loss: 6.7633 - kl_loss: 7.1692e-04 - val_loss: 4.4342 - val_rec_loss: 8.8567 - val_kl_loss: 0.0117\n",
      "Epoch 141/400\n",
      "814/814 [==============================] - 0s 14us/sample - loss: 3.3809 - rec_loss: 6.7611 - kl_loss: 6.9589e-04 - val_loss: 4.4338 - val_rec_loss: 8.8560 - val_kl_loss: 0.0116\n",
      "Epoch 142/400\n",
      "814/814 [==============================] - 0s 14us/sample - loss: 3.3814 - rec_loss: 6.7622 - kl_loss: 6.8438e-04 - val_loss: 4.4341 - val_rec_loss: 8.8567 - val_kl_loss: 0.0115\n",
      "Epoch 143/400\n",
      "814/814 [==============================] - 0s 12us/sample - loss: 3.3809 - rec_loss: 6.7611 - kl_loss: 6.9622e-04 - val_loss: 4.4337 - val_rec_loss: 8.8561 - val_kl_loss: 0.0114\n"
     ]
    },
    {
     "name": "stdout",
     "output_type": "stream",
     "text": [
      "Epoch 144/400\n",
      "814/814 [==============================] - 0s 12us/sample - loss: 3.3811 - rec_loss: 6.7614 - kl_loss: 7.2349e-04 - val_loss: 4.4334 - val_rec_loss: 8.8555 - val_kl_loss: 0.0114\n",
      "Epoch 145/400\n",
      "814/814 [==============================] - 0s 12us/sample - loss: 3.3808 - rec_loss: 6.7609 - kl_loss: 7.5849e-04 - val_loss: 4.4343 - val_rec_loss: 8.8572 - val_kl_loss: 0.0114\n",
      "Epoch 146/400\n",
      "814/814 [==============================] - 0s 12us/sample - loss: 3.3801 - rec_loss: 6.7595 - kl_loss: 7.4154e-04 - val_loss: 4.4345 - val_rec_loss: 8.8576 - val_kl_loss: 0.0114\n",
      "Epoch 147/400\n",
      "814/814 [==============================] - 0s 12us/sample - loss: 3.3807 - rec_loss: 6.7608 - kl_loss: 7.3585e-04 - val_loss: 4.4338 - val_rec_loss: 8.8561 - val_kl_loss: 0.0115\n",
      "Epoch 148/400\n",
      "814/814 [==============================] - 0s 12us/sample - loss: 3.3807 - rec_loss: 6.7606 - kl_loss: 7.2802e-04 - val_loss: 4.4338 - val_rec_loss: 8.8561 - val_kl_loss: 0.0114\n",
      "Epoch 149/400\n",
      "814/814 [==============================] - 0s 12us/sample - loss: 3.3808 - rec_loss: 6.7610 - kl_loss: 6.8194e-04 - val_loss: 4.4342 - val_rec_loss: 8.8570 - val_kl_loss: 0.0113\n",
      "Epoch 150/400\n",
      "814/814 [==============================] - 0s 12us/sample - loss: 3.3804 - rec_loss: 6.7601 - kl_loss: 6.7223e-04 - val_loss: 4.4351 - val_rec_loss: 8.8590 - val_kl_loss: 0.0113\n",
      "Epoch 151/400\n",
      "814/814 [==============================] - 0s 12us/sample - loss: 3.3817 - rec_loss: 6.7627 - kl_loss: 6.6196e-04 - val_loss: 4.4341 - val_rec_loss: 8.8570 - val_kl_loss: 0.0112\n",
      "Epoch 152/400\n",
      "814/814 [==============================] - 0s 12us/sample - loss: 3.3808 - rec_loss: 6.7610 - kl_loss: 6.4503e-04 - val_loss: 4.4333 - val_rec_loss: 8.8555 - val_kl_loss: 0.0111\n",
      "Epoch 153/400\n",
      "814/814 [==============================] - 0s 14us/sample - loss: 3.3797 - rec_loss: 6.7588 - kl_loss: 6.6294e-04 - val_loss: 4.4321 - val_rec_loss: 8.8533 - val_kl_loss: 0.0109\n",
      "Epoch 154/400\n",
      "814/814 [==============================] - 0s 12us/sample - loss: 3.3803 - rec_loss: 6.7600 - kl_loss: 6.5833e-04 - val_loss: 4.4334 - val_rec_loss: 8.8558 - val_kl_loss: 0.0109\n",
      "Epoch 155/400\n",
      "814/814 [==============================] - 0s 12us/sample - loss: 3.3802 - rec_loss: 6.7598 - kl_loss: 6.3368e-04 - val_loss: 4.4347 - val_rec_loss: 8.8586 - val_kl_loss: 0.0109\n",
      "Epoch 156/400\n",
      "814/814 [==============================] - 0s 12us/sample - loss: 3.3809 - rec_loss: 6.7613 - kl_loss: 6.1428e-04 - val_loss: 4.4336 - val_rec_loss: 8.8565 - val_kl_loss: 0.0107\n",
      "Epoch 157/400\n",
      "814/814 [==============================] - 0s 12us/sample - loss: 3.3800 - rec_loss: 6.7593 - kl_loss: 6.1011e-04 - val_loss: 4.4343 - val_rec_loss: 8.8580 - val_kl_loss: 0.0105\n",
      "Epoch 158/400\n",
      "814/814 [==============================] - 0s 12us/sample - loss: 3.3799 - rec_loss: 6.7592 - kl_loss: 6.0515e-04 - val_loss: 4.4325 - val_rec_loss: 8.8544 - val_kl_loss: 0.0105\n",
      "Epoch 159/400\n",
      "814/814 [==============================] - 0s 12us/sample - loss: 3.3792 - rec_loss: 6.7577 - kl_loss: 5.7724e-04 - val_loss: 4.4334 - val_rec_loss: 8.8564 - val_kl_loss: 0.0105\n",
      "Epoch 160/400\n",
      "814/814 [==============================] - 0s 12us/sample - loss: 3.3796 - rec_loss: 6.7587 - kl_loss: 5.8549e-04 - val_loss: 4.4334 - val_rec_loss: 8.8563 - val_kl_loss: 0.0105\n",
      "Epoch 161/400\n",
      "814/814 [==============================] - 0s 12us/sample - loss: 3.3795 - rec_loss: 6.7585 - kl_loss: 5.8163e-04 - val_loss: 4.4331 - val_rec_loss: 8.8557 - val_kl_loss: 0.0105\n",
      "Epoch 162/400\n",
      "814/814 [==============================] - 0s 12us/sample - loss: 3.3800 - rec_loss: 6.7593 - kl_loss: 5.7976e-04 - val_loss: 4.4342 - val_rec_loss: 8.8579 - val_kl_loss: 0.0105\n",
      "Epoch 163/400\n",
      "814/814 [==============================] - 0s 12us/sample - loss: 3.3806 - rec_loss: 6.7607 - kl_loss: 5.7527e-04 - val_loss: 4.4336 - val_rec_loss: 8.8567 - val_kl_loss: 0.0105\n",
      "Epoch 164/400\n",
      "814/814 [==============================] - 0s 12us/sample - loss: 3.3803 - rec_loss: 6.7601 - kl_loss: 5.6939e-04 - val_loss: 4.4339 - val_rec_loss: 8.8574 - val_kl_loss: 0.0104\n",
      "Epoch 165/400\n",
      "814/814 [==============================] - 0s 12us/sample - loss: 3.3789 - rec_loss: 6.7573 - kl_loss: 5.7666e-04 - val_loss: 4.4339 - val_rec_loss: 8.8574 - val_kl_loss: 0.0103\n",
      "Epoch 166/400\n",
      "814/814 [==============================] - 0s 12us/sample - loss: 3.3795 - rec_loss: 6.7583 - kl_loss: 5.8483e-04 - val_loss: 4.4324 - val_rec_loss: 8.8544 - val_kl_loss: 0.0103\n",
      "Epoch 167/400\n",
      "814/814 [==============================] - 0s 12us/sample - loss: 3.3791 - rec_loss: 6.7576 - kl_loss: 5.8281e-04 - val_loss: 4.4330 - val_rec_loss: 8.8556 - val_kl_loss: 0.0103\n",
      "Epoch 168/400\n",
      "814/814 [==============================] - 0s 12us/sample - loss: 3.3794 - rec_loss: 6.7581 - kl_loss: 5.8620e-04 - val_loss: 4.4333 - val_rec_loss: 8.8563 - val_kl_loss: 0.0103\n",
      "Epoch 169/400\n",
      "814/814 [==============================] - 0s 14us/sample - loss: 3.3790 - rec_loss: 6.7574 - kl_loss: 5.7378e-04 - val_loss: 4.4329 - val_rec_loss: 8.8555 - val_kl_loss: 0.0102\n",
      "Epoch 170/400\n",
      "814/814 [==============================] - 0s 14us/sample - loss: 3.3795 - rec_loss: 6.7584 - kl_loss: 5.6439e-04 - val_loss: 4.4345 - val_rec_loss: 8.8588 - val_kl_loss: 0.0101\n",
      "Epoch 171/400\n",
      "814/814 [==============================] - 0s 12us/sample - loss: 3.3795 - rec_loss: 6.7584 - kl_loss: 5.6309e-04 - val_loss: 4.4333 - val_rec_loss: 8.8566 - val_kl_loss: 0.0100\n",
      "Epoch 172/400\n",
      "814/814 [==============================] - 0s 12us/sample - loss: 3.3801 - rec_loss: 6.7597 - kl_loss: 5.8083e-04 - val_loss: 4.4332 - val_rec_loss: 8.8564 - val_kl_loss: 0.0100\n",
      "Epoch 173/400\n",
      "814/814 [==============================] - 0s 12us/sample - loss: 3.3802 - rec_loss: 6.7597 - kl_loss: 5.9284e-04 - val_loss: 4.4335 - val_rec_loss: 8.8572 - val_kl_loss: 0.0099\n",
      "Epoch 174/400\n",
      "814/814 [==============================] - 0s 12us/sample - loss: 3.3788 - rec_loss: 6.7571 - kl_loss: 5.8097e-04 - val_loss: 4.4340 - val_rec_loss: 8.8582 - val_kl_loss: 0.0098\n",
      "Epoch 175/400\n",
      "814/814 [==============================] - 0s 12us/sample - loss: 3.3791 - rec_loss: 6.7577 - kl_loss: 5.7803e-04 - val_loss: 4.4341 - val_rec_loss: 8.8584 - val_kl_loss: 0.0097\n",
      "Epoch 176/400\n",
      "814/814 [==============================] - 0s 12us/sample - loss: 3.3786 - rec_loss: 6.7566 - kl_loss: 5.7170e-04 - val_loss: 4.4341 - val_rec_loss: 8.8585 - val_kl_loss: 0.0097\n",
      "Epoch 177/400\n",
      "814/814 [==============================] - 0s 11us/sample - loss: 3.3783 - rec_loss: 6.7560 - kl_loss: 5.5911e-04 - val_loss: 4.4327 - val_rec_loss: 8.8557 - val_kl_loss: 0.0098\n",
      "Epoch 178/400\n",
      "814/814 [==============================] - 0s 12us/sample - loss: 3.3791 - rec_loss: 6.7576 - kl_loss: 5.5328e-04 - val_loss: 4.4319 - val_rec_loss: 8.8538 - val_kl_loss: 0.0099\n",
      "Epoch 179/400\n",
      "814/814 [==============================] - 0s 12us/sample - loss: 3.3793 - rec_loss: 6.7580 - kl_loss: 5.8244e-04 - val_loss: 4.4328 - val_rec_loss: 8.8555 - val_kl_loss: 0.0100\n",
      "Epoch 180/400\n",
      "814/814 [==============================] - 0s 12us/sample - loss: 3.3798 - rec_loss: 6.7590 - kl_loss: 5.7852e-04 - val_loss: 4.4326 - val_rec_loss: 8.8553 - val_kl_loss: 0.0100\n",
      "Epoch 181/400\n",
      "814/814 [==============================] - 0s 12us/sample - loss: 3.3786 - rec_loss: 6.7566 - kl_loss: 5.7531e-04 - val_loss: 4.4336 - val_rec_loss: 8.8573 - val_kl_loss: 0.0099\n",
      "Epoch 182/400\n",
      "814/814 [==============================] - 0s 12us/sample - loss: 3.3793 - rec_loss: 6.7581 - kl_loss: 5.5983e-04 - val_loss: 4.4330 - val_rec_loss: 8.8561 - val_kl_loss: 0.0099\n",
      "Epoch 183/400\n",
      "814/814 [==============================] - 0s 12us/sample - loss: 3.3787 - rec_loss: 6.7569 - kl_loss: 5.5047e-04 - val_loss: 4.4329 - val_rec_loss: 8.8559 - val_kl_loss: 0.0099\n",
      "Epoch 184/400\n",
      "814/814 [==============================] - 0s 14us/sample - loss: 3.3787 - rec_loss: 6.7568 - kl_loss: 5.5882e-04 - val_loss: 4.4339 - val_rec_loss: 8.8580 - val_kl_loss: 0.0099\n",
      "Epoch 185/400\n",
      "814/814 [==============================] - 0s 14us/sample - loss: 3.3790 - rec_loss: 6.7574 - kl_loss: 5.4916e-04 - val_loss: 4.4325 - val_rec_loss: 8.8552 - val_kl_loss: 0.0098\n",
      "Epoch 186/400\n",
      "814/814 [==============================] - 0s 14us/sample - loss: 3.3784 - rec_loss: 6.7562 - kl_loss: 5.4405e-04 - val_loss: 4.4334 - val_rec_loss: 8.8570 - val_kl_loss: 0.0098\n"
     ]
    },
    {
     "name": "stdout",
     "output_type": "stream",
     "text": [
      "Epoch 187/400\n",
      "814/814 [==============================] - 0s 12us/sample - loss: 3.3785 - rec_loss: 6.7564 - kl_loss: 5.5385e-04 - val_loss: 4.4324 - val_rec_loss: 8.8548 - val_kl_loss: 0.0099\n",
      "Epoch 188/400\n",
      "814/814 [==============================] - 0s 14us/sample - loss: 3.3792 - rec_loss: 6.7579 - kl_loss: 5.7543e-04 - val_loss: 4.4328 - val_rec_loss: 8.8556 - val_kl_loss: 0.0099\n",
      "Epoch 189/400\n",
      "814/814 [==============================] - 0s 12us/sample - loss: 3.3783 - rec_loss: 6.7561 - kl_loss: 5.5341e-04 - val_loss: 4.4321 - val_rec_loss: 8.8544 - val_kl_loss: 0.0099\n",
      "Epoch 190/400\n",
      "814/814 [==============================] - 0s 12us/sample - loss: 3.3780 - rec_loss: 6.7555 - kl_loss: 5.2844e-04 - val_loss: 4.4325 - val_rec_loss: 8.8553 - val_kl_loss: 0.0097\n",
      "Epoch 191/400\n",
      "814/814 [==============================] - 0s 12us/sample - loss: 3.3786 - rec_loss: 6.7567 - kl_loss: 5.2082e-04 - val_loss: 4.4332 - val_rec_loss: 8.8568 - val_kl_loss: 0.0096\n",
      "Epoch 192/400\n",
      "814/814 [==============================] - 0s 12us/sample - loss: 3.3781 - rec_loss: 6.7558 - kl_loss: 5.1708e-04 - val_loss: 4.4330 - val_rec_loss: 8.8564 - val_kl_loss: 0.0095\n",
      "Epoch 193/400\n",
      "814/814 [==============================] - 0s 12us/sample - loss: 3.3788 - rec_loss: 6.7570 - kl_loss: 5.3031e-04 - val_loss: 4.4330 - val_rec_loss: 8.8566 - val_kl_loss: 0.0095\n",
      "Epoch 194/400\n",
      "814/814 [==============================] - 0s 12us/sample - loss: 3.3790 - rec_loss: 6.7575 - kl_loss: 5.5359e-04 - val_loss: 4.4328 - val_rec_loss: 8.8560 - val_kl_loss: 0.0095\n",
      "Epoch 195/400\n",
      "814/814 [==============================] - 0s 14us/sample - loss: 3.3788 - rec_loss: 6.7571 - kl_loss: 5.6801e-04 - val_loss: 4.4350 - val_rec_loss: 8.8605 - val_kl_loss: 0.0095\n",
      "Epoch 196/400\n",
      "814/814 [==============================] - 0s 14us/sample - loss: 3.3782 - rec_loss: 6.7558 - kl_loss: 5.6390e-04 - val_loss: 4.4325 - val_rec_loss: 8.8556 - val_kl_loss: 0.0095\n",
      "Epoch 197/400\n",
      "814/814 [==============================] - 0s 12us/sample - loss: 3.3784 - rec_loss: 6.7562 - kl_loss: 5.5351e-04 - val_loss: 4.4325 - val_rec_loss: 8.8556 - val_kl_loss: 0.0094\n",
      "Epoch 198/400\n",
      "814/814 [==============================] - 0s 14us/sample - loss: 3.3775 - rec_loss: 6.7545 - kl_loss: 5.5493e-04 - val_loss: 4.4325 - val_rec_loss: 8.8557 - val_kl_loss: 0.0093\n",
      "Epoch 199/400\n",
      "814/814 [==============================] - 0s 12us/sample - loss: 3.3773 - rec_loss: 6.7541 - kl_loss: 5.3070e-04 - val_loss: 4.4326 - val_rec_loss: 8.8560 - val_kl_loss: 0.0093\n",
      "Epoch 200/400\n",
      "814/814 [==============================] - 0s 12us/sample - loss: 3.3784 - rec_loss: 6.7563 - kl_loss: 5.0826e-04 - val_loss: 4.4321 - val_rec_loss: 8.8549 - val_kl_loss: 0.0093\n",
      "Epoch 201/400\n",
      "814/814 [==============================] - 0s 12us/sample - loss: 3.3794 - rec_loss: 6.7582 - kl_loss: 5.0865e-04 - val_loss: 4.4333 - val_rec_loss: 8.8572 - val_kl_loss: 0.0094\n",
      "Epoch 202/400\n",
      "814/814 [==============================] - 0s 12us/sample - loss: 3.3784 - rec_loss: 6.7562 - kl_loss: 5.2805e-04 - val_loss: 4.4319 - val_rec_loss: 8.8545 - val_kl_loss: 0.0093\n",
      "Epoch 203/400\n",
      "814/814 [==============================] - 0s 12us/sample - loss: 3.3783 - rec_loss: 6.7562 - kl_loss: 5.4399e-04 - val_loss: 4.4329 - val_rec_loss: 8.8566 - val_kl_loss: 0.0091\n",
      "Epoch 204/400\n",
      "814/814 [==============================] - 0s 12us/sample - loss: 3.3787 - rec_loss: 6.7568 - kl_loss: 5.5549e-04 - val_loss: 4.4326 - val_rec_loss: 8.8562 - val_kl_loss: 0.0090\n",
      "Epoch 205/400\n",
      "814/814 [==============================] - 0s 12us/sample - loss: 3.3779 - rec_loss: 6.7552 - kl_loss: 5.6409e-04 - val_loss: 4.4330 - val_rec_loss: 8.8570 - val_kl_loss: 0.0090\n",
      "Epoch 206/400\n",
      "814/814 [==============================] - 0s 12us/sample - loss: 3.3784 - rec_loss: 6.7563 - kl_loss: 5.5524e-04 - val_loss: 4.4337 - val_rec_loss: 8.8582 - val_kl_loss: 0.0092\n",
      "Epoch 207/400\n",
      "814/814 [==============================] - 0s 12us/sample - loss: 3.3784 - rec_loss: 6.7562 - kl_loss: 4.9394e-04 - val_loss: 4.4341 - val_rec_loss: 8.8590 - val_kl_loss: 0.0093\n",
      "Epoch 208/400\n",
      "814/814 [==============================] - 0s 12us/sample - loss: 3.3781 - rec_loss: 6.7558 - kl_loss: 4.4927e-04 - val_loss: 4.4326 - val_rec_loss: 8.8560 - val_kl_loss: 0.0093\n",
      "Epoch 209/400\n",
      "814/814 [==============================] - 0s 12us/sample - loss: 3.3782 - rec_loss: 6.7560 - kl_loss: 4.3955e-04 - val_loss: 4.4330 - val_rec_loss: 8.8568 - val_kl_loss: 0.0092\n",
      "Epoch 210/400\n",
      "814/814 [==============================] - 0s 12us/sample - loss: 3.3778 - rec_loss: 6.7552 - kl_loss: 4.6780e-04 - val_loss: 4.4335 - val_rec_loss: 8.8580 - val_kl_loss: 0.0091\n",
      "Epoch 211/400\n",
      "814/814 [==============================] - 0s 12us/sample - loss: 3.3778 - rec_loss: 6.7552 - kl_loss: 4.9943e-04 - val_loss: 4.4328 - val_rec_loss: 8.8566 - val_kl_loss: 0.0091\n",
      "Epoch 212/400\n",
      "814/814 [==============================] - 0s 12us/sample - loss: 3.3771 - rec_loss: 6.7536 - kl_loss: 5.1160e-04 - val_loss: 4.4318 - val_rec_loss: 8.8545 - val_kl_loss: 0.0090\n",
      "Epoch 213/400\n",
      "814/814 [==============================] - 0s 12us/sample - loss: 3.3783 - rec_loss: 6.7561 - kl_loss: 5.0559e-04 - val_loss: 4.4336 - val_rec_loss: 8.8581 - val_kl_loss: 0.0091\n",
      "Epoch 214/400\n",
      "814/814 [==============================] - 0s 14us/sample - loss: 3.3773 - rec_loss: 6.7541 - kl_loss: 5.1463e-04 - val_loss: 4.4314 - val_rec_loss: 8.8538 - val_kl_loss: 0.0090\n",
      "Epoch 215/400\n",
      "814/814 [==============================] - 0s 12us/sample - loss: 3.3776 - rec_loss: 6.7546 - kl_loss: 5.0669e-04 - val_loss: 4.4332 - val_rec_loss: 8.8574 - val_kl_loss: 0.0089\n",
      "Epoch 216/400\n",
      "814/814 [==============================] - 0s 12us/sample - loss: 3.3778 - rec_loss: 6.7551 - kl_loss: 4.8234e-04 - val_loss: 4.4321 - val_rec_loss: 8.8554 - val_kl_loss: 0.0088\n",
      "Epoch 217/400\n",
      "814/814 [==============================] - 0s 12us/sample - loss: 3.3778 - rec_loss: 6.7552 - kl_loss: 4.8611e-04 - val_loss: 4.4333 - val_rec_loss: 8.8578 - val_kl_loss: 0.0087\n",
      "Epoch 218/400\n",
      "814/814 [==============================] - 0s 12us/sample - loss: 3.3783 - rec_loss: 6.7561 - kl_loss: 4.7730e-04 - val_loss: 4.4329 - val_rec_loss: 8.8569 - val_kl_loss: 0.0088\n",
      "Epoch 219/400\n",
      "814/814 [==============================] - 0s 12us/sample - loss: 3.3769 - rec_loss: 6.7533 - kl_loss: 4.7887e-04 - val_loss: 4.4332 - val_rec_loss: 8.8576 - val_kl_loss: 0.0088\n",
      "Epoch 220/400\n",
      "814/814 [==============================] - 0s 12us/sample - loss: 3.3776 - rec_loss: 6.7548 - kl_loss: 4.7758e-04 - val_loss: 4.4322 - val_rec_loss: 8.8556 - val_kl_loss: 0.0088\n",
      "Epoch 221/400\n",
      "814/814 [==============================] - 0s 11us/sample - loss: 3.3780 - rec_loss: 6.7555 - kl_loss: 5.0170e-04 - val_loss: 4.4319 - val_rec_loss: 8.8550 - val_kl_loss: 0.0087\n",
      "Epoch 222/400\n",
      "814/814 [==============================] - 0s 12us/sample - loss: 3.3772 - rec_loss: 6.7539 - kl_loss: 4.9644e-04 - val_loss: 4.4320 - val_rec_loss: 8.8552 - val_kl_loss: 0.0088\n",
      "Epoch 223/400\n",
      "814/814 [==============================] - 0s 12us/sample - loss: 3.3780 - rec_loss: 6.7556 - kl_loss: 4.8183e-04 - val_loss: 4.4331 - val_rec_loss: 8.8573 - val_kl_loss: 0.0088\n",
      "Epoch 224/400\n",
      "814/814 [==============================] - 0s 12us/sample - loss: 3.3777 - rec_loss: 6.7549 - kl_loss: 4.6177e-04 - val_loss: 4.4327 - val_rec_loss: 8.8567 - val_kl_loss: 0.0088\n",
      "Epoch 225/400\n",
      "814/814 [==============================] - 0s 12us/sample - loss: 3.3775 - rec_loss: 6.7545 - kl_loss: 4.7039e-04 - val_loss: 4.4338 - val_rec_loss: 8.8589 - val_kl_loss: 0.0088\n",
      "Epoch 226/400\n",
      "814/814 [==============================] - 0s 12us/sample - loss: 3.3775 - rec_loss: 6.7545 - kl_loss: 4.7959e-04 - val_loss: 4.4330 - val_rec_loss: 8.8572 - val_kl_loss: 0.0088\n",
      "Epoch 227/400\n",
      "814/814 [==============================] - 0s 14us/sample - loss: 3.3781 - rec_loss: 6.7558 - kl_loss: 5.1407e-04 - val_loss: 4.4341 - val_rec_loss: 8.8595 - val_kl_loss: 0.0088\n",
      "Epoch 228/400\n",
      "814/814 [==============================] - 0s 12us/sample - loss: 3.3781 - rec_loss: 6.7557 - kl_loss: 5.3304e-04 - val_loss: 4.4332 - val_rec_loss: 8.8575 - val_kl_loss: 0.0088\n",
      "Epoch 229/400\n",
      "814/814 [==============================] - 0s 12us/sample - loss: 3.3773 - rec_loss: 6.7541 - kl_loss: 5.6423e-04 - val_loss: 4.4327 - val_rec_loss: 8.8565 - val_kl_loss: 0.0088\n"
     ]
    },
    {
     "name": "stdout",
     "output_type": "stream",
     "text": [
      "Epoch 230/400\n",
      "814/814 [==============================] - 0s 14us/sample - loss: 3.3771 - rec_loss: 6.7538 - kl_loss: 5.1006e-04 - val_loss: 4.4323 - val_rec_loss: 8.8557 - val_kl_loss: 0.0089\n",
      "Epoch 231/400\n",
      "814/814 [==============================] - 0s 12us/sample - loss: 3.3778 - rec_loss: 6.7552 - kl_loss: 5.0760e-04 - val_loss: 4.4324 - val_rec_loss: 8.8560 - val_kl_loss: 0.0088\n",
      "Epoch 232/400\n",
      "814/814 [==============================] - 0s 12us/sample - loss: 3.3779 - rec_loss: 6.7554 - kl_loss: 5.1836e-04 - val_loss: 4.4324 - val_rec_loss: 8.8560 - val_kl_loss: 0.0088\n",
      "Epoch 233/400\n",
      "814/814 [==============================] - 0s 12us/sample - loss: 3.3776 - rec_loss: 6.7547 - kl_loss: 5.5770e-04 - val_loss: 4.4337 - val_rec_loss: 8.8587 - val_kl_loss: 0.0086\n",
      "Epoch 234/400\n",
      "814/814 [==============================] - 0s 12us/sample - loss: 3.3776 - rec_loss: 6.7546 - kl_loss: 5.6719e-04 - val_loss: 4.4312 - val_rec_loss: 8.8539 - val_kl_loss: 0.0086\n",
      "Epoch 235/400\n",
      "814/814 [==============================] - 0s 12us/sample - loss: 3.3780 - rec_loss: 6.7555 - kl_loss: 5.6712e-04 - val_loss: 4.4327 - val_rec_loss: 8.8569 - val_kl_loss: 0.0085\n",
      "Epoch 236/400\n",
      "814/814 [==============================] - 0s 12us/sample - loss: 3.3775 - rec_loss: 6.7545 - kl_loss: 5.2541e-04 - val_loss: 4.4316 - val_rec_loss: 8.8545 - val_kl_loss: 0.0087\n",
      "Epoch 237/400\n",
      "814/814 [==============================] - 0s 14us/sample - loss: 3.3781 - rec_loss: 6.7556 - kl_loss: 5.1290e-04 - val_loss: 4.4322 - val_rec_loss: 8.8557 - val_kl_loss: 0.0086\n",
      "Epoch 238/400\n",
      "814/814 [==============================] - 0s 14us/sample - loss: 3.3779 - rec_loss: 6.7553 - kl_loss: 4.9921e-04 - val_loss: 4.4320 - val_rec_loss: 8.8556 - val_kl_loss: 0.0084\n",
      "Epoch 239/400\n",
      "814/814 [==============================] - 0s 12us/sample - loss: 3.3764 - rec_loss: 6.7523 - kl_loss: 4.9657e-04 - val_loss: 4.4323 - val_rec_loss: 8.8562 - val_kl_loss: 0.0084\n",
      "Epoch 240/400\n",
      "814/814 [==============================] - 0s 12us/sample - loss: 3.3776 - rec_loss: 6.7547 - kl_loss: 5.0768e-04 - val_loss: 4.4324 - val_rec_loss: 8.8565 - val_kl_loss: 0.0083\n",
      "Epoch 241/400\n",
      "814/814 [==============================] - 0s 14us/sample - loss: 3.3772 - rec_loss: 6.7539 - kl_loss: 5.1782e-04 - val_loss: 4.4319 - val_rec_loss: 8.8556 - val_kl_loss: 0.0082\n",
      "Epoch 242/400\n",
      "814/814 [==============================] - 0s 14us/sample - loss: 3.3771 - rec_loss: 6.7537 - kl_loss: 5.1696e-04 - val_loss: 4.4335 - val_rec_loss: 8.8586 - val_kl_loss: 0.0083\n",
      "Epoch 243/400\n",
      "814/814 [==============================] - 0s 14us/sample - loss: 3.3781 - rec_loss: 6.7557 - kl_loss: 5.0659e-04 - val_loss: 4.4319 - val_rec_loss: 8.8555 - val_kl_loss: 0.0083\n",
      "Epoch 244/400\n",
      "814/814 [==============================] - 0s 14us/sample - loss: 3.3773 - rec_loss: 6.7542 - kl_loss: 5.0746e-04 - val_loss: 4.4326 - val_rec_loss: 8.8569 - val_kl_loss: 0.0084\n",
      "Epoch 245/400\n",
      "814/814 [==============================] - 0s 12us/sample - loss: 3.3774 - rec_loss: 6.7543 - kl_loss: 5.2209e-04 - val_loss: 4.4324 - val_rec_loss: 8.8564 - val_kl_loss: 0.0084\n",
      "Epoch 246/400\n",
      "814/814 [==============================] - 0s 12us/sample - loss: 3.3773 - rec_loss: 6.7541 - kl_loss: 5.1226e-04 - val_loss: 4.4324 - val_rec_loss: 8.8563 - val_kl_loss: 0.0084\n",
      "Epoch 247/400\n",
      "814/814 [==============================] - 0s 12us/sample - loss: 3.3762 - rec_loss: 6.7520 - kl_loss: 4.9698e-04 - val_loss: 4.4318 - val_rec_loss: 8.8551 - val_kl_loss: 0.0084\n",
      "Epoch 248/400\n",
      "814/814 [==============================] - 0s 12us/sample - loss: 3.3772 - rec_loss: 6.7539 - kl_loss: 4.9258e-04 - val_loss: 4.4323 - val_rec_loss: 8.8562 - val_kl_loss: 0.0084\n",
      "Epoch 249/400\n",
      "814/814 [==============================] - 0s 14us/sample - loss: 3.3771 - rec_loss: 6.7536 - kl_loss: 5.0381e-04 - val_loss: 4.4324 - val_rec_loss: 8.8564 - val_kl_loss: 0.0084\n",
      "Epoch 250/400\n",
      "814/814 [==============================] - 0s 14us/sample - loss: 3.3782 - rec_loss: 6.7559 - kl_loss: 5.0427e-04 - val_loss: 4.4336 - val_rec_loss: 8.8589 - val_kl_loss: 0.0083\n",
      "Epoch 251/400\n",
      "814/814 [==============================] - 0s 12us/sample - loss: 3.3777 - rec_loss: 6.7548 - kl_loss: 5.2659e-04 - val_loss: 4.4328 - val_rec_loss: 8.8573 - val_kl_loss: 0.0083\n",
      "Epoch 252/400\n",
      "814/814 [==============================] - 0s 12us/sample - loss: 3.3769 - rec_loss: 6.7534 - kl_loss: 5.1935e-04 - val_loss: 4.4327 - val_rec_loss: 8.8571 - val_kl_loss: 0.0084\n",
      "Epoch 253/400\n",
      "814/814 [==============================] - 0s 14us/sample - loss: 3.3772 - rec_loss: 6.7539 - kl_loss: 5.0469e-04 - val_loss: 4.4326 - val_rec_loss: 8.8569 - val_kl_loss: 0.0083\n",
      "Epoch 254/400\n",
      "814/814 [==============================] - 0s 12us/sample - loss: 3.3774 - rec_loss: 6.7543 - kl_loss: 4.9594e-04 - val_loss: 4.4329 - val_rec_loss: 8.8577 - val_kl_loss: 0.0081\n",
      "Epoch 255/400\n",
      "814/814 [==============================] - 0s 12us/sample - loss: 3.3776 - rec_loss: 6.7546 - kl_loss: 4.9754e-04 - val_loss: 4.4323 - val_rec_loss: 8.8565 - val_kl_loss: 0.0081\n",
      "Epoch 256/400\n",
      "814/814 [==============================] - 0s 12us/sample - loss: 3.3772 - rec_loss: 6.7538 - kl_loss: 4.8363e-04 - val_loss: 4.4329 - val_rec_loss: 8.8576 - val_kl_loss: 0.0083\n",
      "Epoch 257/400\n",
      "814/814 [==============================] - 0s 12us/sample - loss: 3.3770 - rec_loss: 6.7535 - kl_loss: 4.9653e-04 - val_loss: 4.4326 - val_rec_loss: 8.8570 - val_kl_loss: 0.0083\n",
      "Epoch 258/400\n",
      "814/814 [==============================] - 0s 12us/sample - loss: 3.3769 - rec_loss: 6.7533 - kl_loss: 5.1030e-04 - val_loss: 4.4312 - val_rec_loss: 8.8542 - val_kl_loss: 0.0082\n",
      "Epoch 259/400\n",
      "814/814 [==============================] - 0s 12us/sample - loss: 3.3770 - rec_loss: 6.7535 - kl_loss: 5.0935e-04 - val_loss: 4.4344 - val_rec_loss: 8.8605 - val_kl_loss: 0.0082\n",
      "Epoch 260/400\n",
      "814/814 [==============================] - 0s 12us/sample - loss: 3.3769 - rec_loss: 6.7534 - kl_loss: 5.2418e-04 - val_loss: 4.4315 - val_rec_loss: 8.8547 - val_kl_loss: 0.0083\n",
      "Epoch 261/400\n",
      "814/814 [==============================] - 0s 12us/sample - loss: 3.3769 - rec_loss: 6.7533 - kl_loss: 5.0021e-04 - val_loss: 4.4337 - val_rec_loss: 8.8591 - val_kl_loss: 0.0082\n",
      "Epoch 262/400\n",
      "814/814 [==============================] - 0s 12us/sample - loss: 3.3770 - rec_loss: 6.7534 - kl_loss: 5.1367e-04 - val_loss: 4.4318 - val_rec_loss: 8.8554 - val_kl_loss: 0.0083\n",
      "Epoch 263/400\n",
      "814/814 [==============================] - 0s 12us/sample - loss: 3.3774 - rec_loss: 6.7542 - kl_loss: 5.1898e-04 - val_loss: 4.4317 - val_rec_loss: 8.8551 - val_kl_loss: 0.0083\n",
      "Epoch 264/400\n",
      "814/814 [==============================] - 0s 12us/sample - loss: 3.3764 - rec_loss: 6.7522 - kl_loss: 5.6103e-04 - val_loss: 4.4337 - val_rec_loss: 8.8592 - val_kl_loss: 0.0082\n",
      "Epoch 265/400\n",
      "814/814 [==============================] - 0s 12us/sample - loss: 3.3768 - rec_loss: 6.7530 - kl_loss: 5.6920e-04 - val_loss: 4.4316 - val_rec_loss: 8.8551 - val_kl_loss: 0.0080\n",
      "Epoch 266/400\n",
      "814/814 [==============================] - 0s 12us/sample - loss: 3.3768 - rec_loss: 6.7530 - kl_loss: 5.4195e-04 - val_loss: 4.4315 - val_rec_loss: 8.8551 - val_kl_loss: 0.0079\n",
      "Epoch 267/400\n",
      "814/814 [==============================] - 0s 12us/sample - loss: 3.3769 - rec_loss: 6.7533 - kl_loss: 5.2077e-04 - val_loss: 4.4334 - val_rec_loss: 8.8588 - val_kl_loss: 0.0079\n",
      "Epoch 268/400\n",
      "814/814 [==============================] - 0s 12us/sample - loss: 3.3760 - rec_loss: 6.7515 - kl_loss: 5.2903e-04 - val_loss: 4.4337 - val_rec_loss: 8.8594 - val_kl_loss: 0.0080\n",
      "Epoch 269/400\n",
      "814/814 [==============================] - 0s 12us/sample - loss: 3.3771 - rec_loss: 6.7536 - kl_loss: 5.4461e-04 - val_loss: 4.4332 - val_rec_loss: 8.8583 - val_kl_loss: 0.0081\n",
      "Epoch 270/400\n",
      "814/814 [==============================] - 0s 12us/sample - loss: 3.3755 - rec_loss: 6.7504 - kl_loss: 5.9227e-04 - val_loss: 4.4324 - val_rec_loss: 8.8567 - val_kl_loss: 0.0081\n",
      "Epoch 271/400\n",
      "814/814 [==============================] - 0s 12us/sample - loss: 3.3772 - rec_loss: 6.7537 - kl_loss: 6.6533e-04 - val_loss: 4.4315 - val_rec_loss: 8.8547 - val_kl_loss: 0.0083\n",
      "Epoch 272/400\n",
      "814/814 [==============================] - 0s 14us/sample - loss: 3.3761 - rec_loss: 6.7515 - kl_loss: 6.6969e-04 - val_loss: 4.4323 - val_rec_loss: 8.8564 - val_kl_loss: 0.0082\n"
     ]
    },
    {
     "name": "stdout",
     "output_type": "stream",
     "text": [
      "Epoch 273/400\n",
      "814/814 [==============================] - 0s 12us/sample - loss: 3.3767 - rec_loss: 6.7527 - kl_loss: 6.0399e-04 - val_loss: 4.4334 - val_rec_loss: 8.8587 - val_kl_loss: 0.0081\n",
      "Epoch 274/400\n",
      "814/814 [==============================] - 0s 12us/sample - loss: 3.3762 - rec_loss: 6.7518 - kl_loss: 5.9341e-04 - val_loss: 4.4319 - val_rec_loss: 8.8557 - val_kl_loss: 0.0081\n",
      "Epoch 275/400\n",
      "814/814 [==============================] - 0s 12us/sample - loss: 3.3766 - rec_loss: 6.7526 - kl_loss: 6.4307e-04 - val_loss: 4.4338 - val_rec_loss: 8.8596 - val_kl_loss: 0.0081\n",
      "Epoch 276/400\n",
      "814/814 [==============================] - 0s 12us/sample - loss: 3.3766 - rec_loss: 6.7526 - kl_loss: 7.3221e-04 - val_loss: 4.4328 - val_rec_loss: 8.8576 - val_kl_loss: 0.0081\n",
      "Epoch 277/400\n",
      "814/814 [==============================] - 0s 12us/sample - loss: 3.3766 - rec_loss: 6.7523 - kl_loss: 7.6741e-04 - val_loss: 4.4335 - val_rec_loss: 8.8590 - val_kl_loss: 0.0081\n",
      "Epoch 278/400\n",
      "814/814 [==============================] - 0s 12us/sample - loss: 3.3773 - rec_loss: 6.7539 - kl_loss: 7.1142e-04 - val_loss: 4.4320 - val_rec_loss: 8.8560 - val_kl_loss: 0.0080\n",
      "Epoch 279/400\n",
      "814/814 [==============================] - 0s 12us/sample - loss: 3.3760 - rec_loss: 6.7513 - kl_loss: 6.7840e-04 - val_loss: 4.4310 - val_rec_loss: 8.8539 - val_kl_loss: 0.0080\n",
      "Epoch 280/400\n",
      "814/814 [==============================] - 0s 12us/sample - loss: 3.3777 - rec_loss: 6.7547 - kl_loss: 7.4407e-04 - val_loss: 4.4335 - val_rec_loss: 8.8590 - val_kl_loss: 0.0079\n",
      "Epoch 281/400\n",
      "814/814 [==============================] - 0s 14us/sample - loss: 3.3773 - rec_loss: 6.7538 - kl_loss: 7.9230e-04 - val_loss: 4.4312 - val_rec_loss: 8.8544 - val_kl_loss: 0.0079\n",
      "Epoch 282/400\n",
      "814/814 [==============================] - 0s 12us/sample - loss: 3.3768 - rec_loss: 6.7528 - kl_loss: 7.6324e-04 - val_loss: 4.4312 - val_rec_loss: 8.8543 - val_kl_loss: 0.0080\n",
      "Epoch 283/400\n",
      "814/814 [==============================] - 0s 12us/sample - loss: 3.3782 - rec_loss: 6.7556 - kl_loss: 7.4754e-04 - val_loss: 4.4330 - val_rec_loss: 8.8578 - val_kl_loss: 0.0081\n",
      "Epoch 284/400\n",
      "814/814 [==============================] - 0s 12us/sample - loss: 3.3759 - rec_loss: 6.7510 - kl_loss: 7.8032e-04 - val_loss: 4.4323 - val_rec_loss: 8.8565 - val_kl_loss: 0.0081\n",
      "Epoch 285/400\n",
      "814/814 [==============================] - 0s 12us/sample - loss: 3.3767 - rec_loss: 6.7526 - kl_loss: 7.8885e-04 - val_loss: 4.4333 - val_rec_loss: 8.8584 - val_kl_loss: 0.0081\n",
      "Epoch 286/400\n",
      "814/814 [==============================] - 0s 12us/sample - loss: 3.3767 - rec_loss: 6.7525 - kl_loss: 8.4646e-04 - val_loss: 4.4334 - val_rec_loss: 8.8587 - val_kl_loss: 0.0081\n",
      "Epoch 287/400\n",
      "814/814 [==============================] - 0s 12us/sample - loss: 3.3765 - rec_loss: 6.7522 - kl_loss: 8.3026e-04 - val_loss: 4.4338 - val_rec_loss: 8.8594 - val_kl_loss: 0.0081\n",
      "Epoch 288/400\n",
      "814/814 [==============================] - 0s 12us/sample - loss: 3.3774 - rec_loss: 6.7539 - kl_loss: 8.4306e-04 - val_loss: 4.4324 - val_rec_loss: 8.8566 - val_kl_loss: 0.0081\n",
      "Epoch 289/400\n",
      "814/814 [==============================] - 0s 12us/sample - loss: 3.3753 - rec_loss: 6.7497 - kl_loss: 8.2723e-04 - val_loss: 4.4324 - val_rec_loss: 8.8568 - val_kl_loss: 0.0080\n",
      "Epoch 290/400\n",
      "814/814 [==============================] - 0s 14us/sample - loss: 3.3767 - rec_loss: 6.7526 - kl_loss: 8.1091e-04 - val_loss: 4.4308 - val_rec_loss: 8.8534 - val_kl_loss: 0.0081\n",
      "Epoch 291/400\n",
      "814/814 [==============================] - 0s 14us/sample - loss: 3.3783 - rec_loss: 6.7558 - kl_loss: 8.4482e-04 - val_loss: 4.4317 - val_rec_loss: 8.8551 - val_kl_loss: 0.0082\n",
      "Epoch 292/400\n",
      "814/814 [==============================] - 0s 12us/sample - loss: 3.3787 - rec_loss: 6.7566 - kl_loss: 7.9091e-04 - val_loss: 4.4329 - val_rec_loss: 8.8577 - val_kl_loss: 0.0081\n",
      "Epoch 293/400\n",
      "814/814 [==============================] - 0s 12us/sample - loss: 3.3763 - rec_loss: 6.7518 - kl_loss: 7.2805e-04 - val_loss: 4.4309 - val_rec_loss: 8.8538 - val_kl_loss: 0.0079\n",
      "Epoch 294/400\n",
      "814/814 [==============================] - 0s 12us/sample - loss: 3.3772 - rec_loss: 6.7537 - kl_loss: 6.4076e-04 - val_loss: 4.4315 - val_rec_loss: 8.8550 - val_kl_loss: 0.0079\n",
      "Epoch 295/400\n",
      "814/814 [==============================] - 0s 12us/sample - loss: 3.3757 - rec_loss: 6.7509 - kl_loss: 5.9978e-04 - val_loss: 4.4323 - val_rec_loss: 8.8565 - val_kl_loss: 0.0080\n",
      "Epoch 296/400\n",
      "814/814 [==============================] - 0s 12us/sample - loss: 3.3776 - rec_loss: 6.7545 - kl_loss: 5.6236e-04 - val_loss: 4.4313 - val_rec_loss: 8.8548 - val_kl_loss: 0.0078\n",
      "Epoch 297/400\n",
      "814/814 [==============================] - 0s 12us/sample - loss: 3.3778 - rec_loss: 6.7551 - kl_loss: 5.8004e-04 - val_loss: 4.4323 - val_rec_loss: 8.8569 - val_kl_loss: 0.0077\n",
      "Epoch 298/400\n",
      "814/814 [==============================] - 0s 12us/sample - loss: 3.3768 - rec_loss: 6.7530 - kl_loss: 5.8589e-04 - val_loss: 4.4321 - val_rec_loss: 8.8564 - val_kl_loss: 0.0077\n",
      "Epoch 299/400\n",
      "814/814 [==============================] - 0s 14us/sample - loss: 3.3773 - rec_loss: 6.7540 - kl_loss: 6.0545e-04 - val_loss: 4.4321 - val_rec_loss: 8.8566 - val_kl_loss: 0.0077\n",
      "Epoch 300/400\n",
      "814/814 [==============================] - 0s 12us/sample - loss: 3.3764 - rec_loss: 6.7522 - kl_loss: 5.8462e-04 - val_loss: 4.4326 - val_rec_loss: 8.8575 - val_kl_loss: 0.0077\n",
      "Epoch 301/400\n",
      "814/814 [==============================] - 0s 12us/sample - loss: 3.3768 - rec_loss: 6.7531 - kl_loss: 5.5726e-04 - val_loss: 4.4340 - val_rec_loss: 8.8602 - val_kl_loss: 0.0079\n",
      "Epoch 302/400\n",
      "814/814 [==============================] - 0s 12us/sample - loss: 3.3764 - rec_loss: 6.7523 - kl_loss: 5.2192e-04 - val_loss: 4.4319 - val_rec_loss: 8.8558 - val_kl_loss: 0.0080\n",
      "Epoch 303/400\n",
      "814/814 [==============================] - 0s 12us/sample - loss: 3.3760 - rec_loss: 6.7514 - kl_loss: 5.5751e-04 - val_loss: 4.4314 - val_rec_loss: 8.8549 - val_kl_loss: 0.0079\n",
      "Epoch 304/400\n",
      "814/814 [==============================] - 0s 12us/sample - loss: 3.3759 - rec_loss: 6.7512 - kl_loss: 5.8612e-04 - val_loss: 4.4321 - val_rec_loss: 8.8564 - val_kl_loss: 0.0078\n",
      "Epoch 305/400\n",
      "814/814 [==============================] - 0s 12us/sample - loss: 3.3767 - rec_loss: 6.7528 - kl_loss: 6.1995e-04 - val_loss: 4.4316 - val_rec_loss: 8.8552 - val_kl_loss: 0.0079\n",
      "Epoch 306/400\n",
      "814/814 [==============================] - 0s 12us/sample - loss: 3.3775 - rec_loss: 6.7545 - kl_loss: 6.0201e-04 - val_loss: 4.4316 - val_rec_loss: 8.8551 - val_kl_loss: 0.0081\n",
      "Epoch 307/400\n",
      "814/814 [==============================] - 0s 12us/sample - loss: 3.3768 - rec_loss: 6.7530 - kl_loss: 5.9365e-04 - val_loss: 4.4323 - val_rec_loss: 8.8566 - val_kl_loss: 0.0081\n",
      "Epoch 308/400\n",
      "814/814 [==============================] - 0s 12us/sample - loss: 3.3760 - rec_loss: 6.7514 - kl_loss: 5.8851e-04 - val_loss: 4.4319 - val_rec_loss: 8.8559 - val_kl_loss: 0.0079\n",
      "Epoch 309/400\n",
      "814/814 [==============================] - 0s 12us/sample - loss: 3.3755 - rec_loss: 6.7505 - kl_loss: 5.8065e-04 - val_loss: 4.4315 - val_rec_loss: 8.8552 - val_kl_loss: 0.0078\n",
      "Epoch 310/400\n",
      "814/814 [==============================] - 0s 12us/sample - loss: 3.3767 - rec_loss: 6.7528 - kl_loss: 5.2819e-04 - val_loss: 4.4324 - val_rec_loss: 8.8569 - val_kl_loss: 0.0079\n",
      "Epoch 311/400\n",
      "814/814 [==============================] - 0s 12us/sample - loss: 3.3770 - rec_loss: 6.7534 - kl_loss: 5.3194e-04 - val_loss: 4.4324 - val_rec_loss: 8.8571 - val_kl_loss: 0.0078\n",
      "Epoch 312/400\n",
      "814/814 [==============================] - 0s 12us/sample - loss: 3.3765 - rec_loss: 6.7524 - kl_loss: 5.8703e-04 - val_loss: 4.4314 - val_rec_loss: 8.8548 - val_kl_loss: 0.0079\n",
      "Epoch 313/400\n",
      "814/814 [==============================] - 0s 12us/sample - loss: 3.3760 - rec_loss: 6.7514 - kl_loss: 6.6511e-04 - val_loss: 4.4332 - val_rec_loss: 8.8584 - val_kl_loss: 0.0080\n",
      "Epoch 314/400\n",
      "814/814 [==============================] - 0s 12us/sample - loss: 3.3770 - rec_loss: 6.7533 - kl_loss: 7.0963e-04 - val_loss: 4.4320 - val_rec_loss: 8.8559 - val_kl_loss: 0.0080\n",
      "Epoch 315/400\n",
      "814/814 [==============================] - 0s 12us/sample - loss: 3.3769 - rec_loss: 6.7531 - kl_loss: 7.2930e-04 - val_loss: 4.4325 - val_rec_loss: 8.8571 - val_kl_loss: 0.0079\n"
     ]
    },
    {
     "name": "stdout",
     "output_type": "stream",
     "text": [
      "Epoch 316/400\n",
      "814/814 [==============================] - 0s 12us/sample - loss: 3.3771 - rec_loss: 6.7535 - kl_loss: 7.6500e-04 - val_loss: 4.4331 - val_rec_loss: 8.8584 - val_kl_loss: 0.0077\n",
      "Epoch 317/400\n",
      "814/814 [==============================] - 0s 12us/sample - loss: 3.3763 - rec_loss: 6.7517 - kl_loss: 8.3091e-04 - val_loss: 4.4336 - val_rec_loss: 8.8592 - val_kl_loss: 0.0079\n",
      "Epoch 318/400\n",
      "814/814 [==============================] - 0s 12us/sample - loss: 3.3766 - rec_loss: 6.7523 - kl_loss: 7.6409e-04 - val_loss: 4.4342 - val_rec_loss: 8.8603 - val_kl_loss: 0.0080\n",
      "Epoch 319/400\n",
      "814/814 [==============================] - 0s 12us/sample - loss: 3.3769 - rec_loss: 6.7530 - kl_loss: 8.0381e-04 - val_loss: 4.4324 - val_rec_loss: 8.8569 - val_kl_loss: 0.0080\n",
      "Epoch 320/400\n",
      "814/814 [==============================] - 0s 12us/sample - loss: 3.3758 - rec_loss: 6.7506 - kl_loss: 9.7342e-04 - val_loss: 4.4356 - val_rec_loss: 8.8633 - val_kl_loss: 0.0078\n",
      "Epoch 321/400\n",
      "814/814 [==============================] - 0s 12us/sample - loss: 3.3771 - rec_loss: 6.7532 - kl_loss: 0.0011 - val_loss: 4.4335 - val_rec_loss: 8.8594 - val_kl_loss: 0.0077\n",
      "Epoch 322/400\n",
      "814/814 [==============================] - 0s 12us/sample - loss: 3.3760 - rec_loss: 6.7510 - kl_loss: 9.7211e-04 - val_loss: 4.4331 - val_rec_loss: 8.8585 - val_kl_loss: 0.0076\n",
      "Epoch 323/400\n",
      "814/814 [==============================] - 0s 14us/sample - loss: 3.3778 - rec_loss: 6.7547 - kl_loss: 9.4911e-04 - val_loss: 4.4325 - val_rec_loss: 8.8574 - val_kl_loss: 0.0076\n",
      "Epoch 324/400\n",
      "814/814 [==============================] - 0s 14us/sample - loss: 3.3748 - rec_loss: 6.7488 - kl_loss: 9.0670e-04 - val_loss: 4.4340 - val_rec_loss: 8.8604 - val_kl_loss: 0.0075\n",
      "Epoch 325/400\n",
      "814/814 [==============================] - 0s 12us/sample - loss: 3.3771 - rec_loss: 6.7532 - kl_loss: 0.0010 - val_loss: 4.4320 - val_rec_loss: 8.8564 - val_kl_loss: 0.0076\n",
      "Epoch 326/400\n",
      "814/814 [==============================] - 0s 12us/sample - loss: 3.3767 - rec_loss: 6.7522 - kl_loss: 0.0011 - val_loss: 4.4337 - val_rec_loss: 8.8597 - val_kl_loss: 0.0077\n",
      "Epoch 327/400\n",
      "814/814 [==============================] - 0s 14us/sample - loss: 3.3772 - rec_loss: 6.7534 - kl_loss: 0.0010 - val_loss: 4.4322 - val_rec_loss: 8.8569 - val_kl_loss: 0.0076\n",
      "Epoch 328/400\n",
      "814/814 [==============================] - 0s 12us/sample - loss: 3.3763 - rec_loss: 6.7516 - kl_loss: 9.6400e-04 - val_loss: 4.4313 - val_rec_loss: 8.8551 - val_kl_loss: 0.0075\n",
      "Epoch 329/400\n",
      "814/814 [==============================] - 0s 12us/sample - loss: 3.3775 - rec_loss: 6.7541 - kl_loss: 8.8630e-04 - val_loss: 4.4315 - val_rec_loss: 8.8554 - val_kl_loss: 0.0076\n",
      "Epoch 330/400\n",
      "814/814 [==============================] - 0s 12us/sample - loss: 3.3768 - rec_loss: 6.7527 - kl_loss: 8.8247e-04 - val_loss: 4.4320 - val_rec_loss: 8.8565 - val_kl_loss: 0.0075\n",
      "Epoch 331/400\n",
      "814/814 [==============================] - 0s 14us/sample - loss: 3.3774 - rec_loss: 6.7538 - kl_loss: 0.0010 - val_loss: 4.4323 - val_rec_loss: 8.8571 - val_kl_loss: 0.0075\n",
      "Epoch 332/400\n",
      "814/814 [==============================] - 0s 14us/sample - loss: 3.3764 - rec_loss: 6.7516 - kl_loss: 0.0011 - val_loss: 4.4314 - val_rec_loss: 8.8553 - val_kl_loss: 0.0075\n",
      "Epoch 333/400\n",
      "814/814 [==============================] - 0s 12us/sample - loss: 3.3769 - rec_loss: 6.7527 - kl_loss: 0.0011 - val_loss: 4.4332 - val_rec_loss: 8.8590 - val_kl_loss: 0.0074\n",
      "Epoch 334/400\n",
      "814/814 [==============================] - 0s 14us/sample - loss: 3.3760 - rec_loss: 6.7511 - kl_loss: 8.8945e-04 - val_loss: 4.4313 - val_rec_loss: 8.8552 - val_kl_loss: 0.0073\n",
      "Epoch 335/400\n",
      "814/814 [==============================] - 0s 14us/sample - loss: 3.3754 - rec_loss: 6.7500 - kl_loss: 7.4731e-04 - val_loss: 4.4329 - val_rec_loss: 8.8585 - val_kl_loss: 0.0073\n",
      "Epoch 336/400\n",
      "814/814 [==============================] - 0s 12us/sample - loss: 3.3766 - rec_loss: 6.7526 - kl_loss: 7.2989e-04 - val_loss: 4.4322 - val_rec_loss: 8.8570 - val_kl_loss: 0.0074\n",
      "Epoch 337/400\n",
      "814/814 [==============================] - 0s 14us/sample - loss: 3.3767 - rec_loss: 6.7527 - kl_loss: 8.1750e-04 - val_loss: 4.4304 - val_rec_loss: 8.8535 - val_kl_loss: 0.0073\n",
      "Epoch 338/400\n",
      "814/814 [==============================] - 0s 14us/sample - loss: 3.3775 - rec_loss: 6.7543 - kl_loss: 8.1049e-04 - val_loss: 4.4301 - val_rec_loss: 8.8528 - val_kl_loss: 0.0074\n",
      "Epoch 339/400\n",
      "814/814 [==============================] - 0s 12us/sample - loss: 3.3763 - rec_loss: 6.7518 - kl_loss: 8.0643e-04 - val_loss: 4.4328 - val_rec_loss: 8.8584 - val_kl_loss: 0.0073\n",
      "Epoch 340/400\n",
      "814/814 [==============================] - 0s 12us/sample - loss: 3.3765 - rec_loss: 6.7523 - kl_loss: 7.4086e-04 - val_loss: 4.4313 - val_rec_loss: 8.8555 - val_kl_loss: 0.0071\n",
      "Epoch 341/400\n",
      "814/814 [==============================] - 0s 12us/sample - loss: 3.3763 - rec_loss: 6.7520 - kl_loss: 6.6023e-04 - val_loss: 4.4314 - val_rec_loss: 8.8558 - val_kl_loss: 0.0070\n",
      "Epoch 342/400\n",
      "814/814 [==============================] - 0s 12us/sample - loss: 3.3772 - rec_loss: 6.7537 - kl_loss: 6.1607e-04 - val_loss: 4.4315 - val_rec_loss: 8.8561 - val_kl_loss: 0.0070\n",
      "Epoch 343/400\n",
      "814/814 [==============================] - 0s 11us/sample - loss: 3.3759 - rec_loss: 6.7511 - kl_loss: 6.4980e-04 - val_loss: 4.4298 - val_rec_loss: 8.8528 - val_kl_loss: 0.0068\n",
      "Epoch 344/400\n",
      "814/814 [==============================] - 0s 12us/sample - loss: 3.3767 - rec_loss: 6.7527 - kl_loss: 7.7360e-04 - val_loss: 4.4325 - val_rec_loss: 8.8582 - val_kl_loss: 0.0067\n",
      "Epoch 345/400\n",
      "814/814 [==============================] - 0s 11us/sample - loss: 3.3757 - rec_loss: 6.7505 - kl_loss: 8.8070e-04 - val_loss: 4.4325 - val_rec_loss: 8.8580 - val_kl_loss: 0.0069\n",
      "Epoch 346/400\n",
      "814/814 [==============================] - 0s 12us/sample - loss: 3.3767 - rec_loss: 6.7524 - kl_loss: 9.0927e-04 - val_loss: 4.4324 - val_rec_loss: 8.8578 - val_kl_loss: 0.0070\n",
      "Epoch 347/400\n",
      "814/814 [==============================] - 0s 11us/sample - loss: 3.3778 - rec_loss: 6.7547 - kl_loss: 9.0311e-04 - val_loss: 4.4314 - val_rec_loss: 8.8555 - val_kl_loss: 0.0072\n",
      "Epoch 348/400\n",
      "814/814 [==============================] - 0s 14us/sample - loss: 3.3766 - rec_loss: 6.7520 - kl_loss: 0.0011 - val_loss: 4.4328 - val_rec_loss: 8.8584 - val_kl_loss: 0.0073\n",
      "Epoch 349/400\n",
      "814/814 [==============================] - 0s 11us/sample - loss: 3.3764 - rec_loss: 6.7515 - kl_loss: 0.0013 - val_loss: 4.4338 - val_rec_loss: 8.8602 - val_kl_loss: 0.0074\n",
      "Epoch 350/400\n",
      "814/814 [==============================] - 0s 12us/sample - loss: 3.3766 - rec_loss: 6.7518 - kl_loss: 0.0013 - val_loss: 4.4311 - val_rec_loss: 8.8549 - val_kl_loss: 0.0074\n",
      "Epoch 351/400\n",
      "814/814 [==============================] - 0s 12us/sample - loss: 3.3768 - rec_loss: 6.7522 - kl_loss: 0.0013 - val_loss: 4.4311 - val_rec_loss: 8.8549 - val_kl_loss: 0.0073\n",
      "Epoch 352/400\n",
      "814/814 [==============================] - 0s 11us/sample - loss: 3.3771 - rec_loss: 6.7531 - kl_loss: 0.0012 - val_loss: 4.4324 - val_rec_loss: 8.8576 - val_kl_loss: 0.0072\n",
      "Epoch 353/400\n",
      "814/814 [==============================] - 0s 12us/sample - loss: 3.3773 - rec_loss: 6.7535 - kl_loss: 0.0010 - val_loss: 4.4346 - val_rec_loss: 8.8618 - val_kl_loss: 0.0074\n",
      "Epoch 354/400\n",
      "814/814 [==============================] - 0s 11us/sample - loss: 3.3768 - rec_loss: 6.7524 - kl_loss: 0.0011 - val_loss: 4.4322 - val_rec_loss: 8.8567 - val_kl_loss: 0.0077\n",
      "Epoch 355/400\n",
      "814/814 [==============================] - 0s 12us/sample - loss: 3.3759 - rec_loss: 6.7505 - kl_loss: 0.0012 - val_loss: 4.4325 - val_rec_loss: 8.8574 - val_kl_loss: 0.0075\n",
      "Epoch 356/400\n",
      "814/814 [==============================] - 0s 11us/sample - loss: 3.3764 - rec_loss: 6.7515 - kl_loss: 0.0012 - val_loss: 4.4310 - val_rec_loss: 8.8548 - val_kl_loss: 0.0072\n",
      "Epoch 357/400\n",
      "814/814 [==============================] - 0s 12us/sample - loss: 3.3764 - rec_loss: 6.7516 - kl_loss: 0.0011 - val_loss: 4.4310 - val_rec_loss: 8.8548 - val_kl_loss: 0.0073\n",
      "Epoch 358/400\n",
      "814/814 [==============================] - 0s 12us/sample - loss: 3.3761 - rec_loss: 6.7514 - kl_loss: 8.8329e-04 - val_loss: 4.4315 - val_rec_loss: 8.8556 - val_kl_loss: 0.0074\n",
      "Epoch 359/400\n"
     ]
    },
    {
     "name": "stdout",
     "output_type": "stream",
     "text": [
      "814/814 [==============================] - 0s 12us/sample - loss: 3.3770 - rec_loss: 6.7532 - kl_loss: 8.8926e-04 - val_loss: 4.4329 - val_rec_loss: 8.8582 - val_kl_loss: 0.0077\n",
      "Epoch 360/400\n",
      "814/814 [==============================] - 0s 12us/sample - loss: 3.3757 - rec_loss: 6.7503 - kl_loss: 0.0011 - val_loss: 4.4339 - val_rec_loss: 8.8598 - val_kl_loss: 0.0079\n",
      "Epoch 361/400\n",
      "814/814 [==============================] - 0s 14us/sample - loss: 3.3739 - rec_loss: 6.7465 - kl_loss: 0.0013 - val_loss: 4.4329 - val_rec_loss: 8.8577 - val_kl_loss: 0.0082\n",
      "Epoch 362/400\n",
      "814/814 [==============================] - 0s 14us/sample - loss: 3.3771 - rec_loss: 6.7529 - kl_loss: 0.0014 - val_loss: 4.4330 - val_rec_loss: 8.8575 - val_kl_loss: 0.0085\n",
      "Epoch 363/400\n",
      "814/814 [==============================] - 0s 14us/sample - loss: 3.3780 - rec_loss: 6.7544 - kl_loss: 0.0015 - val_loss: 4.4339 - val_rec_loss: 8.8595 - val_kl_loss: 0.0083\n",
      "Epoch 364/400\n",
      "814/814 [==============================] - 0s 14us/sample - loss: 3.3775 - rec_loss: 6.7536 - kl_loss: 0.0014 - val_loss: 4.4327 - val_rec_loss: 8.8576 - val_kl_loss: 0.0078\n",
      "Epoch 365/400\n",
      "814/814 [==============================] - 0s 14us/sample - loss: 3.3789 - rec_loss: 6.7566 - kl_loss: 0.0012 - val_loss: 4.4320 - val_rec_loss: 8.8564 - val_kl_loss: 0.0076\n",
      "Epoch 366/400\n",
      "814/814 [==============================] - 0s 12us/sample - loss: 3.3766 - rec_loss: 6.7521 - kl_loss: 9.7004e-04 - val_loss: 4.4322 - val_rec_loss: 8.8568 - val_kl_loss: 0.0077\n",
      "Epoch 367/400\n",
      "814/814 [==============================] - 0s 12us/sample - loss: 3.3762 - rec_loss: 6.7515 - kl_loss: 9.0704e-04 - val_loss: 4.4318 - val_rec_loss: 8.8559 - val_kl_loss: 0.0076\n",
      "Epoch 368/400\n",
      "814/814 [==============================] - 0s 12us/sample - loss: 3.3763 - rec_loss: 6.7517 - kl_loss: 9.7666e-04 - val_loss: 4.4322 - val_rec_loss: 8.8572 - val_kl_loss: 0.0073\n",
      "Epoch 369/400\n",
      "814/814 [==============================] - 0s 12us/sample - loss: 3.3778 - rec_loss: 6.7545 - kl_loss: 0.0010 - val_loss: 4.4335 - val_rec_loss: 8.8598 - val_kl_loss: 0.0072\n",
      "Epoch 370/400\n",
      "814/814 [==============================] - 0s 12us/sample - loss: 3.3757 - rec_loss: 6.7505 - kl_loss: 9.4677e-04 - val_loss: 4.4328 - val_rec_loss: 8.8585 - val_kl_loss: 0.0072\n",
      "Epoch 371/400\n",
      "814/814 [==============================] - 0s 12us/sample - loss: 3.3762 - rec_loss: 6.7516 - kl_loss: 7.7011e-04 - val_loss: 4.4326 - val_rec_loss: 8.8579 - val_kl_loss: 0.0072\n",
      "Epoch 372/400\n",
      "814/814 [==============================] - 0s 12us/sample - loss: 3.3763 - rec_loss: 6.7519 - kl_loss: 6.4614e-04 - val_loss: 4.4320 - val_rec_loss: 8.8569 - val_kl_loss: 0.0071\n",
      "Epoch 373/400\n",
      "814/814 [==============================] - 0s 12us/sample - loss: 3.3766 - rec_loss: 6.7525 - kl_loss: 6.4385e-04 - val_loss: 4.4325 - val_rec_loss: 8.8579 - val_kl_loss: 0.0071\n",
      "Epoch 374/400\n",
      "814/814 [==============================] - 0s 12us/sample - loss: 3.3771 - rec_loss: 6.7535 - kl_loss: 6.3605e-04 - val_loss: 4.4312 - val_rec_loss: 8.8553 - val_kl_loss: 0.0072\n",
      "Epoch 375/400\n",
      "814/814 [==============================] - 0s 14us/sample - loss: 3.3760 - rec_loss: 6.7515 - kl_loss: 6.2276e-04 - val_loss: 4.4310 - val_rec_loss: 8.8548 - val_kl_loss: 0.0071\n",
      "Epoch 376/400\n",
      "814/814 [==============================] - 0s 14us/sample - loss: 3.3764 - rec_loss: 6.7521 - kl_loss: 6.7191e-04 - val_loss: 4.4314 - val_rec_loss: 8.8555 - val_kl_loss: 0.0072\n",
      "Epoch 377/400\n",
      "814/814 [==============================] - 0s 12us/sample - loss: 3.3783 - rec_loss: 6.7559 - kl_loss: 6.8892e-04 - val_loss: 4.4321 - val_rec_loss: 8.8568 - val_kl_loss: 0.0075\n",
      "Epoch 378/400\n",
      "814/814 [==============================] - 0s 12us/sample - loss: 3.3765 - rec_loss: 6.7524 - kl_loss: 5.9460e-04 - val_loss: 4.4318 - val_rec_loss: 8.8562 - val_kl_loss: 0.0073\n",
      "Epoch 379/400\n",
      "814/814 [==============================] - 0s 12us/sample - loss: 3.3766 - rec_loss: 6.7527 - kl_loss: 5.1169e-04 - val_loss: 4.4326 - val_rec_loss: 8.8578 - val_kl_loss: 0.0073\n",
      "Epoch 380/400\n",
      "814/814 [==============================] - 0s 12us/sample - loss: 3.3766 - rec_loss: 6.7528 - kl_loss: 4.9931e-04 - val_loss: 4.4318 - val_rec_loss: 8.8563 - val_kl_loss: 0.0073\n",
      "Epoch 381/400\n",
      "814/814 [==============================] - 0s 12us/sample - loss: 3.3767 - rec_loss: 6.7528 - kl_loss: 5.2280e-04 - val_loss: 4.4307 - val_rec_loss: 8.8541 - val_kl_loss: 0.0073\n",
      "Epoch 382/400\n",
      "814/814 [==============================] - 0s 12us/sample - loss: 3.3764 - rec_loss: 6.7523 - kl_loss: 5.5270e-04 - val_loss: 4.4332 - val_rec_loss: 8.8592 - val_kl_loss: 0.0072\n",
      "Epoch 383/400\n",
      "814/814 [==============================] - 0s 12us/sample - loss: 3.3755 - rec_loss: 6.7503 - kl_loss: 6.2790e-04 - val_loss: 4.4319 - val_rec_loss: 8.8567 - val_kl_loss: 0.0072\n",
      "Epoch 384/400\n",
      "814/814 [==============================] - 0s 12us/sample - loss: 3.3762 - rec_loss: 6.7519 - kl_loss: 6.0028e-04 - val_loss: 4.4311 - val_rec_loss: 8.8550 - val_kl_loss: 0.0071\n",
      "Epoch 385/400\n",
      "814/814 [==============================] - 0s 12us/sample - loss: 3.3755 - rec_loss: 6.7505 - kl_loss: 4.9352e-04 - val_loss: 4.4327 - val_rec_loss: 8.8584 - val_kl_loss: 0.0071\n",
      "Epoch 386/400\n",
      "814/814 [==============================] - 0s 12us/sample - loss: 3.3772 - rec_loss: 6.7539 - kl_loss: 4.9876e-04 - val_loss: 4.4322 - val_rec_loss: 8.8572 - val_kl_loss: 0.0072\n",
      "Epoch 387/400\n",
      "814/814 [==============================] - 0s 12us/sample - loss: 3.3754 - rec_loss: 6.7503 - kl_loss: 5.7799e-04 - val_loss: 4.4312 - val_rec_loss: 8.8553 - val_kl_loss: 0.0071\n",
      "Epoch 388/400\n",
      "814/814 [==============================] - 0s 12us/sample - loss: 3.3763 - rec_loss: 6.7519 - kl_loss: 6.6419e-04 - val_loss: 4.4314 - val_rec_loss: 8.8556 - val_kl_loss: 0.0071\n",
      "Epoch 389/400\n",
      "814/814 [==============================] - 0s 12us/sample - loss: 3.3762 - rec_loss: 6.7517 - kl_loss: 7.3329e-04 - val_loss: 4.4306 - val_rec_loss: 8.8541 - val_kl_loss: 0.0071\n",
      "Epoch 390/400\n",
      "814/814 [==============================] - 0s 12us/sample - loss: 3.3777 - rec_loss: 6.7547 - kl_loss: 6.5961e-04 - val_loss: 4.4318 - val_rec_loss: 8.8566 - val_kl_loss: 0.0071\n",
      "Epoch 391/400\n",
      "814/814 [==============================] - 0s 12us/sample - loss: 3.3756 - rec_loss: 6.7506 - kl_loss: 6.0939e-04 - val_loss: 4.4307 - val_rec_loss: 8.8542 - val_kl_loss: 0.0072\n",
      "Epoch 392/400\n",
      "814/814 [==============================] - 0s 12us/sample - loss: 3.3760 - rec_loss: 6.7515 - kl_loss: 5.8995e-04 - val_loss: 4.4306 - val_rec_loss: 8.8542 - val_kl_loss: 0.0070\n",
      "Epoch 393/400\n",
      "814/814 [==============================] - 0s 12us/sample - loss: 3.3772 - rec_loss: 6.7537 - kl_loss: 6.2578e-04 - val_loss: 4.4325 - val_rec_loss: 8.8580 - val_kl_loss: 0.0070\n",
      "Epoch 394/400\n",
      "814/814 [==============================] - 0s 12us/sample - loss: 3.3752 - rec_loss: 6.7498 - kl_loss: 6.7719e-04 - val_loss: 4.4336 - val_rec_loss: 8.8599 - val_kl_loss: 0.0072\n",
      "Epoch 395/400\n",
      "814/814 [==============================] - 0s 12us/sample - loss: 3.3767 - rec_loss: 6.7526 - kl_loss: 8.4982e-04 - val_loss: 4.4328 - val_rec_loss: 8.8585 - val_kl_loss: 0.0072\n",
      "Epoch 396/400\n",
      "814/814 [==============================] - 0s 12us/sample - loss: 3.3748 - rec_loss: 6.7488 - kl_loss: 8.0397e-04 - val_loss: 4.4322 - val_rec_loss: 8.8574 - val_kl_loss: 0.0070\n",
      "Epoch 397/400\n",
      "814/814 [==============================] - 0s 12us/sample - loss: 3.3766 - rec_loss: 6.7525 - kl_loss: 6.3265e-04 - val_loss: 4.4331 - val_rec_loss: 8.8593 - val_kl_loss: 0.0070\n",
      "Epoch 398/400\n",
      "814/814 [==============================] - 0s 12us/sample - loss: 3.3773 - rec_loss: 6.7541 - kl_loss: 5.2485e-04 - val_loss: 4.4302 - val_rec_loss: 8.8535 - val_kl_loss: 0.0070\n",
      "Epoch 399/400\n",
      "814/814 [==============================] - 0s 12us/sample - loss: 3.3755 - rec_loss: 6.7504 - kl_loss: 5.5047e-04 - val_loss: 4.4312 - val_rec_loss: 8.8554 - val_kl_loss: 0.0069\n",
      "Epoch 400/400\n",
      "814/814 [==============================] - 0s 12us/sample - loss: 3.3775 - rec_loss: 6.7543 - kl_loss: 6.8308e-04 - val_loss: 4.4324 - val_rec_loss: 8.8578 - val_kl_loss: 0.0070\n"
     ]
    }
   ],
   "source": [
    "from tensorflow.keras import metrics\n",
    "history = vae.fit(X_train,X_train,batch_size=batch_size,epochs=epochs,shuffle=True,validation_data=(X_test, X_test))\n"
   ]
  },
  {
   "cell_type": "code",
   "execution_count": 56,
   "id": "814d9af7",
   "metadata": {},
   "outputs": [],
   "source": [
    "# plot loss history\n",
    "loss = history.history['loss']\n",
    "val_loss = history.history['val_loss']"
   ]
  },
  {
   "cell_type": "code",
   "execution_count": 57,
   "id": "d1350e70",
   "metadata": {},
   "outputs": [
    {
     "data": {
      "text/plain": [
       "Text(0.5, 1.0, 'Loss Curves')"
      ]
     },
     "execution_count": 57,
     "metadata": {},
     "output_type": "execute_result"
    },
    {
     "data": {
      "image/png": "[encoded data removed]",
      "text/plain": [
       "<Figure size 864x432 with 1 Axes>"
      ]
     },
     "metadata": {
      "needs_background": "light"
     },
     "output_type": "display_data"
    }
   ],
   "source": [
    "# Loss curve\n",
    "\n",
    "plt.plot(history.history[\"loss\"], \"black\", linewidth=2.0)\n",
    "plt.plot(history.history[\"val_loss\"], \"green\", linewidth=2.0)\n",
    "plt.legend([\"Training Loss\", \"Validation Loss\"], fontsize=14)\n",
    "plt.xlabel(\"Epochs\", fontsize=10)\n",
    "plt.ylabel(\"Loss\", fontsize=10)\n",
    "plt.title(\"Loss Curves\", fontsize=12)"
   ]
  },
  {
   "cell_type": "code",
   "execution_count": null,
   "id": "fc8ccac5",
   "metadata": {},
   "outputs": [],
   "source": []
  },
  {
   "cell_type": "code",
   "execution_count": null,
   "id": "482e37cf",
   "metadata": {},
   "outputs": [],
   "source": []
  }
 ],
 "metadata": {
  "kernelspec": {
   "display_name": "Python 3 (ipykernel)",
   "language": "python",
   "name": "python3"
  },
  "language_info": {
   "codemirror_mode": {
    "name": "ipython",
    "version": 3
   },
   "file_extension": ".py",
   "mimetype": "text/x-python",
   "name": "python",
   "nbconvert_exporter": "python",
   "pygments_lexer": "ipython3",
   "version": "3.9.12"
  }
 },
 "nbformat": 4,
 "nbformat_minor": 5
}
