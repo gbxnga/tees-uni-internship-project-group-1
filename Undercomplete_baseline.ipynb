{
 "cells": [
  {
   "cell_type": "markdown",
   "id": "9556156e",
   "metadata": {},
   "source": [
    "### IMPORT LIBRARIES"
   ]
  },
  {
   "cell_type": "code",
   "execution_count": 1,
   "id": "80e63cc4",
   "metadata": {},
   "outputs": [],
   "source": [
    "import numpy as np\n",
    "import pandas as pd\n",
    "import matplotlib.pyplot as plt\n",
    "import seaborn as sns\n",
    "\n",
    "# scikit-learn\n",
    "from sklearn.manifold import TSNE\n",
    "from sklearn.model_selection import train_test_split\n",
    "\n",
    "\n",
    "\n",
    "# evaluation metrics\n",
    "from sklearn.metrics import classification_report, accuracy_score\n",
    "from sklearn.metrics import average_precision_score\n",
    "from sklearn.metrics import roc_auc_score\n",
    "\n",
    "# scaling\n",
    "from sklearn.preprocessing import StandardScaler\n",
    "from sklearn.preprocessing import LabelEncoder\n",
    "\n",
    "# autoencoder\n",
    "import tensorflow as tf\n",
    "from tensorflow import keras\n",
    "\n",
    "# deep learning\n",
    "from keras.models import Model, Sequential\n",
    "from keras import regularizers\n",
    "from keras.layers import (\n",
    "    Input,\n",
    "    Conv1D,\n",
    "    MaxPooling1D,\n",
    "    Dense,\n",
    "    Flatten,\n",
    "    Dropout,\n",
    "    BatchNormalization,\n",
    ")\n",
    "from keras.optimizers import Adam\n",
    "import tensorflow \n",
    "from tensorflow.keras.layers import Dense\n",
    "from tensorflow.keras.models import Model\n",
    "from tensorflow.keras import models,layers,activations,losses,optimizers,metrics\n",
    "from tensorflow.keras.callbacks import EarlyStopping"
   ]
  },
  {
   "cell_type": "markdown",
   "id": "ef05e488",
   "metadata": {},
   "source": [
    "### LOADING DATASET"
   ]
  },
  {
   "cell_type": "code",
   "execution_count": 2,
   "id": "8504799a",
   "metadata": {},
   "outputs": [],
   "source": [
    "credit_card = pd.read_excel(\"card transactions.xlsx\")"
   ]
  },
  {
   "cell_type": "markdown",
   "id": "b3cc5ca2",
   "metadata": {},
   "source": [
    "### DATA PREPROCESSING "
   ]
  },
  {
   "cell_type": "code",
   "execution_count": 3,
   "id": "f7ba61c3",
   "metadata": {},
   "outputs": [
    {
     "data": {
      "text/plain": [
       "(96753, 10)"
      ]
     },
     "execution_count": 3,
     "metadata": {},
     "output_type": "execute_result"
    }
   ],
   "source": [
    "credit_card.shape"
   ]
  },
  {
   "cell_type": "code",
   "execution_count": 4,
   "id": "c37f3e61",
   "metadata": {
    "scrolled": true
   },
   "outputs": [
    {
     "name": "stdout",
     "output_type": "stream",
     "text": [
      "<class 'pandas.core.frame.DataFrame'>\n",
      "RangeIndex: 96753 entries, 0 to 96752\n",
      "Data columns (total 10 columns):\n",
      " #   Column             Non-Null Count  Dtype         \n",
      "---  ------             --------------  -----         \n",
      " 0   Recnum             96753 non-null  int64         \n",
      " 1   Cardnum            96753 non-null  int64         \n",
      " 2   Date               96753 non-null  datetime64[ns]\n",
      " 3   Merchnum           93378 non-null  object        \n",
      " 4   Merch description  96753 non-null  object        \n",
      " 5   Merch state        95558 non-null  object        \n",
      " 6   Merch zip          92097 non-null  float64       \n",
      " 7   Transtype          96753 non-null  object        \n",
      " 8   Amount             96753 non-null  float64       \n",
      " 9   Fraud              96753 non-null  int64         \n",
      "dtypes: datetime64[ns](1), float64(2), int64(3), object(4)\n",
      "memory usage: 7.4+ MB\n"
     ]
    }
   ],
   "source": [
    "credit_card.info()"
   ]
  },
  {
   "cell_type": "markdown",
   "id": "9b408817",
   "metadata": {},
   "source": [
    "### EXTRACT DAY AND MONTH FOR FURTHER ANALYSIS"
   ]
  },
  {
   "cell_type": "code",
   "execution_count": 5,
   "id": "1eeb6e74",
   "metadata": {},
   "outputs": [],
   "source": [
    "day =pd.to_datetime(credit_card['Date']).dt.dayofweek\n",
    "month =pd.to_datetime(credit_card['Date']).dt.month\n",
    "credit_card.insert(1, 'day', day)\n",
    "credit_card.insert(2, 'month', month)"
   ]
  },
  {
   "cell_type": "markdown",
   "id": "022c42dd",
   "metadata": {},
   "source": [
    "### DELETING IRRELEVANT COLUMNS"
   ]
  },
  {
   "cell_type": "code",
   "execution_count": 6,
   "id": "08d006a3",
   "metadata": {},
   "outputs": [],
   "source": [
    "credit_card = credit_card.drop('Date', axis = 1)\n",
    "credit_card = credit_card.drop('Recnum', axis = 1)\n",
    "credit_card = credit_card.drop('Transtype', axis = 1)\n",
    "credit_card = credit_card.drop('Merch zip', axis = 1)"
   ]
  },
  {
   "cell_type": "markdown",
   "id": "50c70308",
   "metadata": {},
   "source": [
    "### CHECKING FOR NULL VALUES"
   ]
  },
  {
   "cell_type": "code",
   "execution_count": 7,
   "id": "4eb0f834",
   "metadata": {
    "scrolled": true
   },
   "outputs": [
    {
     "data": {
      "text/plain": [
       "day                     0\n",
       "month                   0\n",
       "Cardnum                 0\n",
       "Merchnum             3375\n",
       "Merch description       0\n",
       "Merch state          1195\n",
       "Amount                  0\n",
       "Fraud                   0\n",
       "dtype: int64"
      ]
     },
     "execution_count": 7,
     "metadata": {},
     "output_type": "execute_result"
    }
   ],
   "source": [
    "credit_card.isnull().sum()"
   ]
  },
  {
   "cell_type": "markdown",
   "id": "a140c6c6",
   "metadata": {},
   "source": [
    "### DROP THE NULL VALUES"
   ]
  },
  {
   "cell_type": "code",
   "execution_count": 8,
   "id": "bcf38ad2",
   "metadata": {},
   "outputs": [],
   "source": [
    "credit_card['Merchnum'] = credit_card['Merchnum'].dropna()\n",
    "credit_card['Merch state'] = credit_card['Merch state'].dropna()"
   ]
  },
  {
   "cell_type": "code",
   "execution_count": 9,
   "id": "ac2fa03c",
   "metadata": {},
   "outputs": [
    {
     "data": {
      "text/plain": [
       "day                     0\n",
       "month                   0\n",
       "Cardnum                 0\n",
       "Merchnum             3375\n",
       "Merch description       0\n",
       "Merch state          1195\n",
       "Amount                  0\n",
       "Fraud                   0\n",
       "dtype: int64"
      ]
     },
     "execution_count": 9,
     "metadata": {},
     "output_type": "execute_result"
    }
   ],
   "source": [
    "credit_card.isnull().sum()"
   ]
  },
  {
   "cell_type": "code",
   "execution_count": 10,
   "id": "97a4841f",
   "metadata": {},
   "outputs": [
    {
     "data": {
      "text/html": [
       "<div>\n",
       "<style scoped>\n",
       "    .dataframe tbody tr th:only-of-type {\n",
       "        vertical-align: middle;\n",
       "    }\n",
       "\n",
       "    .dataframe tbody tr th {\n",
       "        vertical-align: top;\n",
       "    }\n",
       "\n",
       "    .dataframe thead th {\n",
       "        text-align: right;\n",
       "    }\n",
       "</style>\n",
       "<table border=\"1\" class=\"dataframe\">\n",
       "  <thead>\n",
       "    <tr style=\"text-align: right;\">\n",
       "      <th></th>\n",
       "      <th>day</th>\n",
       "      <th>month</th>\n",
       "      <th>Amount</th>\n",
       "    </tr>\n",
       "  </thead>\n",
       "  <tbody>\n",
       "    <tr>\n",
       "      <th>count</th>\n",
       "      <td>96753.000000</td>\n",
       "      <td>96753.000000</td>\n",
       "      <td>9.675300e+04</td>\n",
       "    </tr>\n",
       "    <tr>\n",
       "      <th>mean</th>\n",
       "      <td>2.563218</td>\n",
       "      <td>6.327215</td>\n",
       "      <td>4.278857e+02</td>\n",
       "    </tr>\n",
       "    <tr>\n",
       "      <th>std</th>\n",
       "      <td>2.101681</td>\n",
       "      <td>3.241349</td>\n",
       "      <td>1.000614e+04</td>\n",
       "    </tr>\n",
       "    <tr>\n",
       "      <th>min</th>\n",
       "      <td>0.000000</td>\n",
       "      <td>1.000000</td>\n",
       "      <td>1.000000e-02</td>\n",
       "    </tr>\n",
       "    <tr>\n",
       "      <th>25%</th>\n",
       "      <td>1.000000</td>\n",
       "      <td>4.000000</td>\n",
       "      <td>3.348000e+01</td>\n",
       "    </tr>\n",
       "    <tr>\n",
       "      <th>50%</th>\n",
       "      <td>2.000000</td>\n",
       "      <td>6.000000</td>\n",
       "      <td>1.379800e+02</td>\n",
       "    </tr>\n",
       "    <tr>\n",
       "      <th>75%</th>\n",
       "      <td>5.000000</td>\n",
       "      <td>9.000000</td>\n",
       "      <td>4.282000e+02</td>\n",
       "    </tr>\n",
       "    <tr>\n",
       "      <th>max</th>\n",
       "      <td>6.000000</td>\n",
       "      <td>12.000000</td>\n",
       "      <td>3.102046e+06</td>\n",
       "    </tr>\n",
       "  </tbody>\n",
       "</table>\n",
       "</div>"
      ],
      "text/plain": [
       "                day         month        Amount\n",
       "count  96753.000000  96753.000000  9.675300e+04\n",
       "mean       2.563218      6.327215  4.278857e+02\n",
       "std        2.101681      3.241349  1.000614e+04\n",
       "min        0.000000      1.000000  1.000000e-02\n",
       "25%        1.000000      4.000000  3.348000e+01\n",
       "50%        2.000000      6.000000  1.379800e+02\n",
       "75%        5.000000      9.000000  4.282000e+02\n",
       "max        6.000000     12.000000  3.102046e+06"
      ]
     },
     "execution_count": 10,
     "metadata": {},
     "output_type": "execute_result"
    }
   ],
   "source": [
    "credit_card[['day', 'month','Amount']].describe()"
   ]
  },
  {
   "cell_type": "markdown",
   "id": "62d63d68",
   "metadata": {},
   "source": [
    "### UNIQUE VALUES"
   ]
  },
  {
   "cell_type": "code",
   "execution_count": 11,
   "id": "c7c400a8",
   "metadata": {},
   "outputs": [
    {
     "data": {
      "text/plain": [
       "{'day': 7,\n",
       " 'month': 12,\n",
       " 'Cardnum': 1645,\n",
       " 'Merchnum': 13092,\n",
       " 'Merch description': 13126,\n",
       " 'Merch state': 228,\n",
       " 'Amount': 34909,\n",
       " 'Fraud': 2}"
      ]
     },
     "execution_count": 11,
     "metadata": {},
     "output_type": "execute_result"
    }
   ],
   "source": [
    "dict_unique = {}\n",
    "for i in credit_card.columns.to_list():\n",
    "    dict_unique[i]=len(credit_card[i].unique())\n",
    "dict_unique"
   ]
  },
  {
   "cell_type": "markdown",
   "id": "df484be8",
   "metadata": {},
   "source": [
    "### CHECKING FOR DUPLICATES"
   ]
  },
  {
   "cell_type": "code",
   "execution_count": 12,
   "id": "1b192349",
   "metadata": {},
   "outputs": [
    {
     "data": {
      "text/plain": [
       "6898"
      ]
     },
     "execution_count": 12,
     "metadata": {},
     "output_type": "execute_result"
    }
   ],
   "source": [
    "credit_card.duplicated().sum()"
   ]
  },
  {
   "cell_type": "markdown",
   "id": "b8491b40",
   "metadata": {},
   "source": [
    "### STATISTICS SUMMARY"
   ]
  },
  {
   "cell_type": "code",
   "execution_count": 13,
   "id": "08ca4503",
   "metadata": {},
   "outputs": [
    {
     "data": {
      "text/html": [
       "<div>\n",
       "<style scoped>\n",
       "    .dataframe tbody tr th:only-of-type {\n",
       "        vertical-align: middle;\n",
       "    }\n",
       "\n",
       "    .dataframe tbody tr th {\n",
       "        vertical-align: top;\n",
       "    }\n",
       "\n",
       "    .dataframe thead th {\n",
       "        text-align: right;\n",
       "    }\n",
       "</style>\n",
       "<table border=\"1\" class=\"dataframe\">\n",
       "  <thead>\n",
       "    <tr style=\"text-align: right;\">\n",
       "      <th></th>\n",
       "      <th>day</th>\n",
       "      <th>month</th>\n",
       "      <th>Cardnum</th>\n",
       "      <th>Amount</th>\n",
       "      <th>Fraud</th>\n",
       "    </tr>\n",
       "  </thead>\n",
       "  <tbody>\n",
       "    <tr>\n",
       "      <th>count</th>\n",
       "      <td>96753.000000</td>\n",
       "      <td>96753.000000</td>\n",
       "      <td>9.675300e+04</td>\n",
       "      <td>9.675300e+04</td>\n",
       "      <td>96753.000000</td>\n",
       "    </tr>\n",
       "    <tr>\n",
       "      <th>mean</th>\n",
       "      <td>2.563218</td>\n",
       "      <td>6.327215</td>\n",
       "      <td>5.142202e+09</td>\n",
       "      <td>4.278857e+02</td>\n",
       "      <td>0.010945</td>\n",
       "    </tr>\n",
       "    <tr>\n",
       "      <th>std</th>\n",
       "      <td>2.101681</td>\n",
       "      <td>3.241349</td>\n",
       "      <td>5.567084e+04</td>\n",
       "      <td>1.000614e+04</td>\n",
       "      <td>0.104047</td>\n",
       "    </tr>\n",
       "    <tr>\n",
       "      <th>min</th>\n",
       "      <td>0.000000</td>\n",
       "      <td>1.000000</td>\n",
       "      <td>5.142110e+09</td>\n",
       "      <td>1.000000e-02</td>\n",
       "      <td>0.000000</td>\n",
       "    </tr>\n",
       "    <tr>\n",
       "      <th>25%</th>\n",
       "      <td>1.000000</td>\n",
       "      <td>4.000000</td>\n",
       "      <td>5.142152e+09</td>\n",
       "      <td>3.348000e+01</td>\n",
       "      <td>0.000000</td>\n",
       "    </tr>\n",
       "    <tr>\n",
       "      <th>50%</th>\n",
       "      <td>2.000000</td>\n",
       "      <td>6.000000</td>\n",
       "      <td>5.142196e+09</td>\n",
       "      <td>1.379800e+02</td>\n",
       "      <td>0.000000</td>\n",
       "    </tr>\n",
       "    <tr>\n",
       "      <th>75%</th>\n",
       "      <td>5.000000</td>\n",
       "      <td>9.000000</td>\n",
       "      <td>5.142246e+09</td>\n",
       "      <td>4.282000e+02</td>\n",
       "      <td>0.000000</td>\n",
       "    </tr>\n",
       "    <tr>\n",
       "      <th>max</th>\n",
       "      <td>6.000000</td>\n",
       "      <td>12.000000</td>\n",
       "      <td>5.142847e+09</td>\n",
       "      <td>3.102046e+06</td>\n",
       "      <td>1.000000</td>\n",
       "    </tr>\n",
       "  </tbody>\n",
       "</table>\n",
       "</div>"
      ],
      "text/plain": [
       "                day         month       Cardnum        Amount         Fraud\n",
       "count  96753.000000  96753.000000  9.675300e+04  9.675300e+04  96753.000000\n",
       "mean       2.563218      6.327215  5.142202e+09  4.278857e+02      0.010945\n",
       "std        2.101681      3.241349  5.567084e+04  1.000614e+04      0.104047\n",
       "min        0.000000      1.000000  5.142110e+09  1.000000e-02      0.000000\n",
       "25%        1.000000      4.000000  5.142152e+09  3.348000e+01      0.000000\n",
       "50%        2.000000      6.000000  5.142196e+09  1.379800e+02      0.000000\n",
       "75%        5.000000      9.000000  5.142246e+09  4.282000e+02      0.000000\n",
       "max        6.000000     12.000000  5.142847e+09  3.102046e+06      1.000000"
      ]
     },
     "execution_count": 13,
     "metadata": {},
     "output_type": "execute_result"
    }
   ],
   "source": [
    "credit_card.describe()"
   ]
  },
  {
   "cell_type": "markdown",
   "id": "4b70a24b",
   "metadata": {},
   "source": [
    "### EXPLORING THE DATASET"
   ]
  },
  {
   "cell_type": "code",
   "execution_count": 14,
   "id": "5163db68",
   "metadata": {
    "scrolled": false
   },
   "outputs": [
    {
     "data": {
      "image/png": "[encoded data removed]",
      "text/plain": [
       "<Figure size 864x432 with 1 Axes>"
      ]
     },
     "metadata": {
      "needs_background": "light"
     },
     "output_type": "display_data"
    },
    {
     "data": {
      "image/png": "[encoded data removed]",
      "text/plain": [
       "<Figure size 864x432 with 1 Axes>"
      ]
     },
     "metadata": {
      "needs_background": "light"
     },
     "output_type": "display_data"
    },
    {
     "data": {
      "image/png": "[encoded data removed]",
      "text/plain": [
       "<Figure size 864x432 with 1 Axes>"
      ]
     },
     "metadata": {
      "needs_background": "light"
     },
     "output_type": "display_data"
    },
    {
     "data": {
      "image/png": "[encoded data removed]",
      "text/plain": [
       "<Figure size 864x432 with 1 Axes>"
      ]
     },
     "metadata": {
      "needs_background": "light"
     },
     "output_type": "display_data"
    },
    {
     "data": {
      "image/png": "[encoded data removed]",
      "text/plain": [
       "<Figure size 864x432 with 1 Axes>"
      ]
     },
     "metadata": {
      "needs_background": "light"
     },
     "output_type": "display_data"
    },
    {
     "data": {
      "image/png": "[encoded data removed]",
      "text/plain": [
       "<Figure size 864x432 with 1 Axes>"
      ]
     },
     "metadata": {
      "needs_background": "light"
     },
     "output_type": "display_data"
    },
    {
     "data": {
      "image/png": "[encoded data removed]",
      "text/plain": [
       "<Figure size 864x432 with 1 Axes>"
      ]
     },
     "metadata": {
      "needs_background": "light"
     },
     "output_type": "display_data"
    },
    {
     "data": {
      "image/png": "[encoded data removed]",
      "text/plain": [
       "<Figure size 864x432 with 1 Axes>"
      ]
     },
     "metadata": {
      "needs_background": "light"
     },
     "output_type": "display_data"
    }
   ],
   "source": [
    "categoricalVar = credit_card.columns.tolist()\n",
    "for col in categoricalVar:\n",
    "    df = pd.DataFrame(credit_card[col].value_counts().sort_values(ascending=False).head(20))\n",
    "    df.plot(kind='bar',figsize=(12,6))\n",
    "    plt.xlabel(col,fontsize=15)\n",
    "    plt.ylabel('Frequency',fontsize=15)\n",
    "    plt.xticks(fontsize=12)"
   ]
  },
  {
   "cell_type": "markdown",
   "id": "cccbaed7",
   "metadata": {},
   "source": [
    "### CORRELATION ANALYSIS"
   ]
  },
  {
   "cell_type": "code",
   "execution_count": 15,
   "id": "787b7bf7",
   "metadata": {},
   "outputs": [
    {
     "data": {
      "image/png": "[encoded data removed]",
      "text/plain": [
       "<Figure size 432x288 with 2 Axes>"
      ]
     },
     "metadata": {
      "needs_background": "light"
     },
     "output_type": "display_data"
    }
   ],
   "source": [
    "plt.title('Pearson Correlation Matrix')\n",
    "sns.heatmap(credit_card.corr(),linewidths=0.25,vmax=0.7,square=True,cmap=\"winter\",\n",
    "            linecolor='w',annot=True);"
   ]
  },
  {
   "cell_type": "markdown",
   "id": "cac4223a",
   "metadata": {},
   "source": [
    "The correlation plot shows no presence of multi collinearity amongst the features. All of these features does not show high correlation with the target class"
   ]
  },
  {
   "cell_type": "markdown",
   "id": "06d09423",
   "metadata": {},
   "source": [
    "### DISTRIBUTION OF TARGET CLASS"
   ]
  },
  {
   "cell_type": "code",
   "execution_count": 16,
   "id": "2507425b",
   "metadata": {},
   "outputs": [
    {
     "data": {
      "image/png": "[encoded data removed]",
      "text/plain": [
       "<Figure size 720x432 with 1 Axes>"
      ]
     },
     "metadata": {},
     "output_type": "display_data"
    }
   ],
   "source": [
    "plt.figure(figsize=(10,6))\n",
    "labels = ['Not Fraud' , 'Frauds']\n",
    "explode = [.01,.01]\n",
    "color = ['skyblue' , 'Red']\n",
    "sizes = credit_card.Fraud.value_counts().values\n",
    "\n",
    "plt.pie(sizes,explode,labels,autopct=\"%1.1f%%\", colors = color)\n",
    "plt.show()"
   ]
  },
  {
   "cell_type": "markdown",
   "id": "65c7a279",
   "metadata": {},
   "source": [
    "The pie chart shows highly imbalanced dataset. "
   ]
  },
  {
   "cell_type": "code",
   "execution_count": 17,
   "id": "e4b15b23",
   "metadata": {
    "scrolled": true
   },
   "outputs": [
    {
     "data": {
      "text/plain": [
       "<matplotlib.legend.Legend at 0x1cc05e181f0>"
      ]
     },
     "execution_count": 17,
     "metadata": {},
     "output_type": "execute_result"
    },
    {
     "data": {
      "image/png": "[encoded data removed]",
      "text/plain": [
       "<Figure size 432x288 with 1 Axes>"
      ]
     },
     "metadata": {
      "needs_background": "light"
     },
     "output_type": "display_data"
    }
   ],
   "source": [
    "ax=sns.histplot(x='Amount',data=credit_card[credit_card.Amount<=1000],\n",
    "                hue='Fraud',stat='percent',multiple='dodge',common_norm=False,bins=25)\n",
    "ax.set_ylabel('Percentage in Each Type')\n",
    "ax.set_xlabel('Transaction Amount ')\n",
    "plt.legend(title='Type', labels=['Fraud', 'Not Fraud'])"
   ]
  },
  {
   "cell_type": "markdown",
   "id": "ae892f1a",
   "metadata": {},
   "source": [
    "### STATE VS FRAUD : let's also explore which geographies are more prone to fraud. "
   ]
  },
  {
   "cell_type": "code",
   "execution_count": 18,
   "id": "92790004",
   "metadata": {},
   "outputs": [
    {
     "data": {
      "text/plain": [
       "Text(0.5, 1.0, 'The Percentage of Fraudulent over Non-Fraudulent Transcations in Each State')"
      ]
     },
     "execution_count": 18,
     "metadata": {},
     "output_type": "execute_result"
    },
    {
     "data": {
      "image/png": "[encoded data removed]",
      "text/plain": [
       "<Figure size 432x288 with 1 Axes>"
      ]
     },
     "metadata": {
      "needs_background": "light"
     },
     "output_type": "display_data"
    }
   ],
   "source": [
    "a=credit_card['Merch state'][credit_card.Fraud==0].value_counts(normalize=True)\n",
    "a=a.to_frame()\n",
    "a=a.reset_index()\n",
    "a.columns = ['Merch state', 'Per']\n",
    "\n",
    "b=credit_card['Merch state'][credit_card.Fraud==1].value_counts(normalize=True)\n",
    "b=b.to_frame()\n",
    "b=b.reset_index()\n",
    "b.columns = ['Merch state', 'Per']\n",
    "\n",
    "merged=a.merge(b,on='Merch state')\n",
    "merged['diff']=merged['Per_y']-merged['Per_x']\n",
    "merged['diff']=merged['diff']*100\n",
    "merged=merged.sort_values('diff',ascending=False)\n",
    "\n",
    "ax1=sns.barplot(data=merged, x='diff',y='Merch state')\n",
    "ax1.set_xlabel('Percentage Difference')\n",
    "ax1.set_ylabel('Merch state')\n",
    "plt.title('The Percentage of Fraudulent over Non-Fraudulent Transcations in Each State')"
   ]
  },
  {
   "cell_type": "markdown",
   "id": "d81f51b0",
   "metadata": {},
   "source": [
    "### Monthly trends"
   ]
  },
  {
   "cell_type": "code",
   "execution_count": 19,
   "id": "f94a701f",
   "metadata": {},
   "outputs": [
    {
     "data": {
      "text/plain": [
       "<matplotlib.legend.Legend at 0x1cc0504cee0>"
      ]
     },
     "execution_count": 19,
     "metadata": {},
     "output_type": "execute_result"
    },
    {
     "data": {
      "image/png": "[encoded data removed]",
      "text/plain": [
       "<Figure size 432x288 with 1 Axes>"
      ]
     },
     "metadata": {
      "needs_background": "light"
     },
     "output_type": "display_data"
    }
   ],
   "source": [
    "#month vs fraud\n",
    "ax=sns.histplot(data=credit_card, x=\"month\", hue=\"Fraud\", common_norm=False,stat='percent',multiple='dodge')\n",
    "ax.set_ylabel('Percentage')\n",
    "ax.set_xlabel('Month')\n",
    "plt.xticks(np.arange(1,13,1))\n",
    "ax.set_xticklabels([\"Jan\",\"Feb\",\"Mar\",\"Apr\",\"May\",\"Jun\",\"Jul\",'Aug','Sep','Oct','Nov','Dec'])\n",
    "plt.legend(title='Type', labels=['Fraud', 'Not Fraud'])"
   ]
  },
  {
   "cell_type": "markdown",
   "id": "96f524fd",
   "metadata": {},
   "source": [
    "### Daily trend"
   ]
  },
  {
   "cell_type": "code",
   "execution_count": 20,
   "id": "a9b4e730",
   "metadata": {},
   "outputs": [
    {
     "name": "stderr",
     "output_type": "stream",
     "text": [
      "C:\\Users\\Home\\AppData\\Local\\Temp\\ipykernel_19140\\3150562307.py:2: UserWarning: FixedFormatter should only be used together with FixedLocator\n",
      "  ax.set_xticklabels(['',\"Mon\",\"Tue\",\"Wed\",\"Thu\",\"Fri\",\"Sat\",\"Sun\"])\n"
     ]
    },
    {
     "data": {
      "text/plain": [
       "<matplotlib.legend.Legend at 0x1cc04effaf0>"
      ]
     },
     "execution_count": 20,
     "metadata": {},
     "output_type": "execute_result"
    },
    {
     "data": {
      "image/png": "[encoded data removed]",
      "text/plain": [
       "<Figure size 432x288 with 1 Axes>"
      ]
     },
     "metadata": {
      "needs_background": "light"
     },
     "output_type": "display_data"
    }
   ],
   "source": [
    "ax=sns.histplot(data = credit_card, x=\"day\", hue=\"Fraud\", common_norm=False,stat='percent',multiple='dodge')\n",
    "ax.set_xticklabels(['',\"Mon\",\"Tue\",\"Wed\",\"Thu\",\"Fri\",\"Sat\",\"Sun\"])\n",
    "ax.set_ylabel('Percentage')\n",
    "ax.set_xlabel('Day')\n",
    "plt.legend(title='Type', labels=['Fraud', 'Not Fraud'])"
   ]
  },
  {
   "cell_type": "markdown",
   "id": "9b71f4ff",
   "metadata": {},
   "source": [
    "### ENCODING INDEPENDENT VARIABLE"
   ]
  },
  {
   "cell_type": "code",
   "execution_count": 21,
   "id": "decc6174",
   "metadata": {},
   "outputs": [
    {
     "data": {
      "text/html": [
       "<div>\n",
       "<style scoped>\n",
       "    .dataframe tbody tr th:only-of-type {\n",
       "        vertical-align: middle;\n",
       "    }\n",
       "\n",
       "    .dataframe tbody tr th {\n",
       "        vertical-align: top;\n",
       "    }\n",
       "\n",
       "    .dataframe thead th {\n",
       "        text-align: right;\n",
       "    }\n",
       "</style>\n",
       "<table border=\"1\" class=\"dataframe\">\n",
       "  <thead>\n",
       "    <tr style=\"text-align: right;\">\n",
       "      <th></th>\n",
       "      <th>day</th>\n",
       "      <th>month</th>\n",
       "      <th>Cardnum</th>\n",
       "      <th>Merchnum</th>\n",
       "      <th>Merch description</th>\n",
       "      <th>Merch state</th>\n",
       "      <th>Amount</th>\n",
       "      <th>Fraud</th>\n",
       "    </tr>\n",
       "  </thead>\n",
       "  <tbody>\n",
       "    <tr>\n",
       "      <th>0</th>\n",
       "      <td>4</td>\n",
       "      <td>1</td>\n",
       "      <td>5142190439</td>\n",
       "      <td>4975</td>\n",
       "      <td>4594</td>\n",
       "      <td>217</td>\n",
       "      <td>3.62</td>\n",
       "      <td>0</td>\n",
       "    </tr>\n",
       "    <tr>\n",
       "      <th>1</th>\n",
       "      <td>4</td>\n",
       "      <td>1</td>\n",
       "      <td>5142183973</td>\n",
       "      <td>6735</td>\n",
       "      <td>10393</td>\n",
       "      <td>189</td>\n",
       "      <td>31.42</td>\n",
       "      <td>0</td>\n",
       "    </tr>\n",
       "    <tr>\n",
       "      <th>2</th>\n",
       "      <td>4</td>\n",
       "      <td>1</td>\n",
       "      <td>5142131721</td>\n",
       "      <td>3340</td>\n",
       "      <td>8454</td>\n",
       "      <td>191</td>\n",
       "      <td>178.49</td>\n",
       "      <td>0</td>\n",
       "    </tr>\n",
       "    <tr>\n",
       "      <th>3</th>\n",
       "      <td>4</td>\n",
       "      <td>1</td>\n",
       "      <td>5142148452</td>\n",
       "      <td>4975</td>\n",
       "      <td>4598</td>\n",
       "      <td>217</td>\n",
       "      <td>3.62</td>\n",
       "      <td>0</td>\n",
       "    </tr>\n",
       "    <tr>\n",
       "      <th>4</th>\n",
       "      <td>4</td>\n",
       "      <td>1</td>\n",
       "      <td>5142190439</td>\n",
       "      <td>4975</td>\n",
       "      <td>4594</td>\n",
       "      <td>217</td>\n",
       "      <td>3.62</td>\n",
       "      <td>0</td>\n",
       "    </tr>\n",
       "    <tr>\n",
       "      <th>...</th>\n",
       "      <td>...</td>\n",
       "      <td>...</td>\n",
       "      <td>...</td>\n",
       "      <td>...</td>\n",
       "      <td>...</td>\n",
       "      <td>...</td>\n",
       "      <td>...</td>\n",
       "      <td>...</td>\n",
       "    </tr>\n",
       "    <tr>\n",
       "      <th>96748</th>\n",
       "      <td>4</td>\n",
       "      <td>12</td>\n",
       "      <td>5142276053</td>\n",
       "      <td>2241</td>\n",
       "      <td>1534</td>\n",
       "      <td>187</td>\n",
       "      <td>84.79</td>\n",
       "      <td>0</td>\n",
       "    </tr>\n",
       "    <tr>\n",
       "      <th>96749</th>\n",
       "      <td>4</td>\n",
       "      <td>12</td>\n",
       "      <td>5142225701</td>\n",
       "      <td>9925</td>\n",
       "      <td>7247</td>\n",
       "      <td>207</td>\n",
       "      <td>118.75</td>\n",
       "      <td>0</td>\n",
       "    </tr>\n",
       "    <tr>\n",
       "      <th>96750</th>\n",
       "      <td>4</td>\n",
       "      <td>12</td>\n",
       "      <td>5142226486</td>\n",
       "      <td>3226</td>\n",
       "      <td>11299</td>\n",
       "      <td>207</td>\n",
       "      <td>363.56</td>\n",
       "      <td>0</td>\n",
       "    </tr>\n",
       "    <tr>\n",
       "      <th>96751</th>\n",
       "      <td>4</td>\n",
       "      <td>12</td>\n",
       "      <td>5142244619</td>\n",
       "      <td>10571</td>\n",
       "      <td>2093</td>\n",
       "      <td>174</td>\n",
       "      <td>2202.03</td>\n",
       "      <td>0</td>\n",
       "    </tr>\n",
       "    <tr>\n",
       "      <th>96752</th>\n",
       "      <td>4</td>\n",
       "      <td>12</td>\n",
       "      <td>5142243247</td>\n",
       "      <td>11477</td>\n",
       "      <td>10959</td>\n",
       "      <td>202</td>\n",
       "      <td>554.64</td>\n",
       "      <td>0</td>\n",
       "    </tr>\n",
       "  </tbody>\n",
       "</table>\n",
       "<p>96753 rows × 8 columns</p>\n",
       "</div>"
      ],
      "text/plain": [
       "       day  month     Cardnum  Merchnum  Merch description  Merch state  \\\n",
       "0        4      1  5142190439      4975               4594          217   \n",
       "1        4      1  5142183973      6735              10393          189   \n",
       "2        4      1  5142131721      3340               8454          191   \n",
       "3        4      1  5142148452      4975               4598          217   \n",
       "4        4      1  5142190439      4975               4594          217   \n",
       "...    ...    ...         ...       ...                ...          ...   \n",
       "96748    4     12  5142276053      2241               1534          187   \n",
       "96749    4     12  5142225701      9925               7247          207   \n",
       "96750    4     12  5142226486      3226              11299          207   \n",
       "96751    4     12  5142244619     10571               2093          174   \n",
       "96752    4     12  5142243247     11477              10959          202   \n",
       "\n",
       "        Amount  Fraud  \n",
       "0         3.62      0  \n",
       "1        31.42      0  \n",
       "2       178.49      0  \n",
       "3         3.62      0  \n",
       "4         3.62      0  \n",
       "...        ...    ...  \n",
       "96748    84.79      0  \n",
       "96749   118.75      0  \n",
       "96750   363.56      0  \n",
       "96751  2202.03      0  \n",
       "96752   554.64      0  \n",
       "\n",
       "[96753 rows x 8 columns]"
      ]
     },
     "execution_count": 21,
     "metadata": {},
     "output_type": "execute_result"
    }
   ],
   "source": [
    "le = LabelEncoder()\n",
    "credit_card[\"Merchnum\"] = le.fit_transform(credit_card['Merchnum'])\n",
    "credit_card[\"Merch description\"] = le.fit_transform(credit_card['Merch description'])\n",
    "credit_card[\"Merch state\"] = le.fit_transform(credit_card['Merch state'])\n",
    "credit_card"
   ]
  },
  {
   "cell_type": "code",
   "execution_count": 22,
   "id": "6d5ef868",
   "metadata": {},
   "outputs": [
    {
     "name": "stdout",
     "output_type": "stream",
     "text": [
      "<class 'pandas.core.frame.DataFrame'>\n",
      "RangeIndex: 96753 entries, 0 to 96752\n",
      "Data columns (total 8 columns):\n",
      " #   Column             Non-Null Count  Dtype  \n",
      "---  ------             --------------  -----  \n",
      " 0   day                96753 non-null  int64  \n",
      " 1   month              96753 non-null  int64  \n",
      " 2   Cardnum            96753 non-null  int64  \n",
      " 3   Merchnum           96753 non-null  int32  \n",
      " 4   Merch description  96753 non-null  int32  \n",
      " 5   Merch state        96753 non-null  int32  \n",
      " 6   Amount             96753 non-null  float64\n",
      " 7   Fraud              96753 non-null  int64  \n",
      "dtypes: float64(1), int32(3), int64(4)\n",
      "memory usage: 4.8 MB\n"
     ]
    }
   ],
   "source": [
    "credit_card.info()"
   ]
  },
  {
   "cell_type": "markdown",
   "id": "b71a1e49",
   "metadata": {},
   "source": [
    "### FEATURE SCALING "
   ]
  },
  {
   "cell_type": "code",
   "execution_count": 23,
   "id": "00771989",
   "metadata": {},
   "outputs": [
    {
     "data": {
      "text/html": [
       "<div>\n",
       "<style scoped>\n",
       "    .dataframe tbody tr th:only-of-type {\n",
       "        vertical-align: middle;\n",
       "    }\n",
       "\n",
       "    .dataframe tbody tr th {\n",
       "        vertical-align: top;\n",
       "    }\n",
       "\n",
       "    .dataframe thead th {\n",
       "        text-align: right;\n",
       "    }\n",
       "</style>\n",
       "<table border=\"1\" class=\"dataframe\">\n",
       "  <thead>\n",
       "    <tr style=\"text-align: right;\">\n",
       "      <th></th>\n",
       "      <th>day</th>\n",
       "      <th>month</th>\n",
       "      <th>Cardnum</th>\n",
       "      <th>Merchnum</th>\n",
       "      <th>Merch description</th>\n",
       "      <th>Merch state</th>\n",
       "      <th>Amount</th>\n",
       "      <th>Fraud</th>\n",
       "      <th>amount_log</th>\n",
       "      <th>Cardnum_log</th>\n",
       "      <th>Merchnum_log</th>\n",
       "      <th>Merch description_log</th>\n",
       "      <th>Merch state_log</th>\n",
       "    </tr>\n",
       "  </thead>\n",
       "  <tbody>\n",
       "    <tr>\n",
       "      <th>0</th>\n",
       "      <td>4</td>\n",
       "      <td>1</td>\n",
       "      <td>5142190439</td>\n",
       "      <td>4975</td>\n",
       "      <td>4594</td>\n",
       "      <td>217</td>\n",
       "      <td>3.62</td>\n",
       "      <td>0</td>\n",
       "      <td>1.286502</td>\n",
       "      <td>22.360745</td>\n",
       "      <td>8.512181</td>\n",
       "      <td>8.432506</td>\n",
       "      <td>5.379898</td>\n",
       "    </tr>\n",
       "    <tr>\n",
       "      <th>1</th>\n",
       "      <td>4</td>\n",
       "      <td>1</td>\n",
       "      <td>5142183973</td>\n",
       "      <td>6735</td>\n",
       "      <td>10393</td>\n",
       "      <td>189</td>\n",
       "      <td>31.42</td>\n",
       "      <td>0</td>\n",
       "      <td>3.447448</td>\n",
       "      <td>22.360744</td>\n",
       "      <td>8.815073</td>\n",
       "      <td>9.248888</td>\n",
       "      <td>5.241748</td>\n",
       "    </tr>\n",
       "    <tr>\n",
       "      <th>2</th>\n",
       "      <td>4</td>\n",
       "      <td>1</td>\n",
       "      <td>5142131721</td>\n",
       "      <td>3340</td>\n",
       "      <td>8454</td>\n",
       "      <td>191</td>\n",
       "      <td>178.49</td>\n",
       "      <td>0</td>\n",
       "      <td>5.184533</td>\n",
       "      <td>22.360734</td>\n",
       "      <td>8.113726</td>\n",
       "      <td>9.042395</td>\n",
       "      <td>5.252274</td>\n",
       "    </tr>\n",
       "    <tr>\n",
       "      <th>3</th>\n",
       "      <td>4</td>\n",
       "      <td>1</td>\n",
       "      <td>5142148452</td>\n",
       "      <td>4975</td>\n",
       "      <td>4598</td>\n",
       "      <td>217</td>\n",
       "      <td>3.62</td>\n",
       "      <td>0</td>\n",
       "      <td>1.286502</td>\n",
       "      <td>22.360737</td>\n",
       "      <td>8.512181</td>\n",
       "      <td>8.433377</td>\n",
       "      <td>5.379898</td>\n",
       "    </tr>\n",
       "    <tr>\n",
       "      <th>4</th>\n",
       "      <td>4</td>\n",
       "      <td>1</td>\n",
       "      <td>5142190439</td>\n",
       "      <td>4975</td>\n",
       "      <td>4594</td>\n",
       "      <td>217</td>\n",
       "      <td>3.62</td>\n",
       "      <td>0</td>\n",
       "      <td>1.286502</td>\n",
       "      <td>22.360745</td>\n",
       "      <td>8.512181</td>\n",
       "      <td>8.432506</td>\n",
       "      <td>5.379898</td>\n",
       "    </tr>\n",
       "    <tr>\n",
       "      <th>...</th>\n",
       "      <td>...</td>\n",
       "      <td>...</td>\n",
       "      <td>...</td>\n",
       "      <td>...</td>\n",
       "      <td>...</td>\n",
       "      <td>...</td>\n",
       "      <td>...</td>\n",
       "      <td>...</td>\n",
       "      <td>...</td>\n",
       "      <td>...</td>\n",
       "      <td>...</td>\n",
       "      <td>...</td>\n",
       "      <td>...</td>\n",
       "    </tr>\n",
       "    <tr>\n",
       "      <th>96748</th>\n",
       "      <td>4</td>\n",
       "      <td>12</td>\n",
       "      <td>5142276053</td>\n",
       "      <td>2241</td>\n",
       "      <td>1534</td>\n",
       "      <td>187</td>\n",
       "      <td>84.79</td>\n",
       "      <td>0</td>\n",
       "      <td>4.440179</td>\n",
       "      <td>22.360762</td>\n",
       "      <td>7.714678</td>\n",
       "      <td>7.335634</td>\n",
       "      <td>5.231109</td>\n",
       "    </tr>\n",
       "    <tr>\n",
       "      <th>96749</th>\n",
       "      <td>4</td>\n",
       "      <td>12</td>\n",
       "      <td>5142225701</td>\n",
       "      <td>9925</td>\n",
       "      <td>7247</td>\n",
       "      <td>207</td>\n",
       "      <td>118.75</td>\n",
       "      <td>0</td>\n",
       "      <td>4.777021</td>\n",
       "      <td>22.360752</td>\n",
       "      <td>9.202812</td>\n",
       "      <td>8.888343</td>\n",
       "      <td>5.332719</td>\n",
       "    </tr>\n",
       "    <tr>\n",
       "      <th>96750</th>\n",
       "      <td>4</td>\n",
       "      <td>12</td>\n",
       "      <td>5142226486</td>\n",
       "      <td>3226</td>\n",
       "      <td>11299</td>\n",
       "      <td>207</td>\n",
       "      <td>363.56</td>\n",
       "      <td>0</td>\n",
       "      <td>5.895945</td>\n",
       "      <td>22.360752</td>\n",
       "      <td>8.078998</td>\n",
       "      <td>9.332470</td>\n",
       "      <td>5.332719</td>\n",
       "    </tr>\n",
       "    <tr>\n",
       "      <th>96751</th>\n",
       "      <td>4</td>\n",
       "      <td>12</td>\n",
       "      <td>5142244619</td>\n",
       "      <td>10571</td>\n",
       "      <td>2093</td>\n",
       "      <td>174</td>\n",
       "      <td>2202.03</td>\n",
       "      <td>0</td>\n",
       "      <td>7.697135</td>\n",
       "      <td>22.360756</td>\n",
       "      <td>9.265870</td>\n",
       "      <td>7.646354</td>\n",
       "      <td>5.159056</td>\n",
       "    </tr>\n",
       "    <tr>\n",
       "      <th>96752</th>\n",
       "      <td>4</td>\n",
       "      <td>12</td>\n",
       "      <td>5142243247</td>\n",
       "      <td>11477</td>\n",
       "      <td>10959</td>\n",
       "      <td>202</td>\n",
       "      <td>554.64</td>\n",
       "      <td>0</td>\n",
       "      <td>6.318319</td>\n",
       "      <td>22.360755</td>\n",
       "      <td>9.348100</td>\n",
       "      <td>9.301916</td>\n",
       "      <td>5.308268</td>\n",
       "    </tr>\n",
       "  </tbody>\n",
       "</table>\n",
       "<p>96753 rows × 13 columns</p>\n",
       "</div>"
      ],
      "text/plain": [
       "       day  month     Cardnum  Merchnum  Merch description  Merch state  \\\n",
       "0        4      1  5142190439      4975               4594          217   \n",
       "1        4      1  5142183973      6735              10393          189   \n",
       "2        4      1  5142131721      3340               8454          191   \n",
       "3        4      1  5142148452      4975               4598          217   \n",
       "4        4      1  5142190439      4975               4594          217   \n",
       "...    ...    ...         ...       ...                ...          ...   \n",
       "96748    4     12  5142276053      2241               1534          187   \n",
       "96749    4     12  5142225701      9925               7247          207   \n",
       "96750    4     12  5142226486      3226              11299          207   \n",
       "96751    4     12  5142244619     10571               2093          174   \n",
       "96752    4     12  5142243247     11477              10959          202   \n",
       "\n",
       "        Amount  Fraud  amount_log  Cardnum_log  Merchnum_log  \\\n",
       "0         3.62      0    1.286502    22.360745      8.512181   \n",
       "1        31.42      0    3.447448    22.360744      8.815073   \n",
       "2       178.49      0    5.184533    22.360734      8.113726   \n",
       "3         3.62      0    1.286502    22.360737      8.512181   \n",
       "4         3.62      0    1.286502    22.360745      8.512181   \n",
       "...        ...    ...         ...          ...           ...   \n",
       "96748    84.79      0    4.440179    22.360762      7.714678   \n",
       "96749   118.75      0    4.777021    22.360752      9.202812   \n",
       "96750   363.56      0    5.895945    22.360752      8.078998   \n",
       "96751  2202.03      0    7.697135    22.360756      9.265870   \n",
       "96752   554.64      0    6.318319    22.360755      9.348100   \n",
       "\n",
       "       Merch description_log  Merch state_log  \n",
       "0                   8.432506         5.379898  \n",
       "1                   9.248888         5.241748  \n",
       "2                   9.042395         5.252274  \n",
       "3                   8.433377         5.379898  \n",
       "4                   8.432506         5.379898  \n",
       "...                      ...              ...  \n",
       "96748               7.335634         5.231109  \n",
       "96749               8.888343         5.332719  \n",
       "96750               9.332470         5.332719  \n",
       "96751               7.646354         5.159056  \n",
       "96752               9.301916         5.308268  \n",
       "\n",
       "[96753 rows x 13 columns]"
      ]
     },
     "execution_count": 23,
     "metadata": {},
     "output_type": "execute_result"
    }
   ],
   "source": [
    "# Scale amount by log\n",
    "# Adding a small amount of 0.0001 to amount as log of zero is infinite.\n",
    "credit_card['amount_log'] = np.log(credit_card.Amount + 0.0001)\n",
    "credit_card['Cardnum_log'] = np.log(credit_card.Cardnum + 0.0001)\n",
    "credit_card['Merchnum_log'] = np.log(credit_card.Merchnum + 0.0001)\n",
    "credit_card['Merch description_log'] = np.log(credit_card['Merch description'] + 0.0001)\n",
    "credit_card['Merch state_log'] = np.log(credit_card['Merch state'] + 0.0001)\n",
    "credit_card"
   ]
  },
  {
   "cell_type": "code",
   "execution_count": 24,
   "id": "289e5fb3",
   "metadata": {
    "scrolled": true
   },
   "outputs": [
    {
     "data": {
      "text/html": [
       "<div>\n",
       "<style scoped>\n",
       "    .dataframe tbody tr th:only-of-type {\n",
       "        vertical-align: middle;\n",
       "    }\n",
       "\n",
       "    .dataframe tbody tr th {\n",
       "        vertical-align: top;\n",
       "    }\n",
       "\n",
       "    .dataframe thead th {\n",
       "        text-align: right;\n",
       "    }\n",
       "</style>\n",
       "<table border=\"1\" class=\"dataframe\">\n",
       "  <thead>\n",
       "    <tr style=\"text-align: right;\">\n",
       "      <th></th>\n",
       "      <th>day</th>\n",
       "      <th>month</th>\n",
       "      <th>Cardnum</th>\n",
       "      <th>Merchnum</th>\n",
       "      <th>Merch description</th>\n",
       "      <th>Merch state</th>\n",
       "      <th>Amount</th>\n",
       "      <th>Fraud</th>\n",
       "      <th>amount_log</th>\n",
       "      <th>Cardnum_log</th>\n",
       "      <th>Merchnum_log</th>\n",
       "      <th>Merch description_log</th>\n",
       "      <th>Merch state_log</th>\n",
       "      <th>amount_scaled</th>\n",
       "      <th>Cardnum_scaled</th>\n",
       "      <th>Merchnum_scaled</th>\n",
       "      <th>Merch description_scaled</th>\n",
       "      <th>Merch state_scaled</th>\n",
       "    </tr>\n",
       "  </thead>\n",
       "  <tbody>\n",
       "    <tr>\n",
       "      <th>0</th>\n",
       "      <td>4</td>\n",
       "      <td>1</td>\n",
       "      <td>5142190439</td>\n",
       "      <td>4975</td>\n",
       "      <td>4594</td>\n",
       "      <td>217</td>\n",
       "      <td>3.62</td>\n",
       "      <td>0</td>\n",
       "      <td>1.286502</td>\n",
       "      <td>22.360745</td>\n",
       "      <td>8.512181</td>\n",
       "      <td>8.432506</td>\n",
       "      <td>5.379898</td>\n",
       "      <td>-0.042401</td>\n",
       "      <td>-0.203839</td>\n",
       "      <td>-0.611361</td>\n",
       "      <td>-0.498148</td>\n",
       "      <td>0.974765</td>\n",
       "    </tr>\n",
       "    <tr>\n",
       "      <th>1</th>\n",
       "      <td>4</td>\n",
       "      <td>1</td>\n",
       "      <td>5142183973</td>\n",
       "      <td>6735</td>\n",
       "      <td>10393</td>\n",
       "      <td>189</td>\n",
       "      <td>31.42</td>\n",
       "      <td>0</td>\n",
       "      <td>3.447448</td>\n",
       "      <td>22.360744</td>\n",
       "      <td>8.815073</td>\n",
       "      <td>9.248888</td>\n",
       "      <td>5.241748</td>\n",
       "      <td>-0.039622</td>\n",
       "      <td>-0.319986</td>\n",
       "      <td>-0.176560</td>\n",
       "      <td>1.157666</td>\n",
       "      <td>-0.590932</td>\n",
       "    </tr>\n",
       "    <tr>\n",
       "      <th>2</th>\n",
       "      <td>4</td>\n",
       "      <td>1</td>\n",
       "      <td>5142131721</td>\n",
       "      <td>3340</td>\n",
       "      <td>8454</td>\n",
       "      <td>191</td>\n",
       "      <td>178.49</td>\n",
       "      <td>0</td>\n",
       "      <td>5.184533</td>\n",
       "      <td>22.360734</td>\n",
       "      <td>8.113726</td>\n",
       "      <td>9.042395</td>\n",
       "      <td>5.252274</td>\n",
       "      <td>-0.024924</td>\n",
       "      <td>-1.258580</td>\n",
       "      <td>-1.015281</td>\n",
       "      <td>0.604015</td>\n",
       "      <td>-0.479096</td>\n",
       "    </tr>\n",
       "    <tr>\n",
       "      <th>3</th>\n",
       "      <td>4</td>\n",
       "      <td>1</td>\n",
       "      <td>5142148452</td>\n",
       "      <td>4975</td>\n",
       "      <td>4598</td>\n",
       "      <td>217</td>\n",
       "      <td>3.62</td>\n",
       "      <td>0</td>\n",
       "      <td>1.286502</td>\n",
       "      <td>22.360737</td>\n",
       "      <td>8.512181</td>\n",
       "      <td>8.433377</td>\n",
       "      <td>5.379898</td>\n",
       "      <td>-0.042401</td>\n",
       "      <td>-0.958044</td>\n",
       "      <td>-0.611361</td>\n",
       "      <td>-0.497006</td>\n",
       "      <td>0.974765</td>\n",
       "    </tr>\n",
       "    <tr>\n",
       "      <th>4</th>\n",
       "      <td>4</td>\n",
       "      <td>1</td>\n",
       "      <td>5142190439</td>\n",
       "      <td>4975</td>\n",
       "      <td>4594</td>\n",
       "      <td>217</td>\n",
       "      <td>3.62</td>\n",
       "      <td>0</td>\n",
       "      <td>1.286502</td>\n",
       "      <td>22.360745</td>\n",
       "      <td>8.512181</td>\n",
       "      <td>8.432506</td>\n",
       "      <td>5.379898</td>\n",
       "      <td>-0.042401</td>\n",
       "      <td>-0.203839</td>\n",
       "      <td>-0.611361</td>\n",
       "      <td>-0.498148</td>\n",
       "      <td>0.974765</td>\n",
       "    </tr>\n",
       "    <tr>\n",
       "      <th>...</th>\n",
       "      <td>...</td>\n",
       "      <td>...</td>\n",
       "      <td>...</td>\n",
       "      <td>...</td>\n",
       "      <td>...</td>\n",
       "      <td>...</td>\n",
       "      <td>...</td>\n",
       "      <td>...</td>\n",
       "      <td>...</td>\n",
       "      <td>...</td>\n",
       "      <td>...</td>\n",
       "      <td>...</td>\n",
       "      <td>...</td>\n",
       "      <td>...</td>\n",
       "      <td>...</td>\n",
       "      <td>...</td>\n",
       "      <td>...</td>\n",
       "      <td>...</td>\n",
       "    </tr>\n",
       "    <tr>\n",
       "      <th>96748</th>\n",
       "      <td>4</td>\n",
       "      <td>12</td>\n",
       "      <td>5142276053</td>\n",
       "      <td>2241</td>\n",
       "      <td>1534</td>\n",
       "      <td>187</td>\n",
       "      <td>84.79</td>\n",
       "      <td>0</td>\n",
       "      <td>4.440179</td>\n",
       "      <td>22.360762</td>\n",
       "      <td>7.714678</td>\n",
       "      <td>7.335634</td>\n",
       "      <td>5.231109</td>\n",
       "      <td>-0.034289</td>\n",
       "      <td>1.334030</td>\n",
       "      <td>-1.286785</td>\n",
       "      <td>-1.371884</td>\n",
       "      <td>-0.702767</td>\n",
       "    </tr>\n",
       "    <tr>\n",
       "      <th>96749</th>\n",
       "      <td>4</td>\n",
       "      <td>12</td>\n",
       "      <td>5142225701</td>\n",
       "      <td>9925</td>\n",
       "      <td>7247</td>\n",
       "      <td>207</td>\n",
       "      <td>118.75</td>\n",
       "      <td>0</td>\n",
       "      <td>4.777021</td>\n",
       "      <td>22.360752</td>\n",
       "      <td>9.202812</td>\n",
       "      <td>8.888343</td>\n",
       "      <td>5.332719</td>\n",
       "      <td>-0.030895</td>\n",
       "      <td>0.429566</td>\n",
       "      <td>0.611517</td>\n",
       "      <td>0.259375</td>\n",
       "      <td>0.415587</td>\n",
       "    </tr>\n",
       "    <tr>\n",
       "      <th>96750</th>\n",
       "      <td>4</td>\n",
       "      <td>12</td>\n",
       "      <td>5142226486</td>\n",
       "      <td>3226</td>\n",
       "      <td>11299</td>\n",
       "      <td>207</td>\n",
       "      <td>363.56</td>\n",
       "      <td>0</td>\n",
       "      <td>5.895945</td>\n",
       "      <td>22.360752</td>\n",
       "      <td>8.078998</td>\n",
       "      <td>9.332470</td>\n",
       "      <td>5.332719</td>\n",
       "      <td>-0.006429</td>\n",
       "      <td>0.443667</td>\n",
       "      <td>-1.043445</td>\n",
       "      <td>1.416361</td>\n",
       "      <td>0.415587</td>\n",
       "    </tr>\n",
       "    <tr>\n",
       "      <th>96751</th>\n",
       "      <td>4</td>\n",
       "      <td>12</td>\n",
       "      <td>5142244619</td>\n",
       "      <td>10571</td>\n",
       "      <td>2093</td>\n",
       "      <td>174</td>\n",
       "      <td>2202.03</td>\n",
       "      <td>0</td>\n",
       "      <td>7.697135</td>\n",
       "      <td>22.360756</td>\n",
       "      <td>9.265870</td>\n",
       "      <td>7.646354</td>\n",
       "      <td>5.159056</td>\n",
       "      <td>0.177306</td>\n",
       "      <td>0.769387</td>\n",
       "      <td>0.771108</td>\n",
       "      <td>-1.212270</td>\n",
       "      <td>-1.429698</td>\n",
       "    </tr>\n",
       "    <tr>\n",
       "      <th>96752</th>\n",
       "      <td>4</td>\n",
       "      <td>12</td>\n",
       "      <td>5142243247</td>\n",
       "      <td>11477</td>\n",
       "      <td>10959</td>\n",
       "      <td>202</td>\n",
       "      <td>554.64</td>\n",
       "      <td>0</td>\n",
       "      <td>6.318319</td>\n",
       "      <td>22.360755</td>\n",
       "      <td>9.348100</td>\n",
       "      <td>9.301916</td>\n",
       "      <td>5.308268</td>\n",
       "      <td>0.012668</td>\n",
       "      <td>0.744742</td>\n",
       "      <td>0.994932</td>\n",
       "      <td>1.319279</td>\n",
       "      <td>0.135999</td>\n",
       "    </tr>\n",
       "  </tbody>\n",
       "</table>\n",
       "<p>96753 rows × 18 columns</p>\n",
       "</div>"
      ],
      "text/plain": [
       "       day  month     Cardnum  Merchnum  Merch description  Merch state  \\\n",
       "0        4      1  5142190439      4975               4594          217   \n",
       "1        4      1  5142183973      6735              10393          189   \n",
       "2        4      1  5142131721      3340               8454          191   \n",
       "3        4      1  5142148452      4975               4598          217   \n",
       "4        4      1  5142190439      4975               4594          217   \n",
       "...    ...    ...         ...       ...                ...          ...   \n",
       "96748    4     12  5142276053      2241               1534          187   \n",
       "96749    4     12  5142225701      9925               7247          207   \n",
       "96750    4     12  5142226486      3226              11299          207   \n",
       "96751    4     12  5142244619     10571               2093          174   \n",
       "96752    4     12  5142243247     11477              10959          202   \n",
       "\n",
       "        Amount  Fraud  amount_log  Cardnum_log  Merchnum_log  \\\n",
       "0         3.62      0    1.286502    22.360745      8.512181   \n",
       "1        31.42      0    3.447448    22.360744      8.815073   \n",
       "2       178.49      0    5.184533    22.360734      8.113726   \n",
       "3         3.62      0    1.286502    22.360737      8.512181   \n",
       "4         3.62      0    1.286502    22.360745      8.512181   \n",
       "...        ...    ...         ...          ...           ...   \n",
       "96748    84.79      0    4.440179    22.360762      7.714678   \n",
       "96749   118.75      0    4.777021    22.360752      9.202812   \n",
       "96750   363.56      0    5.895945    22.360752      8.078998   \n",
       "96751  2202.03      0    7.697135    22.360756      9.265870   \n",
       "96752   554.64      0    6.318319    22.360755      9.348100   \n",
       "\n",
       "       Merch description_log  Merch state_log  amount_scaled  Cardnum_scaled  \\\n",
       "0                   8.432506         5.379898      -0.042401       -0.203839   \n",
       "1                   9.248888         5.241748      -0.039622       -0.319986   \n",
       "2                   9.042395         5.252274      -0.024924       -1.258580   \n",
       "3                   8.433377         5.379898      -0.042401       -0.958044   \n",
       "4                   8.432506         5.379898      -0.042401       -0.203839   \n",
       "...                      ...              ...            ...             ...   \n",
       "96748               7.335634         5.231109      -0.034289        1.334030   \n",
       "96749               8.888343         5.332719      -0.030895        0.429566   \n",
       "96750               9.332470         5.332719      -0.006429        0.443667   \n",
       "96751               7.646354         5.159056       0.177306        0.769387   \n",
       "96752               9.301916         5.308268       0.012668        0.744742   \n",
       "\n",
       "       Merchnum_scaled  Merch description_scaled  Merch state_scaled  \n",
       "0            -0.611361                 -0.498148            0.974765  \n",
       "1            -0.176560                  1.157666           -0.590932  \n",
       "2            -1.015281                  0.604015           -0.479096  \n",
       "3            -0.611361                 -0.497006            0.974765  \n",
       "4            -0.611361                 -0.498148            0.974765  \n",
       "...                ...                       ...                 ...  \n",
       "96748        -1.286785                 -1.371884           -0.702767  \n",
       "96749         0.611517                  0.259375            0.415587  \n",
       "96750        -1.043445                  1.416361            0.415587  \n",
       "96751         0.771108                 -1.212270           -1.429698  \n",
       "96752         0.994932                  1.319279            0.135999  \n",
       "\n",
       "[96753 rows x 18 columns]"
      ]
     },
     "execution_count": 24,
     "metadata": {},
     "output_type": "execute_result"
    }
   ],
   "source": [
    "ss = StandardScaler() # object of the class StandardScaler ()\n",
    "credit_card['amount_scaled'] = ss.fit_transform(credit_card['Amount'].values.reshape(-1,1))\n",
    "credit_card['Cardnum_scaled'] = ss.fit_transform(credit_card['Cardnum'].values.reshape(-1,1))\n",
    "credit_card['Merchnum_scaled'] = ss.fit_transform(credit_card['Merchnum'].values.reshape(-1,1))\n",
    "credit_card['Merch description_scaled'] = ss.fit_transform(credit_card['Merch description'].values.reshape(-1,1))\n",
    "credit_card['Merch state_scaled'] = ss.fit_transform(credit_card['Merch state'].values.reshape(-1,1))\n",
    "\n",
    "credit_card"
   ]
  },
  {
   "cell_type": "code",
   "execution_count": 25,
   "id": "d5ceb4fd",
   "metadata": {},
   "outputs": [],
   "source": [
    "from sklearn.preprocessing import MinMaxScaler\n",
    "\n",
    "mm = MinMaxScaler() # object of the class StandardScaler ()\n",
    "credit_card['amount_minmax'] = mm.fit_transform(credit_card['Amount'].values.reshape(-1,1))\n",
    "credit_card['Cardnum_minmax'] = mm.fit_transform(credit_card['Cardnum'].values.reshape(-1,1))\n",
    "credit_card['Merchnum_minmax'] = mm.fit_transform(credit_card['Merchnum'].values.reshape(-1,1))\n",
    "credit_card['Merch description_minmax'] = mm.fit_transform(credit_card['Merch description'].values.reshape(-1,1))\n",
    "credit_card['Merch state_minmax'] = mm.fit_transform(credit_card['Merch state'].values.reshape(-1,1))"
   ]
  },
  {
   "cell_type": "code",
   "execution_count": 26,
   "id": "a51f1001",
   "metadata": {},
   "outputs": [
    {
     "data": {
      "image/png": "[encoded data removed]",
      "text/plain": [
       "<Figure size 1152x288 with 4 Axes>"
      ]
     },
     "metadata": {
      "needs_background": "light"
     },
     "output_type": "display_data"
    }
   ],
   "source": [
    "#Feature engineering to a better visualization of the values\n",
    "\n",
    "# Let's explore the Amount by Class and see the distribuition of Amount transactions\n",
    "fig , axs = plt.subplots(nrows = 1 , ncols = 4 , figsize = (16,4))\n",
    "\n",
    "sns.boxplot(x =\"Fraud\",y=\"Amount\",data=credit_card, ax = axs[0])\n",
    "axs[0].set_title(\"Fraud vs Amount\")\n",
    "\n",
    "sns.boxplot(x =\"Fraud\",y=\"amount_log\",data=credit_card, ax = axs[1])\n",
    "axs[1].set_title(\"Fraud vs Log Amount\")\n",
    "\n",
    "sns.boxplot(x =\"Fraud\",y=\"amount_scaled\",data=credit_card, ax = axs[2])\n",
    "axs[2].set_title(\"Fraud vs Scaled Amount\")\n",
    "\n",
    "sns.boxplot(x =\"Fraud\",y=\"amount_minmax\",data=credit_card, ax = axs[3])\n",
    "axs[3].set_title(\"Fraud vs Min Max Amount\")\n",
    "\n",
    "# fig.suptitle('Amount by Class', fontsize=20)\n",
    "plt.show()\n"
   ]
  },
  {
   "cell_type": "code",
   "execution_count": 27,
   "id": "bb9c7734",
   "metadata": {},
   "outputs": [
    {
     "data": {
      "image/png": "[encoded data removed]",
      "text/plain": [
       "<Figure size 1152x288 with 4 Axes>"
      ]
     },
     "metadata": {
      "needs_background": "light"
     },
     "output_type": "display_data"
    }
   ],
   "source": [
    "fig , axs = plt.subplots(nrows = 1 , ncols = 4 , figsize = (16,4))\n",
    "\n",
    "sns.boxplot(x =\"Fraud\",y=\"Cardnum\",data=credit_card, ax = axs[0])\n",
    "axs[0].set_title(\"Fraud vs Cardnum\")\n",
    "\n",
    "sns.boxplot(x =\"Fraud\",y=\"Cardnum_log\",data=credit_card, ax = axs[1])\n",
    "axs[1].set_title(\"Fraud vs Cardnum_log\")\n",
    "\n",
    "sns.boxplot(x =\"Fraud\",y=\"Cardnum_scaled\",data=credit_card, ax = axs[2])\n",
    "axs[2].set_title(\"Fraud vs Cardnum_scaled\")\n",
    "\n",
    "sns.boxplot(x =\"Fraud\",y=\"Cardnum_minmax\",data=credit_card, ax = axs[3])\n",
    "axs[3].set_title(\"Fraud vs Cardnum_minmax\")\n",
    "\n",
    "# fig.suptitle('Amount by Class', fontsize=20)\n",
    "plt.show()\n"
   ]
  },
  {
   "cell_type": "code",
   "execution_count": 28,
   "id": "f2b564b8",
   "metadata": {},
   "outputs": [
    {
     "data": {
      "image/png": "[encoded data removed]",
      "text/plain": [
       "<Figure size 1152x288 with 4 Axes>"
      ]
     },
     "metadata": {
      "needs_background": "light"
     },
     "output_type": "display_data"
    }
   ],
   "source": [
    "fig , axs = plt.subplots(nrows = 1 , ncols = 4 , figsize = (16,4))\n",
    "\n",
    "sns.boxplot(x =\"Fraud\",y=\"Merchnum\",data=credit_card, ax = axs[0])\n",
    "axs[0].set_title(\"Fraud vs Amount\")\n",
    "\n",
    "sns.boxplot(x =\"Fraud\",y=\"Merchnum_log\",data=credit_card, ax = axs[1])\n",
    "axs[1].set_title(\"Class vs Log Amount\")\n",
    "\n",
    "sns.boxplot(x =\"Fraud\",y=\"Merchnum_scaled\",data=credit_card, ax = axs[2])\n",
    "axs[2].set_title(\"Class vs Scaled Amount\")\n",
    "\n",
    "sns.boxplot(x =\"Fraud\",y=\"Merchnum_minmax\",data=credit_card, ax = axs[3])\n",
    "axs[3].set_title(\"Class vs Min Max Amount\")\n",
    "\n",
    "# fig.suptitle('Amount by Class', fontsize=20)\n",
    "plt.show()"
   ]
  },
  {
   "cell_type": "markdown",
   "id": "b49b4fa0",
   "metadata": {},
   "source": [
    "We can see a slight difference in the log amount of our two Classes"
   ]
  },
  {
   "cell_type": "code",
   "execution_count": 29,
   "id": "6ddb33cd",
   "metadata": {
    "scrolled": false
   },
   "outputs": [
    {
     "data": {
      "text/html": [
       "<div>\n",
       "<style scoped>\n",
       "    .dataframe tbody tr th:only-of-type {\n",
       "        vertical-align: middle;\n",
       "    }\n",
       "\n",
       "    .dataframe tbody tr th {\n",
       "        vertical-align: top;\n",
       "    }\n",
       "\n",
       "    .dataframe thead th {\n",
       "        text-align: right;\n",
       "    }\n",
       "</style>\n",
       "<table border=\"1\" class=\"dataframe\">\n",
       "  <thead>\n",
       "    <tr style=\"text-align: right;\">\n",
       "      <th></th>\n",
       "      <th>day</th>\n",
       "      <th>month</th>\n",
       "      <th>Cardnum_minmax</th>\n",
       "      <th>Merchnum_log</th>\n",
       "      <th>Merch description_log</th>\n",
       "      <th>Merch state_log</th>\n",
       "      <th>amount_log</th>\n",
       "      <th>Fraud</th>\n",
       "    </tr>\n",
       "  </thead>\n",
       "  <tbody>\n",
       "    <tr>\n",
       "      <th>0</th>\n",
       "      <td>4</td>\n",
       "      <td>1</td>\n",
       "      <td>0.109083</td>\n",
       "      <td>8.512181</td>\n",
       "      <td>8.432506</td>\n",
       "      <td>5.379898</td>\n",
       "      <td>1.286502</td>\n",
       "      <td>0</td>\n",
       "    </tr>\n",
       "    <tr>\n",
       "      <th>1</th>\n",
       "      <td>4</td>\n",
       "      <td>1</td>\n",
       "      <td>0.100314</td>\n",
       "      <td>8.815073</td>\n",
       "      <td>9.248888</td>\n",
       "      <td>5.241748</td>\n",
       "      <td>3.447448</td>\n",
       "      <td>0</td>\n",
       "    </tr>\n",
       "    <tr>\n",
       "      <th>2</th>\n",
       "      <td>4</td>\n",
       "      <td>1</td>\n",
       "      <td>0.029454</td>\n",
       "      <td>8.113726</td>\n",
       "      <td>9.042395</td>\n",
       "      <td>5.252274</td>\n",
       "      <td>5.184533</td>\n",
       "      <td>0</td>\n",
       "    </tr>\n",
       "    <tr>\n",
       "      <th>3</th>\n",
       "      <td>4</td>\n",
       "      <td>1</td>\n",
       "      <td>0.052143</td>\n",
       "      <td>8.512181</td>\n",
       "      <td>8.433377</td>\n",
       "      <td>5.379898</td>\n",
       "      <td>1.286502</td>\n",
       "      <td>0</td>\n",
       "    </tr>\n",
       "    <tr>\n",
       "      <th>4</th>\n",
       "      <td>4</td>\n",
       "      <td>1</td>\n",
       "      <td>0.109083</td>\n",
       "      <td>8.512181</td>\n",
       "      <td>8.432506</td>\n",
       "      <td>5.379898</td>\n",
       "      <td>1.286502</td>\n",
       "      <td>0</td>\n",
       "    </tr>\n",
       "    <tr>\n",
       "      <th>...</th>\n",
       "      <td>...</td>\n",
       "      <td>...</td>\n",
       "      <td>...</td>\n",
       "      <td>...</td>\n",
       "      <td>...</td>\n",
       "      <td>...</td>\n",
       "      <td>...</td>\n",
       "      <td>...</td>\n",
       "    </tr>\n",
       "    <tr>\n",
       "      <th>96748</th>\n",
       "      <td>4</td>\n",
       "      <td>12</td>\n",
       "      <td>0.225186</td>\n",
       "      <td>7.714678</td>\n",
       "      <td>7.335634</td>\n",
       "      <td>5.231109</td>\n",
       "      <td>4.440179</td>\n",
       "      <td>0</td>\n",
       "    </tr>\n",
       "    <tr>\n",
       "      <th>96749</th>\n",
       "      <td>4</td>\n",
       "      <td>12</td>\n",
       "      <td>0.156902</td>\n",
       "      <td>9.202812</td>\n",
       "      <td>8.888343</td>\n",
       "      <td>5.332719</td>\n",
       "      <td>4.777021</td>\n",
       "      <td>0</td>\n",
       "    </tr>\n",
       "    <tr>\n",
       "      <th>96750</th>\n",
       "      <td>4</td>\n",
       "      <td>12</td>\n",
       "      <td>0.157967</td>\n",
       "      <td>8.078998</td>\n",
       "      <td>9.332470</td>\n",
       "      <td>5.332719</td>\n",
       "      <td>5.895945</td>\n",
       "      <td>0</td>\n",
       "    </tr>\n",
       "    <tr>\n",
       "      <th>96751</th>\n",
       "      <td>4</td>\n",
       "      <td>12</td>\n",
       "      <td>0.182557</td>\n",
       "      <td>9.265870</td>\n",
       "      <td>7.646354</td>\n",
       "      <td>5.159056</td>\n",
       "      <td>7.697135</td>\n",
       "      <td>0</td>\n",
       "    </tr>\n",
       "    <tr>\n",
       "      <th>96752</th>\n",
       "      <td>4</td>\n",
       "      <td>12</td>\n",
       "      <td>0.180697</td>\n",
       "      <td>9.348100</td>\n",
       "      <td>9.301916</td>\n",
       "      <td>5.308268</td>\n",
       "      <td>6.318319</td>\n",
       "      <td>0</td>\n",
       "    </tr>\n",
       "  </tbody>\n",
       "</table>\n",
       "<p>96753 rows × 8 columns</p>\n",
       "</div>"
      ],
      "text/plain": [
       "       day  month  Cardnum_minmax  Merchnum_log  Merch description_log  \\\n",
       "0        4      1        0.109083      8.512181               8.432506   \n",
       "1        4      1        0.100314      8.815073               9.248888   \n",
       "2        4      1        0.029454      8.113726               9.042395   \n",
       "3        4      1        0.052143      8.512181               8.433377   \n",
       "4        4      1        0.109083      8.512181               8.432506   \n",
       "...    ...    ...             ...           ...                    ...   \n",
       "96748    4     12        0.225186      7.714678               7.335634   \n",
       "96749    4     12        0.156902      9.202812               8.888343   \n",
       "96750    4     12        0.157967      8.078998               9.332470   \n",
       "96751    4     12        0.182557      9.265870               7.646354   \n",
       "96752    4     12        0.180697      9.348100               9.301916   \n",
       "\n",
       "       Merch state_log  amount_log  Fraud  \n",
       "0             5.379898    1.286502      0  \n",
       "1             5.241748    3.447448      0  \n",
       "2             5.252274    5.184533      0  \n",
       "3             5.379898    1.286502      0  \n",
       "4             5.379898    1.286502      0  \n",
       "...                ...         ...    ...  \n",
       "96748         5.231109    4.440179      0  \n",
       "96749         5.332719    4.777021      0  \n",
       "96750         5.332719    5.895945      0  \n",
       "96751         5.159056    7.697135      0  \n",
       "96752         5.308268    6.318319      0  \n",
       "\n",
       "[96753 rows x 8 columns]"
      ]
     },
     "execution_count": 29,
     "metadata": {},
     "output_type": "execute_result"
    }
   ],
   "source": [
    "df = credit_card[['day', 'month', 'Cardnum_minmax','Merchnum_log','Merch description_log', 'Merch state_log', 'amount_log','Fraud']]\n",
    "df"
   ]
  },
  {
   "cell_type": "code",
   "execution_count": 30,
   "id": "be435481",
   "metadata": {},
   "outputs": [
    {
     "data": {
      "text/plain": [
       "(19351, 7)"
      ]
     },
     "execution_count": 30,
     "metadata": {},
     "output_type": "execute_result"
    }
   ],
   "source": [
    "#splitting the dataset\n",
    "X_train, X_test = train_test_split(df, test_size=0.2, random_state=42)\n",
    "X_train = X_train[X_train.Fraud == 0]\n",
    "X_train = X_train.drop(['Fraud'], axis=1)\n",
    "\n",
    "y_test = X_test['Fraud']\n",
    "X_test = X_test.drop(['Fraud'], axis=1)\n",
    "\n",
    "X_train = X_train\n",
    "X_test = X_test\n",
    "X_train.shape\n",
    "X_test.shape"
   ]
  },
  {
   "cell_type": "markdown",
   "id": "d54d802e",
   "metadata": {},
   "source": [
    "### UNDERCOMPLETE AUTOENCODER"
   ]
  },
  {
   "cell_type": "markdown",
   "id": "22a1f9ad",
   "metadata": {},
   "source": [
    "The Autoencoder model for anomaly detection has some steps as follows: \n",
    "\n",
    "Step 1 is the encoder step. The essential information is extracted by a neural network model in this step.\n",
    "\n",
    "Step 2 is the decoder step. In this step, the model reconstructs the data using the extracted information.\n",
    "\n",
    "Step 3: Iterate step 1 and step 2 to adjust the model to minimize the difference between input and reconstructed output, until we get good reconstruction results for the training dataset.\n",
    "\n",
    "Step 4: Make predictions on a dataset that includes outliers.\n",
    "\n",
    "Step 5: Set up a threshold for outliers/anomalies by comparing the differences between the autoencoder model reconstruction value and the actual value.\n",
    "\n",
    "Step 6: Identify the data points with the difference higher than the threshold to be outliers or anomalies."
   ]
  },
  {
   "cell_type": "code",
   "execution_count": 33,
   "id": "ddc317d5",
   "metadata": {},
   "outputs": [],
   "source": [
    "# 'tanh' is used for the activation function of the encoded network \n",
    "# because it has big learning steps and results in strong or higher gradients\n",
    "\n",
    "#relu is used on the bottle neck (latent low representation) \n",
    "#because model performance is better when trained with relu\n",
    "\n",
    "#sigmoid is used for binary classification and since we have \n",
    "#fraud and non fraudclass then it is good for this problem\n",
    "\n",
    "#In the input layer, we specified the shape of the dataset. "
   ]
  },
  {
   "cell_type": "code",
   "execution_count": 34,
   "id": "b67eb539",
   "metadata": {},
   "outputs": [],
   "source": [
    "n_features = (X_train.shape[1])\n",
    "encoder = models.Sequential(name='encoder')\n",
    "encoder.add(layer=layers.Dense(units=200, activation=activations.tanh, activity_regularizer=regularizers.l1(1e-3),input_shape=[n_features]))\n",
    "encoder.add(layer=layers.Dense(units=100, activation=activations.tanh))\n",
    "encoder.add(layer=layers.Dense(units=5, activation=activations.relu))\n",
    "\n",
    "decoder = models.Sequential(name='decoder')\n",
    "decoder.add(layer=layers.Dense(units=100, activation=activations.tanh, input_shape=[5]))\n",
    "decoder.add(layer=layers.Dense(units=200, activation=activations.tanh))\n",
    "decoder.add(layer=layers.Dense(units=n_features, activation=activations.sigmoid))\n",
    "\n",
    "autoencoder = models.Sequential([encoder, decoder])\n",
    "\n",
    "autoencoder.compile(loss=losses.MSE,optimizer=optimizers.Adam(),metrics=[metrics.mean_squared_error])"
   ]
  },
  {
   "cell_type": "code",
   "execution_count": 35,
   "id": "9bcb6443",
   "metadata": {},
   "outputs": [
    {
     "name": "stdout",
     "output_type": "stream",
     "text": [
      "Epoch 1/10\n",
      "599/599 [==============================] - 7s 9ms/step - loss: 28.3079 - mean_squared_error: 28.2510 - val_loss: 28.2357 - val_mean_squared_error: 28.2185\n",
      "Epoch 2/10\n",
      "599/599 [==============================] - 5s 8ms/step - loss: 28.2225 - mean_squared_error: 28.2131 - val_loss: 28.2238 - val_mean_squared_error: 28.2194\n",
      "Epoch 3/10\n",
      "599/599 [==============================] - 5s 8ms/step - loss: 28.2155 - mean_squared_error: 28.2126 - val_loss: 28.2211 - val_mean_squared_error: 28.2193\n",
      "Epoch 4/10\n",
      "599/599 [==============================] - 5s 8ms/step - loss: 28.2198 - mean_squared_error: 28.2128 - val_loss: 28.2223 - val_mean_squared_error: 28.2185\n",
      "Epoch 5/10\n",
      "599/599 [==============================] - 5s 8ms/step - loss: 28.2172 - mean_squared_error: 28.2074 - val_loss: 28.2135 - val_mean_squared_error: 28.2108\n",
      "Epoch 6/10\n",
      "599/599 [==============================] - 5s 8ms/step - loss: 28.2088 - mean_squared_error: 28.2066 - val_loss: 28.2120 - val_mean_squared_error: 28.2108\n",
      "Epoch 7/10\n",
      "599/599 [==============================] - 5s 8ms/step - loss: 28.2074 - mean_squared_error: 28.2065 - val_loss: 28.2121 - val_mean_squared_error: 28.2114\n",
      "Epoch 8/10\n",
      "599/599 [==============================] - 5s 8ms/step - loss: 28.2135 - mean_squared_error: 28.2086 - val_loss: 28.2162 - val_mean_squared_error: 28.2138\n",
      "Epoch 9/10\n",
      "599/599 [==============================] - 5s 8ms/step - loss: 28.2110 - mean_squared_error: 28.2088 - val_loss: 28.2141 - val_mean_squared_error: 28.2130\n",
      "Epoch 10/10\n",
      "599/599 [==============================] - 5s 8ms/step - loss: 28.2094 - mean_squared_error: 28.2085 - val_loss: 28.2114 - val_mean_squared_error: 28.2107\n"
     ]
    }
   ],
   "source": [
    "# compiling the auto encoder model  with the optimizer of adam and the loss of mse (Mean squared Error).\n",
    "#autoencoder.compile(optimizer=\"adam\", loss=\"mse\", metrics=['AUC'])\n",
    "\n",
    "#When fitting the autoencoder model, we can see that the input and output datasets are the same,\n",
    "#which is the dataset that contains only the normal data points.\n",
    "\n",
    "#The epochs of 50 and batch_size of 32 mean the model uses 32 datapoints to update the weights in each iteration, \n",
    "#and the model will go through the whole training dataset 50 times.\n",
    "\n",
    "#shuffle=True will shuffle the dataset before each epoch.\n",
    "\n",
    "# training the auto encoder model on non fraud data \n",
    "history = autoencoder.fit(X_train, X_train,batch_size=128,epochs=10,shuffle=True,validation_data=(X_test, X_test))"
   ]
  },
  {
   "cell_type": "code",
   "execution_count": 36,
   "id": "cfdf4ea2",
   "metadata": {},
   "outputs": [
    {
     "data": {
      "text/plain": [
       "Text(0.5, 1.0, 'Loss Curves')"
      ]
     },
     "execution_count": 36,
     "metadata": {},
     "output_type": "execute_result"
    },
    {
     "data": {
      "image/png": "[encoded data removed]",
      "text/plain": [
       "<Figure size 432x288 with 1 Axes>"
      ]
     },
     "metadata": {
      "needs_background": "light"
     },
     "output_type": "display_data"
    }
   ],
   "source": [
    "# Loss curve\n",
    "\n",
    "plt.plot(history.history[\"loss\"], \"black\", linewidth=2.0)\n",
    "plt.plot(history.history[\"val_loss\"], \"green\", linewidth=2.0)\n",
    "plt.legend([\"Training Loss\", \"Validation Loss\"], fontsize=14)\n",
    "plt.xlabel(\"Epochs\", fontsize=10)\n",
    "plt.ylabel(\"Loss\", fontsize=10)\n",
    "#plt.ylim([0,1])\n",
    "plt.title(\"Loss Curves\", fontsize=12)"
   ]
  },
  {
   "cell_type": "code",
   "execution_count": 37,
   "id": "62024657",
   "metadata": {},
   "outputs": [
    {
     "name": "stdout",
     "output_type": "stream",
     "text": [
      "605/605 [==============================] - 2s 3ms/step\n"
     ]
    }
   ],
   "source": [
    "#we have an autoencoder model, let's use it to predict the outliers.\n",
    "#Firstly, we use .predict to get the reconstruction value for the testing data \n",
    "#set containing the usual data points and the outliers.\n",
    "\n",
    "\n",
    "# Predict anomalies/outliers in the training dataset\n",
    "prediction = autoencoder.predict(X_test)"
   ]
  },
  {
   "cell_type": "code",
   "execution_count": 38,
   "id": "d328b37a",
   "metadata": {},
   "outputs": [],
   "source": [
    "mse = np.mean(np.power(X_test - prediction, 2), axis=1)\n",
    "error_df = pd.DataFrame({'reconstruction_error': mse,\n",
    "                        'true_class': y_test})"
   ]
  },
  {
   "cell_type": "code",
   "execution_count": 39,
   "id": "34f4c67a",
   "metadata": {},
   "outputs": [
    {
     "data": {
      "text/html": [
       "<div>\n",
       "<style scoped>\n",
       "    .dataframe tbody tr th:only-of-type {\n",
       "        vertical-align: middle;\n",
       "    }\n",
       "\n",
       "    .dataframe tbody tr th {\n",
       "        vertical-align: top;\n",
       "    }\n",
       "\n",
       "    .dataframe thead th {\n",
       "        text-align: right;\n",
       "    }\n",
       "</style>\n",
       "<table border=\"1\" class=\"dataframe\">\n",
       "  <thead>\n",
       "    <tr style=\"text-align: right;\">\n",
       "      <th></th>\n",
       "      <th>reconstruction_error</th>\n",
       "      <th>true_class</th>\n",
       "    </tr>\n",
       "  </thead>\n",
       "  <tbody>\n",
       "    <tr>\n",
       "      <th>60247</th>\n",
       "      <td>29.863192</td>\n",
       "      <td>0</td>\n",
       "    </tr>\n",
       "    <tr>\n",
       "      <th>44373</th>\n",
       "      <td>32.738622</td>\n",
       "      <td>0</td>\n",
       "    </tr>\n",
       "    <tr>\n",
       "      <th>37798</th>\n",
       "      <td>23.854670</td>\n",
       "      <td>0</td>\n",
       "    </tr>\n",
       "    <tr>\n",
       "      <th>40375</th>\n",
       "      <td>24.323788</td>\n",
       "      <td>0</td>\n",
       "    </tr>\n",
       "    <tr>\n",
       "      <th>33999</th>\n",
       "      <td>26.702197</td>\n",
       "      <td>0</td>\n",
       "    </tr>\n",
       "    <tr>\n",
       "      <th>...</th>\n",
       "      <td>...</td>\n",
       "      <td>...</td>\n",
       "    </tr>\n",
       "    <tr>\n",
       "      <th>90416</th>\n",
       "      <td>36.312005</td>\n",
       "      <td>0</td>\n",
       "    </tr>\n",
       "    <tr>\n",
       "      <th>36770</th>\n",
       "      <td>25.977056</td>\n",
       "      <td>0</td>\n",
       "    </tr>\n",
       "    <tr>\n",
       "      <th>57063</th>\n",
       "      <td>28.092896</td>\n",
       "      <td>0</td>\n",
       "    </tr>\n",
       "    <tr>\n",
       "      <th>934</th>\n",
       "      <td>23.442062</td>\n",
       "      <td>0</td>\n",
       "    </tr>\n",
       "    <tr>\n",
       "      <th>90919</th>\n",
       "      <td>41.815323</td>\n",
       "      <td>0</td>\n",
       "    </tr>\n",
       "  </tbody>\n",
       "</table>\n",
       "<p>19351 rows × 2 columns</p>\n",
       "</div>"
      ],
      "text/plain": [
       "       reconstruction_error  true_class\n",
       "60247             29.863192           0\n",
       "44373             32.738622           0\n",
       "37798             23.854670           0\n",
       "40375             24.323788           0\n",
       "33999             26.702197           0\n",
       "...                     ...         ...\n",
       "90416             36.312005           0\n",
       "36770             25.977056           0\n",
       "57063             28.092896           0\n",
       "934               23.442062           0\n",
       "90919             41.815323           0\n",
       "\n",
       "[19351 rows x 2 columns]"
      ]
     },
     "execution_count": 39,
     "metadata": {},
     "output_type": "execute_result"
    }
   ],
   "source": [
    "error_df"
   ]
  },
  {
   "cell_type": "code",
   "execution_count": 40,
   "id": "6ce7cf9d",
   "metadata": {},
   "outputs": [
    {
     "data": {
      "text/html": [
       "<div>\n",
       "<style scoped>\n",
       "    .dataframe tbody tr th:only-of-type {\n",
       "        vertical-align: middle;\n",
       "    }\n",
       "\n",
       "    .dataframe tbody tr th {\n",
       "        vertical-align: top;\n",
       "    }\n",
       "\n",
       "    .dataframe thead th {\n",
       "        text-align: right;\n",
       "    }\n",
       "</style>\n",
       "<table border=\"1\" class=\"dataframe\">\n",
       "  <thead>\n",
       "    <tr style=\"text-align: right;\">\n",
       "      <th></th>\n",
       "      <th>reconstruction_error</th>\n",
       "      <th>true_class</th>\n",
       "    </tr>\n",
       "  </thead>\n",
       "  <tbody>\n",
       "    <tr>\n",
       "      <th>count</th>\n",
       "      <td>19351.000000</td>\n",
       "      <td>19351.000000</td>\n",
       "    </tr>\n",
       "    <tr>\n",
       "      <th>mean</th>\n",
       "      <td>28.210721</td>\n",
       "      <td>0.011679</td>\n",
       "    </tr>\n",
       "    <tr>\n",
       "      <th>std</th>\n",
       "      <td>5.990898</td>\n",
       "      <td>0.107439</td>\n",
       "    </tr>\n",
       "    <tr>\n",
       "      <th>min</th>\n",
       "      <td>9.600636</td>\n",
       "      <td>0.000000</td>\n",
       "    </tr>\n",
       "    <tr>\n",
       "      <th>25%</th>\n",
       "      <td>23.801848</td>\n",
       "      <td>0.000000</td>\n",
       "    </tr>\n",
       "    <tr>\n",
       "      <th>50%</th>\n",
       "      <td>27.559581</td>\n",
       "      <td>0.000000</td>\n",
       "    </tr>\n",
       "    <tr>\n",
       "      <th>75%</th>\n",
       "      <td>32.129219</td>\n",
       "      <td>0.000000</td>\n",
       "    </tr>\n",
       "    <tr>\n",
       "      <th>max</th>\n",
       "      <td>47.825934</td>\n",
       "      <td>1.000000</td>\n",
       "    </tr>\n",
       "  </tbody>\n",
       "</table>\n",
       "</div>"
      ],
      "text/plain": [
       "       reconstruction_error    true_class\n",
       "count          19351.000000  19351.000000\n",
       "mean              28.210721      0.011679\n",
       "std                5.990898      0.107439\n",
       "min                9.600636      0.000000\n",
       "25%               23.801848      0.000000\n",
       "50%               27.559581      0.000000\n",
       "75%               32.129219      0.000000\n",
       "max               47.825934      1.000000"
      ]
     },
     "execution_count": 40,
     "metadata": {},
     "output_type": "execute_result"
    }
   ],
   "source": [
    "error_df.describe()"
   ]
  },
  {
   "cell_type": "code",
   "execution_count": 41,
   "id": "3d8491e3",
   "metadata": {},
   "outputs": [],
   "source": [
    "# Get the mean squared error between actual and reconstruction/prediction\n",
    "prediction_loss = tf.keras.losses.mse(prediction, X_test)"
   ]
  },
  {
   "cell_type": "code",
   "execution_count": 42,
   "id": "8a116b53",
   "metadata": {},
   "outputs": [
    {
     "name": "stdout",
     "output_type": "stream",
     "text": [
      "The prediction loss threshold for 50% of outliers is 27.56\n"
     ]
    }
   ],
   "source": [
    "# Check the prediction loss threshold for 50% of outliers\n",
    "loss_threshold = np.percentile(prediction_loss, 50)\n",
    "print(f'The prediction loss threshold for 50% of outliers is {loss_threshold:.2f}')"
   ]
  },
  {
   "cell_type": "code",
   "execution_count": 43,
   "id": "5014a34b",
   "metadata": {},
   "outputs": [
    {
     "data": {
      "image/png": "[encoded data removed]",
      "text/plain": [
       "<Figure size 432x288 with 1 Axes>"
      ]
     },
     "metadata": {
      "needs_background": "light"
     },
     "output_type": "display_data"
    }
   ],
   "source": [
    "#Reconstruction error with fraud\n",
    "\n",
    "fig = plt.figure()\n",
    "ax = fig.add_subplot(111)\n",
    "fraud_error_df = error_df[error_df['true_class'] == 1.0]\n",
    "_ = ax.hist(fraud_error_df.reconstruction_error.values, bins=10)"
   ]
  },
  {
   "cell_type": "code",
   "execution_count": 44,
   "id": "7218ebe7",
   "metadata": {},
   "outputs": [],
   "source": [
    "from sklearn.metrics import (confusion_matrix, precision_recall_curve, auc,\n",
    "                             roc_curve, recall_score, classification_report, f1_score,\n",
    "                             precision_recall_fscore_support)"
   ]
  },
  {
   "cell_type": "code",
   "execution_count": 45,
   "id": "7e9cc409",
   "metadata": {},
   "outputs": [
    {
     "data": {
      "image/png": "[encoded data removed]",
      "text/plain": [
       "<Figure size 432x288 with 1 Axes>"
      ]
     },
     "metadata": {
      "needs_background": "light"
     },
     "output_type": "display_data"
    }
   ],
   "source": [
    "fpr, tpr, thresholds = roc_curve(error_df.true_class, error_df.reconstruction_error)\n",
    "roc_auc = auc(fpr, tpr)\n",
    "\n",
    "plt.title('Receiver Operating Characteristic')\n",
    "plt.plot(fpr, tpr, label='AUC = %0.4f'% roc_auc)\n",
    "plt.legend(loc='lower right')\n",
    "plt.plot([0,1],[0,1],'r--')\n",
    "plt.xlim([-0.001, 1])\n",
    "plt.ylim([0, 1.001])\n",
    "plt.ylabel('True Positive Rate')\n",
    "plt.xlabel('False Positive Rate')\n",
    "plt.show()"
   ]
  },
  {
   "cell_type": "code",
   "execution_count": 46,
   "id": "931bd1e1",
   "metadata": {},
   "outputs": [
    {
     "data": {
      "image/png": "[encoded data removed]",
      "text/plain": [
       "<Figure size 432x288 with 1 Axes>"
      ]
     },
     "metadata": {
      "needs_background": "light"
     },
     "output_type": "display_data"
    }
   ],
   "source": [
    "precision, recall,th= precision_recall_curve(error_df.true_class, error_df.reconstruction_error)\n",
    "plt.plot(recall, precision, 'b', label='Precision-Recall curve')\n",
    "plt.title('Recall vs Precision')\n",
    "plt.xlabel('Recall')\n",
    "plt.ylabel('Precision')\n",
    "plt.show()"
   ]
  },
  {
   "cell_type": "code",
   "execution_count": 47,
   "id": "3d2950b8",
   "metadata": {},
   "outputs": [
    {
     "data": {
      "image/png": "[encoded data removed]",
      "text/plain": [
       "<Figure size 432x288 with 1 Axes>"
      ]
     },
     "metadata": {
      "needs_background": "light"
     },
     "output_type": "display_data"
    }
   ],
   "source": [
    "plt.plot(th, precision[1:], 'b', label='Threshold-Precision curve')\n",
    "plt.title('Precision for different threshold values')\n",
    "plt.xlabel('Threshold')\n",
    "plt.ylabel('Precision')\n",
    "plt.show()"
   ]
  },
  {
   "cell_type": "code",
   "execution_count": 48,
   "id": "bc47c139",
   "metadata": {},
   "outputs": [
    {
     "data": {
      "image/png": "[encoded data removed]",
      "text/plain": [
       "<Figure size 432x288 with 1 Axes>"
      ]
     },
     "metadata": {
      "needs_background": "light"
     },
     "output_type": "display_data"
    }
   ],
   "source": [
    "plt.plot(th, recall[1:], 'b', label='Threshold-Recall curve')\n",
    "plt.title('Recall for different threshold values')\n",
    "plt.xlabel('Reconstruction error')\n",
    "plt.ylabel('Recall')\n",
    "plt.show()"
   ]
  },
  {
   "cell_type": "code",
   "execution_count": 49,
   "id": "65767a5c",
   "metadata": {},
   "outputs": [],
   "source": [
    "threshold = 27.56"
   ]
  },
  {
   "cell_type": "code",
   "execution_count": 50,
   "id": "9aa7dabc",
   "metadata": {},
   "outputs": [],
   "source": [
    "pred_y = [1 if e > threshold else 0 for e in error_df.reconstruction_error.values]"
   ]
  },
  {
   "cell_type": "code",
   "execution_count": 51,
   "id": "17efce9f",
   "metadata": {},
   "outputs": [],
   "source": [
    "predictions = pd.DataFrame({'true': error_df.true_class,\n",
    "                           'predicted': pred_y})"
   ]
  },
  {
   "cell_type": "code",
   "execution_count": 52,
   "id": "83a12500",
   "metadata": {},
   "outputs": [
    {
     "data": {
      "image/png": "[encoded data removed]",
      "text/plain": [
       "<Figure size 864x864 with 2 Axes>"
      ]
     },
     "metadata": {
      "needs_background": "light"
     },
     "output_type": "display_data"
    }
   ],
   "source": [
    "conf_matrix = confusion_matrix(error_df.true_class, pred_y)\n",
    "conf_matrix\n",
    "plt.figure(figsize=(12, 12))\n",
    "LABELS = ['Normal', 'Fraud']\n",
    "sns.heatmap(conf_matrix, xticklabels=LABELS, yticklabels=LABELS, annot=True, fmt=\"d\");\n",
    "plt.title(\"Confusion matrix\")\n",
    "plt.ylabel('True class')\n",
    "plt.xlabel('Predicted class')\n",
    "plt.show()"
   ]
  },
  {
   "cell_type": "code",
   "execution_count": 53,
   "id": "f6b062b5",
   "metadata": {},
   "outputs": [
    {
     "name": "stdout",
     "output_type": "stream",
     "text": [
      "              precision    recall  f1-score   support\n",
      "\n",
      "           0       0.99      0.50      0.67     19125\n",
      "           1       0.02      0.78      0.04       226\n",
      "\n",
      "    accuracy                           0.51     19351\n",
      "   macro avg       0.51      0.64      0.35     19351\n",
      "weighted avg       0.98      0.51      0.66     19351\n",
      "\n"
     ]
    }
   ],
   "source": [
    "# Check the prediction performance\n",
    "print(classification_report(y_test, pred_y))"
   ]
  },
  {
   "cell_type": "code",
   "execution_count": null,
   "id": "bd0d9589",
   "metadata": {},
   "outputs": [],
   "source": []
  }
 ],
 "metadata": {
  "kernelspec": {
   "display_name": "Python 3 (ipykernel)",
   "language": "python",
   "name": "python3"
  },
  "language_info": {
   "codemirror_mode": {
    "name": "ipython",
    "version": 3
   },
   "file_extension": ".py",
   "mimetype": "text/x-python",
   "name": "python",
   "nbconvert_exporter": "python",
   "pygments_lexer": "ipython3",
   "version": "3.9.12"
  }
 },
 "nbformat": 4,
 "nbformat_minor": 5
}
