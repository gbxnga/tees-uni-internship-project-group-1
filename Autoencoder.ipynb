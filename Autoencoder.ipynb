{
 "cells": [
  {
   "cell_type": "markdown",
   "id": "9556156e",
   "metadata": {},
   "source": [
    "### IMPORT LIBRARIES"
   ]
  },
  {
   "cell_type": "code",
   "execution_count": 1,
   "id": "80e63cc4",
   "metadata": {},
   "outputs": [],
   "source": [
    "import numpy as np\n",
    "import pandas as pd\n",
    "import matplotlib.pyplot as plt\n",
    "import seaborn as sns\n",
    "\n",
    "# scikit-learn\n",
    "from sklearn.manifold import TSNE\n",
    "from sklearn.model_selection import train_test_split\n",
    "from sklearn.ensemble import IsolationForest\n",
    "\n",
    "\n",
    "# evaluation metrics\n",
    "from sklearn.metrics import classification_report, accuracy_score\n",
    "from sklearn.metrics import average_precision_score\n",
    "from sklearn.metrics import roc_auc_score\n",
    "from sklearn.metrics import (confusion_matrix, precision_recall_curve, auc,\n",
    "                             roc_curve, recall_score, classification_report, f1_score,\n",
    "                             precision_recall_fscore_support)\n",
    "# scaling\n",
    "from sklearn.preprocessing import StandardScaler,RobustScaler\n",
    "from sklearn.preprocessing import LabelEncoder\n",
    "\n",
    "# autoencoder\n",
    "import tensorflow as tf\n",
    "from tensorflow import keras\n",
    "from tensorflow.keras.utils import plot_model\n",
    "\n",
    "# deep learning\n",
    "from keras.models import Model, Sequential\n",
    "from keras import regularizers\n",
    "from keras.layers import (\n",
    "    Input,\n",
    "    Conv1D,\n",
    "    MaxPooling1D,\n",
    "    Dense,\n",
    "    Flatten,\n",
    "    Dropout,\n",
    "    BatchNormalization,\n",
    ")\n",
    "from keras.optimizers import Adam\n",
    "import tensorflow \n",
    "from tensorflow.keras.layers import Dense\n",
    "from tensorflow.keras.models import Model\n",
    "from tensorflow.keras import models,layers,activations,losses,optimizers,metrics\n",
    "from tensorflow.keras.callbacks import EarlyStopping\n",
    "\n",
    "# Other utilities\n",
    "import sys\n",
    "import os\n",
    "main_dir=os.path.dirname(sys.path[0])\n",
    "#print(main_dir)"
   ]
  },
  {
   "cell_type": "markdown",
   "id": "ef05e488",
   "metadata": {},
   "source": [
    "\n",
    "\n",
    "### LOADING DATASET"
   ]
  },
  {
   "cell_type": "code",
   "execution_count": 2,
   "id": "8504799a",
   "metadata": {},
   "outputs": [],
   "source": [
    "credit_card = pd.read_excel(\"card transactions.xlsx\")"
   ]
  },
  {
   "cell_type": "markdown",
   "id": "b3cc5ca2",
   "metadata": {},
   "source": [
    "### DATA PREPROCESSING "
   ]
  },
  {
   "cell_type": "code",
   "execution_count": 3,
   "id": "f7ba61c3",
   "metadata": {},
   "outputs": [
    {
     "data": {
      "text/plain": [
       "(96753, 10)"
      ]
     },
     "execution_count": 3,
     "metadata": {},
     "output_type": "execute_result"
    }
   ],
   "source": [
    "credit_card.shape"
   ]
  },
  {
   "cell_type": "code",
   "execution_count": 4,
   "id": "c37f3e61",
   "metadata": {
    "scrolled": true
   },
   "outputs": [
    {
     "name": "stdout",
     "output_type": "stream",
     "text": [
      "<class 'pandas.core.frame.DataFrame'>\n",
      "RangeIndex: 96753 entries, 0 to 96752\n",
      "Data columns (total 10 columns):\n",
      " #   Column             Non-Null Count  Dtype         \n",
      "---  ------             --------------  -----         \n",
      " 0   Recnum             96753 non-null  int64         \n",
      " 1   Cardnum            96753 non-null  int64         \n",
      " 2   Date               96753 non-null  datetime64[ns]\n",
      " 3   Merchnum           93378 non-null  object        \n",
      " 4   Merch description  96753 non-null  object        \n",
      " 5   Merch state        95558 non-null  object        \n",
      " 6   Merch zip          92097 non-null  float64       \n",
      " 7   Transtype          96753 non-null  object        \n",
      " 8   Amount             96753 non-null  float64       \n",
      " 9   Fraud              96753 non-null  int64         \n",
      "dtypes: datetime64[ns](1), float64(2), int64(3), object(4)\n",
      "memory usage: 7.4+ MB\n"
     ]
    }
   ],
   "source": [
    "credit_card.info()"
   ]
  },
  {
   "cell_type": "markdown",
   "id": "9b408817",
   "metadata": {},
   "source": [
    "### EXTRACT DAY AND MONTH FOR FURTHER ANALYSIS"
   ]
  },
  {
   "cell_type": "code",
   "execution_count": 5,
   "id": "1eeb6e74",
   "metadata": {},
   "outputs": [],
   "source": [
    "day =pd.to_datetime(credit_card['Date']).dt.dayofweek\n",
    "month =pd.to_datetime(credit_card['Date']).dt.month\n",
    "credit_card.insert(1, 'day', day)\n",
    "credit_card.insert(2, 'month', month)"
   ]
  },
  {
   "cell_type": "markdown",
   "id": "022c42dd",
   "metadata": {},
   "source": [
    "### DELETING IRRELEVANT COLUMNS"
   ]
  },
  {
   "cell_type": "code",
   "execution_count": 6,
   "id": "08d006a3",
   "metadata": {},
   "outputs": [],
   "source": [
    "credit_card = credit_card.drop('Date', axis = 1)\n",
    "credit_card = credit_card.drop('Recnum', axis = 1)\n",
    "credit_card = credit_card.drop('Transtype', axis = 1)\n",
    "credit_card = credit_card.drop('Merch zip', axis = 1)"
   ]
  },
  {
   "cell_type": "markdown",
   "id": "50c70308",
   "metadata": {},
   "source": [
    "### CHECKING FOR NULL VALUES"
   ]
  },
  {
   "cell_type": "code",
   "execution_count": 7,
   "id": "4eb0f834",
   "metadata": {
    "scrolled": true
   },
   "outputs": [
    {
     "data": {
      "text/plain": [
       "day                     0\n",
       "month                   0\n",
       "Cardnum                 0\n",
       "Merchnum             3375\n",
       "Merch description       0\n",
       "Merch state          1195\n",
       "Amount                  0\n",
       "Fraud                   0\n",
       "dtype: int64"
      ]
     },
     "execution_count": 7,
     "metadata": {},
     "output_type": "execute_result"
    }
   ],
   "source": [
    "credit_card.isnull().sum()"
   ]
  },
  {
   "cell_type": "markdown",
   "id": "a140c6c6",
   "metadata": {},
   "source": [
    "### DROP THE NULL VALUES"
   ]
  },
  {
   "cell_type": "code",
   "execution_count": 8,
   "id": "06aba505",
   "metadata": {},
   "outputs": [],
   "source": [
    "credit_card['Merchnum'] = credit_card['Merchnum'].dropna()\n",
    "credit_card['Merch state'] = credit_card['Merch state'].dropna()"
   ]
  },
  {
   "cell_type": "code",
   "execution_count": 9,
   "id": "120406a9",
   "metadata": {},
   "outputs": [
    {
     "data": {
      "text/plain": [
       "day                     0\n",
       "month                   0\n",
       "Cardnum                 0\n",
       "Merchnum             3375\n",
       "Merch description       0\n",
       "Merch state          1195\n",
       "Amount                  0\n",
       "Fraud                   0\n",
       "dtype: int64"
      ]
     },
     "execution_count": 9,
     "metadata": {},
     "output_type": "execute_result"
    }
   ],
   "source": [
    "credit_card.isnull().sum()"
   ]
  },
  {
   "cell_type": "code",
   "execution_count": 10,
   "id": "6ad21154",
   "metadata": {},
   "outputs": [
    {
     "data": {
      "text/html": [
       "<div>\n",
       "<style scoped>\n",
       "    .dataframe tbody tr th:only-of-type {\n",
       "        vertical-align: middle;\n",
       "    }\n",
       "\n",
       "    .dataframe tbody tr th {\n",
       "        vertical-align: top;\n",
       "    }\n",
       "\n",
       "    .dataframe thead th {\n",
       "        text-align: right;\n",
       "    }\n",
       "</style>\n",
       "<table border=\"1\" class=\"dataframe\">\n",
       "  <thead>\n",
       "    <tr style=\"text-align: right;\">\n",
       "      <th></th>\n",
       "      <th>day</th>\n",
       "      <th>month</th>\n",
       "      <th>Amount</th>\n",
       "    </tr>\n",
       "  </thead>\n",
       "  <tbody>\n",
       "    <tr>\n",
       "      <th>count</th>\n",
       "      <td>96753.000000</td>\n",
       "      <td>96753.000000</td>\n",
       "      <td>9.675300e+04</td>\n",
       "    </tr>\n",
       "    <tr>\n",
       "      <th>mean</th>\n",
       "      <td>2.563218</td>\n",
       "      <td>6.327215</td>\n",
       "      <td>4.278857e+02</td>\n",
       "    </tr>\n",
       "    <tr>\n",
       "      <th>std</th>\n",
       "      <td>2.101681</td>\n",
       "      <td>3.241349</td>\n",
       "      <td>1.000614e+04</td>\n",
       "    </tr>\n",
       "    <tr>\n",
       "      <th>min</th>\n",
       "      <td>0.000000</td>\n",
       "      <td>1.000000</td>\n",
       "      <td>1.000000e-02</td>\n",
       "    </tr>\n",
       "    <tr>\n",
       "      <th>25%</th>\n",
       "      <td>1.000000</td>\n",
       "      <td>4.000000</td>\n",
       "      <td>3.348000e+01</td>\n",
       "    </tr>\n",
       "    <tr>\n",
       "      <th>50%</th>\n",
       "      <td>2.000000</td>\n",
       "      <td>6.000000</td>\n",
       "      <td>1.379800e+02</td>\n",
       "    </tr>\n",
       "    <tr>\n",
       "      <th>75%</th>\n",
       "      <td>5.000000</td>\n",
       "      <td>9.000000</td>\n",
       "      <td>4.282000e+02</td>\n",
       "    </tr>\n",
       "    <tr>\n",
       "      <th>max</th>\n",
       "      <td>6.000000</td>\n",
       "      <td>12.000000</td>\n",
       "      <td>3.102046e+06</td>\n",
       "    </tr>\n",
       "  </tbody>\n",
       "</table>\n",
       "</div>"
      ],
      "text/plain": [
       "                day         month        Amount\n",
       "count  96753.000000  96753.000000  9.675300e+04\n",
       "mean       2.563218      6.327215  4.278857e+02\n",
       "std        2.101681      3.241349  1.000614e+04\n",
       "min        0.000000      1.000000  1.000000e-02\n",
       "25%        1.000000      4.000000  3.348000e+01\n",
       "50%        2.000000      6.000000  1.379800e+02\n",
       "75%        5.000000      9.000000  4.282000e+02\n",
       "max        6.000000     12.000000  3.102046e+06"
      ]
     },
     "execution_count": 10,
     "metadata": {},
     "output_type": "execute_result"
    }
   ],
   "source": [
    "credit_card[['day', 'month','Amount']].describe()"
   ]
  },
  {
   "cell_type": "markdown",
   "id": "62d63d68",
   "metadata": {},
   "source": [
    "### UNIQUE VALUES"
   ]
  },
  {
   "cell_type": "code",
   "execution_count": 11,
   "id": "c7c400a8",
   "metadata": {},
   "outputs": [
    {
     "data": {
      "text/plain": [
       "{'day': 7,\n",
       " 'month': 12,\n",
       " 'Cardnum': 1645,\n",
       " 'Merchnum': 13092,\n",
       " 'Merch description': 13126,\n",
       " 'Merch state': 228,\n",
       " 'Amount': 34909,\n",
       " 'Fraud': 2}"
      ]
     },
     "execution_count": 11,
     "metadata": {},
     "output_type": "execute_result"
    }
   ],
   "source": [
    "dict_unique = {}\n",
    "for i in credit_card.columns.to_list():\n",
    "    dict_unique[i]=len(credit_card[i].unique())\n",
    "dict_unique"
   ]
  },
  {
   "cell_type": "markdown",
   "id": "df484be8",
   "metadata": {},
   "source": [
    "### CHECKING FOR DUPLICATES"
   ]
  },
  {
   "cell_type": "code",
   "execution_count": 12,
   "id": "1b192349",
   "metadata": {},
   "outputs": [
    {
     "data": {
      "text/plain": [
       "6898"
      ]
     },
     "execution_count": 12,
     "metadata": {},
     "output_type": "execute_result"
    }
   ],
   "source": [
    "credit_card.duplicated().sum()"
   ]
  },
  {
   "cell_type": "markdown",
   "id": "b8491b40",
   "metadata": {},
   "source": [
    "### STATISTICS SUMMARY"
   ]
  },
  {
   "cell_type": "code",
   "execution_count": 13,
   "id": "08ca4503",
   "metadata": {},
   "outputs": [
    {
     "data": {
      "text/html": [
       "<div>\n",
       "<style scoped>\n",
       "    .dataframe tbody tr th:only-of-type {\n",
       "        vertical-align: middle;\n",
       "    }\n",
       "\n",
       "    .dataframe tbody tr th {\n",
       "        vertical-align: top;\n",
       "    }\n",
       "\n",
       "    .dataframe thead th {\n",
       "        text-align: right;\n",
       "    }\n",
       "</style>\n",
       "<table border=\"1\" class=\"dataframe\">\n",
       "  <thead>\n",
       "    <tr style=\"text-align: right;\">\n",
       "      <th></th>\n",
       "      <th>day</th>\n",
       "      <th>month</th>\n",
       "      <th>Cardnum</th>\n",
       "      <th>Amount</th>\n",
       "      <th>Fraud</th>\n",
       "    </tr>\n",
       "  </thead>\n",
       "  <tbody>\n",
       "    <tr>\n",
       "      <th>count</th>\n",
       "      <td>96753.000000</td>\n",
       "      <td>96753.000000</td>\n",
       "      <td>9.675300e+04</td>\n",
       "      <td>9.675300e+04</td>\n",
       "      <td>96753.000000</td>\n",
       "    </tr>\n",
       "    <tr>\n",
       "      <th>mean</th>\n",
       "      <td>2.563218</td>\n",
       "      <td>6.327215</td>\n",
       "      <td>5.142202e+09</td>\n",
       "      <td>4.278857e+02</td>\n",
       "      <td>0.010945</td>\n",
       "    </tr>\n",
       "    <tr>\n",
       "      <th>std</th>\n",
       "      <td>2.101681</td>\n",
       "      <td>3.241349</td>\n",
       "      <td>5.567084e+04</td>\n",
       "      <td>1.000614e+04</td>\n",
       "      <td>0.104047</td>\n",
       "    </tr>\n",
       "    <tr>\n",
       "      <th>min</th>\n",
       "      <td>0.000000</td>\n",
       "      <td>1.000000</td>\n",
       "      <td>5.142110e+09</td>\n",
       "      <td>1.000000e-02</td>\n",
       "      <td>0.000000</td>\n",
       "    </tr>\n",
       "    <tr>\n",
       "      <th>25%</th>\n",
       "      <td>1.000000</td>\n",
       "      <td>4.000000</td>\n",
       "      <td>5.142152e+09</td>\n",
       "      <td>3.348000e+01</td>\n",
       "      <td>0.000000</td>\n",
       "    </tr>\n",
       "    <tr>\n",
       "      <th>50%</th>\n",
       "      <td>2.000000</td>\n",
       "      <td>6.000000</td>\n",
       "      <td>5.142196e+09</td>\n",
       "      <td>1.379800e+02</td>\n",
       "      <td>0.000000</td>\n",
       "    </tr>\n",
       "    <tr>\n",
       "      <th>75%</th>\n",
       "      <td>5.000000</td>\n",
       "      <td>9.000000</td>\n",
       "      <td>5.142246e+09</td>\n",
       "      <td>4.282000e+02</td>\n",
       "      <td>0.000000</td>\n",
       "    </tr>\n",
       "    <tr>\n",
       "      <th>max</th>\n",
       "      <td>6.000000</td>\n",
       "      <td>12.000000</td>\n",
       "      <td>5.142847e+09</td>\n",
       "      <td>3.102046e+06</td>\n",
       "      <td>1.000000</td>\n",
       "    </tr>\n",
       "  </tbody>\n",
       "</table>\n",
       "</div>"
      ],
      "text/plain": [
       "                day         month       Cardnum        Amount         Fraud\n",
       "count  96753.000000  96753.000000  9.675300e+04  9.675300e+04  96753.000000\n",
       "mean       2.563218      6.327215  5.142202e+09  4.278857e+02      0.010945\n",
       "std        2.101681      3.241349  5.567084e+04  1.000614e+04      0.104047\n",
       "min        0.000000      1.000000  5.142110e+09  1.000000e-02      0.000000\n",
       "25%        1.000000      4.000000  5.142152e+09  3.348000e+01      0.000000\n",
       "50%        2.000000      6.000000  5.142196e+09  1.379800e+02      0.000000\n",
       "75%        5.000000      9.000000  5.142246e+09  4.282000e+02      0.000000\n",
       "max        6.000000     12.000000  5.142847e+09  3.102046e+06      1.000000"
      ]
     },
     "execution_count": 13,
     "metadata": {},
     "output_type": "execute_result"
    }
   ],
   "source": [
    "credit_card.describe()"
   ]
  },
  {
   "cell_type": "markdown",
   "id": "4b70a24b",
   "metadata": {},
   "source": [
    "### EXPLORING THE DATASET"
   ]
  },
  {
   "cell_type": "code",
   "execution_count": 14,
   "id": "5163db68",
   "metadata": {
    "scrolled": false
   },
   "outputs": [
    {
     "data": {
      "image/png": "[encoded data removed]",
      "text/plain": [
       "<Figure size 864x432 with 1 Axes>"
      ]
     },
     "metadata": {
      "needs_background": "light"
     },
     "output_type": "display_data"
    },
    {
     "data": {
      "image/png": "[encoded data removed]",
      "text/plain": [
       "<Figure size 864x432 with 1 Axes>"
      ]
     },
     "metadata": {
      "needs_background": "light"
     },
     "output_type": "display_data"
    },
    {
     "data": {
      "image/png": "[encoded data removed]",
      "text/plain": [
       "<Figure size 864x432 with 1 Axes>"
      ]
     },
     "metadata": {
      "needs_background": "light"
     },
     "output_type": "display_data"
    },
    {
     "data": {
      "image/png": "[encoded data removed]",
      "text/plain": [
       "<Figure size 864x432 with 1 Axes>"
      ]
     },
     "metadata": {
      "needs_background": "light"
     },
     "output_type": "display_data"
    },
    {
     "data": {
      "image/png": "[encoded data removed]",
      "text/plain": [
       "<Figure size 864x432 with 1 Axes>"
      ]
     },
     "metadata": {
      "needs_background": "light"
     },
     "output_type": "display_data"
    },
    {
     "data": {
      "image/png": "[encoded data removed]",
      "text/plain": [
       "<Figure size 864x432 with 1 Axes>"
      ]
     },
     "metadata": {
      "needs_background": "light"
     },
     "output_type": "display_data"
    },
    {
     "data": {
      "image/png": "[encoded data removed]",
      "text/plain": [
       "<Figure size 864x432 with 1 Axes>"
      ]
     },
     "metadata": {
      "needs_background": "light"
     },
     "output_type": "display_data"
    },
    {
     "data": {
      "image/png": "[encoded data removed]",
      "text/plain": [
       "<Figure size 864x432 with 1 Axes>"
      ]
     },
     "metadata": {
      "needs_background": "light"
     },
     "output_type": "display_data"
    }
   ],
   "source": [
    "categoricalVar = credit_card.columns.tolist()\n",
    "for col in categoricalVar:\n",
    "    df = pd.DataFrame(credit_card[col].value_counts().sort_values(ascending=False).head(20))\n",
    "    df.plot(kind='bar',figsize=(12,6))\n",
    "    plt.xlabel(col,fontsize=15)\n",
    "    plt.ylabel('Frequency',fontsize=15)\n",
    "    plt.xticks(fontsize=12)"
   ]
  },
  {
   "cell_type": "markdown",
   "id": "95edad76",
   "metadata": {},
   "source": [
    "### CORRELATION ANALYSIS"
   ]
  },
  {
   "cell_type": "code",
   "execution_count": 15,
   "id": "e4736351",
   "metadata": {},
   "outputs": [
    {
     "data": {
      "image/png": "[encoded data removed]",
      "text/plain": [
       "<Figure size 432x288 with 2 Axes>"
      ]
     },
     "metadata": {
      "needs_background": "light"
     },
     "output_type": "display_data"
    }
   ],
   "source": [
    "plt.title('Pearson Correlation Matrix')\n",
    "sns.heatmap(credit_card.corr(),linewidths=0.25,vmax=0.7,square=True,cmap=\"winter\",\n",
    "            linecolor='w',annot=True);"
   ]
  },
  {
   "cell_type": "markdown",
   "id": "cac4223a",
   "metadata": {},
   "source": [
    "The correlation plot shows no presence of multi collinearity amongst the features. All of these features does not show high correlation with the target class"
   ]
  },
  {
   "cell_type": "markdown",
   "id": "06d09423",
   "metadata": {},
   "source": [
    "### DISTRIBUTION OF TARGET CLASS"
   ]
  },
  {
   "cell_type": "code",
   "execution_count": 16,
   "id": "2507425b",
   "metadata": {},
   "outputs": [
    {
     "data": {
      "image/png": "[encoded data removed]",
      "text/plain": [
       "<Figure size 720x432 with 1 Axes>"
      ]
     },
     "metadata": {},
     "output_type": "display_data"
    }
   ],
   "source": [
    "plt.figure(figsize=(10,6))\n",
    "labels = ['Not Fraud' , 'Frauds']\n",
    "explode = [.01,.01]\n",
    "color = ['skyblue' , 'Red']\n",
    "sizes = credit_card.Fraud.value_counts().values\n",
    "\n",
    "plt.pie(sizes,explode,labels,autopct=\"%1.1f%%\", colors = color)\n",
    "plt.show()"
   ]
  },
  {
   "cell_type": "markdown",
   "id": "65c7a279",
   "metadata": {},
   "source": [
    "The pie chart shows highly imbalanced dataset. "
   ]
  },
  {
   "cell_type": "code",
   "execution_count": 17,
   "id": "e4b15b23",
   "metadata": {
    "scrolled": true
   },
   "outputs": [
    {
     "data": {
      "text/plain": [
       "<matplotlib.legend.Legend at 0x276e6cb3dc0>"
      ]
     },
     "execution_count": 17,
     "metadata": {},
     "output_type": "execute_result"
    },
    {
     "data": {
      "image/png": "[encoded data removed]",
      "text/plain": [
       "<Figure size 432x288 with 1 Axes>"
      ]
     },
     "metadata": {
      "needs_background": "light"
     },
     "output_type": "display_data"
    }
   ],
   "source": [
    "ax=sns.histplot(x='Amount',data=credit_card[credit_card.Amount<=1000],\n",
    "                hue='Fraud',stat='percent',multiple='dodge',common_norm=False,bins=25)\n",
    "ax.set_ylabel('Percentage in Each Type')\n",
    "ax.set_xlabel('Transaction Amount ')\n",
    "plt.legend(title='Type', labels=['Fraud', 'Not Fraud'])"
   ]
  },
  {
   "cell_type": "markdown",
   "id": "ae892f1a",
   "metadata": {},
   "source": [
    "### STATE VS FRAUD : let's also explore which geographies are more prone to fraud. "
   ]
  },
  {
   "cell_type": "code",
   "execution_count": 18,
   "id": "92790004",
   "metadata": {},
   "outputs": [
    {
     "data": {
      "text/plain": [
       "Text(0.5, 1.0, 'The Percentage of Fraudulent over Non-Fraudulent Transcations in Each State')"
      ]
     },
     "execution_count": 18,
     "metadata": {},
     "output_type": "execute_result"
    },
    {
     "data": {
      "image/png": "[encoded data removed]",
      "text/plain": [
       "<Figure size 432x288 with 1 Axes>"
      ]
     },
     "metadata": {
      "needs_background": "light"
     },
     "output_type": "display_data"
    }
   ],
   "source": [
    "a=credit_card['Merch state'][credit_card.Fraud==0].value_counts(normalize=True)\n",
    "a=a.to_frame()\n",
    "a=a.reset_index()\n",
    "a.columns = ['Merch state', 'Per']\n",
    "\n",
    "b=credit_card['Merch state'][credit_card.Fraud==1].value_counts(normalize=True)\n",
    "b=b.to_frame()\n",
    "b=b.reset_index()\n",
    "b.columns = ['Merch state', 'Per']\n",
    "\n",
    "merged=a.merge(b,on='Merch state')\n",
    "merged['diff']=merged['Per_y']-merged['Per_x']\n",
    "merged['diff']=merged['diff']*100\n",
    "merged=merged.sort_values('diff',ascending=False)\n",
    "\n",
    "ax1=sns.barplot(data=merged, x='diff',y='Merch state')\n",
    "ax1.set_xlabel('Percentage Difference')\n",
    "ax1.set_ylabel('Merch state')\n",
    "plt.title('The Percentage of Fraudulent over Non-Fraudulent Transcations in Each State')"
   ]
  },
  {
   "cell_type": "markdown",
   "id": "d81f51b0",
   "metadata": {},
   "source": [
    "### Monthly trends"
   ]
  },
  {
   "cell_type": "code",
   "execution_count": 19,
   "id": "f94a701f",
   "metadata": {},
   "outputs": [
    {
     "data": {
      "text/plain": [
       "<matplotlib.legend.Legend at 0x276e6427d00>"
      ]
     },
     "execution_count": 19,
     "metadata": {},
     "output_type": "execute_result"
    },
    {
     "data": {
      "image/png": "[encoded data removed]",
      "text/plain": [
       "<Figure size 432x288 with 1 Axes>"
      ]
     },
     "metadata": {
      "needs_background": "light"
     },
     "output_type": "display_data"
    }
   ],
   "source": [
    "#month vs fraud\n",
    "ax=sns.histplot(data=credit_card, x=\"month\", hue=\"Fraud\", common_norm=False,stat='percent',multiple='dodge')\n",
    "ax.set_ylabel('Percentage')\n",
    "ax.set_xlabel('Month')\n",
    "plt.xticks(np.arange(1,13,1))\n",
    "ax.set_xticklabels([\"Jan\",\"Feb\",\"Mar\",\"Apr\",\"May\",\"Jun\",\"Jul\",'Aug','Sep','Oct','Nov','Dec'])\n",
    "plt.legend(title='Type', labels=['Fraud', 'Not Fraud'])"
   ]
  },
  {
   "cell_type": "markdown",
   "id": "96f524fd",
   "metadata": {},
   "source": [
    "### Daily trend"
   ]
  },
  {
   "cell_type": "code",
   "execution_count": 20,
   "id": "a9b4e730",
   "metadata": {},
   "outputs": [
    {
     "name": "stderr",
     "output_type": "stream",
     "text": [
      "C:\\Users\\Home\\AppData\\Local\\Temp\\ipykernel_17880\\3150562307.py:2: UserWarning: FixedFormatter should only be used together with FixedLocator\n",
      "  ax.set_xticklabels(['',\"Mon\",\"Tue\",\"Wed\",\"Thu\",\"Fri\",\"Sat\",\"Sun\"])\n"
     ]
    },
    {
     "data": {
      "text/plain": [
       "<matplotlib.legend.Legend at 0x276e8ab76a0>"
      ]
     },
     "execution_count": 20,
     "metadata": {},
     "output_type": "execute_result"
    },
    {
     "data": {
      "image/png": "[encoded data removed]",
      "text/plain": [
       "<Figure size 432x288 with 1 Axes>"
      ]
     },
     "metadata": {
      "needs_background": "light"
     },
     "output_type": "display_data"
    }
   ],
   "source": [
    "ax=sns.histplot(data = credit_card, x=\"day\", hue=\"Fraud\", common_norm=False,stat='percent',multiple='dodge')\n",
    "ax.set_xticklabels(['',\"Mon\",\"Tue\",\"Wed\",\"Thu\",\"Fri\",\"Sat\",\"Sun\"])\n",
    "ax.set_ylabel('Percentage')\n",
    "ax.set_xlabel('Day')\n",
    "plt.legend(title='Type', labels=['Fraud', 'Not Fraud'])"
   ]
  },
  {
   "cell_type": "markdown",
   "id": "9b71f4ff",
   "metadata": {},
   "source": [
    "### ENCODING INDEPENDENT VARIABLE"
   ]
  },
  {
   "cell_type": "code",
   "execution_count": 21,
   "id": "decc6174",
   "metadata": {},
   "outputs": [
    {
     "data": {
      "text/html": [
       "<div>\n",
       "<style scoped>\n",
       "    .dataframe tbody tr th:only-of-type {\n",
       "        vertical-align: middle;\n",
       "    }\n",
       "\n",
       "    .dataframe tbody tr th {\n",
       "        vertical-align: top;\n",
       "    }\n",
       "\n",
       "    .dataframe thead th {\n",
       "        text-align: right;\n",
       "    }\n",
       "</style>\n",
       "<table border=\"1\" class=\"dataframe\">\n",
       "  <thead>\n",
       "    <tr style=\"text-align: right;\">\n",
       "      <th></th>\n",
       "      <th>day</th>\n",
       "      <th>month</th>\n",
       "      <th>Cardnum</th>\n",
       "      <th>Merchnum</th>\n",
       "      <th>Merch description</th>\n",
       "      <th>Merch state</th>\n",
       "      <th>Amount</th>\n",
       "      <th>Fraud</th>\n",
       "    </tr>\n",
       "  </thead>\n",
       "  <tbody>\n",
       "    <tr>\n",
       "      <th>0</th>\n",
       "      <td>4</td>\n",
       "      <td>1</td>\n",
       "      <td>5142190439</td>\n",
       "      <td>4975</td>\n",
       "      <td>4594</td>\n",
       "      <td>217</td>\n",
       "      <td>3.62</td>\n",
       "      <td>0</td>\n",
       "    </tr>\n",
       "    <tr>\n",
       "      <th>1</th>\n",
       "      <td>4</td>\n",
       "      <td>1</td>\n",
       "      <td>5142183973</td>\n",
       "      <td>6735</td>\n",
       "      <td>10393</td>\n",
       "      <td>189</td>\n",
       "      <td>31.42</td>\n",
       "      <td>0</td>\n",
       "    </tr>\n",
       "    <tr>\n",
       "      <th>2</th>\n",
       "      <td>4</td>\n",
       "      <td>1</td>\n",
       "      <td>5142131721</td>\n",
       "      <td>3340</td>\n",
       "      <td>8454</td>\n",
       "      <td>191</td>\n",
       "      <td>178.49</td>\n",
       "      <td>0</td>\n",
       "    </tr>\n",
       "    <tr>\n",
       "      <th>3</th>\n",
       "      <td>4</td>\n",
       "      <td>1</td>\n",
       "      <td>5142148452</td>\n",
       "      <td>4975</td>\n",
       "      <td>4598</td>\n",
       "      <td>217</td>\n",
       "      <td>3.62</td>\n",
       "      <td>0</td>\n",
       "    </tr>\n",
       "    <tr>\n",
       "      <th>4</th>\n",
       "      <td>4</td>\n",
       "      <td>1</td>\n",
       "      <td>5142190439</td>\n",
       "      <td>4975</td>\n",
       "      <td>4594</td>\n",
       "      <td>217</td>\n",
       "      <td>3.62</td>\n",
       "      <td>0</td>\n",
       "    </tr>\n",
       "    <tr>\n",
       "      <th>...</th>\n",
       "      <td>...</td>\n",
       "      <td>...</td>\n",
       "      <td>...</td>\n",
       "      <td>...</td>\n",
       "      <td>...</td>\n",
       "      <td>...</td>\n",
       "      <td>...</td>\n",
       "      <td>...</td>\n",
       "    </tr>\n",
       "    <tr>\n",
       "      <th>96748</th>\n",
       "      <td>4</td>\n",
       "      <td>12</td>\n",
       "      <td>5142276053</td>\n",
       "      <td>2241</td>\n",
       "      <td>1534</td>\n",
       "      <td>187</td>\n",
       "      <td>84.79</td>\n",
       "      <td>0</td>\n",
       "    </tr>\n",
       "    <tr>\n",
       "      <th>96749</th>\n",
       "      <td>4</td>\n",
       "      <td>12</td>\n",
       "      <td>5142225701</td>\n",
       "      <td>9925</td>\n",
       "      <td>7247</td>\n",
       "      <td>207</td>\n",
       "      <td>118.75</td>\n",
       "      <td>0</td>\n",
       "    </tr>\n",
       "    <tr>\n",
       "      <th>96750</th>\n",
       "      <td>4</td>\n",
       "      <td>12</td>\n",
       "      <td>5142226486</td>\n",
       "      <td>3226</td>\n",
       "      <td>11299</td>\n",
       "      <td>207</td>\n",
       "      <td>363.56</td>\n",
       "      <td>0</td>\n",
       "    </tr>\n",
       "    <tr>\n",
       "      <th>96751</th>\n",
       "      <td>4</td>\n",
       "      <td>12</td>\n",
       "      <td>5142244619</td>\n",
       "      <td>10571</td>\n",
       "      <td>2093</td>\n",
       "      <td>174</td>\n",
       "      <td>2202.03</td>\n",
       "      <td>0</td>\n",
       "    </tr>\n",
       "    <tr>\n",
       "      <th>96752</th>\n",
       "      <td>4</td>\n",
       "      <td>12</td>\n",
       "      <td>5142243247</td>\n",
       "      <td>11477</td>\n",
       "      <td>10959</td>\n",
       "      <td>202</td>\n",
       "      <td>554.64</td>\n",
       "      <td>0</td>\n",
       "    </tr>\n",
       "  </tbody>\n",
       "</table>\n",
       "<p>96753 rows × 8 columns</p>\n",
       "</div>"
      ],
      "text/plain": [
       "       day  month     Cardnum  Merchnum  Merch description  Merch state  \\\n",
       "0        4      1  5142190439      4975               4594          217   \n",
       "1        4      1  5142183973      6735              10393          189   \n",
       "2        4      1  5142131721      3340               8454          191   \n",
       "3        4      1  5142148452      4975               4598          217   \n",
       "4        4      1  5142190439      4975               4594          217   \n",
       "...    ...    ...         ...       ...                ...          ...   \n",
       "96748    4     12  5142276053      2241               1534          187   \n",
       "96749    4     12  5142225701      9925               7247          207   \n",
       "96750    4     12  5142226486      3226              11299          207   \n",
       "96751    4     12  5142244619     10571               2093          174   \n",
       "96752    4     12  5142243247     11477              10959          202   \n",
       "\n",
       "        Amount  Fraud  \n",
       "0         3.62      0  \n",
       "1        31.42      0  \n",
       "2       178.49      0  \n",
       "3         3.62      0  \n",
       "4         3.62      0  \n",
       "...        ...    ...  \n",
       "96748    84.79      0  \n",
       "96749   118.75      0  \n",
       "96750   363.56      0  \n",
       "96751  2202.03      0  \n",
       "96752   554.64      0  \n",
       "\n",
       "[96753 rows x 8 columns]"
      ]
     },
     "execution_count": 21,
     "metadata": {},
     "output_type": "execute_result"
    }
   ],
   "source": [
    "le = LabelEncoder()\n",
    "credit_card[\"Merchnum\"] = le.fit_transform(credit_card['Merchnum'])\n",
    "credit_card[\"Merch description\"] = le.fit_transform(credit_card['Merch description'])\n",
    "credit_card[\"Merch state\"] = le.fit_transform(credit_card['Merch state'])\n",
    "credit_card"
   ]
  },
  {
   "cell_type": "code",
   "execution_count": 22,
   "id": "6d5ef868",
   "metadata": {
    "scrolled": true
   },
   "outputs": [
    {
     "name": "stdout",
     "output_type": "stream",
     "text": [
      "<class 'pandas.core.frame.DataFrame'>\n",
      "RangeIndex: 96753 entries, 0 to 96752\n",
      "Data columns (total 8 columns):\n",
      " #   Column             Non-Null Count  Dtype  \n",
      "---  ------             --------------  -----  \n",
      " 0   day                96753 non-null  int64  \n",
      " 1   month              96753 non-null  int64  \n",
      " 2   Cardnum            96753 non-null  int64  \n",
      " 3   Merchnum           96753 non-null  int32  \n",
      " 4   Merch description  96753 non-null  int32  \n",
      " 5   Merch state        96753 non-null  int32  \n",
      " 6   Amount             96753 non-null  float64\n",
      " 7   Fraud              96753 non-null  int64  \n",
      "dtypes: float64(1), int32(3), int64(4)\n",
      "memory usage: 4.8 MB\n"
     ]
    }
   ],
   "source": [
    "credit_card.info()"
   ]
  },
  {
   "cell_type": "markdown",
   "id": "b71a1e49",
   "metadata": {},
   "source": [
    "### FEATURE SCALING "
   ]
  },
  {
   "cell_type": "code",
   "execution_count": 23,
   "id": "f554a7bd",
   "metadata": {},
   "outputs": [
    {
     "data": {
      "text/html": [
       "<div>\n",
       "<style scoped>\n",
       "    .dataframe tbody tr th:only-of-type {\n",
       "        vertical-align: middle;\n",
       "    }\n",
       "\n",
       "    .dataframe tbody tr th {\n",
       "        vertical-align: top;\n",
       "    }\n",
       "\n",
       "    .dataframe thead th {\n",
       "        text-align: right;\n",
       "    }\n",
       "</style>\n",
       "<table border=\"1\" class=\"dataframe\">\n",
       "  <thead>\n",
       "    <tr style=\"text-align: right;\">\n",
       "      <th></th>\n",
       "      <th>day</th>\n",
       "      <th>month</th>\n",
       "      <th>Cardnum</th>\n",
       "      <th>Merchnum</th>\n",
       "      <th>Merch description</th>\n",
       "      <th>Merch state</th>\n",
       "      <th>Amount</th>\n",
       "      <th>Fraud</th>\n",
       "      <th>amount_log</th>\n",
       "      <th>Cardnum_log</th>\n",
       "      <th>Merchnum_log</th>\n",
       "      <th>Merch description_log</th>\n",
       "      <th>Merch state_log</th>\n",
       "    </tr>\n",
       "  </thead>\n",
       "  <tbody>\n",
       "    <tr>\n",
       "      <th>0</th>\n",
       "      <td>4</td>\n",
       "      <td>1</td>\n",
       "      <td>5142190439</td>\n",
       "      <td>4975</td>\n",
       "      <td>4594</td>\n",
       "      <td>217</td>\n",
       "      <td>3.62</td>\n",
       "      <td>0</td>\n",
       "      <td>1.286502</td>\n",
       "      <td>22.360745</td>\n",
       "      <td>8.512181</td>\n",
       "      <td>8.432506</td>\n",
       "      <td>5.379898</td>\n",
       "    </tr>\n",
       "    <tr>\n",
       "      <th>1</th>\n",
       "      <td>4</td>\n",
       "      <td>1</td>\n",
       "      <td>5142183973</td>\n",
       "      <td>6735</td>\n",
       "      <td>10393</td>\n",
       "      <td>189</td>\n",
       "      <td>31.42</td>\n",
       "      <td>0</td>\n",
       "      <td>3.447448</td>\n",
       "      <td>22.360744</td>\n",
       "      <td>8.815073</td>\n",
       "      <td>9.248888</td>\n",
       "      <td>5.241748</td>\n",
       "    </tr>\n",
       "    <tr>\n",
       "      <th>2</th>\n",
       "      <td>4</td>\n",
       "      <td>1</td>\n",
       "      <td>5142131721</td>\n",
       "      <td>3340</td>\n",
       "      <td>8454</td>\n",
       "      <td>191</td>\n",
       "      <td>178.49</td>\n",
       "      <td>0</td>\n",
       "      <td>5.184533</td>\n",
       "      <td>22.360734</td>\n",
       "      <td>8.113726</td>\n",
       "      <td>9.042395</td>\n",
       "      <td>5.252274</td>\n",
       "    </tr>\n",
       "    <tr>\n",
       "      <th>3</th>\n",
       "      <td>4</td>\n",
       "      <td>1</td>\n",
       "      <td>5142148452</td>\n",
       "      <td>4975</td>\n",
       "      <td>4598</td>\n",
       "      <td>217</td>\n",
       "      <td>3.62</td>\n",
       "      <td>0</td>\n",
       "      <td>1.286502</td>\n",
       "      <td>22.360737</td>\n",
       "      <td>8.512181</td>\n",
       "      <td>8.433377</td>\n",
       "      <td>5.379898</td>\n",
       "    </tr>\n",
       "    <tr>\n",
       "      <th>4</th>\n",
       "      <td>4</td>\n",
       "      <td>1</td>\n",
       "      <td>5142190439</td>\n",
       "      <td>4975</td>\n",
       "      <td>4594</td>\n",
       "      <td>217</td>\n",
       "      <td>3.62</td>\n",
       "      <td>0</td>\n",
       "      <td>1.286502</td>\n",
       "      <td>22.360745</td>\n",
       "      <td>8.512181</td>\n",
       "      <td>8.432506</td>\n",
       "      <td>5.379898</td>\n",
       "    </tr>\n",
       "    <tr>\n",
       "      <th>...</th>\n",
       "      <td>...</td>\n",
       "      <td>...</td>\n",
       "      <td>...</td>\n",
       "      <td>...</td>\n",
       "      <td>...</td>\n",
       "      <td>...</td>\n",
       "      <td>...</td>\n",
       "      <td>...</td>\n",
       "      <td>...</td>\n",
       "      <td>...</td>\n",
       "      <td>...</td>\n",
       "      <td>...</td>\n",
       "      <td>...</td>\n",
       "    </tr>\n",
       "    <tr>\n",
       "      <th>96748</th>\n",
       "      <td>4</td>\n",
       "      <td>12</td>\n",
       "      <td>5142276053</td>\n",
       "      <td>2241</td>\n",
       "      <td>1534</td>\n",
       "      <td>187</td>\n",
       "      <td>84.79</td>\n",
       "      <td>0</td>\n",
       "      <td>4.440179</td>\n",
       "      <td>22.360762</td>\n",
       "      <td>7.714678</td>\n",
       "      <td>7.335634</td>\n",
       "      <td>5.231109</td>\n",
       "    </tr>\n",
       "    <tr>\n",
       "      <th>96749</th>\n",
       "      <td>4</td>\n",
       "      <td>12</td>\n",
       "      <td>5142225701</td>\n",
       "      <td>9925</td>\n",
       "      <td>7247</td>\n",
       "      <td>207</td>\n",
       "      <td>118.75</td>\n",
       "      <td>0</td>\n",
       "      <td>4.777021</td>\n",
       "      <td>22.360752</td>\n",
       "      <td>9.202812</td>\n",
       "      <td>8.888343</td>\n",
       "      <td>5.332719</td>\n",
       "    </tr>\n",
       "    <tr>\n",
       "      <th>96750</th>\n",
       "      <td>4</td>\n",
       "      <td>12</td>\n",
       "      <td>5142226486</td>\n",
       "      <td>3226</td>\n",
       "      <td>11299</td>\n",
       "      <td>207</td>\n",
       "      <td>363.56</td>\n",
       "      <td>0</td>\n",
       "      <td>5.895945</td>\n",
       "      <td>22.360752</td>\n",
       "      <td>8.078998</td>\n",
       "      <td>9.332470</td>\n",
       "      <td>5.332719</td>\n",
       "    </tr>\n",
       "    <tr>\n",
       "      <th>96751</th>\n",
       "      <td>4</td>\n",
       "      <td>12</td>\n",
       "      <td>5142244619</td>\n",
       "      <td>10571</td>\n",
       "      <td>2093</td>\n",
       "      <td>174</td>\n",
       "      <td>2202.03</td>\n",
       "      <td>0</td>\n",
       "      <td>7.697135</td>\n",
       "      <td>22.360756</td>\n",
       "      <td>9.265870</td>\n",
       "      <td>7.646354</td>\n",
       "      <td>5.159056</td>\n",
       "    </tr>\n",
       "    <tr>\n",
       "      <th>96752</th>\n",
       "      <td>4</td>\n",
       "      <td>12</td>\n",
       "      <td>5142243247</td>\n",
       "      <td>11477</td>\n",
       "      <td>10959</td>\n",
       "      <td>202</td>\n",
       "      <td>554.64</td>\n",
       "      <td>0</td>\n",
       "      <td>6.318319</td>\n",
       "      <td>22.360755</td>\n",
       "      <td>9.348100</td>\n",
       "      <td>9.301916</td>\n",
       "      <td>5.308268</td>\n",
       "    </tr>\n",
       "  </tbody>\n",
       "</table>\n",
       "<p>96753 rows × 13 columns</p>\n",
       "</div>"
      ],
      "text/plain": [
       "       day  month     Cardnum  Merchnum  Merch description  Merch state  \\\n",
       "0        4      1  5142190439      4975               4594          217   \n",
       "1        4      1  5142183973      6735              10393          189   \n",
       "2        4      1  5142131721      3340               8454          191   \n",
       "3        4      1  5142148452      4975               4598          217   \n",
       "4        4      1  5142190439      4975               4594          217   \n",
       "...    ...    ...         ...       ...                ...          ...   \n",
       "96748    4     12  5142276053      2241               1534          187   \n",
       "96749    4     12  5142225701      9925               7247          207   \n",
       "96750    4     12  5142226486      3226              11299          207   \n",
       "96751    4     12  5142244619     10571               2093          174   \n",
       "96752    4     12  5142243247     11477              10959          202   \n",
       "\n",
       "        Amount  Fraud  amount_log  Cardnum_log  Merchnum_log  \\\n",
       "0         3.62      0    1.286502    22.360745      8.512181   \n",
       "1        31.42      0    3.447448    22.360744      8.815073   \n",
       "2       178.49      0    5.184533    22.360734      8.113726   \n",
       "3         3.62      0    1.286502    22.360737      8.512181   \n",
       "4         3.62      0    1.286502    22.360745      8.512181   \n",
       "...        ...    ...         ...          ...           ...   \n",
       "96748    84.79      0    4.440179    22.360762      7.714678   \n",
       "96749   118.75      0    4.777021    22.360752      9.202812   \n",
       "96750   363.56      0    5.895945    22.360752      8.078998   \n",
       "96751  2202.03      0    7.697135    22.360756      9.265870   \n",
       "96752   554.64      0    6.318319    22.360755      9.348100   \n",
       "\n",
       "       Merch description_log  Merch state_log  \n",
       "0                   8.432506         5.379898  \n",
       "1                   9.248888         5.241748  \n",
       "2                   9.042395         5.252274  \n",
       "3                   8.433377         5.379898  \n",
       "4                   8.432506         5.379898  \n",
       "...                      ...              ...  \n",
       "96748               7.335634         5.231109  \n",
       "96749               8.888343         5.332719  \n",
       "96750               9.332470         5.332719  \n",
       "96751               7.646354         5.159056  \n",
       "96752               9.301916         5.308268  \n",
       "\n",
       "[96753 rows x 13 columns]"
      ]
     },
     "execution_count": 23,
     "metadata": {},
     "output_type": "execute_result"
    }
   ],
   "source": [
    "# Scale amount by log\n",
    "# Adding a small amount of 0.0001 to amount as log of zero is infinite.\n",
    "credit_card['amount_log'] = np.log(credit_card.Amount + 0.0001)\n",
    "credit_card['Cardnum_log'] = np.log(credit_card.Cardnum + 0.0001)\n",
    "credit_card['Merchnum_log'] = np.log(credit_card.Merchnum + 0.0001)\n",
    "credit_card['Merch description_log'] = np.log(credit_card['Merch description'] + 0.0001)\n",
    "credit_card['Merch state_log'] = np.log(credit_card['Merch state'] + 0.0001)\n",
    "credit_card"
   ]
  },
  {
   "cell_type": "code",
   "execution_count": 24,
   "id": "8c94e547",
   "metadata": {},
   "outputs": [
    {
     "data": {
      "text/html": [
       "<div>\n",
       "<style scoped>\n",
       "    .dataframe tbody tr th:only-of-type {\n",
       "        vertical-align: middle;\n",
       "    }\n",
       "\n",
       "    .dataframe tbody tr th {\n",
       "        vertical-align: top;\n",
       "    }\n",
       "\n",
       "    .dataframe thead th {\n",
       "        text-align: right;\n",
       "    }\n",
       "</style>\n",
       "<table border=\"1\" class=\"dataframe\">\n",
       "  <thead>\n",
       "    <tr style=\"text-align: right;\">\n",
       "      <th></th>\n",
       "      <th>day</th>\n",
       "      <th>month</th>\n",
       "      <th>Cardnum</th>\n",
       "      <th>Merchnum</th>\n",
       "      <th>Merch description</th>\n",
       "      <th>Merch state</th>\n",
       "      <th>Amount</th>\n",
       "      <th>Fraud</th>\n",
       "      <th>amount_log</th>\n",
       "      <th>Cardnum_log</th>\n",
       "      <th>Merchnum_log</th>\n",
       "      <th>Merch description_log</th>\n",
       "      <th>Merch state_log</th>\n",
       "      <th>amount_scaled</th>\n",
       "      <th>Cardnum_scaled</th>\n",
       "      <th>Merchnum_scaled</th>\n",
       "      <th>Merch description_scaled</th>\n",
       "      <th>Merch state_scaled</th>\n",
       "    </tr>\n",
       "  </thead>\n",
       "  <tbody>\n",
       "    <tr>\n",
       "      <th>0</th>\n",
       "      <td>4</td>\n",
       "      <td>1</td>\n",
       "      <td>5142190439</td>\n",
       "      <td>4975</td>\n",
       "      <td>4594</td>\n",
       "      <td>217</td>\n",
       "      <td>3.62</td>\n",
       "      <td>0</td>\n",
       "      <td>1.286502</td>\n",
       "      <td>22.360745</td>\n",
       "      <td>8.512181</td>\n",
       "      <td>8.432506</td>\n",
       "      <td>5.379898</td>\n",
       "      <td>-0.042401</td>\n",
       "      <td>-0.203839</td>\n",
       "      <td>-0.611361</td>\n",
       "      <td>-0.498148</td>\n",
       "      <td>0.974765</td>\n",
       "    </tr>\n",
       "    <tr>\n",
       "      <th>1</th>\n",
       "      <td>4</td>\n",
       "      <td>1</td>\n",
       "      <td>5142183973</td>\n",
       "      <td>6735</td>\n",
       "      <td>10393</td>\n",
       "      <td>189</td>\n",
       "      <td>31.42</td>\n",
       "      <td>0</td>\n",
       "      <td>3.447448</td>\n",
       "      <td>22.360744</td>\n",
       "      <td>8.815073</td>\n",
       "      <td>9.248888</td>\n",
       "      <td>5.241748</td>\n",
       "      <td>-0.039622</td>\n",
       "      <td>-0.319986</td>\n",
       "      <td>-0.176560</td>\n",
       "      <td>1.157666</td>\n",
       "      <td>-0.590932</td>\n",
       "    </tr>\n",
       "    <tr>\n",
       "      <th>2</th>\n",
       "      <td>4</td>\n",
       "      <td>1</td>\n",
       "      <td>5142131721</td>\n",
       "      <td>3340</td>\n",
       "      <td>8454</td>\n",
       "      <td>191</td>\n",
       "      <td>178.49</td>\n",
       "      <td>0</td>\n",
       "      <td>5.184533</td>\n",
       "      <td>22.360734</td>\n",
       "      <td>8.113726</td>\n",
       "      <td>9.042395</td>\n",
       "      <td>5.252274</td>\n",
       "      <td>-0.024924</td>\n",
       "      <td>-1.258580</td>\n",
       "      <td>-1.015281</td>\n",
       "      <td>0.604015</td>\n",
       "      <td>-0.479096</td>\n",
       "    </tr>\n",
       "    <tr>\n",
       "      <th>3</th>\n",
       "      <td>4</td>\n",
       "      <td>1</td>\n",
       "      <td>5142148452</td>\n",
       "      <td>4975</td>\n",
       "      <td>4598</td>\n",
       "      <td>217</td>\n",
       "      <td>3.62</td>\n",
       "      <td>0</td>\n",
       "      <td>1.286502</td>\n",
       "      <td>22.360737</td>\n",
       "      <td>8.512181</td>\n",
       "      <td>8.433377</td>\n",
       "      <td>5.379898</td>\n",
       "      <td>-0.042401</td>\n",
       "      <td>-0.958044</td>\n",
       "      <td>-0.611361</td>\n",
       "      <td>-0.497006</td>\n",
       "      <td>0.974765</td>\n",
       "    </tr>\n",
       "    <tr>\n",
       "      <th>4</th>\n",
       "      <td>4</td>\n",
       "      <td>1</td>\n",
       "      <td>5142190439</td>\n",
       "      <td>4975</td>\n",
       "      <td>4594</td>\n",
       "      <td>217</td>\n",
       "      <td>3.62</td>\n",
       "      <td>0</td>\n",
       "      <td>1.286502</td>\n",
       "      <td>22.360745</td>\n",
       "      <td>8.512181</td>\n",
       "      <td>8.432506</td>\n",
       "      <td>5.379898</td>\n",
       "      <td>-0.042401</td>\n",
       "      <td>-0.203839</td>\n",
       "      <td>-0.611361</td>\n",
       "      <td>-0.498148</td>\n",
       "      <td>0.974765</td>\n",
       "    </tr>\n",
       "    <tr>\n",
       "      <th>...</th>\n",
       "      <td>...</td>\n",
       "      <td>...</td>\n",
       "      <td>...</td>\n",
       "      <td>...</td>\n",
       "      <td>...</td>\n",
       "      <td>...</td>\n",
       "      <td>...</td>\n",
       "      <td>...</td>\n",
       "      <td>...</td>\n",
       "      <td>...</td>\n",
       "      <td>...</td>\n",
       "      <td>...</td>\n",
       "      <td>...</td>\n",
       "      <td>...</td>\n",
       "      <td>...</td>\n",
       "      <td>...</td>\n",
       "      <td>...</td>\n",
       "      <td>...</td>\n",
       "    </tr>\n",
       "    <tr>\n",
       "      <th>96748</th>\n",
       "      <td>4</td>\n",
       "      <td>12</td>\n",
       "      <td>5142276053</td>\n",
       "      <td>2241</td>\n",
       "      <td>1534</td>\n",
       "      <td>187</td>\n",
       "      <td>84.79</td>\n",
       "      <td>0</td>\n",
       "      <td>4.440179</td>\n",
       "      <td>22.360762</td>\n",
       "      <td>7.714678</td>\n",
       "      <td>7.335634</td>\n",
       "      <td>5.231109</td>\n",
       "      <td>-0.034289</td>\n",
       "      <td>1.334030</td>\n",
       "      <td>-1.286785</td>\n",
       "      <td>-1.371884</td>\n",
       "      <td>-0.702767</td>\n",
       "    </tr>\n",
       "    <tr>\n",
       "      <th>96749</th>\n",
       "      <td>4</td>\n",
       "      <td>12</td>\n",
       "      <td>5142225701</td>\n",
       "      <td>9925</td>\n",
       "      <td>7247</td>\n",
       "      <td>207</td>\n",
       "      <td>118.75</td>\n",
       "      <td>0</td>\n",
       "      <td>4.777021</td>\n",
       "      <td>22.360752</td>\n",
       "      <td>9.202812</td>\n",
       "      <td>8.888343</td>\n",
       "      <td>5.332719</td>\n",
       "      <td>-0.030895</td>\n",
       "      <td>0.429566</td>\n",
       "      <td>0.611517</td>\n",
       "      <td>0.259375</td>\n",
       "      <td>0.415587</td>\n",
       "    </tr>\n",
       "    <tr>\n",
       "      <th>96750</th>\n",
       "      <td>4</td>\n",
       "      <td>12</td>\n",
       "      <td>5142226486</td>\n",
       "      <td>3226</td>\n",
       "      <td>11299</td>\n",
       "      <td>207</td>\n",
       "      <td>363.56</td>\n",
       "      <td>0</td>\n",
       "      <td>5.895945</td>\n",
       "      <td>22.360752</td>\n",
       "      <td>8.078998</td>\n",
       "      <td>9.332470</td>\n",
       "      <td>5.332719</td>\n",
       "      <td>-0.006429</td>\n",
       "      <td>0.443667</td>\n",
       "      <td>-1.043445</td>\n",
       "      <td>1.416361</td>\n",
       "      <td>0.415587</td>\n",
       "    </tr>\n",
       "    <tr>\n",
       "      <th>96751</th>\n",
       "      <td>4</td>\n",
       "      <td>12</td>\n",
       "      <td>5142244619</td>\n",
       "      <td>10571</td>\n",
       "      <td>2093</td>\n",
       "      <td>174</td>\n",
       "      <td>2202.03</td>\n",
       "      <td>0</td>\n",
       "      <td>7.697135</td>\n",
       "      <td>22.360756</td>\n",
       "      <td>9.265870</td>\n",
       "      <td>7.646354</td>\n",
       "      <td>5.159056</td>\n",
       "      <td>0.177306</td>\n",
       "      <td>0.769387</td>\n",
       "      <td>0.771108</td>\n",
       "      <td>-1.212270</td>\n",
       "      <td>-1.429698</td>\n",
       "    </tr>\n",
       "    <tr>\n",
       "      <th>96752</th>\n",
       "      <td>4</td>\n",
       "      <td>12</td>\n",
       "      <td>5142243247</td>\n",
       "      <td>11477</td>\n",
       "      <td>10959</td>\n",
       "      <td>202</td>\n",
       "      <td>554.64</td>\n",
       "      <td>0</td>\n",
       "      <td>6.318319</td>\n",
       "      <td>22.360755</td>\n",
       "      <td>9.348100</td>\n",
       "      <td>9.301916</td>\n",
       "      <td>5.308268</td>\n",
       "      <td>0.012668</td>\n",
       "      <td>0.744742</td>\n",
       "      <td>0.994932</td>\n",
       "      <td>1.319279</td>\n",
       "      <td>0.135999</td>\n",
       "    </tr>\n",
       "  </tbody>\n",
       "</table>\n",
       "<p>96753 rows × 18 columns</p>\n",
       "</div>"
      ],
      "text/plain": [
       "       day  month     Cardnum  Merchnum  Merch description  Merch state  \\\n",
       "0        4      1  5142190439      4975               4594          217   \n",
       "1        4      1  5142183973      6735              10393          189   \n",
       "2        4      1  5142131721      3340               8454          191   \n",
       "3        4      1  5142148452      4975               4598          217   \n",
       "4        4      1  5142190439      4975               4594          217   \n",
       "...    ...    ...         ...       ...                ...          ...   \n",
       "96748    4     12  5142276053      2241               1534          187   \n",
       "96749    4     12  5142225701      9925               7247          207   \n",
       "96750    4     12  5142226486      3226              11299          207   \n",
       "96751    4     12  5142244619     10571               2093          174   \n",
       "96752    4     12  5142243247     11477              10959          202   \n",
       "\n",
       "        Amount  Fraud  amount_log  Cardnum_log  Merchnum_log  \\\n",
       "0         3.62      0    1.286502    22.360745      8.512181   \n",
       "1        31.42      0    3.447448    22.360744      8.815073   \n",
       "2       178.49      0    5.184533    22.360734      8.113726   \n",
       "3         3.62      0    1.286502    22.360737      8.512181   \n",
       "4         3.62      0    1.286502    22.360745      8.512181   \n",
       "...        ...    ...         ...          ...           ...   \n",
       "96748    84.79      0    4.440179    22.360762      7.714678   \n",
       "96749   118.75      0    4.777021    22.360752      9.202812   \n",
       "96750   363.56      0    5.895945    22.360752      8.078998   \n",
       "96751  2202.03      0    7.697135    22.360756      9.265870   \n",
       "96752   554.64      0    6.318319    22.360755      9.348100   \n",
       "\n",
       "       Merch description_log  Merch state_log  amount_scaled  Cardnum_scaled  \\\n",
       "0                   8.432506         5.379898      -0.042401       -0.203839   \n",
       "1                   9.248888         5.241748      -0.039622       -0.319986   \n",
       "2                   9.042395         5.252274      -0.024924       -1.258580   \n",
       "3                   8.433377         5.379898      -0.042401       -0.958044   \n",
       "4                   8.432506         5.379898      -0.042401       -0.203839   \n",
       "...                      ...              ...            ...             ...   \n",
       "96748               7.335634         5.231109      -0.034289        1.334030   \n",
       "96749               8.888343         5.332719      -0.030895        0.429566   \n",
       "96750               9.332470         5.332719      -0.006429        0.443667   \n",
       "96751               7.646354         5.159056       0.177306        0.769387   \n",
       "96752               9.301916         5.308268       0.012668        0.744742   \n",
       "\n",
       "       Merchnum_scaled  Merch description_scaled  Merch state_scaled  \n",
       "0            -0.611361                 -0.498148            0.974765  \n",
       "1            -0.176560                  1.157666           -0.590932  \n",
       "2            -1.015281                  0.604015           -0.479096  \n",
       "3            -0.611361                 -0.497006            0.974765  \n",
       "4            -0.611361                 -0.498148            0.974765  \n",
       "...                ...                       ...                 ...  \n",
       "96748        -1.286785                 -1.371884           -0.702767  \n",
       "96749         0.611517                  0.259375            0.415587  \n",
       "96750        -1.043445                  1.416361            0.415587  \n",
       "96751         0.771108                 -1.212270           -1.429698  \n",
       "96752         0.994932                  1.319279            0.135999  \n",
       "\n",
       "[96753 rows x 18 columns]"
      ]
     },
     "execution_count": 24,
     "metadata": {},
     "output_type": "execute_result"
    }
   ],
   "source": [
    "ss = StandardScaler() # object of the class StandardScaler ()\n",
    "credit_card['amount_scaled'] = ss.fit_transform(credit_card['Amount'].values.reshape(-1,1))\n",
    "credit_card['Cardnum_scaled'] = ss.fit_transform(credit_card['Cardnum'].values.reshape(-1,1))\n",
    "credit_card['Merchnum_scaled'] = ss.fit_transform(credit_card['Merchnum'].values.reshape(-1,1))\n",
    "credit_card['Merch description_scaled'] = ss.fit_transform(credit_card['Merch description'].values.reshape(-1,1))\n",
    "credit_card['Merch state_scaled'] = ss.fit_transform(credit_card['Merch state'].values.reshape(-1,1))\n",
    "\n",
    "credit_card"
   ]
  },
  {
   "cell_type": "code",
   "execution_count": 25,
   "id": "215291c6",
   "metadata": {},
   "outputs": [],
   "source": [
    "from sklearn.preprocessing import MinMaxScaler\n",
    "\n",
    "mm = MinMaxScaler() # object of the class StandardScaler ()\n",
    "credit_card['amount_minmax'] = mm.fit_transform(credit_card['Amount'].values.reshape(-1,1))\n",
    "credit_card['Cardnum_minmax'] = mm.fit_transform(credit_card['Cardnum'].values.reshape(-1,1))\n",
    "credit_card['Merchnum_minmax'] = mm.fit_transform(credit_card['Merchnum'].values.reshape(-1,1))\n",
    "credit_card['Merch description_minmax'] = mm.fit_transform(credit_card['Merch description'].values.reshape(-1,1))\n",
    "credit_card['Merch state_minmax'] = mm.fit_transform(credit_card['Merch state'].values.reshape(-1,1))"
   ]
  },
  {
   "cell_type": "code",
   "execution_count": 26,
   "id": "2d42d65e",
   "metadata": {},
   "outputs": [
    {
     "data": {
      "image/png": "[encoded data removed]",
      "text/plain": [
       "<Figure size 1152x288 with 4 Axes>"
      ]
     },
     "metadata": {
      "needs_background": "light"
     },
     "output_type": "display_data"
    }
   ],
   "source": [
    "#Feature engineering to a better visualization of the values\n",
    "\n",
    "# Let's explore the Amount by Class and see the distribuition of Amount transactions\n",
    "fig , axs = plt.subplots(nrows = 1 , ncols = 4 , figsize = (16,4))\n",
    "\n",
    "sns.boxplot(x =\"Fraud\",y=\"Amount\",data=credit_card, ax = axs[0])\n",
    "axs[0].set_title(\"Fraud vs Amount\")\n",
    "\n",
    "sns.boxplot(x =\"Fraud\",y=\"amount_log\",data=credit_card, ax = axs[1])\n",
    "axs[1].set_title(\"Fraud vs Log Amount\")\n",
    "\n",
    "sns.boxplot(x =\"Fraud\",y=\"amount_scaled\",data=credit_card, ax = axs[2])\n",
    "axs[2].set_title(\"Fraud vs Scaled Amount\")\n",
    "\n",
    "sns.boxplot(x =\"Fraud\",y=\"amount_minmax\",data=credit_card, ax = axs[3])\n",
    "axs[3].set_title(\"Fraud vs Min Max Amount\")\n",
    "\n",
    "# fig.suptitle('Amount by Class', fontsize=20)\n",
    "plt.show()\n"
   ]
  },
  {
   "cell_type": "code",
   "execution_count": 27,
   "id": "0f937bcd",
   "metadata": {},
   "outputs": [
    {
     "data": {
      "image/png": "[encoded data removed]",
      "text/plain": [
       "<Figure size 1152x288 with 4 Axes>"
      ]
     },
     "metadata": {
      "needs_background": "light"
     },
     "output_type": "display_data"
    }
   ],
   "source": [
    "fig , axs = plt.subplots(nrows = 1 , ncols = 4 , figsize = (16,4))\n",
    "\n",
    "sns.boxplot(x =\"Fraud\",y=\"Cardnum\",data=credit_card, ax = axs[0])\n",
    "axs[0].set_title(\"Fraud vs Cardnum\")\n",
    "\n",
    "sns.boxplot(x =\"Fraud\",y=\"Cardnum_log\",data=credit_card, ax = axs[1])\n",
    "axs[1].set_title(\"Fraud vs Cardnum_log\")\n",
    "\n",
    "sns.boxplot(x =\"Fraud\",y=\"Cardnum_scaled\",data=credit_card, ax = axs[2])\n",
    "axs[2].set_title(\"Fraud vs Cardnum_scaled\")\n",
    "\n",
    "sns.boxplot(x =\"Fraud\",y=\"Cardnum_minmax\",data=credit_card, ax = axs[3])\n",
    "axs[3].set_title(\"Fraud vs Cardnum_minmax\")\n",
    "\n",
    "# fig.suptitle('Amount by Class', fontsize=20)\n",
    "plt.show()\n"
   ]
  },
  {
   "cell_type": "code",
   "execution_count": 28,
   "id": "02ffb885",
   "metadata": {},
   "outputs": [
    {
     "data": {
      "image/png": "[encoded data removed]",
      "text/plain": [
       "<Figure size 1152x288 with 4 Axes>"
      ]
     },
     "metadata": {
      "needs_background": "light"
     },
     "output_type": "display_data"
    }
   ],
   "source": [
    "fig , axs = plt.subplots(nrows = 1 , ncols = 4 , figsize = (16,4))\n",
    "\n",
    "sns.boxplot(x =\"Fraud\",y=\"Merchnum\",data=credit_card, ax = axs[0])\n",
    "axs[0].set_title(\"Fraud vs Amount\")\n",
    "\n",
    "sns.boxplot(x =\"Fraud\",y=\"Merchnum_log\",data=credit_card, ax = axs[1])\n",
    "axs[1].set_title(\"Class vs Log Amount\")\n",
    "\n",
    "sns.boxplot(x =\"Fraud\",y=\"Merchnum_scaled\",data=credit_card, ax = axs[2])\n",
    "axs[2].set_title(\"Class vs Scaled Amount\")\n",
    "\n",
    "sns.boxplot(x =\"Fraud\",y=\"Merchnum_minmax\",data=credit_card, ax = axs[3])\n",
    "axs[3].set_title(\"Class vs Min Max Amount\")\n",
    "\n",
    "# fig.suptitle('Amount by Class', fontsize=20)\n",
    "plt.show()"
   ]
  },
  {
   "cell_type": "markdown",
   "id": "6b75f555",
   "metadata": {},
   "source": [
    "We can see a slight difference in the log amount of our two Classes"
   ]
  },
  {
   "cell_type": "code",
   "execution_count": 29,
   "id": "6d74caa1",
   "metadata": {},
   "outputs": [
    {
     "data": {
      "text/html": [
       "<div>\n",
       "<style scoped>\n",
       "    .dataframe tbody tr th:only-of-type {\n",
       "        vertical-align: middle;\n",
       "    }\n",
       "\n",
       "    .dataframe tbody tr th {\n",
       "        vertical-align: top;\n",
       "    }\n",
       "\n",
       "    .dataframe thead th {\n",
       "        text-align: right;\n",
       "    }\n",
       "</style>\n",
       "<table border=\"1\" class=\"dataframe\">\n",
       "  <thead>\n",
       "    <tr style=\"text-align: right;\">\n",
       "      <th></th>\n",
       "      <th>day</th>\n",
       "      <th>month</th>\n",
       "      <th>Cardnum_minmax</th>\n",
       "      <th>Merchnum_log</th>\n",
       "      <th>Merch description_log</th>\n",
       "      <th>Merch state_log</th>\n",
       "      <th>amount_log</th>\n",
       "      <th>Fraud</th>\n",
       "    </tr>\n",
       "  </thead>\n",
       "  <tbody>\n",
       "    <tr>\n",
       "      <th>0</th>\n",
       "      <td>4</td>\n",
       "      <td>1</td>\n",
       "      <td>0.109083</td>\n",
       "      <td>8.512181</td>\n",
       "      <td>8.432506</td>\n",
       "      <td>5.379898</td>\n",
       "      <td>1.286502</td>\n",
       "      <td>0</td>\n",
       "    </tr>\n",
       "    <tr>\n",
       "      <th>1</th>\n",
       "      <td>4</td>\n",
       "      <td>1</td>\n",
       "      <td>0.100314</td>\n",
       "      <td>8.815073</td>\n",
       "      <td>9.248888</td>\n",
       "      <td>5.241748</td>\n",
       "      <td>3.447448</td>\n",
       "      <td>0</td>\n",
       "    </tr>\n",
       "    <tr>\n",
       "      <th>2</th>\n",
       "      <td>4</td>\n",
       "      <td>1</td>\n",
       "      <td>0.029454</td>\n",
       "      <td>8.113726</td>\n",
       "      <td>9.042395</td>\n",
       "      <td>5.252274</td>\n",
       "      <td>5.184533</td>\n",
       "      <td>0</td>\n",
       "    </tr>\n",
       "    <tr>\n",
       "      <th>3</th>\n",
       "      <td>4</td>\n",
       "      <td>1</td>\n",
       "      <td>0.052143</td>\n",
       "      <td>8.512181</td>\n",
       "      <td>8.433377</td>\n",
       "      <td>5.379898</td>\n",
       "      <td>1.286502</td>\n",
       "      <td>0</td>\n",
       "    </tr>\n",
       "    <tr>\n",
       "      <th>4</th>\n",
       "      <td>4</td>\n",
       "      <td>1</td>\n",
       "      <td>0.109083</td>\n",
       "      <td>8.512181</td>\n",
       "      <td>8.432506</td>\n",
       "      <td>5.379898</td>\n",
       "      <td>1.286502</td>\n",
       "      <td>0</td>\n",
       "    </tr>\n",
       "    <tr>\n",
       "      <th>...</th>\n",
       "      <td>...</td>\n",
       "      <td>...</td>\n",
       "      <td>...</td>\n",
       "      <td>...</td>\n",
       "      <td>...</td>\n",
       "      <td>...</td>\n",
       "      <td>...</td>\n",
       "      <td>...</td>\n",
       "    </tr>\n",
       "    <tr>\n",
       "      <th>96748</th>\n",
       "      <td>4</td>\n",
       "      <td>12</td>\n",
       "      <td>0.225186</td>\n",
       "      <td>7.714678</td>\n",
       "      <td>7.335634</td>\n",
       "      <td>5.231109</td>\n",
       "      <td>4.440179</td>\n",
       "      <td>0</td>\n",
       "    </tr>\n",
       "    <tr>\n",
       "      <th>96749</th>\n",
       "      <td>4</td>\n",
       "      <td>12</td>\n",
       "      <td>0.156902</td>\n",
       "      <td>9.202812</td>\n",
       "      <td>8.888343</td>\n",
       "      <td>5.332719</td>\n",
       "      <td>4.777021</td>\n",
       "      <td>0</td>\n",
       "    </tr>\n",
       "    <tr>\n",
       "      <th>96750</th>\n",
       "      <td>4</td>\n",
       "      <td>12</td>\n",
       "      <td>0.157967</td>\n",
       "      <td>8.078998</td>\n",
       "      <td>9.332470</td>\n",
       "      <td>5.332719</td>\n",
       "      <td>5.895945</td>\n",
       "      <td>0</td>\n",
       "    </tr>\n",
       "    <tr>\n",
       "      <th>96751</th>\n",
       "      <td>4</td>\n",
       "      <td>12</td>\n",
       "      <td>0.182557</td>\n",
       "      <td>9.265870</td>\n",
       "      <td>7.646354</td>\n",
       "      <td>5.159056</td>\n",
       "      <td>7.697135</td>\n",
       "      <td>0</td>\n",
       "    </tr>\n",
       "    <tr>\n",
       "      <th>96752</th>\n",
       "      <td>4</td>\n",
       "      <td>12</td>\n",
       "      <td>0.180697</td>\n",
       "      <td>9.348100</td>\n",
       "      <td>9.301916</td>\n",
       "      <td>5.308268</td>\n",
       "      <td>6.318319</td>\n",
       "      <td>0</td>\n",
       "    </tr>\n",
       "  </tbody>\n",
       "</table>\n",
       "<p>96753 rows × 8 columns</p>\n",
       "</div>"
      ],
      "text/plain": [
       "       day  month  Cardnum_minmax  Merchnum_log  Merch description_log  \\\n",
       "0        4      1        0.109083      8.512181               8.432506   \n",
       "1        4      1        0.100314      8.815073               9.248888   \n",
       "2        4      1        0.029454      8.113726               9.042395   \n",
       "3        4      1        0.052143      8.512181               8.433377   \n",
       "4        4      1        0.109083      8.512181               8.432506   \n",
       "...    ...    ...             ...           ...                    ...   \n",
       "96748    4     12        0.225186      7.714678               7.335634   \n",
       "96749    4     12        0.156902      9.202812               8.888343   \n",
       "96750    4     12        0.157967      8.078998               9.332470   \n",
       "96751    4     12        0.182557      9.265870               7.646354   \n",
       "96752    4     12        0.180697      9.348100               9.301916   \n",
       "\n",
       "       Merch state_log  amount_log  Fraud  \n",
       "0             5.379898    1.286502      0  \n",
       "1             5.241748    3.447448      0  \n",
       "2             5.252274    5.184533      0  \n",
       "3             5.379898    1.286502      0  \n",
       "4             5.379898    1.286502      0  \n",
       "...                ...         ...    ...  \n",
       "96748         5.231109    4.440179      0  \n",
       "96749         5.332719    4.777021      0  \n",
       "96750         5.332719    5.895945      0  \n",
       "96751         5.159056    7.697135      0  \n",
       "96752         5.308268    6.318319      0  \n",
       "\n",
       "[96753 rows x 8 columns]"
      ]
     },
     "execution_count": 29,
     "metadata": {},
     "output_type": "execute_result"
    }
   ],
   "source": [
    "df = credit_card[['day', 'month', 'Cardnum_minmax','Merchnum_log','Merch description_log', 'Merch state_log', 'amount_log','Fraud']]\n",
    "df"
   ]
  },
  {
   "cell_type": "code",
   "execution_count": 30,
   "id": "4391e5e7",
   "metadata": {},
   "outputs": [
    {
     "name": "stdout",
     "output_type": "stream",
     "text": [
      "0    95694\n",
      "1     1059\n",
      "Name: Fraud, dtype: int64\n",
      "\n",
      "\n",
      "0    0.989055\n",
      "1    0.010945\n",
      "Name: Fraud, dtype: float64\n"
     ]
    }
   ],
   "source": [
    "print(df['Fraud'].value_counts())\n",
    "print('\\n')\n",
    "print(df['Fraud'].value_counts(normalize=True))"
   ]
  },
  {
   "cell_type": "code",
   "execution_count": 31,
   "id": "03a59671",
   "metadata": {},
   "outputs": [
    {
     "name": "stdout",
     "output_type": "stream",
     "text": [
      "Fraud Data Shape:  (1059, 8)\n",
      "Non-Fraud Data Shape:  (1059, 8)\n"
     ]
    }
   ],
   "source": [
    "#First Method of solving this problem which comes in mind will be by \n",
    "#taking same number of records of the majority class as the minority class\n",
    "fraud_data = df.loc[df[\"Fraud\"] == 1]\n",
    "non_fraud_data = df.loc[df[\"Fraud\"] == 0][:1059]\n",
    "\n",
    "#concating the above dataframes to get a single dataframe\n",
    "normal_distributed_df = pd.concat([fraud_data, non_fraud_data])\n",
    "\n",
    "# Shuffle dataframe rows\n",
    "new_df = normal_distributed_df.sample(frac=1, random_state=42)\n",
    "# setting up separate dataframes for fraud and non_fraud data for detailed analysis and comparison\n",
    "\n",
    "print(\"Fraud Data Shape: \", fraud_data.shape)\n",
    "print(\"Non-Fraud Data Shape: \", non_fraud_data.shape)"
   ]
  },
  {
   "cell_type": "code",
   "execution_count": 32,
   "id": "aff56005",
   "metadata": {},
   "outputs": [],
   "source": [
    "df = pd.DataFrame(MinMaxScaler().fit_transform(new_df), columns = new_df.columns, index = new_df.index)"
   ]
  },
  {
   "cell_type": "code",
   "execution_count": 33,
   "id": "88d60608",
   "metadata": {},
   "outputs": [],
   "source": [
    "y = df['Fraud']     \n",
    "X = df.drop('Fraud',axis=1, inplace = False)"
   ]
  },
  {
   "cell_type": "code",
   "execution_count": 34,
   "id": "a63c705b",
   "metadata": {},
   "outputs": [],
   "source": [
    "import numpy as np\n",
    "from sklearn.model_selection import KFold\n",
    "\n",
    "kf = KFold(n_splits=5)\n",
    "\n",
    "for train_index, test_index in kf.split(df):\n",
    "    #print(\"TRAIN:\", train_index, \"TEST:\", test_index)\n",
    "    X_train, X_test = df.iloc[train_index], df.iloc[test_index]\n",
    "    y_train, y_test = y.iloc[train_index], y.iloc[test_index]"
   ]
  },
  {
   "cell_type": "code",
   "execution_count": 35,
   "id": "be435481",
   "metadata": {
    "scrolled": true
   },
   "outputs": [],
   "source": [
    "#splitting the dataset to Create training and testing samples\n",
    "#X_train, X_test, y_train, y_test = train_test_split(df, y, test_size=0.20, random_state=1)\n",
    "\n",
    "X_train = X_train[X_train.Fraud == 0]\n",
    "X_train = X_train.drop(['Fraud'], axis=1)\n",
    "\n",
    "#y_test = X_test['Fraud']\n",
    "X_test = X_test.drop(['Fraud'], axis=1)\n"
   ]
  },
  {
   "cell_type": "markdown",
   "id": "d54d802e",
   "metadata": {},
   "source": [
    "### UNDERCOMPLETE AUTOENCODER"
   ]
  },
  {
   "cell_type": "markdown",
   "id": "22a1f9ad",
   "metadata": {},
   "source": [
    "The Autoencoder model for anomaly detection has some steps as follows: \n",
    "\n",
    "Step 1 is the encoder step. The essential information is extracted by a neural network model in this step.\n",
    "\n",
    "Step 2 is the decoder step. In this step, the model reconstructs the data using the extracted information.\n",
    "\n",
    "Step 3: Iterate step 1 and step 2 to adjust the model to minimize the difference between input and reconstructed output, until we get good reconstruction results for the training dataset.\n",
    "\n",
    "Step 4: Make predictions on a dataset that includes outliers.\n",
    "\n",
    "Step 5: Set up a threshold for outliers/anomalies by comparing the differences between the autoencoder model reconstruction value and the actual value.\n",
    "\n",
    "Step 6: Identify the data points with the difference higher than the threshold to be outliers or anomalies."
   ]
  },
  {
   "cell_type": "code",
   "execution_count": 36,
   "id": "ddc317d5",
   "metadata": {},
   "outputs": [],
   "source": [
    "# 'tanh' is used for the activation function of the encoded network \n",
    "# because it has big learning steps and results in strong or higher gradients\n",
    "\n",
    "#relu is used on the bottle neck (latent low representation) \n",
    "#because model performance is better when trained with relu\n",
    "\n",
    "#sigmoid is used for binary classification and since we have \n",
    "#fraud and non fraudclass then it is good for this problem\n",
    "\n",
    "#In the input layer, we specified the shape of the dataset. "
   ]
  },
  {
   "cell_type": "code",
   "execution_count": 37,
   "id": "2cccdb75",
   "metadata": {},
   "outputs": [
    {
     "name": "stdout",
     "output_type": "stream",
     "text": [
      "Model: \"Autoencoder-Model\"\n",
      "_________________________________________________________________\n",
      " Layer (type)                Output Shape              Param #   \n",
      "=================================================================\n",
      " Input-Layer (InputLayer)    [(None, 7)]               0         \n",
      "                                                                 \n",
      " Encoder-Layer1 (Dense)      (None, 20)                160       \n",
      "                                                                 \n",
      " Encoder-Layer2 (Dense)      (None, 10)                210       \n",
      "                                                                 \n",
      " Bottleneck-Layer (Dense)    (None, 2)                 22        \n",
      "                                                                 \n",
      " Decoder-Layer1 (Dense)      (None, 10)                30        \n",
      "                                                                 \n",
      " Decoder-Layer2 (Dense)      (None, 20)                220       \n",
      "                                                                 \n",
      " Output-Layer (Dense)        (None, 7)                 147       \n",
      "                                                                 \n",
      "=================================================================\n",
      "Total params: 789\n",
      "Trainable params: 789\n",
      "Non-trainable params: 0\n",
      "_________________________________________________________________\n",
      "None\n"
     ]
    }
   ],
   "source": [
    "from keras.models import Model, load_model # for creating a Neural Network Autoencoder model\n",
    "from keras import Input # for instantiating a keras tensor\n",
    "from keras.layers import Dense # for adding layers to AE model\n",
    "from tensorflow.keras.utils import plot_model \n",
    "\n",
    "#--- Define Shapes\n",
    "n_inputs = X_train.shape[1] # number of input neurons = the number of features in X_train\n",
    "n_bottleneck= 2 \n",
    "\n",
    "#--- Input Layer \n",
    "visible = Input(shape=(n_inputs,), name='Input-Layer') # Specify input shape\n",
    "\n",
    "#--- Encoder Layer\n",
    "e = Dense(units=20, name='Encoder-Layer1',activation=activations.tanh, activity_regularizer=regularizers.l1(1e-3))(visible)\n",
    "e = Dense(units=10, name='Encoder-Layer2',activation=activations.tanh)(e)\n",
    "\n",
    "#--- Bottleneck\n",
    "bottleneck = Dense(units=n_bottleneck, name='Bottleneck-Layer')(e)\n",
    "\n",
    "#--- Decoder Layer\n",
    "d = Dense(units=10, name='Decoder-Layer1',activation=activations.tanh)(bottleneck)\n",
    "d = Dense(units=20, name='Decoder-Layer2',activation=activations.tanh)(d)\n",
    "\n",
    "#--- Output layer\n",
    "output = Dense(units=n_inputs, activation='linear', name='Output-Layer')(d)\n",
    "\n",
    "# Define autoencoder model\n",
    "model = Model(inputs=visible, outputs=output, name='Autoencoder-Model')\n",
    "\n",
    "# Compile autoencoder model\n",
    "model.compile(optimizer='adam', loss='mse')\n",
    "\n",
    "# Print model summary\n",
    "print(model.summary())"
   ]
  },
  {
   "cell_type": "code",
   "execution_count": 38,
   "id": "8c7525ca",
   "metadata": {},
   "outputs": [
    {
     "name": "stdout",
     "output_type": "stream",
     "text": [
      "Epoch 1/100\n",
      "13/13 [==============================] - 3s 90ms/step - loss: 0.3507 - val_loss: 0.2653\n",
      "Epoch 2/100\n",
      "13/13 [==============================] - 0s 12ms/step - loss: 0.1774 - val_loss: 0.1462\n",
      "Epoch 3/100\n",
      "13/13 [==============================] - 0s 11ms/step - loss: 0.0887 - val_loss: 0.0865\n",
      "Epoch 4/100\n",
      "13/13 [==============================] - 0s 13ms/step - loss: 0.0498 - val_loss: 0.0754\n",
      "Epoch 5/100\n",
      "13/13 [==============================] - 0s 12ms/step - loss: 0.0372 - val_loss: 0.0682\n",
      "Epoch 6/100\n",
      "13/13 [==============================] - 0s 13ms/step - loss: 0.0343 - val_loss: 0.0652\n",
      "Epoch 7/100\n",
      "13/13 [==============================] - 0s 12ms/step - loss: 0.0341 - val_loss: 0.0657\n",
      "Epoch 8/100\n",
      "13/13 [==============================] - 0s 12ms/step - loss: 0.0337 - val_loss: 0.0656\n",
      "Epoch 9/100\n",
      "13/13 [==============================] - 0s 13ms/step - loss: 0.0333 - val_loss: 0.0652\n",
      "Epoch 10/100\n",
      "13/13 [==============================] - 0s 13ms/step - loss: 0.0330 - val_loss: 0.0648\n",
      "Epoch 11/100\n",
      "13/13 [==============================] - 0s 12ms/step - loss: 0.0327 - val_loss: 0.0645\n",
      "Epoch 12/100\n",
      "13/13 [==============================] - 0s 14ms/step - loss: 0.0324 - val_loss: 0.0645\n",
      "Epoch 13/100\n",
      "13/13 [==============================] - 0s 14ms/step - loss: 0.0320 - val_loss: 0.0635\n",
      "Epoch 14/100\n",
      "13/13 [==============================] - 0s 14ms/step - loss: 0.0317 - val_loss: 0.0639\n",
      "Epoch 15/100\n",
      "13/13 [==============================] - 0s 14ms/step - loss: 0.0314 - val_loss: 0.0631\n",
      "Epoch 16/100\n",
      "13/13 [==============================] - 0s 14ms/step - loss: 0.0310 - val_loss: 0.0629\n",
      "Epoch 17/100\n",
      "13/13 [==============================] - 0s 13ms/step - loss: 0.0306 - val_loss: 0.0623\n",
      "Epoch 18/100\n",
      "13/13 [==============================] - 0s 15ms/step - loss: 0.0302 - val_loss: 0.0624\n",
      "Epoch 19/100\n",
      "13/13 [==============================] - 0s 14ms/step - loss: 0.0298 - val_loss: 0.0616\n",
      "Epoch 20/100\n",
      "13/13 [==============================] - 0s 14ms/step - loss: 0.0294 - val_loss: 0.0610\n",
      "Epoch 21/100\n",
      "13/13 [==============================] - 0s 14ms/step - loss: 0.0290 - val_loss: 0.0608\n",
      "Epoch 22/100\n",
      "13/13 [==============================] - 0s 12ms/step - loss: 0.0285 - val_loss: 0.0605\n",
      "Epoch 23/100\n",
      "13/13 [==============================] - 0s 13ms/step - loss: 0.0280 - val_loss: 0.0598\n",
      "Epoch 24/100\n",
      "13/13 [==============================] - 0s 15ms/step - loss: 0.0274 - val_loss: 0.0592\n",
      "Epoch 25/100\n",
      "13/13 [==============================] - 0s 15ms/step - loss: 0.0269 - val_loss: 0.0591\n",
      "Epoch 26/100\n",
      "13/13 [==============================] - 0s 12ms/step - loss: 0.0264 - val_loss: 0.0577\n",
      "Epoch 27/100\n",
      "13/13 [==============================] - 0s 12ms/step - loss: 0.0258 - val_loss: 0.0581\n",
      "Epoch 28/100\n",
      "13/13 [==============================] - 0s 13ms/step - loss: 0.0252 - val_loss: 0.0567\n",
      "Epoch 29/100\n",
      "13/13 [==============================] - 0s 14ms/step - loss: 0.0246 - val_loss: 0.0569\n",
      "Epoch 30/100\n",
      "13/13 [==============================] - 0s 15ms/step - loss: 0.0240 - val_loss: 0.0554\n",
      "Epoch 31/100\n",
      "13/13 [==============================] - 0s 12ms/step - loss: 0.0233 - val_loss: 0.0550\n",
      "Epoch 32/100\n",
      "13/13 [==============================] - 0s 13ms/step - loss: 0.0227 - val_loss: 0.0544\n",
      "Epoch 33/100\n",
      "13/13 [==============================] - 0s 12ms/step - loss: 0.0220 - val_loss: 0.0536\n",
      "Epoch 34/100\n",
      "13/13 [==============================] - 0s 12ms/step - loss: 0.0213 - val_loss: 0.0527\n",
      "Epoch 35/100\n",
      "13/13 [==============================] - 0s 12ms/step - loss: 0.0207 - val_loss: 0.0525\n",
      "Epoch 36/100\n",
      "13/13 [==============================] - 0s 15ms/step - loss: 0.0200 - val_loss: 0.0516\n",
      "Epoch 37/100\n",
      "13/13 [==============================] - 0s 14ms/step - loss: 0.0195 - val_loss: 0.0511\n",
      "Epoch 38/100\n",
      "13/13 [==============================] - 0s 12ms/step - loss: 0.0189 - val_loss: 0.0505\n",
      "Epoch 39/100\n",
      "13/13 [==============================] - 0s 13ms/step - loss: 0.0184 - val_loss: 0.0501\n",
      "Epoch 40/100\n",
      "13/13 [==============================] - 0s 13ms/step - loss: 0.0180 - val_loss: 0.0498\n",
      "Epoch 41/100\n",
      "13/13 [==============================] - 0s 14ms/step - loss: 0.0176 - val_loss: 0.0492\n",
      "Epoch 42/100\n",
      "13/13 [==============================] - 0s 14ms/step - loss: 0.0173 - val_loss: 0.0492\n",
      "Epoch 43/100\n",
      "13/13 [==============================] - 0s 13ms/step - loss: 0.0170 - val_loss: 0.0487\n",
      "Epoch 44/100\n",
      "13/13 [==============================] - 0s 11ms/step - loss: 0.0167 - val_loss: 0.0488\n",
      "Epoch 45/100\n",
      "13/13 [==============================] - 0s 12ms/step - loss: 0.0165 - val_loss: 0.0480\n",
      "Epoch 46/100\n",
      "13/13 [==============================] - 0s 13ms/step - loss: 0.0163 - val_loss: 0.0481\n",
      "Epoch 47/100\n",
      "13/13 [==============================] - 0s 13ms/step - loss: 0.0161 - val_loss: 0.0480\n",
      "Epoch 48/100\n",
      "13/13 [==============================] - 0s 13ms/step - loss: 0.0160 - val_loss: 0.0480\n",
      "Epoch 49/100\n",
      "13/13 [==============================] - 0s 12ms/step - loss: 0.0159 - val_loss: 0.0478\n",
      "Epoch 50/100\n",
      "13/13 [==============================] - 0s 12ms/step - loss: 0.0157 - val_loss: 0.0476\n",
      "Epoch 51/100\n",
      "13/13 [==============================] - 0s 12ms/step - loss: 0.0156 - val_loss: 0.0473\n",
      "Epoch 52/100\n",
      "13/13 [==============================] - 0s 13ms/step - loss: 0.0155 - val_loss: 0.0476\n",
      "Epoch 53/100\n",
      "13/13 [==============================] - 0s 12ms/step - loss: 0.0154 - val_loss: 0.0471\n",
      "Epoch 54/100\n",
      "13/13 [==============================] - 0s 12ms/step - loss: 0.0153 - val_loss: 0.0472\n",
      "Epoch 55/100\n",
      "13/13 [==============================] - 0s 12ms/step - loss: 0.0153 - val_loss: 0.0471\n",
      "Epoch 56/100\n",
      "13/13 [==============================] - 0s 13ms/step - loss: 0.0152 - val_loss: 0.0465\n",
      "Epoch 57/100\n",
      "13/13 [==============================] - 0s 14ms/step - loss: 0.0152 - val_loss: 0.0472\n",
      "Epoch 58/100\n",
      "13/13 [==============================] - 0s 11ms/step - loss: 0.0151 - val_loss: 0.0462\n",
      "Epoch 59/100\n",
      "13/13 [==============================] - 0s 12ms/step - loss: 0.0150 - val_loss: 0.0466\n",
      "Epoch 60/100\n",
      "13/13 [==============================] - 0s 13ms/step - loss: 0.0149 - val_loss: 0.0462\n",
      "Epoch 61/100\n",
      "13/13 [==============================] - 0s 12ms/step - loss: 0.0148 - val_loss: 0.0463\n",
      "Epoch 62/100\n",
      "13/13 [==============================] - 0s 11ms/step - loss: 0.0148 - val_loss: 0.0463\n",
      "Epoch 63/100\n",
      "13/13 [==============================] - 0s 12ms/step - loss: 0.0147 - val_loss: 0.0461\n",
      "Epoch 64/100\n",
      "13/13 [==============================] - 0s 12ms/step - loss: 0.0146 - val_loss: 0.0459\n",
      "Epoch 65/100\n",
      "13/13 [==============================] - 0s 11ms/step - loss: 0.0146 - val_loss: 0.0460\n",
      "Epoch 66/100\n",
      "13/13 [==============================] - 0s 12ms/step - loss: 0.0145 - val_loss: 0.0459\n",
      "Epoch 67/100\n",
      "13/13 [==============================] - 0s 13ms/step - loss: 0.0145 - val_loss: 0.0455\n",
      "Epoch 68/100\n",
      "13/13 [==============================] - 0s 14ms/step - loss: 0.0144 - val_loss: 0.0454\n",
      "Epoch 69/100\n",
      "13/13 [==============================] - 0s 13ms/step - loss: 0.0143 - val_loss: 0.0455\n",
      "Epoch 70/100\n",
      "13/13 [==============================] - 0s 12ms/step - loss: 0.0142 - val_loss: 0.0455\n",
      "Epoch 71/100\n",
      "13/13 [==============================] - 0s 13ms/step - loss: 0.0142 - val_loss: 0.0453\n",
      "Epoch 72/100\n",
      "13/13 [==============================] - 0s 13ms/step - loss: 0.0142 - val_loss: 0.0451\n",
      "Epoch 73/100\n",
      "13/13 [==============================] - 0s 14ms/step - loss: 0.0141 - val_loss: 0.0450\n",
      "Epoch 74/100\n",
      "13/13 [==============================] - 0s 13ms/step - loss: 0.0140 - val_loss: 0.0453\n",
      "Epoch 75/100\n",
      "13/13 [==============================] - 0s 13ms/step - loss: 0.0140 - val_loss: 0.0446\n",
      "Epoch 76/100\n",
      "13/13 [==============================] - 0s 13ms/step - loss: 0.0139 - val_loss: 0.0449\n",
      "Epoch 77/100\n",
      "13/13 [==============================] - 0s 14ms/step - loss: 0.0138 - val_loss: 0.0447\n",
      "Epoch 78/100\n",
      "13/13 [==============================] - 0s 14ms/step - loss: 0.0138 - val_loss: 0.0445\n",
      "Epoch 79/100\n",
      "13/13 [==============================] - 0s 14ms/step - loss: 0.0137 - val_loss: 0.0446\n",
      "Epoch 80/100\n",
      "13/13 [==============================] - 0s 13ms/step - loss: 0.0137 - val_loss: 0.0445\n",
      "Epoch 81/100\n",
      "13/13 [==============================] - 0s 13ms/step - loss: 0.0136 - val_loss: 0.0445\n",
      "Epoch 82/100\n"
     ]
    },
    {
     "name": "stdout",
     "output_type": "stream",
     "text": [
      "13/13 [==============================] - 0s 13ms/step - loss: 0.0136 - val_loss: 0.0442\n",
      "Epoch 83/100\n",
      "13/13 [==============================] - 0s 14ms/step - loss: 0.0135 - val_loss: 0.0444\n",
      "Epoch 84/100\n",
      "13/13 [==============================] - 0s 15ms/step - loss: 0.0135 - val_loss: 0.0441\n",
      "Epoch 85/100\n",
      "13/13 [==============================] - 0s 12ms/step - loss: 0.0135 - val_loss: 0.0442\n",
      "Epoch 86/100\n",
      "13/13 [==============================] - 0s 11ms/step - loss: 0.0134 - val_loss: 0.0441\n",
      "Epoch 87/100\n",
      "13/13 [==============================] - 0s 10ms/step - loss: 0.0133 - val_loss: 0.0440\n",
      "Epoch 88/100\n",
      "13/13 [==============================] - 0s 11ms/step - loss: 0.0133 - val_loss: 0.0440\n",
      "Epoch 89/100\n",
      "13/13 [==============================] - 0s 12ms/step - loss: 0.0133 - val_loss: 0.0440\n",
      "Epoch 90/100\n",
      "13/13 [==============================] - 0s 11ms/step - loss: 0.0132 - val_loss: 0.0437\n",
      "Epoch 91/100\n",
      "13/13 [==============================] - 0s 12ms/step - loss: 0.0132 - val_loss: 0.0440\n",
      "Epoch 92/100\n",
      "13/13 [==============================] - 0s 12ms/step - loss: 0.0131 - val_loss: 0.0436\n",
      "Epoch 93/100\n",
      "13/13 [==============================] - 0s 11ms/step - loss: 0.0131 - val_loss: 0.0437\n",
      "Epoch 94/100\n",
      "13/13 [==============================] - 0s 12ms/step - loss: 0.0131 - val_loss: 0.0435\n",
      "Epoch 95/100\n",
      "13/13 [==============================] - 0s 11ms/step - loss: 0.0130 - val_loss: 0.0438\n",
      "Epoch 96/100\n",
      "13/13 [==============================] - 0s 11ms/step - loss: 0.0129 - val_loss: 0.0433\n",
      "Epoch 97/100\n",
      "13/13 [==============================] - 0s 12ms/step - loss: 0.0129 - val_loss: 0.0435\n",
      "Epoch 98/100\n",
      "13/13 [==============================] - 0s 12ms/step - loss: 0.0129 - val_loss: 0.0434\n",
      "Epoch 99/100\n",
      "13/13 [==============================] - 0s 12ms/step - loss: 0.0128 - val_loss: 0.0436\n",
      "Epoch 100/100\n",
      "13/13 [==============================] - 0s 11ms/step - loss: 0.0128 - val_loss: 0.0433\n"
     ]
    },
    {
     "data": {
      "image/png": "[encoded data removed]",
      "text/plain": [
       "<Figure size 4800x2700 with 1 Axes>"
      ]
     },
     "metadata": {
      "needs_background": "light"
     },
     "output_type": "display_data"
    }
   ],
   "source": [
    "# Fit the autoencoder model to reconstruct input\n",
    "history = model.fit(X_train, X_train, epochs=100, batch_size=64, verbose=1, validation_data=(X_test, X_test))\n",
    "\n",
    "# Plot a loss chart\n",
    "fig, ax = plt.subplots(figsize=(16,9), dpi=300)\n",
    "plt.title(label='Model Loss by Epoch', loc='center')\n",
    "\n",
    "ax.plot(history.history['loss'], label='Training Data', color='black')\n",
    "ax.plot(history.history['val_loss'], label='Test Data', color='red')\n",
    "ax.set(xlabel='Epoch', ylabel='Loss')\n",
    "plt.legend()\n",
    "\n",
    "plt.show()"
   ]
  },
  {
   "cell_type": "markdown",
   "id": "74ecfbce",
   "metadata": {},
   "source": [
    "\n",
    "When fitting the autoencoder model, we can see that the input and output datasets are the same,\n",
    "which is the dataset that contains only the normal data points.\n",
    "\n",
    "Shuffle=True will shuffle the dataset before each epoch.\n",
    "\n",
    "Training the auto encoder model on non fraud data "
   ]
  },
  {
   "cell_type": "code",
   "execution_count": 39,
   "id": "88b9c23c",
   "metadata": {},
   "outputs": [
    {
     "name": "stdout",
     "output_type": "stream",
     "text": [
      "You must install pydot (`pip install pydot`) and install graphviz (see instructions at https://graphviz.gitlab.io/download/) for plot_model to work.\n"
     ]
    }
   ],
   "source": [
    "# Plot the autoencoder model diagram\n",
    "\n",
    "plot_model(model, to_file=main_dir+'/pics/Autoencoder.png', show_shapes=True, dpi=300)"
   ]
  },
  {
   "cell_type": "markdown",
   "id": "fe1b893b",
   "metadata": {},
   "source": [
    "We can see that our Autoencoder model was able to reconstruct the data with only a minimal loss."
   ]
  },
  {
   "cell_type": "markdown",
   "id": "0f509337",
   "metadata": {},
   "source": [
    "The final part separates Encoder from Decoder and saves the model."
   ]
  },
  {
   "cell_type": "code",
   "execution_count": 40,
   "id": "b85e4bdb",
   "metadata": {},
   "outputs": [
    {
     "name": "stdout",
     "output_type": "stream",
     "text": [
      "You must install pydot (`pip install pydot`) and install graphviz (see instructions at https://graphviz.gitlab.io/download/) for plot_model to work.\n"
     ]
    }
   ],
   "source": [
    "# Define an encoder model without the decoder\n",
    "encoder = Model(inputs=visible, outputs=bottleneck)\n",
    "\n",
    "# Compile encoder model\n",
    "encoder.compile(optimizer='adam', loss='mse')\n",
    "\n",
    "# Save the encoder model to file\n",
    "encoder.save(main_dir+'/data/encoder.h5')\n",
    "\n",
    "# Plot the autoencoder model diagram\n",
    "plot_model(encoder, to_file=main_dir+'/pics/Encoder_only.png', show_shapes=True, dpi=300)\n"
   ]
  },
  {
   "cell_type": "code",
   "execution_count": 41,
   "id": "34c0de7c",
   "metadata": {},
   "outputs": [
    {
     "name": "stdout",
     "output_type": "stream",
     "text": [
      "26/26 [==============================] - 0s 2ms/step\n",
      "14/14 [==============================] - 0s 3ms/step\n"
     ]
    }
   ],
   "source": [
    "# Load the model from file\n",
    "encoder = load_model(main_dir+'/data/encoder.h5')\n",
    "\n",
    "# Encode train and test data\n",
    "X_train_encoded = encoder.predict(X_train)\n",
    "X_test_encoded = encoder.predict(X_test)"
   ]
  },
  {
   "cell_type": "code",
   "execution_count": 42,
   "id": "62024657",
   "metadata": {},
   "outputs": [
    {
     "name": "stdout",
     "output_type": "stream",
     "text": [
      "14/14 [==============================] - 0s 3ms/step\n"
     ]
    }
   ],
   "source": [
    "#we have an autoencoder model, let's use it to predict the outliers.\n",
    "#Firstly, we use .predict to get the reconstruction value for the testing data \n",
    "#set containing the usual data points and the outliers.\n",
    "\n",
    "# Predict anomalies/outliers in the training dataset\n",
    "prediction = model.predict(X_test)"
   ]
  },
  {
   "cell_type": "code",
   "execution_count": 43,
   "id": "d328b37a",
   "metadata": {},
   "outputs": [],
   "source": [
    "#mse and reconstruction error\n",
    "mse = np.mean(np.power(X_test - prediction, 2), axis=1)\n",
    "error_df = pd.DataFrame({'reconstruction_error': mse,\n",
    "                        'true_class': y_test})"
   ]
  },
  {
   "cell_type": "code",
   "execution_count": 44,
   "id": "34f4c67a",
   "metadata": {},
   "outputs": [
    {
     "data": {
      "text/html": [
       "<div>\n",
       "<style scoped>\n",
       "    .dataframe tbody tr th:only-of-type {\n",
       "        vertical-align: middle;\n",
       "    }\n",
       "\n",
       "    .dataframe tbody tr th {\n",
       "        vertical-align: top;\n",
       "    }\n",
       "\n",
       "    .dataframe thead th {\n",
       "        text-align: right;\n",
       "    }\n",
       "</style>\n",
       "<table border=\"1\" class=\"dataframe\">\n",
       "  <thead>\n",
       "    <tr style=\"text-align: right;\">\n",
       "      <th></th>\n",
       "      <th>reconstruction_error</th>\n",
       "      <th>true_class</th>\n",
       "    </tr>\n",
       "  </thead>\n",
       "  <tbody>\n",
       "    <tr>\n",
       "      <th>1017</th>\n",
       "      <td>0.006736</td>\n",
       "      <td>0.0</td>\n",
       "    </tr>\n",
       "    <tr>\n",
       "      <th>3</th>\n",
       "      <td>0.006242</td>\n",
       "      <td>0.0</td>\n",
       "    </tr>\n",
       "    <tr>\n",
       "      <th>143</th>\n",
       "      <td>0.005735</td>\n",
       "      <td>0.0</td>\n",
       "    </tr>\n",
       "    <tr>\n",
       "      <th>36709</th>\n",
       "      <td>0.030238</td>\n",
       "      <td>1.0</td>\n",
       "    </tr>\n",
       "    <tr>\n",
       "      <th>361</th>\n",
       "      <td>0.002350</td>\n",
       "      <td>0.0</td>\n",
       "    </tr>\n",
       "    <tr>\n",
       "      <th>...</th>\n",
       "      <td>...</td>\n",
       "      <td>...</td>\n",
       "    </tr>\n",
       "    <tr>\n",
       "      <th>583</th>\n",
       "      <td>0.007559</td>\n",
       "      <td>0.0</td>\n",
       "    </tr>\n",
       "    <tr>\n",
       "      <th>37</th>\n",
       "      <td>0.005803</td>\n",
       "      <td>0.0</td>\n",
       "    </tr>\n",
       "    <tr>\n",
       "      <th>72</th>\n",
       "      <td>0.000526</td>\n",
       "      <td>0.0</td>\n",
       "    </tr>\n",
       "    <tr>\n",
       "      <th>238</th>\n",
       "      <td>0.004027</td>\n",
       "      <td>0.0</td>\n",
       "    </tr>\n",
       "    <tr>\n",
       "      <th>82478</th>\n",
       "      <td>0.106289</td>\n",
       "      <td>1.0</td>\n",
       "    </tr>\n",
       "  </tbody>\n",
       "</table>\n",
       "<p>423 rows × 2 columns</p>\n",
       "</div>"
      ],
      "text/plain": [
       "       reconstruction_error  true_class\n",
       "1017               0.006736         0.0\n",
       "3                  0.006242         0.0\n",
       "143                0.005735         0.0\n",
       "36709              0.030238         1.0\n",
       "361                0.002350         0.0\n",
       "...                     ...         ...\n",
       "583                0.007559         0.0\n",
       "37                 0.005803         0.0\n",
       "72                 0.000526         0.0\n",
       "238                0.004027         0.0\n",
       "82478              0.106289         1.0\n",
       "\n",
       "[423 rows x 2 columns]"
      ]
     },
     "execution_count": 44,
     "metadata": {},
     "output_type": "execute_result"
    }
   ],
   "source": [
    "error_df"
   ]
  },
  {
   "cell_type": "code",
   "execution_count": 45,
   "id": "6ce7cf9d",
   "metadata": {},
   "outputs": [
    {
     "data": {
      "text/html": [
       "<div>\n",
       "<style scoped>\n",
       "    .dataframe tbody tr th:only-of-type {\n",
       "        vertical-align: middle;\n",
       "    }\n",
       "\n",
       "    .dataframe tbody tr th {\n",
       "        vertical-align: top;\n",
       "    }\n",
       "\n",
       "    .dataframe thead th {\n",
       "        text-align: right;\n",
       "    }\n",
       "</style>\n",
       "<table border=\"1\" class=\"dataframe\">\n",
       "  <thead>\n",
       "    <tr style=\"text-align: right;\">\n",
       "      <th></th>\n",
       "      <th>reconstruction_error</th>\n",
       "      <th>true_class</th>\n",
       "    </tr>\n",
       "  </thead>\n",
       "  <tbody>\n",
       "    <tr>\n",
       "      <th>count</th>\n",
       "      <td>423.000000</td>\n",
       "      <td>423.000000</td>\n",
       "    </tr>\n",
       "    <tr>\n",
       "      <th>mean</th>\n",
       "      <td>0.040427</td>\n",
       "      <td>0.444444</td>\n",
       "    </tr>\n",
       "    <tr>\n",
       "      <th>std</th>\n",
       "      <td>0.046460</td>\n",
       "      <td>0.497492</td>\n",
       "    </tr>\n",
       "    <tr>\n",
       "      <th>min</th>\n",
       "      <td>0.000197</td>\n",
       "      <td>0.000000</td>\n",
       "    </tr>\n",
       "    <tr>\n",
       "      <th>25%</th>\n",
       "      <td>0.007285</td>\n",
       "      <td>0.000000</td>\n",
       "    </tr>\n",
       "    <tr>\n",
       "      <th>50%</th>\n",
       "      <td>0.017204</td>\n",
       "      <td>0.000000</td>\n",
       "    </tr>\n",
       "    <tr>\n",
       "      <th>75%</th>\n",
       "      <td>0.060577</td>\n",
       "      <td>1.000000</td>\n",
       "    </tr>\n",
       "    <tr>\n",
       "      <th>max</th>\n",
       "      <td>0.201235</td>\n",
       "      <td>1.000000</td>\n",
       "    </tr>\n",
       "  </tbody>\n",
       "</table>\n",
       "</div>"
      ],
      "text/plain": [
       "       reconstruction_error  true_class\n",
       "count            423.000000  423.000000\n",
       "mean               0.040427    0.444444\n",
       "std                0.046460    0.497492\n",
       "min                0.000197    0.000000\n",
       "25%                0.007285    0.000000\n",
       "50%                0.017204    0.000000\n",
       "75%                0.060577    1.000000\n",
       "max                0.201235    1.000000"
      ]
     },
     "execution_count": 45,
     "metadata": {},
     "output_type": "execute_result"
    }
   ],
   "source": [
    "error_df.describe()"
   ]
  },
  {
   "cell_type": "code",
   "execution_count": 46,
   "id": "3d8491e3",
   "metadata": {},
   "outputs": [],
   "source": [
    "# Get the mean squared error between actual and reconstruction/prediction\n",
    "prediction_loss = tf.keras.losses.mse(prediction, X_test)"
   ]
  },
  {
   "cell_type": "code",
   "execution_count": 47,
   "id": "8a116b53",
   "metadata": {},
   "outputs": [
    {
     "name": "stdout",
     "output_type": "stream",
     "text": [
      "The prediction loss threshold for 50% of outliers is 0.02\n"
     ]
    }
   ],
   "source": [
    "# Check the prediction loss threshold for 50% of outliers\n",
    "loss_threshold = np.quantile(prediction_loss, 0.50)\n",
    "print(f'The prediction loss threshold for 50% of outliers is {loss_threshold:.2f}')"
   ]
  },
  {
   "cell_type": "code",
   "execution_count": 48,
   "id": "5014a34b",
   "metadata": {},
   "outputs": [
    {
     "data": {
      "image/png": "[encoded data removed]",
      "text/plain": [
       "<Figure size 432x288 with 1 Axes>"
      ]
     },
     "metadata": {
      "needs_background": "light"
     },
     "output_type": "display_data"
    }
   ],
   "source": [
    "#Reconstruction error with fraud\n",
    "\n",
    "fig = plt.figure()\n",
    "ax = fig.add_subplot(111)\n",
    "fraud_error_df = error_df[error_df['true_class'] == 1.0]\n",
    "_ = ax.hist(fraud_error_df.reconstruction_error.values, bins=10)"
   ]
  },
  {
   "cell_type": "code",
   "execution_count": 49,
   "id": "5eed5b99",
   "metadata": {},
   "outputs": [],
   "source": [
    "# Check the model performance at 75% threshold\n",
    "threshold_prediction = [0 if i < loss_threshold else 1 for i in prediction_loss]"
   ]
  },
  {
   "cell_type": "code",
   "execution_count": 50,
   "id": "7218ebe7",
   "metadata": {},
   "outputs": [],
   "source": [
    "#Area under curve\n",
    "from sklearn.metrics import (confusion_matrix, precision_recall_curve, auc,\n",
    "                             roc_curve, recall_score, classification_report, f1_score,\n",
    "                             precision_recall_fscore_support)"
   ]
  },
  {
   "cell_type": "code",
   "execution_count": 51,
   "id": "7e9cc409",
   "metadata": {
    "scrolled": true
   },
   "outputs": [
    {
     "data": {
      "image/png": "[encoded data removed]",
      "text/plain": [
       "<Figure size 432x288 with 1 Axes>"
      ]
     },
     "metadata": {
      "needs_background": "light"
     },
     "output_type": "display_data"
    }
   ],
   "source": [
    "fpr, tpr, thresholds = roc_curve(error_df.true_class, error_df.reconstruction_error)\n",
    "roc_auc = auc(fpr, tpr)\n",
    "\n",
    "plt.title('Receiver Operating Characteristic')\n",
    "plt.plot(fpr, tpr, label='AUC = %0.4f'% roc_auc)\n",
    "plt.legend(loc='lower right')\n",
    "plt.plot([0,1],[0,1],'r--')\n",
    "plt.xlim([-0.001, 1])\n",
    "plt.ylim([0, 1.001])\n",
    "plt.ylabel('True Positive Rate')\n",
    "plt.xlabel('False Positive Rate')\n",
    "plt.show()"
   ]
  },
  {
   "cell_type": "code",
   "execution_count": 52,
   "id": "931bd1e1",
   "metadata": {},
   "outputs": [
    {
     "data": {
      "image/png": "[encoded data removed]",
      "text/plain": [
       "<Figure size 432x288 with 1 Axes>"
      ]
     },
     "metadata": {
      "needs_background": "light"
     },
     "output_type": "display_data"
    }
   ],
   "source": [
    "precision, recall,th= precision_recall_curve(error_df.true_class, error_df.reconstruction_error)\n",
    "plt.plot(recall, precision, 'b', label='Precision-Recall curve')\n",
    "plt.title('Recall vs Precision')\n",
    "plt.xlabel('Recall')\n",
    "plt.ylabel('Precision')\n",
    "plt.show()"
   ]
  },
  {
   "cell_type": "code",
   "execution_count": 53,
   "id": "3d2950b8",
   "metadata": {},
   "outputs": [
    {
     "data": {
      "image/png": "[encoded data removed]",
      "text/plain": [
       "<Figure size 432x288 with 1 Axes>"
      ]
     },
     "metadata": {
      "needs_background": "light"
     },
     "output_type": "display_data"
    }
   ],
   "source": [
    "plt.plot(th, precision[1:], 'b', label='Threshold-Precision curve')\n",
    "plt.title('Precision for different threshold values')\n",
    "plt.xlabel('Threshold')\n",
    "plt.ylabel('Precision')\n",
    "plt.show()"
   ]
  },
  {
   "cell_type": "code",
   "execution_count": 54,
   "id": "bc47c139",
   "metadata": {},
   "outputs": [
    {
     "data": {
      "image/png": "[encoded data removed]",
      "text/plain": [
       "<Figure size 432x288 with 1 Axes>"
      ]
     },
     "metadata": {
      "needs_background": "light"
     },
     "output_type": "display_data"
    }
   ],
   "source": [
    "plt.plot(th, recall[1:], 'b', label='Threshold-Recall curve')\n",
    "plt.title('Recall for different threshold values')\n",
    "plt.xlabel('Reconstruction error')\n",
    "plt.ylabel('Recall')\n",
    "plt.show()"
   ]
  },
  {
   "cell_type": "code",
   "execution_count": 55,
   "id": "65767a5c",
   "metadata": {},
   "outputs": [],
   "source": [
    "threshold = 0.02"
   ]
  },
  {
   "cell_type": "code",
   "execution_count": 56,
   "id": "9aa7dabc",
   "metadata": {},
   "outputs": [],
   "source": [
    "pred_y = [1 if e > threshold else 0 for e in error_df.reconstruction_error.values]"
   ]
  },
  {
   "cell_type": "code",
   "execution_count": 57,
   "id": "17efce9f",
   "metadata": {},
   "outputs": [],
   "source": [
    "predictions = pd.DataFrame({'true': error_df.true_class,\n",
    "                           'predicted': pred_y})"
   ]
  },
  {
   "cell_type": "code",
   "execution_count": 58,
   "id": "83a12500",
   "metadata": {},
   "outputs": [
    {
     "data": {
      "image/png": "[encoded data removed]",
      "text/plain": [
       "<Figure size 864x864 with 2 Axes>"
      ]
     },
     "metadata": {
      "needs_background": "light"
     },
     "output_type": "display_data"
    }
   ],
   "source": [
    "conf_matrix = confusion_matrix(error_df.true_class, pred_y)\n",
    "conf_matrix\n",
    "plt.figure(figsize=(12, 12))\n",
    "LABELS = ['Normal', 'Fraud']\n",
    "sns.heatmap(conf_matrix, xticklabels=LABELS, yticklabels=LABELS, annot=True, fmt=\"d\");\n",
    "plt.title(\"Confusion matrix\")\n",
    "plt.ylabel('True class')\n",
    "plt.xlabel('Predicted class')\n",
    "plt.show()"
   ]
  },
  {
   "cell_type": "code",
   "execution_count": 59,
   "id": "f6b062b5",
   "metadata": {},
   "outputs": [
    {
     "name": "stdout",
     "output_type": "stream",
     "text": [
      "              precision    recall  f1-score   support\n",
      "\n",
      "         0.0       0.92      0.88      0.90       235\n",
      "         1.0       0.85      0.91      0.88       188\n",
      "\n",
      "    accuracy                           0.89       423\n",
      "   macro avg       0.89      0.89      0.89       423\n",
      "weighted avg       0.89      0.89      0.89       423\n",
      "\n"
     ]
    }
   ],
   "source": [
    "# Check the prediction performance\n",
    "print(classification_report(y_test, pred_y))"
   ]
  },
  {
   "cell_type": "markdown",
   "id": "bd846772",
   "metadata": {},
   "source": [
    "### VARIATIONAL AUTOENCODER"
   ]
  },
  {
   "cell_type": "code",
   "execution_count": 60,
   "id": "b0473b7e",
   "metadata": {},
   "outputs": [],
   "source": [
    "from tensorflow.python.framework.ops import disable_eager_execution\n",
    "disable_eager_execution()"
   ]
  },
  {
   "cell_type": "code",
   "execution_count": 61,
   "id": "276d48a0",
   "metadata": {},
   "outputs": [],
   "source": [
    "batch_size = 64\n",
    "original_dim = (X_train.shape[1])\n",
    "latent_dim = 2\n",
    "intermediate_dim1 = 20\n",
    "intermediate_dim2 = 10\n",
    "epochs = 100\n",
    "epsilon_std = 1.0"
   ]
  },
  {
   "cell_type": "code",
   "execution_count": 62,
   "id": "768108bd",
   "metadata": {},
   "outputs": [],
   "source": [
    "# sampling from mean and sd in VAE\n",
    "def sampling(args: tuple):\n",
    "    # we grab the variables from the tuple\n",
    "    z_mean, z_log_var = args\n",
    "    epsilon = K.random_normal(shape=(K.shape(z_mean)[0], latent_dim), mean=0.,\n",
    "                              stddev=epsilon_std)\n",
    "    return z_mean + K.exp(z_log_var / 2) * epsilon"
   ]
  },
  {
   "cell_type": "code",
   "execution_count": 63,
   "id": "090a5b0a",
   "metadata": {},
   "outputs": [
    {
     "name": "stdout",
     "output_type": "stream",
     "text": [
      "Model: \"encoder\"\n",
      "__________________________________________________________________________________________________\n",
      " Layer (type)                   Output Shape         Param #     Connected to                     \n",
      "==================================================================================================\n",
      " input (InputLayer)             [(None, 7)]          0           []                               \n",
      "                                                                                                  \n",
      " encoding1 (Dense)              (None, 20)           160         ['input[0][0]']                  \n",
      "                                                                                                  \n",
      " encoding (Dense)               (None, 10)           210         ['encoding1[0][0]']              \n",
      "                                                                                                  \n",
      " mean (Dense)                   (None, 2)            22          ['encoding[0][0]']               \n",
      "                                                                                                  \n",
      " log-variance (Dense)           (None, 2)            22          ['encoding[0][0]']               \n",
      "                                                                                                  \n",
      " lambda (Lambda)                (None, 2)            0           ['mean[0][0]',                   \n",
      "                                                                  'log-variance[0][0]']           \n",
      "                                                                                                  \n",
      "==================================================================================================\n",
      "Total params: 414\n",
      "Trainable params: 414\n",
      "Non-trainable params: 0\n",
      "__________________________________________________________________________________________________\n"
     ]
    }
   ],
   "source": [
    "from tensorflow.keras.layers import Input, Dense, Lambda\n",
    "from tensorflow.keras import backend as K\n",
    "\n",
    "#########################\n",
    "# input to our encoder\n",
    "#########################\n",
    "x = Input(shape=(original_dim,), name=\"input\")\n",
    "# intermediate layer\n",
    "#h1 = Dense(intermediate_dim1, activation='tanh', name=\"encoding1\")(x)\n",
    "h1 = Dense(intermediate_dim1, activation=\"tanh\", name=\"encoding1\", activity_regularizer=regularizers.l1(10e-5))(x)\n",
    "h = Dense(intermediate_dim2, activation='tanh', name=\"encoding\")(h1)\n",
    "# defining the mean of the latent space\n",
    "z_mean = Dense(latent_dim, name=\"mean\")(h)\n",
    "# defining the log variance of the latent space\n",
    "z_log_var = Dense(latent_dim, name=\"log-variance\")(h)\n",
    "# note that \"output_shape\" isn't necessary with the TensorFlow backend\n",
    "z = Lambda(sampling, output_shape=(latent_dim,))([z_mean, z_log_var])\n",
    "# defining the encoder as a keras model\n",
    "encoder = Model(x, [z_mean, z_log_var, z], name=\"encoder\")\n",
    "# print out summary of what we just did\n",
    "encoder.summary()"
   ]
  },
  {
   "cell_type": "code",
   "execution_count": 64,
   "id": "37d361f1",
   "metadata": {},
   "outputs": [
    {
     "name": "stdout",
     "output_type": "stream",
     "text": [
      "Model: \"decoder\"\n",
      "_________________________________________________________________\n",
      " Layer (type)                Output Shape              Param #   \n",
      "=================================================================\n",
      " decoder_input (InputLayer)  [(None, 2)]               0         \n",
      "                                                                 \n",
      " decoder_h2 (Dense)          (None, 10)                30        \n",
      "                                                                 \n",
      " decoder_h (Dense)           (None, 20)                220       \n",
      "                                                                 \n",
      " flat_decoded (Dense)        (None, 7)                 147       \n",
      "                                                                 \n",
      "=================================================================\n",
      "Total params: 397\n",
      "Trainable params: 397\n",
      "Non-trainable params: 0\n",
      "_________________________________________________________________\n"
     ]
    }
   ],
   "source": [
    "#########################\n",
    "# Input to the decoder\n",
    "#########################\n",
    "\n",
    "input_decoder = Input(shape=(latent_dim,), name=\"decoder_input\")\n",
    "\n",
    "# taking the latent space to intermediate dimension\n",
    "decoder_h1 = Dense(intermediate_dim2, activation='relu', name=\"decoder_h2\")(input_decoder)\n",
    "decoder_h = Dense(intermediate_dim1, activation='relu', name=\"decoder_h\")(decoder_h1)\n",
    "\n",
    "# getting the mean from the original dimension\n",
    "x_decoded = Dense(original_dim, activation='tanh', name=\"flat_decoded\")(decoder_h)\n",
    "\n",
    "# defining the decoder as a keras model\n",
    "decoder = Model(input_decoder, x_decoded, name=\"decoder\")\n",
    "decoder.summary()"
   ]
  },
  {
   "cell_type": "code",
   "execution_count": 65,
   "id": "cc34470b",
   "metadata": {},
   "outputs": [
    {
     "name": "stdout",
     "output_type": "stream",
     "text": [
      "Model: \"model_1\"\n",
      "_________________________________________________________________\n",
      " Layer (type)                Output Shape              Param #   \n",
      "=================================================================\n",
      " input (InputLayer)          [(None, 7)]               0         \n",
      "                                                                 \n",
      " encoder (Functional)        [(None, 2),               414       \n",
      "                              (None, 2),                         \n",
      "                              (None, 2)]                         \n",
      "                                                                 \n",
      " decoder (Functional)        (None, 7)                 397       \n",
      "                                                                 \n",
      "=================================================================\n",
      "Total params: 811\n",
      "Trainable params: 811\n",
      "Non-trainable params: 0\n",
      "_________________________________________________________________\n"
     ]
    }
   ],
   "source": [
    "##########################\n",
    "# Variational Autoencoder\n",
    "##########################\n",
    "\n",
    "# grab the output. Recall, that we need to grab the 3rd element our sampling z\n",
    "output_combined = decoder(encoder(x)[2])\n",
    "\n",
    "# link the input and the overall output\n",
    "vae = Model(x, output_combined)\n",
    "\n",
    "# print out what the overall model looks like\n",
    "vae.summary()"
   ]
  },
  {
   "cell_type": "code",
   "execution_count": 66,
   "id": "b77492b3",
   "metadata": {},
   "outputs": [],
   "source": [
    "# Defina VAE Loss Function\n",
    "def vae_loss(x: tf.Tensor, x_decoded_mean: tf.Tensor,z_log_var=z_log_var, z_mean=z_mean, original_dim=original_dim):\n",
    "    xent_loss = original_dim * metrics.binary_crossentropy(x, x_decoded_mean)\n",
    "    kl_loss = - 0.5 * K.sum(1 + z_log_var - K.square(z_mean) - K.exp(z_log_var), axis=-1)\n",
    "    vae_loss = K.mean(xent_loss + kl_loss)\n",
    "    return vae_loss"
   ]
  },
  {
   "cell_type": "code",
   "execution_count": 67,
   "id": "16839d91",
   "metadata": {},
   "outputs": [],
   "source": [
    "vae.compile(optimizer='adam', loss=vae_loss, metrics=['accuracy'],experimental_run_tf_function=False)"
   ]
  },
  {
   "cell_type": "code",
   "execution_count": 68,
   "id": "9368b4a6",
   "metadata": {},
   "outputs": [
    {
     "name": "stdout",
     "output_type": "stream",
     "text": [
      "Train on 824 samples, validate on 423 samples\n",
      "Epoch 1/100\n",
      " 64/824 [=>............................] - ETA: 6s - loss: 36.8201 - accuracy: 0.0469"
     ]
    },
    {
     "name": "stderr",
     "output_type": "stream",
     "text": [
      "C:\\Users\\Home\\anaconda3\\lib\\site-packages\\keras\\engine\\training_v1.py:2332: UserWarning: `Model.state_updates` will be removed in a future version. This property should not be used in TensorFlow 2.0, as `updates` are applied automatically.\n",
      "  updates = self.state_updates\n"
     ]
    },
    {
     "name": "stdout",
     "output_type": "stream",
     "text": [
      "824/824 [==============================] - 1s 1ms/sample - loss: 34.5317 - accuracy: 0.1226 - val_loss: 35.6477 - val_accuracy: 0.1064\n",
      "Epoch 2/100\n",
      "824/824 [==============================] - 0s 72us/sample - loss: 30.3661 - accuracy: 0.1505 - val_loss: 32.8470 - val_accuracy: 0.1135\n",
      "Epoch 3/100\n",
      "824/824 [==============================] - 0s 73us/sample - loss: 25.7470 - accuracy: 0.1383 - val_loss: 28.2688 - val_accuracy: 0.0993\n",
      "Epoch 4/100\n",
      "824/824 [==============================] - 0s 92us/sample - loss: 23.5616 - accuracy: 0.1032 - val_loss: 27.5571 - val_accuracy: 0.0804\n",
      "Epoch 5/100\n",
      "824/824 [==============================] - 0s 88us/sample - loss: 22.6863 - accuracy: 0.0850 - val_loss: 26.5889 - val_accuracy: 0.0615\n",
      "Epoch 6/100\n",
      "824/824 [==============================] - 0s 81us/sample - loss: 21.4540 - accuracy: 0.1153 - val_loss: 24.7924 - val_accuracy: 0.0875\n",
      "Epoch 7/100\n",
      "824/824 [==============================] - 0s 81us/sample - loss: 19.9663 - accuracy: 0.1104 - val_loss: 23.6573 - val_accuracy: 0.1064\n",
      "Epoch 8/100\n",
      "824/824 [==============================] - 0s 81us/sample - loss: 18.6544 - accuracy: 0.1274 - val_loss: 21.8628 - val_accuracy: 0.0733\n",
      "Epoch 9/100\n",
      "824/824 [==============================] - 0s 101us/sample - loss: 14.2376 - accuracy: 0.1032 - val_loss: 13.5050 - val_accuracy: 0.0638\n",
      "Epoch 10/100\n",
      "824/824 [==============================] - 0s 91us/sample - loss: 8.3886 - accuracy: 0.0558 - val_loss: 11.4637 - val_accuracy: 0.0591\n",
      "Epoch 11/100\n",
      "824/824 [==============================] - 0s 91us/sample - loss: 7.3860 - accuracy: 0.0413 - val_loss: 11.3275 - val_accuracy: 0.0544\n",
      "Epoch 12/100\n",
      "824/824 [==============================] - 0s 70us/sample - loss: 6.8024 - accuracy: 0.0413 - val_loss: 10.5877 - val_accuracy: 0.0638\n",
      "Epoch 13/100\n",
      "824/824 [==============================] - 0s 80us/sample - loss: 6.4107 - accuracy: 0.0425 - val_loss: 10.2089 - val_accuracy: 0.0780\n",
      "Epoch 14/100\n",
      "824/824 [==============================] - 0s 75us/sample - loss: 5.9541 - accuracy: 0.0449 - val_loss: 9.6553 - val_accuracy: 0.0567\n",
      "Epoch 15/100\n",
      "824/824 [==============================] - 0s 85us/sample - loss: 5.4097 - accuracy: 0.0667 - val_loss: 9.7448 - val_accuracy: 0.0827\n",
      "Epoch 16/100\n",
      "824/824 [==============================] - 0s 81us/sample - loss: 5.5053 - accuracy: 0.0716 - val_loss: 9.7790 - val_accuracy: 0.0733\n",
      "Epoch 17/100\n",
      "824/824 [==============================] - 0s 73us/sample - loss: 5.3767 - accuracy: 0.0874 - val_loss: 9.3708 - val_accuracy: 0.0591\n",
      "Epoch 18/100\n",
      "824/824 [==============================] - 0s 88us/sample - loss: 5.0280 - accuracy: 0.0959 - val_loss: 9.2360 - val_accuracy: 0.0804\n",
      "Epoch 19/100\n",
      "824/824 [==============================] - 0s 90us/sample - loss: 4.9787 - accuracy: 0.0995 - val_loss: 9.1639 - val_accuracy: 0.0946\n",
      "Epoch 20/100\n",
      "824/824 [==============================] - 0s 75us/sample - loss: 4.9957 - accuracy: 0.1323 - val_loss: 9.2278 - val_accuracy: 0.0875\n",
      "Epoch 21/100\n",
      "824/824 [==============================] - 0s 73us/sample - loss: 4.8545 - accuracy: 0.1141 - val_loss: 9.0489 - val_accuracy: 0.0709\n",
      "Epoch 22/100\n",
      "824/824 [==============================] - 0s 76us/sample - loss: 4.9306 - accuracy: 0.1311 - val_loss: 9.0207 - val_accuracy: 0.1017\n",
      "Epoch 23/100\n",
      "824/824 [==============================] - 0s 84us/sample - loss: 4.7747 - accuracy: 0.1432 - val_loss: 8.9776 - val_accuracy: 0.0993\n",
      "Epoch 24/100\n",
      "824/824 [==============================] - 0s 86us/sample - loss: 4.6270 - accuracy: 0.1493 - val_loss: 8.9158 - val_accuracy: 0.1158\n",
      "Epoch 25/100\n",
      "824/824 [==============================] - 0s 77us/sample - loss: 4.5685 - accuracy: 0.1566 - val_loss: 8.8395 - val_accuracy: 0.1017\n",
      "Epoch 26/100\n",
      "824/824 [==============================] - 0s 81us/sample - loss: 4.5709 - accuracy: 0.1590 - val_loss: 8.8160 - val_accuracy: 0.1040\n",
      "Epoch 27/100\n",
      "824/824 [==============================] - 0s 84us/sample - loss: 4.4547 - accuracy: 0.1517 - val_loss: 8.7953 - val_accuracy: 0.1064\n",
      "Epoch 28/100\n",
      "824/824 [==============================] - 0s 82us/sample - loss: 4.4670 - accuracy: 0.1602 - val_loss: 8.6545 - val_accuracy: 0.1111\n",
      "Epoch 29/100\n",
      "824/824 [==============================] - 0s 74us/sample - loss: 4.4266 - accuracy: 0.1638 - val_loss: 8.6894 - val_accuracy: 0.1135\n",
      "Epoch 30/100\n",
      "824/824 [==============================] - 0s 81us/sample - loss: 4.3891 - accuracy: 0.1590 - val_loss: 8.6260 - val_accuracy: 0.1158\n",
      "Epoch 31/100\n",
      "824/824 [==============================] - 0s 83us/sample - loss: 4.2775 - accuracy: 0.1675 - val_loss: 8.5759 - val_accuracy: 0.1111\n",
      "Epoch 32/100\n",
      "824/824 [==============================] - 0s 82us/sample - loss: 4.2689 - accuracy: 0.1687 - val_loss: 8.5271 - val_accuracy: 0.1135\n",
      "Epoch 33/100\n",
      "824/824 [==============================] - 0s 81us/sample - loss: 4.2805 - accuracy: 0.1663 - val_loss: 8.5010 - val_accuracy: 0.1135\n",
      "Epoch 34/100\n",
      "824/824 [==============================] - 0s 82us/sample - loss: 4.2281 - accuracy: 0.1687 - val_loss: 8.4523 - val_accuracy: 0.1135\n",
      "Epoch 35/100\n",
      "824/824 [==============================] - 0s 75us/sample - loss: 4.1721 - accuracy: 0.1687 - val_loss: 8.4571 - val_accuracy: 0.1135\n",
      "Epoch 36/100\n",
      "824/824 [==============================] - 0s 79us/sample - loss: 4.1255 - accuracy: 0.1675 - val_loss: 8.3567 - val_accuracy: 0.1135\n",
      "Epoch 37/100\n",
      "824/824 [==============================] - 0s 87us/sample - loss: 4.0774 - accuracy: 0.1675 - val_loss: 8.3980 - val_accuracy: 0.1135\n",
      "Epoch 38/100\n",
      "824/824 [==============================] - 0s 75us/sample - loss: 4.1260 - accuracy: 0.1675 - val_loss: 8.3366 - val_accuracy: 0.1135\n",
      "Epoch 39/100\n",
      "824/824 [==============================] - 0s 80us/sample - loss: 4.0286 - accuracy: 0.1675 - val_loss: 8.2828 - val_accuracy: 0.1135\n",
      "Epoch 40/100\n",
      "824/824 [==============================] - 0s 73us/sample - loss: 3.9840 - accuracy: 0.1675 - val_loss: 8.2243 - val_accuracy: 0.1135\n",
      "Epoch 41/100\n",
      "824/824 [==============================] - 0s 74us/sample - loss: 3.9629 - accuracy: 0.1675 - val_loss: 8.2863 - val_accuracy: 0.1135\n",
      "Epoch 42/100\n",
      "824/824 [==============================] - 0s 75us/sample - loss: 4.0508 - accuracy: 0.1699 - val_loss: 8.1794 - val_accuracy: 0.1111\n",
      "Epoch 43/100\n",
      "824/824 [==============================] - 0s 73us/sample - loss: 3.8371 - accuracy: 0.1711 - val_loss: 8.0939 - val_accuracy: 0.1135\n",
      "Epoch 44/100\n",
      "824/824 [==============================] - 0s 77us/sample - loss: 3.8614 - accuracy: 0.1723 - val_loss: 8.0873 - val_accuracy: 0.1182\n",
      "Epoch 45/100\n",
      "824/824 [==============================] - 0s 67us/sample - loss: 3.8396 - accuracy: 0.1796 - val_loss: 8.0736 - val_accuracy: 0.1135\n",
      "Epoch 46/100\n",
      "824/824 [==============================] - 0s 70us/sample - loss: 3.7445 - accuracy: 0.1711 - val_loss: 8.0072 - val_accuracy: 0.1182\n",
      "Epoch 47/100\n",
      "824/824 [==============================] - 0s 73us/sample - loss: 3.7533 - accuracy: 0.1796 - val_loss: 8.0121 - val_accuracy: 0.1229\n",
      "Epoch 48/100\n",
      "824/824 [==============================] - 0s 82us/sample - loss: 3.6729 - accuracy: 0.1748 - val_loss: 8.0046 - val_accuracy: 0.1253\n",
      "Epoch 49/100\n",
      "824/824 [==============================] - 0s 83us/sample - loss: 3.6851 - accuracy: 0.1845 - val_loss: 7.9265 - val_accuracy: 0.1395\n",
      "Epoch 50/100\n",
      "824/824 [==============================] - 0s 77us/sample - loss: 3.6585 - accuracy: 0.1917 - val_loss: 7.8843 - val_accuracy: 0.1277\n",
      "Epoch 51/100\n",
      "824/824 [==============================] - 0s 71us/sample - loss: 3.5822 - accuracy: 0.1760 - val_loss: 7.8774 - val_accuracy: 0.1395\n",
      "Epoch 52/100\n",
      "824/824 [==============================] - 0s 73us/sample - loss: 3.5935 - accuracy: 0.2027 - val_loss: 7.8746 - val_accuracy: 0.1348\n",
      "Epoch 53/100\n",
      "824/824 [==============================] - 0s 77us/sample - loss: 3.5669 - accuracy: 0.2002 - val_loss: 7.8217 - val_accuracy: 0.1513\n",
      "Epoch 54/100\n",
      "824/824 [==============================] - 0s 79us/sample - loss: 3.5378 - accuracy: 0.1905 - val_loss: 7.7813 - val_accuracy: 0.1418\n",
      "Epoch 55/100\n",
      "824/824 [==============================] - 0s 74us/sample - loss: 3.5005 - accuracy: 0.2209 - val_loss: 7.7770 - val_accuracy: 0.1631\n",
      "Epoch 56/100\n",
      "824/824 [==============================] - 0s 74us/sample - loss: 3.4854 - accuracy: 0.2257 - val_loss: 7.7047 - val_accuracy: 0.1608\n"
     ]
    },
    {
     "name": "stdout",
     "output_type": "stream",
     "text": [
      "Epoch 57/100\n",
      "824/824 [==============================] - 0s 76us/sample - loss: 3.4620 - accuracy: 0.2148 - val_loss: 7.7074 - val_accuracy: 0.1608\n",
      "Epoch 58/100\n",
      "824/824 [==============================] - 0s 81us/sample - loss: 3.4388 - accuracy: 0.2221 - val_loss: 7.6874 - val_accuracy: 0.1584\n",
      "Epoch 59/100\n",
      "824/824 [==============================] - 0s 80us/sample - loss: 3.4243 - accuracy: 0.2379 - val_loss: 7.6723 - val_accuracy: 0.1702\n",
      "Epoch 60/100\n",
      "824/824 [==============================] - 0s 70us/sample - loss: 3.3948 - accuracy: 0.2561 - val_loss: 7.6562 - val_accuracy: 0.1939\n",
      "Epoch 61/100\n",
      "824/824 [==============================] - 0s 103us/sample - loss: 3.3715 - accuracy: 0.2476 - val_loss: 7.6253 - val_accuracy: 0.1797\n",
      "Epoch 62/100\n",
      "824/824 [==============================] - 0s 73us/sample - loss: 3.3790 - accuracy: 0.2670 - val_loss: 7.6163 - val_accuracy: 0.2009\n",
      "Epoch 63/100\n",
      "824/824 [==============================] - 0s 84us/sample - loss: 3.3573 - accuracy: 0.2500 - val_loss: 7.5989 - val_accuracy: 0.2009\n",
      "Epoch 64/100\n",
      "824/824 [==============================] - 0s 81us/sample - loss: 3.3656 - accuracy: 0.2524 - val_loss: 7.5779 - val_accuracy: 0.2009\n",
      "Epoch 65/100\n",
      "824/824 [==============================] - 0s 85us/sample - loss: 3.3497 - accuracy: 0.2451 - val_loss: 7.5630 - val_accuracy: 0.2246\n",
      "Epoch 66/100\n",
      "824/824 [==============================] - 0s 73us/sample - loss: 3.3173 - accuracy: 0.2767 - val_loss: 7.5447 - val_accuracy: 0.2175\n",
      "Epoch 67/100\n",
      "824/824 [==============================] - 0s 84us/sample - loss: 3.3231 - accuracy: 0.2888 - val_loss: 7.5395 - val_accuracy: 0.2246\n",
      "Epoch 68/100\n",
      "824/824 [==============================] - 0s 74us/sample - loss: 3.2832 - accuracy: 0.2633 - val_loss: 7.5404 - val_accuracy: 0.2222\n",
      "Epoch 69/100\n",
      "824/824 [==============================] - 0s 81us/sample - loss: 3.2957 - accuracy: 0.2998 - val_loss: 7.5030 - val_accuracy: 0.2317\n",
      "Epoch 70/100\n",
      "824/824 [==============================] - 0s 78us/sample - loss: 3.2608 - accuracy: 0.2900 - val_loss: 7.5048 - val_accuracy: 0.2553\n",
      "Epoch 71/100\n",
      "824/824 [==============================] - 0s 84us/sample - loss: 3.2628 - accuracy: 0.3107 - val_loss: 7.4921 - val_accuracy: 0.2695\n",
      "Epoch 72/100\n",
      "824/824 [==============================] - 0s 78us/sample - loss: 3.2678 - accuracy: 0.3398 - val_loss: 7.4925 - val_accuracy: 0.3002\n",
      "Epoch 73/100\n",
      "824/824 [==============================] - 0s 79us/sample - loss: 3.2555 - accuracy: 0.3337 - val_loss: 7.4996 - val_accuracy: 0.2719\n",
      "Epoch 74/100\n",
      "824/824 [==============================] - 0s 84us/sample - loss: 3.2403 - accuracy: 0.3556 - val_loss: 7.4691 - val_accuracy: 0.3050\n",
      "Epoch 75/100\n",
      "824/824 [==============================] - 0s 78us/sample - loss: 3.2428 - accuracy: 0.3762 - val_loss: 7.4783 - val_accuracy: 0.3593\n",
      "Epoch 76/100\n",
      "824/824 [==============================] - 0s 79us/sample - loss: 3.2305 - accuracy: 0.3823 - val_loss: 7.4540 - val_accuracy: 0.3357\n",
      "Epoch 77/100\n",
      "824/824 [==============================] - 0s 84us/sample - loss: 3.2060 - accuracy: 0.3701 - val_loss: 7.4464 - val_accuracy: 0.3286\n",
      "Epoch 78/100\n",
      "824/824 [==============================] - 0s 71us/sample - loss: 3.2135 - accuracy: 0.4223 - val_loss: 7.4631 - val_accuracy: 0.4090\n",
      "Epoch 79/100\n",
      "824/824 [==============================] - 0s 88us/sample - loss: 3.2092 - accuracy: 0.4199 - val_loss: 7.4490 - val_accuracy: 0.4232\n",
      "Epoch 80/100\n",
      "824/824 [==============================] - 0s 81us/sample - loss: 3.1968 - accuracy: 0.4430 - val_loss: 7.4247 - val_accuracy: 0.4303\n",
      "Epoch 81/100\n",
      "824/824 [==============================] - 0s 83us/sample - loss: 3.1939 - accuracy: 0.4721 - val_loss: 7.4249 - val_accuracy: 0.4255\n",
      "Epoch 82/100\n",
      "824/824 [==============================] - 0s 87us/sample - loss: 3.2097 - accuracy: 0.4636 - val_loss: 7.4163 - val_accuracy: 0.4563\n",
      "Epoch 83/100\n",
      "824/824 [==============================] - 0s 76us/sample - loss: 3.1960 - accuracy: 0.5085 - val_loss: 7.4407 - val_accuracy: 0.4657\n",
      "Epoch 84/100\n",
      "824/824 [==============================] - 0s 92us/sample - loss: 3.1740 - accuracy: 0.5012 - val_loss: 7.4330 - val_accuracy: 0.4799\n",
      "Epoch 85/100\n",
      "824/824 [==============================] - 0s 86us/sample - loss: 3.1853 - accuracy: 0.5097 - val_loss: 7.4077 - val_accuracy: 0.5154\n",
      "Epoch 86/100\n",
      "824/824 [==============================] - 0s 106us/sample - loss: 3.1882 - accuracy: 0.5364 - val_loss: 7.4026 - val_accuracy: 0.4988\n",
      "Epoch 87/100\n",
      "824/824 [==============================] - 0s 82us/sample - loss: 3.1840 - accuracy: 0.5400 - val_loss: 7.4039 - val_accuracy: 0.5319\n",
      "Epoch 88/100\n",
      "824/824 [==============================] - 0s 107us/sample - loss: 3.1625 - accuracy: 0.5631 - val_loss: 7.3929 - val_accuracy: 0.5154\n",
      "Epoch 89/100\n",
      "824/824 [==============================] - 0s 85us/sample - loss: 3.1841 - accuracy: 0.5570 - val_loss: 7.3808 - val_accuracy: 0.5225\n",
      "Epoch 90/100\n",
      "824/824 [==============================] - 0s 88us/sample - loss: 3.1612 - accuracy: 0.5655 - val_loss: 7.3699 - val_accuracy: 0.5556\n",
      "Epoch 91/100\n",
      "824/824 [==============================] - 0s 91us/sample - loss: 3.1431 - accuracy: 0.5995 - val_loss: 7.3753 - val_accuracy: 0.5556\n",
      "Epoch 92/100\n",
      "824/824 [==============================] - 0s 95us/sample - loss: 3.1467 - accuracy: 0.5752 - val_loss: 7.3759 - val_accuracy: 0.5626\n",
      "Epoch 93/100\n",
      "824/824 [==============================] - 0s 87us/sample - loss: 3.1480 - accuracy: 0.6056 - val_loss: 7.3554 - val_accuracy: 0.5650\n",
      "Epoch 94/100\n",
      "824/824 [==============================] - 0s 91us/sample - loss: 3.1511 - accuracy: 0.6080 - val_loss: 7.3566 - val_accuracy: 0.5745\n",
      "Epoch 95/100\n",
      "824/824 [==============================] - 0s 84us/sample - loss: 3.1506 - accuracy: 0.6214 - val_loss: 7.3667 - val_accuracy: 0.6005\n",
      "Epoch 96/100\n",
      "824/824 [==============================] - 0s 77us/sample - loss: 3.1421 - accuracy: 0.6238 - val_loss: 7.3565 - val_accuracy: 0.6005\n",
      "Epoch 97/100\n",
      "824/824 [==============================] - 0s 82us/sample - loss: 3.1347 - accuracy: 0.6420 - val_loss: 7.3524 - val_accuracy: 0.6005\n",
      "Epoch 98/100\n",
      "824/824 [==============================] - 0s 89us/sample - loss: 3.1345 - accuracy: 0.6359 - val_loss: 7.3633 - val_accuracy: 0.6052\n",
      "Epoch 99/100\n",
      "824/824 [==============================] - 0s 82us/sample - loss: 3.1230 - accuracy: 0.6456 - val_loss: 7.3674 - val_accuracy: 0.6076\n",
      "Epoch 100/100\n",
      "824/824 [==============================] - 0s 81us/sample - loss: 3.1424 - accuracy: 0.6420 - val_loss: 7.3365 - val_accuracy: 0.6123\n"
     ]
    }
   ],
   "source": [
    "history = vae.fit(X_train, X_train,\n",
    "                    epochs=epochs,\n",
    "                    batch_size=batch_size,\n",
    "                    shuffle=True,\n",
    "                    validation_data=(X_test, X_test),\n",
    "                    verbose=1).history"
   ]
  },
  {
   "cell_type": "code",
   "execution_count": 69,
   "id": "9a34c8a0",
   "metadata": {},
   "outputs": [
    {
     "data": {
      "text/plain": [
       "Text(0.5, 1.0, 'Loss Curves')"
      ]
     },
     "execution_count": 69,
     "metadata": {},
     "output_type": "execute_result"
    },
    {
     "data": {
      "image/png": "[encoded data removed]",
      "text/plain": [
       "<Figure size 432x288 with 1 Axes>"
      ]
     },
     "metadata": {
      "needs_background": "light"
     },
     "output_type": "display_data"
    }
   ],
   "source": [
    "# plot loss history\n",
    "loss = history['loss']\n",
    "val_loss = history['val_loss']\n",
    "\n",
    "# Loss curve\n",
    "\n",
    "plt.plot(history[\"loss\"], \"black\", linewidth=2.0)\n",
    "plt.plot(history[\"val_loss\"], \"green\", linewidth=2.0)\n",
    "plt.legend([\"Training Loss\", \"Validation Loss\"], fontsize=14)\n",
    "plt.xlabel(\"Epochs\", fontsize=10)\n",
    "plt.ylabel(\"Loss\", fontsize=10)\n",
    "plt.title(\"Loss Curves\", fontsize=12)"
   ]
  },
  {
   "cell_type": "code",
   "execution_count": 70,
   "id": "485e91c4",
   "metadata": {},
   "outputs": [],
   "source": [
    "def get_error_term(v1, v2, _rmse=True):\n",
    "    if _rmse:\n",
    "        return np.sqrt(np.mean((v1 - v2) ** 2, axis=1))\n",
    "    #return MAE\n",
    "    return np.mean(abs(v1 - v2), axis=1)"
   ]
  },
  {
   "cell_type": "code",
   "execution_count": 71,
   "id": "5db06da5",
   "metadata": {},
   "outputs": [
    {
     "name": "stderr",
     "output_type": "stream",
     "text": [
      "C:\\Users\\Home\\anaconda3\\lib\\site-packages\\keras\\engine\\training_v1.py:2356: UserWarning: `Model.state_updates` will be removed in a future version. This property should not be used in TensorFlow 2.0, as `updates` are applied automatically.\n",
      "  updates=self.state_updates,\n"
     ]
    },
    {
     "name": "stdout",
     "output_type": "stream",
     "text": [
      "Avg error 0.20336560986453775\n",
      "median error 0.19858918218067195\n",
      "25Q: 0.316672632593297\n",
      "setting threshold on 0.316672632593297 \n"
     ]
    }
   ],
   "source": [
    "##########################################\n",
    "# prediction & reconstruction error\n",
    "##################################\n",
    "\n",
    "X_train_pred = vae.predict(X_train)\n",
    "\n",
    "mae_vector = get_error_term(X_train_pred, X_train, _rmse=False)\n",
    "print(f'Avg error {np.mean(mae_vector)}\\nmedian error {np.median(mae_vector)}\\n25Q: {np.quantile(mae_vector, 0.99)}')\n",
    "print(f'setting threshold on { np.quantile(mae_vector, 0.99)} ')\n",
    "\n",
    "error_thresh = np.quantile(mae_vector, 0.99)"
   ]
  },
  {
   "cell_type": "code",
   "execution_count": 72,
   "id": "61328afb",
   "metadata": {},
   "outputs": [
    {
     "data": {
      "text/plain": [
       "0.21513002364066194"
      ]
     },
     "execution_count": 72,
     "metadata": {},
     "output_type": "execute_result"
    }
   ],
   "source": [
    "X_pred = vae.predict(X_test)\n",
    "mae_vector = get_error_term(X_pred, X_test, _rmse=False)\n",
    "anomalies = (mae_vector > error_thresh)\n",
    "\n",
    "np.count_nonzero(anomalies) / len(anomalies)"
   ]
  },
  {
   "cell_type": "code",
   "execution_count": 73,
   "id": "1e494455",
   "metadata": {},
   "outputs": [
    {
     "name": "stdout",
     "output_type": "stream",
     "text": [
      "Full Sample        reconstruction_error  true_class\n",
      "count            423.000000  423.000000\n",
      "mean               0.040427    0.444444\n",
      "std                0.046460    0.497492\n",
      "min                0.000197    0.000000\n",
      "25%                0.007285    0.000000\n",
      "50%                0.017204    0.000000\n",
      "75%                0.060577    1.000000\n",
      "max                0.201235    1.000000\n",
      "Normal Sample        reconstruction_error  true_class\n",
      "count            235.000000       235.0\n",
      "mean               0.078263         0.0\n",
      "std                0.033726         0.0\n",
      "min                0.029854         0.0\n",
      "25%                0.054316         0.0\n",
      "50%                0.068946         0.0\n",
      "75%                0.094415         0.0\n",
      "max                0.212145         0.0\n",
      "Fraud Sample        reconstruction_error  true_class\n",
      "count            188.000000       188.0\n",
      "mean               0.239499         1.0\n",
      "std                0.085010         0.0\n",
      "min                0.075979         1.0\n",
      "25%                0.180302         1.0\n",
      "50%                0.233617         1.0\n",
      "75%                0.293538         1.0\n",
      "max                0.536418         1.0\n"
     ]
    }
   ],
   "source": [
    "mse = np.mean(np.power(X_test - X_pred, 2), axis=1)\n",
    "error_df_vae = pd.DataFrame({'reconstruction_error': mse, 'true_class': y_test})\n",
    "print(\"Full Sample\",error_df.describe())\n",
    "error_df_true = error_df_vae[(error_df_vae['true_class']== 0)]\n",
    "print(\"Normal Sample\",error_df_true.describe())\n",
    "error_df_false = error_df_vae[(error_df_vae['true_class']== 1)]\n",
    "print(\"Fraud Sample\",error_df_false.describe())"
   ]
  },
  {
   "cell_type": "code",
   "execution_count": 79,
   "id": "ec16ec10",
   "metadata": {},
   "outputs": [],
   "source": [
    "# scatter plot\n",
    "threshold =0.316672632593297\n",
    "groups = error_df_vae.groupby('true_class')"
   ]
  },
  {
   "cell_type": "code",
   "execution_count": 80,
   "id": "47041e5f",
   "metadata": {
    "scrolled": true
   },
   "outputs": [],
   "source": [
    "# confusion matrix\n",
    "\n",
    "# And see how well we're dividing the two types of transactions:\n",
    "groups = error_df_vae.groupby('true_class')\n",
    "\n",
    "# predict fraud\n",
    "y_pred = [1 if e > error_thresh else 0 for e in error_df_vae.reconstruction_error.values]\n"
   ]
  },
  {
   "cell_type": "code",
   "execution_count": 81,
   "id": "efe7733c",
   "metadata": {},
   "outputs": [
    {
     "data": {
      "image/png": "[encoded data removed]",
      "text/plain": [
       "<Figure size 576x576 with 2 Axes>"
      ]
     },
     "metadata": {
      "needs_background": "light"
     },
     "output_type": "display_data"
    }
   ],
   "source": [
    "conf_matrix = confusion_matrix(error_df_vae.true_class, y_pred)\n",
    "# plot confusion matrix\n",
    "plt.figure(figsize=(8, 8))\n",
    "sns.heatmap(conf_matrix, annot=True, fmt=\"d\");\n",
    "plt.title(\"Confusion matrix\")\n",
    "plt.ylabel('True Class')\n",
    "plt.xlabel('Predicted Class')\n",
    "plt.show()"
   ]
  },
  {
   "cell_type": "code",
   "execution_count": 82,
   "id": "8b429c4f",
   "metadata": {},
   "outputs": [
    {
     "data": {
      "image/png": "[encoded data removed]",
      "text/plain": [
       "<Figure size 432x288 with 1 Axes>"
      ]
     },
     "metadata": {
      "needs_background": "light"
     },
     "output_type": "display_data"
    }
   ],
   "source": [
    "# ROC\n",
    "fpr, tpr, thresholds = roc_curve(error_df_vae.true_class, error_df_vae.reconstruction_error)\n",
    "roc_auc = auc(fpr, tpr)\n",
    "# plot\n",
    "plt.title('Receiver Operating Characteristic')\n",
    "plt.plot(fpr, tpr, label='AUC = %0.4f'% roc_auc)\n",
    "plt.legend(loc='lower right')\n",
    "plt.plot([0,1],[0,1],'r--')\n",
    "plt.xlim([-0.001, 1])\n",
    "plt.ylim([0, 1.001])\n",
    "plt.ylabel('True Positive Rate')\n",
    "plt.xlabel('False Positive Rate')\n",
    "plt.show();"
   ]
  },
  {
   "cell_type": "code",
   "execution_count": 84,
   "id": "1483f652",
   "metadata": {},
   "outputs": [
    {
     "name": "stdout",
     "output_type": "stream",
     "text": [
      "              precision    recall  f1-score   support\n",
      "\n",
      "         0.0       0.69      0.98      0.81       235\n",
      "         1.0       0.95      0.46      0.62       188\n",
      "\n",
      "    accuracy                           0.75       423\n",
      "   macro avg       0.82      0.72      0.71       423\n",
      "weighted avg       0.80      0.75      0.72       423\n",
      "\n"
     ]
    }
   ],
   "source": [
    "from sklearn.metrics import classification_report\n",
    "\n",
    "print(classification_report(y_test, anomalies))"
   ]
  },
  {
   "cell_type": "code",
   "execution_count": null,
   "id": "124ec8ed",
   "metadata": {},
   "outputs": [],
   "source": []
  },
  {
   "cell_type": "code",
   "execution_count": null,
   "id": "ac28083c",
   "metadata": {},
   "outputs": [],
   "source": []
  }
 ],
 "metadata": {
  "kernelspec": {
   "display_name": "Python 3 (ipykernel)",
   "language": "python",
   "name": "python3"
  },
  "language_info": {
   "codemirror_mode": {
    "name": "ipython",
    "version": 3
   },
   "file_extension": ".py",
   "mimetype": "text/x-python",
   "name": "python",
   "nbconvert_exporter": "python",
   "pygments_lexer": "ipython3",
   "version": "3.9.12"
  }
 },
 "nbformat": 4,
 "nbformat_minor": 5
}
